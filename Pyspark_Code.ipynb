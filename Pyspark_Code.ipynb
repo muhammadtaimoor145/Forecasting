{
 "cells": [
  {
   "cell_type": "code",
   "execution_count": 0,
   "metadata": {
    "application/vnd.databricks.v1+cell": {
     "cellMetadata": {},
     "inputWidgets": {},
     "nuid": "e0f9567f-c1e2-41b3-a3dc-41eb8ee6563a",
     "showTitle": false,
     "title": ""
    }
   },
   "outputs": [],
   "source": [
    "import pyspark\n"
   ]
  },
  {
   "cell_type": "code",
   "execution_count": 0,
   "metadata": {
    "application/vnd.databricks.v1+cell": {
     "cellMetadata": {},
     "inputWidgets": {},
     "nuid": "f5d6b98a-33a3-403b-8cc8-e2a84544db12",
     "showTitle": false,
     "title": ""
    }
   },
   "outputs": [],
   "source": [
    "from pyspark.context import SparkContext"
   ]
  },
  {
   "cell_type": "markdown",
   "metadata": {
    "application/vnd.databricks.v1+cell": {
     "cellMetadata": {},
     "inputWidgets": {},
     "nuid": "33117644-cd5f-450b-987b-5de253ad9aa2",
     "showTitle": false,
     "title": ""
    }
   },
   "source": [
    "##CREATING RDDS"
   ]
  },
  {
   "cell_type": "code",
   "execution_count": 0,
   "metadata": {
    "application/vnd.databricks.v1+cell": {
     "cellMetadata": {},
     "inputWidgets": {},
     "nuid": "27da33e2-5b71-454b-ae33-abf5b5547aa0",
     "showTitle": false,
     "title": ""
    }
   },
   "outputs": [],
   "source": [
    "sc=SparkContext.getOrCreate() "
   ]
  },
  {
   "cell_type": "code",
   "execution_count": 0,
   "metadata": {
    "application/vnd.databricks.v1+cell": {
     "cellMetadata": {},
     "inputWidgets": {},
     "nuid": "434f5e56-6c6c-4ec9-8e36-e20fe028700e",
     "showTitle": false,
     "title": ""
    }
   },
   "outputs": [],
   "source": [
    "data=sc.textFile('/FileStore/tables/train.csv') "
   ]
  },
  {
   "cell_type": "code",
   "execution_count": 0,
   "metadata": {
    "application/vnd.databricks.v1+cell": {
     "cellMetadata": {},
     "inputWidgets": {},
     "nuid": "d2e8c9a1-3efc-4b63-bc70-0b15098f3cd0",
     "showTitle": false,
     "title": ""
    }
   },
   "outputs": [
    {
     "data": {
      "text/plain": [
       "Out[5]: /FileStore/tables/train.csv MapPartitionsRDD[1] at textFile at NativeMethodAccessorImpl.java:0"
      ]
     },
     "metadata": {
      "application/vnd.databricks.v1+output": {
       "addedWidgets": {},
       "arguments": {},
       "data": "Out[5]: /FileStore/tables/train.csv MapPartitionsRDD[1] at textFile at NativeMethodAccessorImpl.java:0",
       "datasetInfos": [],
       "metadata": {},
       "removedWidgets": [],
       "type": "ansi"
      }
     },
     "output_type": "display_data"
    }
   ],
   "source": [
    "data.cache()"
   ]
  },
  {
   "cell_type": "code",
   "execution_count": 0,
   "metadata": {
    "application/vnd.databricks.v1+cell": {
     "cellMetadata": {},
     "inputWidgets": {},
     "nuid": "ffcfc1d7-565b-4890-9f89-237caa51f77a",
     "showTitle": false,
     "title": ""
    }
   },
   "outputs": [],
   "source": [
    "df=sc.parallelize('/FileStore/tables/train.csv') "
   ]
  },
  {
   "cell_type": "code",
   "execution_count": 0,
   "metadata": {
    "application/vnd.databricks.v1+cell": {
     "cellMetadata": {},
     "inputWidgets": {},
     "nuid": "481a3167-3301-4d0d-9df5-86c8f646ec6e",
     "showTitle": false,
     "title": ""
    }
   },
   "outputs": [
    {
     "data": {
      "text/plain": [
       "Out[7]: ['Item_Identifier,Item_Weight,Item_Fat_Content,Item_Visibility,Item_Type,Item_MRP,Outlet_Identifier,Outlet_Establishment_Year,Outlet_Size,Outlet_Location_Type,Outlet_Type,Item_Outlet_Sales',\n",
       " 'FDA15,9.3,Low Fat,0.016047301,Dairy,249.8092,OUT049,1999,Medium,Tier 1,Supermarket Type1,3735.138',\n",
       " 'DRC01,5.92,Regular,0.019278216,Soft Drinks,48.2692,OUT018,2009,Medium,Tier 3,Supermarket Type2,443.4228',\n",
       " 'FDN15,17.5,Low Fat,0.016760075,Meat,141.618,OUT049,1999,Medium,Tier 1,Supermarket Type1,2097.27',\n",
       " 'FDX07,19.2,Regular,0,Fruits and Vegetables,182.095,OUT010,1998,,Tier 3,Grocery Store,732.38',\n",
       " 'NCD19,8.93,Low Fat,0,Household,53.8614,OUT013,1987,High,Tier 3,Supermarket Type1,994.7052',\n",
       " 'FDP36,10.395,Regular,0,Baking Goods,51.4008,OUT018,2009,Medium,Tier 3,Supermarket Type2,556.6088',\n",
       " 'FDO10,13.65,Regular,0.012741089,Snack Foods,57.6588,OUT013,1987,High,Tier 3,Supermarket Type1,343.5528',\n",
       " 'FDP10,,Low Fat,0.127469857,Snack Foods,107.7622,OUT027,1985,Medium,Tier 3,Supermarket Type3,4022.7636',\n",
       " 'FDH17,16.2,Regular,0.016687114,Frozen Foods,96.9726,OUT045,2002,,Tier 2,Supermarket Type1,1076.5986',\n",
       " 'FDU28,19.2,Regular,0.09444959,Frozen Foods,187.8214,OUT017,2007,,Tier 2,Supermarket Type1,4710.535',\n",
       " 'FDY07,11.8,Low Fat,0,Fruits and Vegetables,45.5402,OUT049,1999,Medium,Tier 1,Supermarket Type1,1516.0266',\n",
       " 'FDA03,18.5,Regular,0.045463773,Dairy,144.1102,OUT046,1997,Small,Tier 1,Supermarket Type1,2187.153',\n",
       " 'FDX32,15.1,Regular,0.1000135,Fruits and Vegetables,145.4786,OUT049,1999,Medium,Tier 1,Supermarket Type1,1589.2646',\n",
       " 'FDS46,17.6,Regular,0.047257328,Snack Foods,119.6782,OUT046,1997,Small,Tier 1,Supermarket Type1,2145.2076',\n",
       " 'FDF32,16.35,Low Fat,0.0680243,Fruits and Vegetables,196.4426,OUT013,1987,High,Tier 3,Supermarket Type1,1977.426',\n",
       " 'FDP49,9,Regular,0.069088961,Breakfast,56.3614,OUT046,1997,Small,Tier 1,Supermarket Type1,1547.3192',\n",
       " 'NCB42,11.8,Low Fat,0.008596051,Health and Hygiene,115.3492,OUT018,2009,Medium,Tier 3,Supermarket Type2,1621.8888',\n",
       " 'FDP49,9,Regular,0.069196376,Breakfast,54.3614,OUT049,1999,Medium,Tier 1,Supermarket Type1,718.3982',\n",
       " 'DRI11,,Low Fat,0.034237682,Hard Drinks,113.2834,OUT027,1985,Medium,Tier 3,Supermarket Type3,2303.668',\n",
       " 'FDU02,13.35,Low Fat,0.10249212,Dairy,230.5352,OUT035,2004,Small,Tier 2,Supermarket Type1,2748.4224',\n",
       " 'FDN22,18.85,Regular,0.138190277,Snack Foods,250.8724,OUT013,1987,High,Tier 3,Supermarket Type1,3775.086',\n",
       " 'FDW12,,Regular,0.035399923,Baking Goods,144.5444,OUT027,1985,Medium,Tier 3,Supermarket Type3,4064.0432',\n",
       " 'NCB30,14.6,Low Fat,0.025698134,Household,196.5084,OUT035,2004,Small,Tier 2,Supermarket Type1,1587.2672',\n",
       " 'FDC37,,Low Fat,0.057556998,Baking Goods,107.6938,OUT019,1985,Small,Tier 1,Grocery Store,214.3876',\n",
       " 'FDR28,13.85,Regular,0.025896485,Frozen Foods,165.021,OUT046,1997,Small,Tier 1,Supermarket Type1,4078.025',\n",
       " 'NCD06,13,Low Fat,0.099887103,Household,45.906,OUT017,2007,,Tier 2,Supermarket Type1,838.908',\n",
       " 'FDV10,7.645,Regular,0.066693437,Snack Foods,42.3112,OUT035,2004,Small,Tier 2,Supermarket Type1,1065.28',\n",
       " 'DRJ59,11.65,low fat,0.019356132,Hard Drinks,39.1164,OUT013,1987,High,Tier 3,Supermarket Type1,308.9312',\n",
       " 'FDE51,5.925,Regular,0.161466534,Dairy,45.5086,OUT010,1998,,Tier 3,Grocery Store,178.4344',\n",
       " 'FDC14,,Regular,0.072221801,Canned,43.6454,OUT019,1985,Small,Tier 1,Grocery Store,125.8362',\n",
       " 'FDV38,19.25,Low Fat,0.170348551,Dairy,55.7956,OUT010,1998,,Tier 3,Grocery Store,163.7868',\n",
       " 'NCS17,18.6,Low Fat,0.080829372,Health and Hygiene,96.4436,OUT018,2009,Medium,Tier 3,Supermarket Type2,2741.7644',\n",
       " 'FDP33,18.7,Low Fat,0,Snack Foods,256.6672,OUT018,2009,Medium,Tier 3,Supermarket Type2,3068.0064',\n",
       " 'FDO23,17.85,Low Fat,0,Breads,93.1436,OUT045,2002,,Tier 2,Supermarket Type1,2174.5028',\n",
       " 'DRH01,17.5,Low Fat,0.097904029,Soft Drinks,174.8738,OUT046,1997,Small,Tier 1,Supermarket Type1,2085.2856',\n",
       " 'NCX29,10,Low Fat,0.089291137,Health and Hygiene,146.7102,OUT049,1999,Medium,Tier 1,Supermarket Type1,3791.0652',\n",
       " 'FDV20,,Regular,0.059511812,Fruits and Vegetables,128.0678,OUT027,1985,Medium,Tier 3,Supermarket Type3,2797.6916',\n",
       " 'DRZ11,8.85,Regular,0.113123893,Soft Drinks,122.5388,OUT018,2009,Medium,Tier 3,Supermarket Type2,1609.9044',\n",
       " 'FDX10,,Regular,0.123111453,Snack Foods,36.9874,OUT027,1985,Medium,Tier 3,Supermarket Type3,388.1614',\n",
       " 'FDB34,,Low Fat,0.026480954,Snack Foods,87.6198,OUT027,1985,Medium,Tier 3,Supermarket Type3,2180.495',\n",
       " 'FDU02,13.35,Low Fat,0.102511504,Dairy,230.6352,OUT046,1997,Small,Tier 1,Supermarket Type1,3435.528',\n",
       " 'FDK43,9.8,Low Fat,0.02681843,Meat,126.002,OUT013,1987,High,Tier 3,Supermarket Type1,2150.534',\n",
       " 'FDA46,13.6,Low Fat,0.117818348,Snack Foods,192.9136,OUT049,1999,Medium,Tier 1,Supermarket Type1,2527.3768',\n",
       " 'FDC02,21.35,Low Fat,0.069102831,Canned,259.9278,OUT018,2009,Medium,Tier 3,Supermarket Type2,6768.5228',\n",
       " 'FDL50,12.15,Regular,0.042277867,Canned,126.5046,OUT013,1987,High,Tier 3,Supermarket Type1,373.5138',\n",
       " 'FDM39,6.42,LF,0.089498926,Dairy,178.1002,OUT010,1998,,Tier 3,Grocery Store,358.2004',\n",
       " 'NCP05,19.6,Low Fat,0,Health and Hygiene,153.3024,OUT045,2002,,Tier 2,Supermarket Type1,2428.8384',\n",
       " 'FDV49,10,Low Fat,0.025879577,Canned,265.2226,OUT045,2002,,Tier 2,Supermarket Type1,5815.0972',\n",
       " 'FDL12,15.85,Regular,0.121632721,Baking Goods,60.622,OUT046,1997,Small,Tier 1,Supermarket Type1,2576.646',\n",
       " 'FDS02,,Regular,0.255394896,Dairy,196.8794,OUT019,1985,Small,Tier 1,Grocery Store,780.3176',\n",
       " 'NCL17,7.39,Low Fat,0.067779712,Health and Hygiene,143.8812,OUT046,1997,Small,Tier 1,Supermarket Type1,3134.5864',\n",
       " 'FDM40,10.195,Low Fat,0.159803853,Frozen Foods,141.5154,OUT013,1987,High,Tier 3,Supermarket Type1,850.8924',\n",
       " 'FDR13,9.895,Regular,0.028696932,Canned,117.0492,OUT013,1987,High,Tier 3,Supermarket Type1,810.9444',\n",
       " 'FDA43,10.895,Low Fat,0.065041581,Fruits and Vegetables,196.3794,OUT017,2007,,Tier 2,Supermarket Type1,3121.2704',\n",
       " 'NCP18,12.15,Low Fat,0.028760013,Household,151.4708,OUT017,2007,,Tier 2,Supermarket Type1,4815.0656',\n",
       " 'FDK21,7.905,Low Fat,0.010053105,Snack Foods,249.0408,OUT018,2009,Medium,Tier 3,Supermarket Type2,6258.52',\n",
       " 'NCX54,9.195,Low Fat,0.048157338,Household,106.1622,OUT045,2002,,Tier 2,Supermarket Type1,2117.244',\n",
       " 'DRK35,8.365,Low Fat,0.071958197,Hard Drinks,38.0506,OUT049,1999,Medium,Tier 1,Supermarket Type1,796.9626',\n",
       " 'FDY21,15.1,Low Fat,0.173481304,Snack Foods,194.511,OUT046,1997,Small,Tier 1,Supermarket Type1,4910.275',\n",
       " 'FDI26,,Low Fat,0.061082177,Canned,180.0344,OUT019,1985,Small,Tier 1,Grocery Store,892.172',\n",
       " 'FDM20,10,Low Fat,0,Fruits and Vegetables,246.9144,OUT018,2009,Medium,Tier 3,Supermarket Type2,3185.1872',\n",
       " 'FDV27,7.97,Regular,0.040071131,Meat,87.3514,OUT045,2002,,Tier 2,Supermarket Type1,1062.6168',\n",
       " 'FDF09,,Low Fat,0.012090074,Fruits and Vegetables,38.2848,OUT027,1985,Medium,Tier 3,Supermarket Type3,484.7024',\n",
       " 'FDY40,,Regular,0.15028599,Frozen Foods,51.0692,OUT019,1985,Small,Tier 1,Grocery Store,147.8076',\n",
       " 'FDY45,,Low Fat,0.026015519,Snack Foods,255.8356,OUT027,1985,Medium,Tier 3,Supermarket Type3,2543.356',\n",
       " 'FDC46,17.7,LF,0.195068226,Snack Foods,185.4266,OUT010,1998,,Tier 3,Grocery Store,184.4266',\n",
       " 'FDH19,19.35,Low Fat,0.033082215,Meat,172.5738,OUT035,2004,Small,Tier 2,Supermarket Type1,4865.6664',\n",
       " 'FDZ03,13.65,Regular,0.078946455,Dairy,186.024,OUT045,2002,,Tier 2,Supermarket Type1,1118.544',\n",
       " 'DRH37,17.6,Low Fat,0.041700756,Soft Drinks,164.8526,OUT045,2002,,Tier 2,Supermarket Type1,2302.3364',\n",
       " 'NCI17,8.645,Low Fat,0.143422643,Health and Hygiene,95.841,OUT046,1997,Small,Tier 1,Supermarket Type1,2027.361',\n",
       " 'FDJ58,15.6,Regular,0.105296072,Snack Foods,170.1764,OUT046,1997,Small,Tier 1,Supermarket Type1,3435.528',\n",
       " 'FDL12,15.85,Regular,0.121531501,Baking Goods,59.222,OUT013,1987,High,Tier 3,Supermarket Type1,599.22',\n",
       " 'FDH35,18.25,Low Fat,0,Starchy Foods,164.7526,OUT045,2002,,Tier 2,Supermarket Type1,4604.6728',\n",
       " 'FDG02,7.855,Low Fat,0.011324862,Canned,189.6188,OUT017,2007,,Tier 2,Supermarket Type1,2285.0256',\n",
       " 'NCZ18,7.825,low fat,0.186357148,Household,254.3698,OUT049,1999,Medium,Tier 1,Supermarket Type1,5580.7356',\n",
       " 'FDC29,8.39,Regular,0.024205661,Frozen Foods,114.0176,OUT046,1997,Small,Tier 1,Supermarket Type1,2290.352',\n",
       " 'FDQ10,12.85,Low Fat,0.033230816,Snack Foods,172.3422,OUT049,1999,Medium,Tier 1,Supermarket Type1,1207.0954',\n",
       " 'FDN48,,Low Fat,0.113720344,Baking Goods,89.9804,OUT019,1985,Small,Tier 1,Grocery Store,643.1628',\n",
       " 'FDL04,19,Low Fat,0.112556507,Frozen Foods,104.9622,OUT017,2007,,Tier 2,Supermarket Type1,1587.933',\n",
       " 'FDV25,5.905,Low Fat,0,Canned,222.5456,OUT045,2002,,Tier 2,Supermarket Type1,5305.0944',\n",
       " 'FDD58,7.76,Low Fat,0.059352241,Snack Foods,101.87,OUT046,1997,Small,Tier 1,Supermarket Type1,1697.79',\n",
       " 'FDN04,11.8,reg,0.014087057,Frozen Foods,180.3344,OUT046,1997,Small,Tier 1,Supermarket Type1,1427.4752',\n",
       " 'FDV45,16.75,low fat,0.045230944,Snack Foods,187.9556,OUT018,2009,Medium,Tier 3,Supermarket Type2,4693.89',\n",
       " 'NCL18,,Low Fat,0.293417759,Household,194.6136,OUT019,1985,Small,Tier 1,Grocery Store,583.2408',\n",
       " 'FDR12,,Regular,0.031382044,Baking Goods,171.3764,OUT027,1985,Medium,Tier 3,Supermarket Type3,3091.9752',\n",
       " 'FDG20,15.5,Regular,0.12639886,Fruits and Vegetables,177.0028,OUT017,2007,,Tier 2,Supermarket Type1,2479.4392',\n",
       " 'FDZ55,6.055,Low Fat,0.025403898,Fruits and Vegetables,160.992,OUT035,2004,Small,Tier 2,Supermarket Type1,2716.464',\n",
       " 'FDQ49,,Regular,0.039057677,Breakfast,155.963,OUT027,1985,Medium,Tier 3,Supermarket Type3,3285.723',\n",
       " 'FDN33,6.305,Regular,0.123115764,Snack Foods,95.6436,OUT046,1997,Small,Tier 1,Supermarket Type1,661.8052',\n",
       " 'FDN27,20.85,Low Fat,0.039624006,Meat,117.2808,OUT049,1999,Medium,Tier 1,Supermarket Type1,1523.3504',\n",
       " 'FDW20,20.75,Low Fat,0.040421193,Fruits and Vegetables,122.173,OUT010,1998,,Tier 3,Grocery Store,369.519',\n",
       " 'DRG27,8.895,Low Fat,0.105274111,Dairy,39.9138,OUT049,1999,Medium,Tier 1,Supermarket Type1,690.4346',\n",
       " 'DRI25,19.6,Low Fat,0.033970195,Soft Drinks,55.1614,OUT045,2002,,Tier 2,Supermarket Type1,1381.535',\n",
       " 'FDA44,19.7,Low Fat,0.053212652,Fruits and Vegetables,57.893,OUT035,2004,Small,Tier 2,Supermarket Type1,622.523',\n",
       " 'NCR17,9.8,Low Fat,0.024378706,Health and Hygiene,114.5492,OUT035,2004,Small,Tier 2,Supermarket Type1,1274.3412',\n",
       " 'FDU04,,Low Fat,0.009714595,Frozen Foods,120.0414,OUT019,1985,Small,Tier 1,Grocery Store,487.3656',\n",
       " 'FDF41,12.15,Low Fat,0.131383762,Frozen Foods,246.046,OUT049,1999,Medium,Tier 1,Supermarket Type1,1231.73',\n",
       " 'FDB56,8.75,Regular,0.07461309,Fruits and Vegetables,187.4556,OUT035,2004,Small,Tier 2,Supermarket Type1,3755.112',\n",
       " 'NCP18,,Low Fat,0.028459761,Household,149.9708,OUT027,1985,Medium,Tier 3,Supermarket Type3,4363.6532',\n",
       " 'FDB56,8.75,Regular,0.074627201,Fruits and Vegetables,187.8556,OUT046,1997,Small,Tier 1,Supermarket Type1,1314.2892',\n",
       " 'FDT28,13.3,Low Fat,0.063695084,Frozen Foods,151.0708,OUT045,2002,,Tier 2,Supermarket Type1,1805.6496',\n",
       " 'FDD10,,Regular,0.045797829,Snack Foods,178.5344,OUT027,1985,Medium,Tier 3,Supermarket Type3,2854.9504',\n",
       " 'FDW57,8.31,Regular,0.115857223,Snack Foods,179.1028,OUT049,1999,Medium,Tier 1,Supermarket Type1,3896.2616',\n",
       " 'DRB48,16.75,Regular,0.024832806,Soft Drinks,38.7822,OUT013,1987,High,Tier 3,Supermarket Type1,667.7974',\n",
       " 'FDP09,19.75,Low Fat,0.034027909,Snack Foods,212.0902,OUT018,2009,Medium,Tier 3,Supermarket Type2,3185.853',\n",
       " 'FDH14,17.1,Regular,0.0467696,Canned,141.1838,OUT013,1987,High,Tier 3,Supermarket Type1,2247.7408',\n",
       " 'FDA47,10.5,Regular,0.116576702,Baking Goods,163.121,OUT013,1987,High,Tier 3,Supermarket Type1,1794.331',\n",
       " 'FDG12,6.635,Regular,0,Baking Goods,121.3098,OUT045,2002,,Tier 2,Supermarket Type1,2530.7058',\n",
       " 'DRE60,,low fat,0.278974075,Soft Drinks,225.372,OUT019,1985,Small,Tier 1,Grocery Store,679.116',\n",
       " 'DRK49,14.15,Low Fat,0.035913805,Soft Drinks,41.4138,OUT013,1987,High,Tier 3,Supermarket Type1,812.276',\n",
       " 'FDD03,13.3,Low Fat,0.079806266,Dairy,232.53,OUT046,1997,Small,Tier 1,Supermarket Type1,699.09',\n",
       " 'FDS52,8.89,low fat,0.005505481,Frozen Foods,102.4016,OUT017,2007,,Tier 2,Supermarket Type1,2732.4432',\n",
       " 'FDW39,,Regular,0.064625342,Meat,176.937,OUT019,1985,Small,Tier 1,Grocery Store,176.437',\n",
       " 'FDX34,,Low Fat,0.071636937,Snack Foods,121.7098,OUT027,1985,Medium,Tier 3,Supermarket Type3,4097.3332',\n",
       " 'FDV11,9.1,Regular,0,Breads,173.2054,OUT045,2002,,Tier 2,Supermarket Type1,3151.8972',\n",
       " 'FDD17,7.5,Low Fat,0.032677678,Frozen Foods,239.0906,OUT049,1999,Medium,Tier 1,Supermarket Type1,5942.265',\n",
       " 'FDZ16,16.85,Regular,0.160760054,Frozen Foods,192.4478,OUT017,2007,,Tier 2,Supermarket Type1,4843.695',\n",
       " 'FDZ46,7.485,Low Fat,0.06911065,Snack Foods,109.0228,OUT035,2004,Small,Tier 2,Supermarket Type1,2542.0244',\n",
       " 'DRA12,11.6,Low Fat,0.041177505,Soft Drinks,140.3154,OUT017,2007,,Tier 2,Supermarket Type1,2552.6772',\n",
       " 'FDY58,11.65,Low Fat,0.040081193,Snack Foods,227.0694,OUT018,2009,Medium,Tier 3,Supermarket Type2,1141.847',\n",
       " 'NCF19,13,Low Fat,0.035307322,Household,47.5034,OUT017,2007,,Tier 2,Supermarket Type1,680.4476',\n",
       " 'DRJ13,12.65,LF,0.063017847,Soft Drinks,159.0578,OUT045,2002,,Tier 2,Supermarket Type1,2085.9514',\n",
       " 'FDB14,20.25,Regular,0.171938781,Canned,92.512,OUT010,1998,,Tier 3,Grocery Store,186.424',\n",
       " 'FDJ38,8.6,Regular,0.040197932,Canned,190.153,OUT035,2004,Small,Tier 2,Supermarket Type1,3036.048',\n",
       " 'FDW11,12.6,Low Fat,0.049058014,Breads,62.7194,OUT017,2007,,Tier 2,Supermarket Type1,866.8716',\n",
       " 'FDL40,17.7,Low Fat,0.01161096,Frozen Foods,95.041,OUT035,2004,Small,Tier 2,Supermarket Type1,868.869',\n",
       " 'DRI49,14.15,Low Fat,0.183507295,Soft Drinks,82.4276,OUT046,1997,Small,Tier 1,Supermarket Type1,1137.1864',\n",
       " 'FDV38,19.25,Low Fat,0.102349519,Dairy,52.7956,OUT017,2007,,Tier 2,Supermarket Type1,928.1252',\n",
       " 'DRG23,8.88,Low Fat,0.086708987,Hard Drinks,151.7682,OUT013,1987,High,Tier 3,Supermarket Type1,762.341',\n",
       " 'NCP30,20.5,Low Fat,0.032835147,Household,40.2822,OUT045,2002,,Tier 2,Supermarket Type1,707.0796',\n",
       " 'FDY25,,Low Fat,0.033809913,Canned,180.5976,OUT027,1985,Medium,Tier 3,Supermarket Type3,7968.2944',\n",
       " 'NCH54,13.5,Low Fat,0.07266912,Household,160.292,OUT046,1997,Small,Tier 1,Supermarket Type1,1438.128',\n",
       " 'NCR53,,Low Fat,0.144338493,Health and Hygiene,224.4404,OUT027,1985,Medium,Tier 3,Supermarket Type3,6976.2524',\n",
       " 'FDS52,8.89,Low Fat,0.009163216,Frozen Foods,101.7016,OUT010,1998,,Tier 3,Grocery Store,101.2016',\n",
       " 'FDG02,7.855,Low Fat,0.011307038,Canned,188.5188,OUT018,2009,Medium,Tier 3,Supermarket Type2,952.094',\n",
       " 'NCO26,7.235,Low Fat,0.076855628,Household,116.0492,OUT046,1997,Small,Tier 1,Supermarket Type1,1969.4364',\n",
       " 'FDH35,,Low Fat,0.059956876,Starchy Foods,165.4526,OUT027,1985,Medium,Tier 3,Supermarket Type3,5262.4832',\n",
       " 'FDB51,6.92,Low Fat,0.038532062,Dairy,60.5852,OUT045,2002,,Tier 2,Supermarket Type1,1314.2892',\n",
       " 'FDX44,9.3,Low Fat,0.043209581,Fruits and Vegetables,90.8172,OUT017,2007,,Tier 2,Supermarket Type1,535.3032',\n",
       " 'NCN07,18.5,Low Fat,0.056816465,Others,132.1284,OUT010,1998,,Tier 3,Grocery Store,263.6568',\n",
       " 'NCC31,8.02,Low Fat,0.019866705,Household,154.5972,OUT035,2004,Small,Tier 2,Supermarket Type1,1402.1748',\n",
       " 'NCX54,9.195,Low Fat,0.048331717,Household,105.1622,OUT017,2007,,Tier 2,Supermarket Type1,1693.7952',\n",
       " 'NCO55,12.8,Low Fat,0.091221855,Others,105.5938,OUT045,2002,,Tier 2,Supermarket Type1,2143.876',\n",
       " 'NCC30,16.6,Low Fat,0.027622076,Household,177.6344,OUT049,1999,Medium,Tier 1,Supermarket Type1,2676.516',\n",
       " 'FDI16,14,Regular,0,Frozen Foods,53.064,OUT035,2004,Small,Tier 2,Supermarket Type1,905.488',\n",
       " 'FDP16,18.6,Low Fat,0.039355947,Frozen Foods,246.3802,OUT049,1999,Medium,Tier 1,Supermarket Type1,7370.406',\n",
       " 'FDB11,16,Low Fat,0.060836524,Starchy Foods,226.8404,OUT035,2004,Small,Tier 2,Supermarket Type1,6301.1312',\n",
       " 'NCB06,17.6,Low Fat,0.082316506,Health and Hygiene,160.692,OUT035,2004,Small,Tier 2,Supermarket Type1,1597.92',\n",
       " 'FDA45,21.25,Low Fat,0.155350299,Snack Foods,178.237,OUT035,2004,Small,Tier 2,Supermarket Type1,529.311',\n",
       " 'NCO26,7.235,Low Fat,0.076841095,Household,117.5492,OUT035,2004,Small,Tier 2,Supermarket Type1,1969.4364',\n",
       " 'DRJ25,14.6,Low Fat,0.151419185,Soft Drinks,50.3692,OUT017,2007,,Tier 2,Supermarket Type1,1034.6532',\n",
       " 'FDR28,13.85,reg,0.026001976,Frozen Foods,161.521,OUT018,2009,Medium,Tier 3,Supermarket Type2,1794.331',\n",
       " 'FDI04,13.65,Regular,0.073209447,Frozen Foods,197.6426,OUT018,2009,Medium,Tier 3,Supermarket Type2,2768.3964',\n",
       " 'DRK12,,Low Fat,0.041683481,Soft Drinks,31.29,OUT027,1985,Medium,Tier 3,Supermarket Type3,898.83',\n",
       " 'FDX20,7.365,Low Fat,0.042560252,Fruits and Vegetables,226.172,OUT046,1997,Small,Tier 1,Supermarket Type1,3169.208',\n",
       " 'NCI18,18.35,Low Fat,0.014081156,Household,223.5746,OUT018,2009,Medium,Tier 3,Supermarket Type2,3589.9936',\n",
       " 'FDB36,5.465,Regular,0,Baking Goods,132.5626,OUT018,2009,Medium,Tier 3,Supermarket Type2,262.3252',\n",
       " 'FDN13,18.6,Low Fat,0.152918384,Breakfast,99.8358,OUT017,2007,,Tier 2,Supermarket Type1,1910.1802',\n",
       " 'DRD24,13.85,Low Fat,0.030969274,Soft Drinks,140.9154,OUT017,2007,,Tier 2,Supermarket Type1,1701.7848',\n",
       " 'FDQ28,14,Regular,0.060376776,Frozen Foods,154.5656,OUT013,1987,High,Tier 3,Supermarket Type1,2471.4496',\n",
       " 'FDM22,14,Regular,0.04192285,Snack Foods,54.764,OUT013,1987,High,Tier 3,Supermarket Type1,1331.6',\n",
       " 'FDR07,,Low Fat,0.077367431,Fruits and Vegetables,97.0094,OUT027,1985,Medium,Tier 3,Supermarket Type3,1808.9786',\n",
       " 'FDV25,5.905,Low Fat,0.045838211,Canned,222.5456,OUT018,2009,Medium,Tier 3,Supermarket Type2,3315.684',\n",
       " 'DRF49,7.27,Low Fat,0.071077939,Soft Drinks,114.2518,OUT046,1997,Small,Tier 1,Supermarket Type1,2618.5914',\n",
       " 'FDW51,6.155,Regular,0.094659871,Meat,214.556,OUT046,1997,Small,Tier 1,Supermarket Type1,2769.728',\n",
       " 'DRL01,19.5,Regular,0.077608838,Soft Drinks,233.4958,OUT017,2007,,Tier 2,Supermarket Type1,5375.0034',\n",
       " 'FDP25,15.2,Low Fat,0.021327477,Canned,216.8824,OUT017,2007,,Tier 2,Supermarket Type1,2838.9712',\n",
       " 'FDL50,12.15,Regular,0.042485444,Canned,125.0046,OUT018,2009,Medium,Tier 3,Supermarket Type2,1743.0644',\n",
       " 'NCB30,,Low Fat,0.025578526,Household,198.8084,OUT027,1985,Medium,Tier 3,Supermarket Type3,5555.4352',\n",
       " 'FDW11,12.6,Low Fat,0.0489808,Breads,61.9194,OUT018,2009,Medium,Tier 3,Supermarket Type2,619.194',\n",
       " 'NCM43,14.5,Low Fat,0.019471688,Others,164.821,OUT035,2004,Small,Tier 2,Supermarket Type1,2120.573',\n",
       " 'FDK44,16.6,Low Fat,0.122918852,Fruits and Vegetables,173.0738,OUT017,2007,,Tier 2,Supermarket Type1,3823.0236',\n",
       " 'FDM15,11.8,Regular,0.057373797,Meat,151.4366,OUT013,1987,High,Tier 3,Supermarket Type1,1360.2294',\n",
       " 'FDS31,13.1,Regular,0.044155597,Fruits and Vegetables,178.8318,OUT013,1987,High,Tier 3,Supermarket Type1,3969.4996',\n",
       " 'FDI32,17.7,Low Fat,0.291865402,Fruits and Vegetables,115.1834,OUT010,1998,,Tier 3,Grocery Store,345.5502',\n",
       " 'FDR47,17.85,LF,0,Breads,196.5794,OUT010,1998,,Tier 3,Grocery Store,585.2382',\n",
       " 'FDB35,12.3,Regular,0.064750025,Starchy Foods,92.6804,OUT045,2002,,Tier 2,Supermarket Type1,1010.6844',\n",
       " 'NCU05,11.8,Low Fat,0.098312421,Health and Hygiene,81.4618,OUT010,1998,,Tier 3,Grocery Store,161.1236',\n",
       " 'DRY23,,Regular,0.191013663,Soft Drinks,42.1112,OUT019,1985,Small,Tier 1,Grocery Store,42.6112',\n",
       " 'FDO24,11.1,Low Fat,0.176573035,Baking Goods,157.4604,OUT045,2002,,Tier 2,Supermarket Type1,3010.7476',\n",
       " 'FDQ28,,Regular,0.060134441,Frozen Foods,153.0656,OUT027,1985,Medium,Tier 3,Supermarket Type3,6024.1584',\n",
       " 'FDV39,11.3,Low Fat,0.007294652,Meat,198.1426,OUT045,2002,,Tier 2,Supermarket Type1,988.713',\n",
       " 'NCO17,,Low Fat,0.128478462,Health and Hygiene,117.944,OUT019,1985,Small,Tier 1,Grocery Store,239.688',\n",
       " 'FDU50,5.75,Regular,0.075107656,Dairy,112.8176,OUT013,1987,High,Tier 3,Supermarket Type1,1374.2112',\n",
       " 'FDT12,,Regular,0.049381406,Baking Goods,226.8062,OUT027,1985,Medium,Tier 3,Supermarket Type3,4739.8302',\n",
       " 'FDK58,11.35,Regular,0.045165796,Snack Foods,100.0016,OUT018,2009,Medium,Tier 3,Supermarket Type2,1012.016',\n",
       " 'FDO08,,Regular,0.09415375,Fruits and Vegetables,165.7526,OUT019,1985,Small,Tier 1,Grocery Store,657.8104',\n",
       " 'NCW29,14,Low Fat,0.028907832,Health and Hygiene,130.431,OUT049,1999,Medium,Tier 1,Supermarket Type1,778.986',\n",
       " 'FDE04,19.75,Regular,0.018059621,Frozen Foods,179.766,OUT045,2002,,Tier 2,Supermarket Type1,2336.958',\n",
       " 'NCB19,6.525,Low Fat,0.090436094,Household,85.0882,OUT049,1999,Medium,Tier 1,Supermarket Type1,2233.0932',\n",
       " 'FDV15,10.3,Low Fat,0.146399712,Meat,103.9648,OUT049,1999,Medium,Tier 1,Supermarket Type1,1661.8368',\n",
       " 'FDL58,5.78,Regular,0.074264356,Snack Foods,264.7568,OUT049,1999,Medium,Tier 1,Supermarket Type1,4745.8224',\n",
       " 'FDA08,11.85,Regular,0.050186726,Fruits and Vegetables,164.1526,OUT045,2002,,Tier 2,Supermarket Type1,3124.5994',\n",
       " 'FDT43,16.35,Low Fat,0.020631654,Fruits and Vegetables,50.1324,OUT018,2009,Medium,Tier 3,Supermarket Type2,467.3916',\n",
       " 'NCX06,,Low Fat,0.01561108,Household,182.5976,OUT027,1985,Medium,Tier 3,Supermarket Type3,5070.7328',\n",
       " 'FDT20,10.5,Low Fat,0.041395445,Fruits and Vegetables,37.6164,OUT046,1997,Small,Tier 1,Supermarket Type1,540.6296',\n",
       " 'FDB41,19,Regular,0.097313129,Frozen Foods,48.0718,OUT046,1997,Small,Tier 1,Supermarket Type1,992.7078',\n",
       " 'NCN55,14.6,Low Fat,0.059582996,Others,238.8538,OUT049,1999,Medium,Tier 1,Supermarket Type1,6008.845',\n",
       " 'FDE40,,Regular,0.098663652,Dairy,62.9194,OUT027,1985,Medium,Tier 3,Supermarket Type3,2105.2596',\n",
       " 'FDX49,,reg,0.101338651,Canned,232.63,OUT027,1985,Medium,Tier 3,Supermarket Type3,5359.69',\n",
       " 'NCM53,18.75,Low Fat,0.052146456,Health and Hygiene,104.628,OUT045,2002,,Tier 2,Supermarket Type1,745.696',\n",
       " 'FDE36,5.26,Regular,0.041764487,Baking Goods,161.8868,OUT035,2004,Small,Tier 2,Supermarket Type1,3275.736',\n",
       " 'FDN57,18.25,Low Fat,0.054344186,Snack Foods,140.2154,OUT045,2002,,Tier 2,Supermarket Type1,1701.7848',\n",
       " 'FDI24,,Low Fat,0.078362484,Baking Goods,177.937,OUT027,1985,Medium,Tier 3,Supermarket Type3,6704.606',\n",
       " 'FDI19,15.1,Low Fat,0.052339069,Meat,242.7512,OUT046,1997,Small,Tier 1,Supermarket Type1,4119.9704',\n",
       " 'FDF24,15.5,Regular,0.042464962,Baking Goods,81.5934,OUT010,1998,,Tier 3,Grocery Store,327.5736',\n",
       " 'FDG52,13.65,Low Fat,0.065732883,Frozen Foods,45.7402,OUT049,1999,Medium,Tier 1,Supermarket Type1,780.9834',\n",
       " 'DRF36,16.1,LF,0.023625114,Soft Drinks,189.3846,OUT045,2002,,Tier 2,Supermarket Type1,3630.6074',\n",
       " 'FDS45,,Regular,0.051643608,Snack Foods,107.3622,OUT019,1985,Small,Tier 1,Grocery Store,317.5866',\n",
       " 'FDX40,12.85,Low Fat,0.165694219,Frozen Foods,39.7164,OUT010,1998,,Tier 3,Grocery Store,231.6984',\n",
       " 'DRK12,9.5,LF,0.041878397,Soft Drinks,32.99,OUT035,2004,Small,Tier 2,Supermarket Type1,133.16',\n",
       " 'DRC27,13.8,Low Fat,0.058091482,Dairy,245.1802,OUT035,2004,Small,Tier 2,Supermarket Type1,5650.6446',\n",
       " 'FDL58,5.78,Regular,0,Snack Foods,263.7568,OUT017,2007,,Tier 2,Supermarket Type1,2636.568',\n",
       " 'NCD30,19.7,Low Fat,0.026903714,Household,96.0726,OUT045,2002,,Tier 2,Supermarket Type1,1272.3438',\n",
       " 'NCZ54,14.65,Low Fat,0,Household,161.5552,OUT010,1998,,Tier 3,Grocery Store,324.9104',\n",
       " 'FDE10,6.67,Regular,0.150554711,Snack Foods,130.0626,OUT010,1998,,Tier 3,Grocery Store,131.1626',\n",
       " 'FDR44,6.11,Regular,0,Fruits and Vegetables,131.2968,OUT010,1998,,Tier 3,Grocery Store,260.9936',\n",
       " 'FDP28,13.65,Regular,0.134975628,Frozen Foods,260.0936,OUT010,1998,,Tier 3,Grocery Store,260.9936',\n",
       " 'FDX15,17.2,Low Fat,0.15616879,Meat,160.6578,OUT013,1987,High,Tier 3,Supermarket Type1,3690.5294',\n",
       " 'FDA39,6.32,LF,0,Meat,40.2822,OUT035,2004,Small,Tier 2,Supermarket Type1,1139.1838',\n",
       " 'FDY24,4.88,Regular,0.133700752,Baking Goods,52.9298,OUT049,1999,Medium,Tier 1,Supermarket Type1,1995.4026',\n",
       " 'FDC60,5.425,Regular,0.115119905,Baking Goods,88.3514,OUT017,2007,,Tier 2,Supermarket Type1,1416.8224',\n",
       " 'FDH28,15.85,Regular,0.110030997,Frozen Foods,37.2506,OUT046,1997,Small,Tier 1,Supermarket Type1,265.6542',\n",
       " 'FDT25,7.5,Low Fat,0.051038045,Canned,121.7072,OUT017,2007,,Tier 2,Supermarket Type1,3552.7088',\n",
       " 'DRJ13,12.65,Low Fat,0.062837968,Soft Drinks,161.5578,OUT013,1987,High,Tier 3,Supermarket Type1,2406.867',\n",
       " 'NCO07,,Low Fat,0.017116983,Others,211.956,OUT019,1985,Small,Tier 1,Grocery Store,213.056',\n",
       " 'FDW20,20.75,Low Fat,0.024129332,Fruits and Vegetables,124.173,OUT013,1987,High,Tier 3,Supermarket Type1,2956.152',\n",
       " 'DRF27,,Low Fat,0.049754975,Dairy,152.134,OUT019,1985,Small,Tier 1,Grocery Store,153.134',\n",
       " 'FDS49,9,Low Fat,0,Canned,79.7644,OUT035,2004,Small,Tier 2,Supermarket Type1,1649.8524',\n",
       " 'FDX25,,Low Fat,0.101561568,Canned,181.9292,OUT027,1985,Medium,Tier 3,Supermarket Type3,3101.2964',\n",
       " 'NCX42,,Low Fat,0.005949644,Household,165.6526,OUT027,1985,Medium,Tier 3,Supermarket Type3,4769.1254',\n",
       " 'FDG33,,Regular,0.13956116,Seafood,170.4764,OUT027,1985,Medium,Tier 3,Supermarket Type3,3435.528',\n",
       " 'FDL56,14.1,Low Fat,0.126035694,Fruits and Vegetables,86.4198,OUT045,2002,,Tier 2,Supermarket Type1,1133.8574',\n",
       " 'FDF14,7.55,Low Fat,0.027164679,Canned,152.334,OUT035,2004,Small,Tier 2,Supermarket Type1,2603.278',\n",
       " 'NCD06,13,Low Fat,0.099325278,Household,45.406,OUT046,1997,Small,Tier 1,Supermarket Type1,605.878',\n",
       " 'DRM47,,Low Fat,0.04357366,Hard Drinks,192.8846,OUT027,1985,Medium,Tier 3,Supermarket Type3,2293.0152',\n",
       " 'FDS46,,Regular,0.082741482,Snack Foods,118.7782,OUT019,1985,Small,Tier 1,Grocery Store,119.1782',\n",
       " 'FDB35,12.3,Regular,0.064565202,Starchy Foods,92.9804,OUT013,1987,High,Tier 3,Supermarket Type1,1929.4884',\n",
       " '\n",
       "\n",
       "*** WARNING: max output size exceeded, skipping output. ***\n",
       "\n",
       "266,OUT013,1987,High,Tier 3,Supermarket Type1,5163.9448',\n",
       " 'FDV56,16.1,Regular,0.013584408,Fruits and Vegetables,107.7596,OUT013,1987,High,Tier 3,Supermarket Type1,323.5788',\n",
       " 'FDK43,9.8,Low Fat,0.026950104,Meat,128.402,OUT018,2009,Medium,Tier 3,Supermarket Type2,1265.02',\n",
       " 'NCR29,7.565,Low Fat,0.054751689,Health and Hygiene,54.793,OUT045,2002,,Tier 2,Supermarket Type1,622.523',\n",
       " 'FDY03,17.6,Regular,0.076121831,Meat,111.7202,OUT046,1997,Small,Tier 1,Supermarket Type1,1125.202',\n",
       " 'FDU44,12.15,Regular,0.058516562,Fruits and Vegetables,164.1552,OUT049,1999,Medium,Tier 1,Supermarket Type1,5198.5664',\n",
       " 'FDZ04,9.31,low fat,0.037923509,Frozen Foods,61.651,OUT013,1987,High,Tier 3,Supermarket Type1,379.506',\n",
       " 'FDU16,19.25,Regular,0.058365706,Frozen Foods,82.1908,OUT049,1999,Medium,Tier 1,Supermarket Type1,2432.8332',\n",
       " 'FDV07,9.5,Low Fat,0.031346387,Fruits and Vegetables,110.7228,OUT045,2002,,Tier 2,Supermarket Type1,1657.842',\n",
       " 'NCL19,15.35,Low Fat,0.015663185,Others,143.947,OUT013,1987,High,Tier 3,Supermarket Type1,3006.087',\n",
       " 'FDW01,,Low Fat,0.063750302,Canned,153.4682,OUT027,1985,Medium,Tier 3,Supermarket Type3,2287.023',\n",
       " 'FDC10,,Regular,0.07252476,Snack Foods,120.3098,OUT027,1985,Medium,Tier 3,Supermarket Type3,1687.1372',\n",
       " 'DRC12,17.85,Low Fat,0.038040837,Soft Drinks,189.1188,OUT017,2007,,Tier 2,Supermarket Type1,3237.1196',\n",
       " 'DRK39,7.02,Low Fat,0.049823902,Dairy,82.225,OUT013,1987,High,Tier 3,Supermarket Type1,2746.425',\n",
       " 'FDG24,,Low Fat,0.014560297,Baking Goods,81.425,OUT027,1985,Medium,Tier 3,Supermarket Type3,1331.6',\n",
       " 'FDO04,,Low Fat,0.026408698,Frozen Foods,53.2614,OUT027,1985,Medium,Tier 3,Supermarket Type3,607.8754',\n",
       " 'DRB25,12.3,Low Fat,0.069446588,Soft Drinks,106.3938,OUT035,2004,Small,Tier 2,Supermarket Type1,857.5504',\n",
       " 'FDK26,5.46,Regular,0.03217132,Canned,184.824,OUT035,2004,Small,Tier 2,Supermarket Type1,4287.752',\n",
       " 'FDM52,15.1,Low Fat,0.026046138,Frozen Foods,147.2076,OUT045,2002,,Tier 2,Supermarket Type1,1773.6912',\n",
       " 'FDY07,11.8,Low Fat,0.121848436,Fruits and Vegetables,46.8402,OUT045,2002,,Tier 2,Supermarket Type1,597.2226',\n",
       " 'NCO06,19.25,Low Fat,0.108470504,Household,33.4558,OUT018,2009,Medium,Tier 3,Supermarket Type2,441.4254',\n",
       " 'FDO10,13.65,Regular,0,Snack Foods,55.8588,OUT045,2002,,Tier 2,Supermarket Type1,1431.47',\n",
       " 'FDK34,13.35,Low Fat,0.038494623,Snack Foods,240.2564,OUT013,1987,High,Tier 3,Supermarket Type1,2860.2768',\n",
       " 'FDS33,,Regular,0.122830885,Snack Foods,86.9514,OUT027,1985,Medium,Tier 3,Supermarket Type3,3364.9532',\n",
       " 'FDO45,13.15,Regular,0.038029746,Snack Foods,88.6856,OUT045,2002,,Tier 2,Supermarket Type1,1757.712',\n",
       " 'FDF08,14.3,Regular,0.065207559,Fruits and Vegetables,89.8856,OUT046,1997,Small,Tier 1,Supermarket Type1,966.7416',\n",
       " 'FDH58,12.3,Low Fat,0.037014587,Snack Foods,115.1834,OUT045,2002,,Tier 2,Supermarket Type1,1958.1178',\n",
       " 'FDS03,7.825,Low Fat,0.133281968,Meat,63.2826,OUT010,1998,,Tier 3,Grocery Store,129.1652',\n",
       " 'DRF03,19.1,Low Fat,0.045299563,Dairy,38.8138,OUT035,2004,Small,Tier 2,Supermarket Type1,365.5242',\n",
       " 'FDE02,8.71,low fat,0.121149472,Canned,93.7778,OUT013,1987,High,Tier 3,Supermarket Type1,1783.6782',\n",
       " 'NCZ06,19.6,Low Fat,0.094083303,Household,252.2698,OUT013,1987,High,Tier 3,Supermarket Type1,2790.3678',\n",
       " 'FDW49,19.5,Low Fat,0,Canned,179.3002,OUT049,1999,Medium,Tier 1,Supermarket Type1,2328.3026',\n",
       " 'FDR23,15.85,Low Fat,0,Breads,174.737,OUT017,2007,,Tier 2,Supermarket Type1,2822.992',\n",
       " 'NCJ29,,Low Fat,0.035022503,Health and Hygiene,85.1224,OUT027,1985,Medium,Tier 3,Supermarket Type3,2045.3376',\n",
       " 'FDY35,17.6,Regular,0.016060186,Breads,47.2402,OUT045,2002,,Tier 2,Supermarket Type1,505.3422',\n",
       " 'FDZ01,,Regular,0.009014978,Canned,102.699,OUT027,1985,Medium,Tier 3,Supermarket Type3,3095.97',\n",
       " 'FDX19,19.1,Low Fat,0.096733815,Fruits and Vegetables,233.1958,OUT046,1997,Small,Tier 1,Supermarket Type1,5141.3076',\n",
       " 'FDG44,6.13,Low Fat,0.102607233,Fruits and Vegetables,54.0298,OUT018,2009,Medium,Tier 3,Supermarket Type2,808.947',\n",
       " 'FDQ23,6.55,Low Fat,0.024521191,Breads,100.6332,OUT035,2004,Small,Tier 2,Supermarket Type1,2665.8632',\n",
       " 'FDY22,16.5,Regular,0.160624116,Snack Foods,143.8128,OUT017,2007,,Tier 2,Supermarket Type1,2588.6304',\n",
       " 'NCN41,17,Low Fat,0.052165855,Health and Hygiene,125.073,OUT013,1987,High,Tier 3,Supermarket Type1,1108.557',\n",
       " 'FDA47,10.5,Regular,0,Baking Goods,162.421,OUT045,2002,,Tier 2,Supermarket Type1,1304.968',\n",
       " 'NCD19,8.93,Low Fat,0,Household,55.4614,OUT045,2002,,Tier 2,Supermarket Type1,331.5684',\n",
       " 'FDO36,,Low Fat,0.07753654,Baking Goods,180.866,OUT027,1985,Medium,Tier 3,Supermarket Type3,3235.788',\n",
       " 'FDH20,16.1,Regular,0.024928351,Fruits and Vegetables,95.141,OUT013,1987,High,Tier 3,Supermarket Type1,3089.312',\n",
       " 'FDN12,,LF,0.08071118,Baking Goods,113.1544,OUT027,1985,Medium,Tier 3,Supermarket Type3,3355.632',\n",
       " 'NCJ30,5.82,Low Fat,0.080968973,Household,171.379,OUT018,2009,Medium,Tier 3,Supermarket Type2,2037.348',\n",
       " 'FDB09,16.25,Low Fat,0.057485328,Fruits and Vegetables,126.2046,OUT049,1999,Medium,Tier 1,Supermarket Type1,1867.569',\n",
       " 'FDA09,13.35,Regular,0.149669322,Snack Foods,180.266,OUT045,2002,,Tier 2,Supermarket Type1,898.83',\n",
       " 'FDL24,,Regular,0.024776026,Baking Goods,172.3422,OUT027,1985,Medium,Tier 3,Supermarket Type3,7759.899',\n",
       " 'FDP03,5.15,Regular,0.061165512,Meat,125.6388,OUT035,2004,Small,Tier 2,Supermarket Type1,2848.2924',\n",
       " 'FDR58,,Low Fat,0.041718456,Snack Foods,94.5462,OUT027,1985,Medium,Tier 3,Supermarket Type3,2868.9322',\n",
       " 'FDO13,7.865,Low Fat,0.06100886,Breakfast,166.0526,OUT013,1987,High,Tier 3,Supermarket Type1,3617.9572',\n",
       " 'DRD49,9.895,Low Fat,0.167799329,Soft Drinks,239.4564,OUT035,2004,Small,Tier 2,Supermarket Type1,5243.8408',\n",
       " 'NCF42,17.35,Low Fat,0.167351411,Household,176.0712,OUT035,2004,Small,Tier 2,Supermarket Type1,2109.2544',\n",
       " 'DRK35,8.365,Low Fat,0.071832909,Hard Drinks,36.1506,OUT035,2004,Small,Tier 2,Supermarket Type1,721.0614',\n",
       " 'FDR58,6.675,Low Fat,0.041886576,Snack Foods,92.1462,OUT013,1987,High,Tier 3,Supermarket Type1,1203.1006',\n",
       " 'FDQ15,,Regular,0.150341867,Meat,83.1276,OUT027,1985,Medium,Tier 3,Supermarket Type3,1868.2348',\n",
       " 'NCP50,17.35,Low Fat,0.020542737,Others,80.5618,OUT013,1987,High,Tier 3,Supermarket Type1,322.2472',\n",
       " 'FDV45,16.75,Low Fat,0.045047439,Snack Foods,186.4556,OUT046,1997,Small,Tier 1,Supermarket Type1,3942.8676',\n",
       " 'DRP35,18.85,Low Fat,0.091008572,Hard Drinks,129.6336,OUT049,1999,Medium,Tier 1,Supermarket Type1,3195.84',\n",
       " 'FDN23,6.575,Regular,0.07549348,Breads,143.5444,OUT035,2004,Small,Tier 2,Supermarket Type1,3338.3212',\n",
       " 'FDS44,12.65,Regular,0.156286566,Fruits and Vegetables,238.9538,OUT049,1999,Medium,Tier 1,Supermarket Type1,4086.0146',\n",
       " 'NCI54,15.2,Low Fat,0.033735909,Household,110.9912,OUT018,2009,Medium,Tier 3,Supermarket Type2,1856.2504',\n",
       " 'FDH40,,Regular,0.078547351,Frozen Foods,79.3276,OUT027,1985,Medium,Tier 3,Supermarket Type3,1380.8692',\n",
       " 'FDF46,7.07,Low Fat,0.093653464,Snack Foods,113.3834,OUT035,2004,Small,Tier 2,Supermarket Type1,1267.0174',\n",
       " 'FDA21,13.65,Low Fat,0.036107198,Snack Foods,184.4924,OUT018,2009,Medium,Tier 3,Supermarket Type2,5182.5872',\n",
       " 'FDI41,,Regular,0.109003832,Frozen Foods,145.2418,OUT019,1985,Small,Tier 1,Grocery Store,147.1418',\n",
       " 'FDE35,7.06,Regular,0.073480266,Starchy Foods,58.8904,OUT010,1998,,Tier 3,Grocery Store,58.5904',\n",
       " 'DRJ24,11.8,Low Fat,0.113234914,Soft Drinks,186.3924,OUT013,1987,High,Tier 3,Supermarket Type1,5367.6796',\n",
       " 'NCK17,,Low Fat,0.037711338,Health and Hygiene,41.548,OUT027,1985,Medium,Tier 3,Supermarket Type3,1358.232',\n",
       " 'FDA15,9.3,Low Fat,0.016054884,Dairy,250.2092,OUT045,2002,,Tier 2,Supermarket Type1,5976.2208',\n",
       " 'FDD36,,Low Fat,0.021170542,Baking Goods,117.6124,OUT027,1985,Medium,Tier 3,Supermarket Type3,2251.7356',\n",
       " 'DRD60,,Low Fat,0.065188619,Soft Drinks,181.1634,OUT019,1985,Small,Tier 1,Grocery Store,181.7634',\n",
       " 'FDA46,13.6,Low Fat,0.117537563,Snack Foods,195.4136,OUT013,1987,High,Tier 3,Supermarket Type1,5443.5808',\n",
       " 'NCO54,19.5,Low Fat,0.01430324,Household,57.2614,OUT045,2002,,Tier 2,Supermarket Type1,1547.3192',\n",
       " 'FDL48,19.35,Regular,0.137697119,Baking Goods,47.1034,OUT010,1998,,Tier 3,Grocery Store,145.8102',\n",
       " 'NCM19,,Low Fat,0.047008497,Others,112.0202,OUT027,1985,Medium,Tier 3,Supermarket Type3,5063.409',\n",
       " 'FDS31,13.1,reg,0,Fruits and Vegetables,178.9318,OUT049,1999,Medium,Tier 1,Supermarket Type1,3067.3406',\n",
       " 'FDV12,16.7,Regular,0.060863167,Baking Goods,97.6384,OUT035,2004,Small,Tier 2,Supermarket Type1,2857.6136',\n",
       " 'FDQ31,5.785,Regular,0,Fruits and Vegetables,87.1856,OUT035,2004,Small,Tier 2,Supermarket Type1,1406.1696',\n",
       " 'FDK55,,Low Fat,0.045105407,Meat,89.4172,OUT019,1985,Small,Tier 1,Grocery Store,178.4344',\n",
       " 'DRG15,6.13,Low Fat,0.076855207,Dairy,59.3536,OUT049,1999,Medium,Tier 1,Supermarket Type1,1470.0864',\n",
       " 'NCR17,9.8,Low Fat,0.024482644,Health and Hygiene,116.2492,OUT018,2009,Medium,Tier 3,Supermarket Type2,2896.23',\n",
       " 'FDV01,,Regular,0,Canned,154.6314,OUT027,1985,Medium,Tier 3,Supermarket Type3,6515.5188',\n",
       " 'FDT21,7.42,Low Fat,0.020474913,Snack Foods,248.4092,OUT018,2009,Medium,Tier 3,Supermarket Type2,996.0368',\n",
       " 'FDT10,16.7,Regular,0.062044506,Snack Foods,57.4562,OUT046,1997,Small,Tier 1,Supermarket Type1,948.0992',\n",
       " 'FDL56,,Low Fat,0.220225608,Fruits and Vegetables,85.6198,OUT019,1985,Small,Tier 1,Grocery Store,87.2198',\n",
       " 'FDS49,9,Low Fat,0.079794329,Canned,80.1644,OUT017,2007,,Tier 2,Supermarket Type1,1178.466',\n",
       " 'FDT32,,Regular,0.114916546,Fruits and Vegetables,188.4214,OUT019,1985,Small,Tier 1,Grocery Store,565.2642',\n",
       " 'NCX42,6.36,Low Fat,0.00597362,Household,164.5526,OUT013,1987,High,Tier 3,Supermarket Type1,2137.8838',\n",
       " 'FDX26,17.7,LF,0.146973462,Dairy,184.1292,OUT010,1998,,Tier 3,Grocery Store,547.2876',\n",
       " 'FDN02,16.5,Low Fat,0.07376631,Canned,208.5638,OUT013,1987,High,Tier 3,Supermarket Type1,2691.8294',\n",
       " 'FDJ40,,Regular,0.049349121,Frozen Foods,108.6912,OUT027,1985,Medium,Tier 3,Supermarket Type3,3057.3536',\n",
       " 'FDU13,,low fat,0.328390948,Canned,146.0418,OUT019,1985,Small,Tier 1,Grocery Store,588.5672',\n",
       " 'DRE27,11.85,Low Fat,0.13267058,Dairy,96.4726,OUT046,1997,Small,Tier 1,Supermarket Type1,978.726',\n",
       " 'FDS27,10.195,Regular,0.012455787,Meat,197.511,OUT035,2004,Small,Tier 2,Supermarket Type1,2356.932',\n",
       " 'FDU44,,Regular,0.058142797,Fruits and Vegetables,162.1552,OUT027,1985,Medium,Tier 3,Supermarket Type3,3086.6488',\n",
       " 'DRM59,,Low Fat,0.006289291,Hard Drinks,153.2998,OUT019,1985,Small,Tier 1,Grocery Store,461.3994',\n",
       " 'FDT08,13.65,Low Fat,0.04929502,Fruits and Vegetables,150.505,OUT049,1999,Medium,Tier 1,Supermarket Type1,2696.49',\n",
       " 'FDL46,20.35,low fat,0.054362695,Snack Foods,117.9466,OUT017,2007,,Tier 2,Supermarket Type1,1649.8524',\n",
       " 'NCV30,20.2,Low Fat,0.110356797,Household,62.051,OUT010,1998,,Tier 3,Grocery Store,126.502',\n",
       " 'FDP51,13.85,Regular,0.085274988,Meat,119.6124,OUT046,1997,Small,Tier 1,Supermarket Type1,2014.7108',\n",
       " 'FDA51,8.05,Regular,0.164542555,Dairy,112.2518,OUT013,1987,High,Tier 3,Supermarket Type1,1707.777',\n",
       " 'FDM46,7.365,Low Fat,0.160292264,Snack Foods,94.712,OUT045,2002,,Tier 2,Supermarket Type1,932.12',\n",
       " 'FDK02,12.5,Low Fat,0.112859454,Canned,118.344,OUT017,2007,,Tier 2,Supermarket Type1,2157.192',\n",
       " 'FDJ57,7.42,Regular,0.021569566,Seafood,184.8582,OUT035,2004,Small,Tier 2,Supermarket Type1,4643.955',\n",
       " 'FDJ45,,Low Fat,0.073055148,Seafood,33.7216,OUT027,1985,Medium,Tier 3,Supermarket Type3,1280.9992',\n",
       " 'NCB31,6.235,Low Fat,0.119345629,Household,261.991,OUT017,2007,,Tier 2,Supermarket Type1,2366.919',\n",
       " 'FDJ03,12.35,Regular,0.072334667,Dairy,49.1692,OUT013,1987,High,Tier 3,Supermarket Type1,886.8456',\n",
       " 'FDT50,6.75,Regular,0.108148913,Dairy,95.6752,OUT013,1987,High,Tier 3,Supermarket Type1,958.752',\n",
       " 'NCY41,16.75,Low Fat,0.07585337,Health and Hygiene,36.8532,OUT049,1999,Medium,Tier 1,Supermarket Type1,1150.5024',\n",
       " 'FDJ60,19.35,Regular,0.062655235,Baking Goods,163.3184,OUT045,2002,,Tier 2,Supermarket Type1,2641.8944',\n",
       " 'FDZ35,9.6,Regular,0.022278477,Breads,102.499,OUT046,1997,Small,Tier 1,Supermarket Type1,1547.985',\n",
       " 'FDS21,19.85,Regular,0.020961192,Snack Foods,62.0194,OUT018,2009,Medium,Tier 3,Supermarket Type2,619.194',\n",
       " 'FDM52,15.1,Low Fat,0.025993423,Frozen Foods,147.4076,OUT046,1997,Small,Tier 1,Supermarket Type1,2808.3444',\n",
       " 'FDQ08,,Regular,0.018838681,Fruits and Vegetables,62.9536,OUT027,1985,Medium,Tier 3,Supermarket Type3,2266.3832',\n",
       " 'FDQ56,6.59,Low Fat,0.105577348,Fruits and Vegetables,85.6908,OUT035,2004,Small,Tier 2,Supermarket Type1,1929.4884',\n",
       " 'FDS47,16.75,Low Fat,0.129086113,Breads,89.4856,OUT049,1999,Medium,Tier 1,Supermarket Type1,1054.6272',\n",
       " 'DRM48,15.2,Low Fat,0.113125627,Soft Drinks,38.6848,OUT045,2002,,Tier 2,Supermarket Type1,1155.8288',\n",
       " 'FDW46,13,Regular,0.070699313,Snack Foods,65.7484,OUT017,2007,,Tier 2,Supermarket Type1,1174.4712',\n",
       " 'FDW27,5.86,Regular,0.151467821,Meat,154.1314,OUT018,2009,Medium,Tier 3,Supermarket Type2,3412.8908',\n",
       " 'NCQ05,11.395,Low Fat,0.03616416,Health and Hygiene,150.1708,OUT010,1998,,Tier 3,Grocery Store,300.9416',\n",
       " 'FDU40,20.85,Low Fat,0.062606583,Frozen Foods,192.2478,OUT010,1998,,Tier 3,Grocery Store,387.4956',\n",
       " 'DRE12,,Low Fat,0.0704378,Soft Drinks,112.886,OUT027,1985,Medium,Tier 3,Supermarket Type3,2942.836',\n",
       " 'FDX35,5.035,Regular,0.079844043,Breads,226.3036,OUT013,1987,High,Tier 3,Supermarket Type1,4098.6648',\n",
       " 'FDD51,11.15,Low Fat,0.120139206,Dairy,45.0744,OUT049,1999,Medium,Tier 1,Supermarket Type1,452.744',\n",
       " 'FDY27,6.38,Low Fat,0.032028115,Dairy,178.3344,OUT018,2009,Medium,Tier 3,Supermarket Type2,3211.8192',\n",
       " 'NCN06,8.39,Low Fat,0.120497266,Household,162.2868,OUT046,1997,Small,Tier 1,Supermarket Type1,2620.5888',\n",
       " 'FDR57,5.675,Regular,0.023492524,Snack Foods,155.5288,OUT035,2004,Small,Tier 2,Supermarket Type1,1414.1592',\n",
       " 'FDL32,15.7,Regular,0.122657336,Fruits and Vegetables,110.1544,OUT049,1999,Medium,Tier 1,Supermarket Type1,1565.9616',\n",
       " 'FDW46,13,reg,0.070588037,Snack Foods,65.9484,OUT018,2009,Medium,Tier 3,Supermarket Type2,1043.9744',\n",
       " 'NCO17,,Low Fat,0.073024401,Health and Hygiene,121.844,OUT027,1985,Medium,Tier 3,Supermarket Type3,3115.944',\n",
       " 'FDR19,13.5,Regular,0.159587755,Fruits and Vegetables,145.3102,OUT013,1987,High,Tier 3,Supermarket Type1,729.051',\n",
       " 'FDJ33,8.895,Regular,0.088821765,Snack Foods,125.173,OUT017,2007,,Tier 2,Supermarket Type1,2956.152',\n",
       " 'FDB15,10.895,Low Fat,0.136810742,Dairy,263.0568,OUT046,1997,Small,Tier 1,Supermarket Type1,527.3136',\n",
       " 'FDA52,16.2,Regular,0.128682722,Frozen Foods,178.437,OUT045,2002,,Tier 2,Supermarket Type1,1058.622',\n",
       " 'FDZ08,,Regular,0.109459733,Fruits and Vegetables,84.1592,OUT027,1985,Medium,Tier 3,Supermarket Type3,1320.9472',\n",
       " 'FDR27,15.1,Regular,0.096644015,Meat,131.9942,OUT017,2007,,Tier 2,Supermarket Type1,3047.3666',\n",
       " 'NCK42,7.475,Low Fat,0.013120028,Household,217.6192,OUT046,1997,Small,Tier 1,Supermarket Type1,1725.7536',\n",
       " 'FDZ12,,Low Fat,0,Baking Goods,144.847,OUT019,1985,Small,Tier 1,Grocery Store,143.147',\n",
       " 'FDM60,10.8,Regular,0.048339408,Baking Goods,41.5138,OUT018,2009,Medium,Tier 3,Supermarket Type2,446.7518',\n",
       " 'NCI31,20,Low Fat,0.08165845,Others,35.019,OUT018,2009,Medium,Tier 3,Supermarket Type2,585.904',\n",
       " 'FDX39,14.3,Regular,0.04975339,Meat,210.3586,OUT049,1999,Medium,Tier 1,Supermarket Type1,6331.758',\n",
       " 'NCV05,10.1,Low Fat,0.030379382,Health and Hygiene,153.4656,OUT017,2007,,Tier 2,Supermarket Type1,1853.5872',\n",
       " 'FDX16,17.85,LF,0.065810045,Frozen Foods,149.105,OUT046,1997,Small,Tier 1,Supermarket Type1,2247.075',\n",
       " 'DRK12,9.5,Low Fat,0,Soft Drinks,32.89,OUT010,1998,,Tier 3,Grocery Store,33.29',\n",
       " 'NCA05,20.75,Low Fat,0.025272781,Health and Hygiene,146.6734,OUT017,2007,,Tier 2,Supermarket Type1,445.4202',\n",
       " 'DRG51,12.1,Low Fat,0.019314961,Dairy,164.6526,OUT010,1998,,Tier 3,Grocery Store,657.8104',\n",
       " 'NCR30,20.6,Low Fat,0.071282168,Household,74.4696,OUT018,2009,Medium,Tier 3,Supermarket Type2,223.7088',\n",
       " 'NCE31,7.67,Low Fat,0.184843579,Household,33.1216,OUT046,1997,Small,Tier 1,Supermarket Type1,727.0536',\n",
       " 'FDM56,,Low Fat,0.122896411,Fruits and Vegetables,111.1912,OUT019,1985,Small,Tier 1,Grocery Store,218.3824',\n",
       " 'FDP24,20.6,Low Fat,0.082935004,Baking Goods,119.5756,OUT013,1987,High,Tier 3,Supermarket Type1,2665.8632',\n",
       " 'DRM37,15.35,Low Fat,0.161350176,Soft Drinks,196.6768,OUT010,1998,,Tier 3,Grocery Store,591.2304',\n",
       " 'FDN56,5.46,Regular,0.106968096,Fruits and Vegetables,142.6786,OUT013,1987,High,Tier 3,Supermarket Type1,2311.6576',\n",
       " 'DRE60,9.395,Low Fat,0.159582185,Soft Drinks,224.772,OUT049,1999,Medium,Tier 1,Supermarket Type1,7017.532',\n",
       " 'FDW49,,Low Fat,0.14453827,Canned,180.6002,OUT019,1985,Small,Tier 1,Grocery Store,895.501',\n",
       " 'FDM20,10,Low Fat,0.038685802,Fruits and Vegetables,243.8144,OUT046,1997,Small,Tier 1,Supermarket Type1,4655.2736',\n",
       " 'FDK15,,Low Fat,0.172309903,Meat,98.2042,OUT019,1985,Small,Tier 1,Grocery Store,198.4084',\n",
       " 'FDK48,7.445,Low Fat,0.037690731,Baking Goods,73.3354,OUT049,1999,Medium,Tier 1,Supermarket Type1,451.4124',\n",
       " 'FDO49,,Regular,0.05787008,Breakfast,49.7008,OUT019,1985,Small,Tier 1,Grocery Store,50.6008',\n",
       " 'FDC09,15.5,Regular,0.026409147,Fruits and Vegetables,102.1332,OUT018,2009,Medium,Tier 3,Supermarket Type2,615.1992',\n",
       " 'NCZ41,19.85,Low Fat,0.064367627,Health and Hygiene,126.1704,OUT013,1987,High,Tier 3,Supermarket Type1,876.1928',\n",
       " 'FDP19,11.5,Low Fat,0.173516063,Fruits and Vegetables,128.1652,OUT046,1997,Small,Tier 1,Supermarket Type1,2454.1388',\n",
       " 'FDQ24,,Low Fat,0.12898088,Baking Goods,250.4724,OUT019,1985,Small,Tier 1,Grocery Store,251.6724',\n",
       " 'DRL11,10.5,Low Fat,0.048115543,Hard Drinks,159.0946,OUT045,2002,,Tier 2,Supermarket Type1,4102.6596',\n",
       " 'FDO36,19.7,Low Fat,0.077899109,Baking Goods,177.766,OUT035,2004,Small,Tier 2,Supermarket Type1,2696.49',\n",
       " 'FDN52,,Regular,0.13093275,Frozen Foods,86.9198,OUT027,1985,Medium,Tier 3,Supermarket Type3,1569.9564',\n",
       " 'FDF21,10.3,Regular,0.098464979,Fruits and Vegetables,188.653,OUT010,1998,,Tier 3,Grocery Store,189.753',\n",
       " 'FDU40,20.85,Low Fat,0.037372847,Frozen Foods,192.7478,OUT013,1987,High,Tier 3,Supermarket Type1,3099.9648',\n",
       " 'FDS51,13.35,Low Fat,0.032230526,Meat,61.4194,OUT049,1999,Medium,Tier 1,Supermarket Type1,743.0328',\n",
       " 'FDE45,12.1,Low Fat,0.040357315,Fruits and Vegetables,177.8002,OUT046,1997,Small,Tier 1,Supermarket Type1,1611.9018',\n",
       " 'FDX50,20.1,Low Fat,0.07461309,Dairy,108.7228,OUT035,2004,Small,Tier 2,Supermarket Type1,1215.7508',\n",
       " 'NCN14,,Low Fat,0.160936178,Others,184.2608,OUT019,1985,Small,Tier 1,Grocery Store,367.5216',\n",
       " 'FDQ21,21.25,Low Fat,0.019502354,Snack Foods,120.8756,OUT018,2009,Medium,Tier 3,Supermarket Type2,3150.5656',\n",
       " 'FDV57,,Regular,0.065577449,Snack Foods,181.766,OUT027,1985,Medium,Tier 3,Supermarket Type3,7370.406',\n",
       " 'FDB44,6.655,Low Fat,0.016944719,Fruits and Vegetables,209.2586,OUT013,1987,High,Tier 3,Supermarket Type1,2954.8204',\n",
       " 'FDG52,13.65,Low Fat,0.065576228,Frozen Foods,47.7402,OUT013,1987,High,Tier 3,Supermarket Type1,643.1628',\n",
       " 'FDL38,,Regular,0.02579577,Canned,88.4172,OUT019,1985,Small,Tier 1,Grocery Store,89.2172',\n",
       " 'NCS54,13.6,Low Fat,0.010008699,Household,176.737,OUT049,1999,Medium,Tier 1,Supermarket Type1,4940.236',\n",
       " 'DRL37,15.5,Low Fat,0.053362086,Soft Drinks,41.577,OUT035,2004,Small,Tier 2,Supermarket Type1,735.709',\n",
       " 'FDA43,10.895,Low Fat,0.064621927,Fruits and Vegetables,196.6794,OUT013,1987,High,Tier 3,Supermarket Type1,1170.4764',\n",
       " 'FDZ39,19.7,Regular,0.018126724,Meat,101.799,OUT017,2007,,Tier 2,Supermarket Type1,1135.189',\n",
       " 'FDG45,8.1,Low Fat,0,Fruits and Vegetables,211.8902,OUT018,2009,Medium,Tier 3,Supermarket Type2,3823.0236',\n",
       " 'FDH10,21,Low Fat,0.049263979,Snack Foods,195.0478,OUT013,1987,High,Tier 3,Supermarket Type1,1549.9824',\n",
       " 'FDO10,13.65,Regular,0.021343732,Snack Foods,58.3588,OUT010,1998,,Tier 3,Grocery Store,114.5176',\n",
       " 'FDS35,,LF,0.110681931,Breads,63.2826,OUT027,1985,Medium,Tier 3,Supermarket Type3,1033.3216',\n",
       " 'FDI41,,Regular,0.061955439,Frozen Foods,145.1418,OUT027,1985,Medium,Tier 3,Supermarket Type3,4561.3958',\n",
       " 'FDN21,,LF,0.076483451,Snack Foods,163.1236,OUT027,1985,Medium,Tier 3,Supermarket Type3,2416.854',\n",
       " 'NCO18,13.15,Low Fat,0.024701262,Household,176.8686,OUT045,2002,,Tier 2,Supermarket Type1,2133.2232',\n",
       " 'FDB34,15.25,Low Fat,0.02671821,Snack Foods,85.2198,OUT018,2009,Medium,Tier 3,Supermarket Type2,1482.7366',\n",
       " 'FDD05,19.35,Low Fat,0.016597651,Frozen Foods,121.5098,OUT013,1987,High,Tier 3,Supermarket Type1,2892.2352',\n",
       " 'FDX59,,Low Fat,0.0514111,Breads,33.0558,OUT027,1985,Medium,Tier 3,Supermarket Type3,984.7182',\n",
       " 'FDZ23,17.75,Regular,0.112985849,Baking Goods,185.424,OUT010,1998,,Tier 3,Grocery Store,745.696',\n",
       " 'FDX27,20.7,Regular,0.11411709,Dairy,92.7436,OUT046,1997,Small,Tier 1,Supermarket Type1,1323.6104',\n",
       " 'FDV07,9.5,Low Fat,0,Fruits and Vegetables,110.4228,OUT017,2007,,Tier 2,Supermarket Type1,1547.3192',\n",
       " 'FDR14,11.65,Low Fat,0.175033524,Dairy,55.5298,OUT017,2007,,Tier 2,Supermarket Type1,647.1576',\n",
       " 'FDO01,21.1,Regular,0.020760673,Breakfast,128.7994,OUT045,2002,,Tier 2,Supermarket Type1,1798.9916',\n",
       " 'FDO13,7.865,Low Fat,0.061405051,Breakfast,166.3526,OUT017,2007,,Tier 2,Supermarket Type1,1973.4312',\n",
       " 'FDU25,12.35,Low Fat,0.026676216,Canned,57.0246,OUT035,2004,Small,Tier 2,Supermarket Type1,1737.738',\n",
       " 'NCK54,,Low Fat,0.029380407,Household,114.715,OUT027,1985,Medium,Tier 3,Supermarket Type3,1864.24',\n",
       " 'FDZ56,16.25,Low Fat,0.025715562,Fruits and Vegetables,168.1474,OUT013,1987,High,Tier 3,Supermarket Type1,1516.0266',\n",
       " 'NCL55,12.15,Low Fat,0.065026434,Others,253.704,OUT017,2007,,Tier 2,Supermarket Type1,5060.08',\n",
       " 'FDD59,10.5,Regular,0.066315023,Starchy Foods,78.296,OUT045,2002,,Tier 2,Supermarket Type1,2157.192',\n",
       " 'FDJ55,12.8,Regular,0.023664054,Meat,226.0404,OUT017,2007,,Tier 2,Supermarket Type1,5400.9696',\n",
       " 'FDA45,,Low Fat,0.154627247,Snack Foods,177.637,OUT027,1985,Medium,Tier 3,Supermarket Type3,5469.547',\n",
       " 'DRF23,4.61,Low Fat,0.205294827,Hard Drinks,172.8396,OUT010,1998,,Tier 3,Grocery Store,174.4396',\n",
       " 'FDT49,7,Low Fat,0.152261999,Canned,105.728,OUT017,2007,,Tier 2,Supermarket Type1,1278.336',\n",
       " 'NCO17,10,Low Fat,0,Health and Hygiene,120.644,OUT035,2004,Small,Tier 2,Supermarket Type1,1917.504',\n",
       " 'FDH22,6.405,Low Fat,0.136275173,Snack Foods,128.1678,OUT035,2004,Small,Tier 2,Supermarket Type1,1017.3424',\n",
       " 'FDT34,9.3,Low Fat,0.174621343,Snack Foods,104.2964,OUT049,1999,Medium,Tier 1,Supermarket Type1,1998.7316',\n",
       " 'FDB39,11.6,Low Fat,0.038597077,Dairy,57.9272,OUT045,2002,,Tier 2,Supermarket Type1,615.1992',\n",
       " 'FDQ22,16.75,Low Fat,0.029799965,Snack Foods,39.1822,OUT045,2002,,Tier 2,Supermarket Type1,314.2576',\n",
       " 'NCN43,12.15,Low Fat,0.011314423,Others,122.973,OUT010,1998,,Tier 3,Grocery Store,123.173',\n",
       " 'FDG57,14.7,Low Fat,0.072410764,Fruits and Vegetables,48.2034,OUT049,1999,Medium,Tier 1,Supermarket Type1,1020.6714',\n",
       " 'FDR20,20,Regular,0.028118435,Fruits and Vegetables,46.7744,OUT035,2004,Small,Tier 2,Supermarket Type1,1222.4088',\n",
       " 'FDU22,,Low Fat,0.163350221,Snack Foods,120.2124,OUT019,1985,Small,Tier 1,Grocery Store,474.0496',\n",
       " 'NCC43,7.39,Low Fat,0.093307713,Household,250.9066,OUT017,2007,,Tier 2,Supermarket Type1,1506.0396',\n",
       " 'FDP01,20.75,Regular,0.105994654,Breakfast,150.5682,OUT010,1998,,Tier 3,Grocery Store,762.341',\n",
       " 'FDF52,9.3,Low Fat,0.067055339,Frozen Foods,184.2292,OUT018,2009,Medium,Tier 3,Supermarket Type2,1277.0044',\n",
       " 'FDZ33,10.195,Low Fat,0.107376743,Snack Foods,147.6076,OUT035,2004,Small,Tier 2,Supermarket Type1,3547.3824',\n",
       " 'FDP48,,Regular,0.043810028,Baking Goods,181.395,OUT027,1985,Medium,Tier 3,Supermarket Type3,6042.135',\n",
       " 'FDW56,7.68,Low Fat,0.118672537,Fruits and Vegetables,192.2162,OUT010,1998,,Tier 3,Grocery Store,384.8324',\n",
       " 'FDC26,10.195,Low Fat,0.126897925,Canned,110.6886,OUT018,2009,Medium,Tier 3,Supermarket Type2,1223.0746',\n",
       " 'FDF34,9.3,Regular,0.014076503,Snack Foods,200.0084,OUT018,2009,Medium,Tier 3,Supermarket Type2,2182.4924',\n",
       " 'FDJ33,8.895,Regular,0.088305478,Snack Foods,123.473,OUT035,2004,Small,Tier 2,Supermarket Type1,1478.076',\n",
       " 'FDD04,16,Low Fat,0.090153756,Dairy,143.2154,OUT045,2002,,Tier 2,Supermarket Type1,1418.154',\n",
       " 'NCJ31,19.2,Low Fat,0.182501773,Others,239.2196,OUT013,1987,High,Tier 3,Supermarket Type1,5061.4116',\n",
       " 'FDO57,20.75,Low Fat,0.108710162,Snack Foods,161.7578,OUT046,1997,Small,Tier 1,Supermarket Type1,2888.2404',\n",
       " 'FDM36,,Regular,0.058446424,Baking Goods,172.1422,OUT027,1985,Medium,Tier 3,Supermarket Type3,5518.1504',\n",
       " 'NCY05,13.5,Low Fat,0.054990009,Health and Hygiene,35.2874,OUT046,1997,Small,Tier 1,Supermarket Type1,741.0354',\n",
       " 'FDS44,,Regular,0.15528831,Fruits and Vegetables,241.7538,OUT027,1985,Medium,Tier 3,Supermarket Type3,9133.4444',\n",
       " 'FDZ39,19.7,Regular,0.018021361,Meat,101.199,OUT035,2004,Small,Tier 2,Supermarket Type1,1857.582',\n",
       " 'NCM31,6.095,Low Fat,0.0816559,Others,143.3154,OUT017,2007,,Tier 2,Supermarket Type1,2836.308',\n",
       " 'DRK11,8.21,Low Fat,0.010755465,Hard Drinks,150.8392,OUT013,1987,High,Tier 3,Supermarket Type1,2982.784',\n",
       " 'FDO34,17.7,Low Fat,0.050111641,Snack Foods,165.9816,OUT010,1998,,Tier 3,Grocery Store,167.7816',\n",
       " 'NCL30,18.1,Low Fat,0.048931174,Household,127.3336,OUT035,2004,Small,Tier 2,Supermarket Type1,1150.5024',\n",
       " 'FDK28,5.695,Low Fat,0.065960909,Frozen Foods,259.2646,OUT017,2007,,Tier 2,Supermarket Type1,9275.9256',\n",
       " 'DRJ39,20.25,Low Fat,0.036319195,Dairy,219.3482,OUT035,2004,Small,Tier 2,Supermarket Type1,5038.1086',\n",
       " ...]"
      ]
     },
     "metadata": {
      "application/vnd.databricks.v1+output": {
       "addedWidgets": {},
       "arguments": {},
       "data": "Out[7]: ['Item_Identifier,Item_Weight,Item_Fat_Content,Item_Visibility,Item_Type,Item_MRP,Outlet_Identifier,Outlet_Establishment_Year,Outlet_Size,Outlet_Location_Type,Outlet_Type,Item_Outlet_Sales',\n 'FDA15,9.3,Low Fat,0.016047301,Dairy,249.8092,OUT049,1999,Medium,Tier 1,Supermarket Type1,3735.138',\n 'DRC01,5.92,Regular,0.019278216,Soft Drinks,48.2692,OUT018,2009,Medium,Tier 3,Supermarket Type2,443.4228',\n 'FDN15,17.5,Low Fat,0.016760075,Meat,141.618,OUT049,1999,Medium,Tier 1,Supermarket Type1,2097.27',\n 'FDX07,19.2,Regular,0,Fruits and Vegetables,182.095,OUT010,1998,,Tier 3,Grocery Store,732.38',\n 'NCD19,8.93,Low Fat,0,Household,53.8614,OUT013,1987,High,Tier 3,Supermarket Type1,994.7052',\n 'FDP36,10.395,Regular,0,Baking Goods,51.4008,OUT018,2009,Medium,Tier 3,Supermarket Type2,556.6088',\n 'FDO10,13.65,Regular,0.012741089,Snack Foods,57.6588,OUT013,1987,High,Tier 3,Supermarket Type1,343.5528',\n 'FDP10,,Low Fat,0.127469857,Snack Foods,107.7622,OUT027,1985,Medium,Tier 3,Supermarket Type3,4022.7636',\n 'FDH17,16.2,Regular,0.016687114,Frozen Foods,96.9726,OUT045,2002,,Tier 2,Supermarket Type1,1076.5986',\n 'FDU28,19.2,Regular,0.09444959,Frozen Foods,187.8214,OUT017,2007,,Tier 2,Supermarket Type1,4710.535',\n 'FDY07,11.8,Low Fat,0,Fruits and Vegetables,45.5402,OUT049,1999,Medium,Tier 1,Supermarket Type1,1516.0266',\n 'FDA03,18.5,Regular,0.045463773,Dairy,144.1102,OUT046,1997,Small,Tier 1,Supermarket Type1,2187.153',\n 'FDX32,15.1,Regular,0.1000135,Fruits and Vegetables,145.4786,OUT049,1999,Medium,Tier 1,Supermarket Type1,1589.2646',\n 'FDS46,17.6,Regular,0.047257328,Snack Foods,119.6782,OUT046,1997,Small,Tier 1,Supermarket Type1,2145.2076',\n 'FDF32,16.35,Low Fat,0.0680243,Fruits and Vegetables,196.4426,OUT013,1987,High,Tier 3,Supermarket Type1,1977.426',\n 'FDP49,9,Regular,0.069088961,Breakfast,56.3614,OUT046,1997,Small,Tier 1,Supermarket Type1,1547.3192',\n 'NCB42,11.8,Low Fat,0.008596051,Health and Hygiene,115.3492,OUT018,2009,Medium,Tier 3,Supermarket Type2,1621.8888',\n 'FDP49,9,Regular,0.069196376,Breakfast,54.3614,OUT049,1999,Medium,Tier 1,Supermarket Type1,718.3982',\n 'DRI11,,Low Fat,0.034237682,Hard Drinks,113.2834,OUT027,1985,Medium,Tier 3,Supermarket Type3,2303.668',\n 'FDU02,13.35,Low Fat,0.10249212,Dairy,230.5352,OUT035,2004,Small,Tier 2,Supermarket Type1,2748.4224',\n 'FDN22,18.85,Regular,0.138190277,Snack Foods,250.8724,OUT013,1987,High,Tier 3,Supermarket Type1,3775.086',\n 'FDW12,,Regular,0.035399923,Baking Goods,144.5444,OUT027,1985,Medium,Tier 3,Supermarket Type3,4064.0432',\n 'NCB30,14.6,Low Fat,0.025698134,Household,196.5084,OUT035,2004,Small,Tier 2,Supermarket Type1,1587.2672',\n 'FDC37,,Low Fat,0.057556998,Baking Goods,107.6938,OUT019,1985,Small,Tier 1,Grocery Store,214.3876',\n 'FDR28,13.85,Regular,0.025896485,Frozen Foods,165.021,OUT046,1997,Small,Tier 1,Supermarket Type1,4078.025',\n 'NCD06,13,Low Fat,0.099887103,Household,45.906,OUT017,2007,,Tier 2,Supermarket Type1,838.908',\n 'FDV10,7.645,Regular,0.066693437,Snack Foods,42.3112,OUT035,2004,Small,Tier 2,Supermarket Type1,1065.28',\n 'DRJ59,11.65,low fat,0.019356132,Hard Drinks,39.1164,OUT013,1987,High,Tier 3,Supermarket Type1,308.9312',\n 'FDE51,5.925,Regular,0.161466534,Dairy,45.5086,OUT010,1998,,Tier 3,Grocery Store,178.4344',\n 'FDC14,,Regular,0.072221801,Canned,43.6454,OUT019,1985,Small,Tier 1,Grocery Store,125.8362',\n 'FDV38,19.25,Low Fat,0.170348551,Dairy,55.7956,OUT010,1998,,Tier 3,Grocery Store,163.7868',\n 'NCS17,18.6,Low Fat,0.080829372,Health and Hygiene,96.4436,OUT018,2009,Medium,Tier 3,Supermarket Type2,2741.7644',\n 'FDP33,18.7,Low Fat,0,Snack Foods,256.6672,OUT018,2009,Medium,Tier 3,Supermarket Type2,3068.0064',\n 'FDO23,17.85,Low Fat,0,Breads,93.1436,OUT045,2002,,Tier 2,Supermarket Type1,2174.5028',\n 'DRH01,17.5,Low Fat,0.097904029,Soft Drinks,174.8738,OUT046,1997,Small,Tier 1,Supermarket Type1,2085.2856',\n 'NCX29,10,Low Fat,0.089291137,Health and Hygiene,146.7102,OUT049,1999,Medium,Tier 1,Supermarket Type1,3791.0652',\n 'FDV20,,Regular,0.059511812,Fruits and Vegetables,128.0678,OUT027,1985,Medium,Tier 3,Supermarket Type3,2797.6916',\n 'DRZ11,8.85,Regular,0.113123893,Soft Drinks,122.5388,OUT018,2009,Medium,Tier 3,Supermarket Type2,1609.9044',\n 'FDX10,,Regular,0.123111453,Snack Foods,36.9874,OUT027,1985,Medium,Tier 3,Supermarket Type3,388.1614',\n 'FDB34,,Low Fat,0.026480954,Snack Foods,87.6198,OUT027,1985,Medium,Tier 3,Supermarket Type3,2180.495',\n 'FDU02,13.35,Low Fat,0.102511504,Dairy,230.6352,OUT046,1997,Small,Tier 1,Supermarket Type1,3435.528',\n 'FDK43,9.8,Low Fat,0.02681843,Meat,126.002,OUT013,1987,High,Tier 3,Supermarket Type1,2150.534',\n 'FDA46,13.6,Low Fat,0.117818348,Snack Foods,192.9136,OUT049,1999,Medium,Tier 1,Supermarket Type1,2527.3768',\n 'FDC02,21.35,Low Fat,0.069102831,Canned,259.9278,OUT018,2009,Medium,Tier 3,Supermarket Type2,6768.5228',\n 'FDL50,12.15,Regular,0.042277867,Canned,126.5046,OUT013,1987,High,Tier 3,Supermarket Type1,373.5138',\n 'FDM39,6.42,LF,0.089498926,Dairy,178.1002,OUT010,1998,,Tier 3,Grocery Store,358.2004',\n 'NCP05,19.6,Low Fat,0,Health and Hygiene,153.3024,OUT045,2002,,Tier 2,Supermarket Type1,2428.8384',\n 'FDV49,10,Low Fat,0.025879577,Canned,265.2226,OUT045,2002,,Tier 2,Supermarket Type1,5815.0972',\n 'FDL12,15.85,Regular,0.121632721,Baking Goods,60.622,OUT046,1997,Small,Tier 1,Supermarket Type1,2576.646',\n 'FDS02,,Regular,0.255394896,Dairy,196.8794,OUT019,1985,Small,Tier 1,Grocery Store,780.3176',\n 'NCL17,7.39,Low Fat,0.067779712,Health and Hygiene,143.8812,OUT046,1997,Small,Tier 1,Supermarket Type1,3134.5864',\n 'FDM40,10.195,Low Fat,0.159803853,Frozen Foods,141.5154,OUT013,1987,High,Tier 3,Supermarket Type1,850.8924',\n 'FDR13,9.895,Regular,0.028696932,Canned,117.0492,OUT013,1987,High,Tier 3,Supermarket Type1,810.9444',\n 'FDA43,10.895,Low Fat,0.065041581,Fruits and Vegetables,196.3794,OUT017,2007,,Tier 2,Supermarket Type1,3121.2704',\n 'NCP18,12.15,Low Fat,0.028760013,Household,151.4708,OUT017,2007,,Tier 2,Supermarket Type1,4815.0656',\n 'FDK21,7.905,Low Fat,0.010053105,Snack Foods,249.0408,OUT018,2009,Medium,Tier 3,Supermarket Type2,6258.52',\n 'NCX54,9.195,Low Fat,0.048157338,Household,106.1622,OUT045,2002,,Tier 2,Supermarket Type1,2117.244',\n 'DRK35,8.365,Low Fat,0.071958197,Hard Drinks,38.0506,OUT049,1999,Medium,Tier 1,Supermarket Type1,796.9626',\n 'FDY21,15.1,Low Fat,0.173481304,Snack Foods,194.511,OUT046,1997,Small,Tier 1,Supermarket Type1,4910.275',\n 'FDI26,,Low Fat,0.061082177,Canned,180.0344,OUT019,1985,Small,Tier 1,Grocery Store,892.172',\n 'FDM20,10,Low Fat,0,Fruits and Vegetables,246.9144,OUT018,2009,Medium,Tier 3,Supermarket Type2,3185.1872',\n 'FDV27,7.97,Regular,0.040071131,Meat,87.3514,OUT045,2002,,Tier 2,Supermarket Type1,1062.6168',\n 'FDF09,,Low Fat,0.012090074,Fruits and Vegetables,38.2848,OUT027,1985,Medium,Tier 3,Supermarket Type3,484.7024',\n 'FDY40,,Regular,0.15028599,Frozen Foods,51.0692,OUT019,1985,Small,Tier 1,Grocery Store,147.8076',\n 'FDY45,,Low Fat,0.026015519,Snack Foods,255.8356,OUT027,1985,Medium,Tier 3,Supermarket Type3,2543.356',\n 'FDC46,17.7,LF,0.195068226,Snack Foods,185.4266,OUT010,1998,,Tier 3,Grocery Store,184.4266',\n 'FDH19,19.35,Low Fat,0.033082215,Meat,172.5738,OUT035,2004,Small,Tier 2,Supermarket Type1,4865.6664',\n 'FDZ03,13.65,Regular,0.078946455,Dairy,186.024,OUT045,2002,,Tier 2,Supermarket Type1,1118.544',\n 'DRH37,17.6,Low Fat,0.041700756,Soft Drinks,164.8526,OUT045,2002,,Tier 2,Supermarket Type1,2302.3364',\n 'NCI17,8.645,Low Fat,0.143422643,Health and Hygiene,95.841,OUT046,1997,Small,Tier 1,Supermarket Type1,2027.361',\n 'FDJ58,15.6,Regular,0.105296072,Snack Foods,170.1764,OUT046,1997,Small,Tier 1,Supermarket Type1,3435.528',\n 'FDL12,15.85,Regular,0.121531501,Baking Goods,59.222,OUT013,1987,High,Tier 3,Supermarket Type1,599.22',\n 'FDH35,18.25,Low Fat,0,Starchy Foods,164.7526,OUT045,2002,,Tier 2,Supermarket Type1,4604.6728',\n 'FDG02,7.855,Low Fat,0.011324862,Canned,189.6188,OUT017,2007,,Tier 2,Supermarket Type1,2285.0256',\n 'NCZ18,7.825,low fat,0.186357148,Household,254.3698,OUT049,1999,Medium,Tier 1,Supermarket Type1,5580.7356',\n 'FDC29,8.39,Regular,0.024205661,Frozen Foods,114.0176,OUT046,1997,Small,Tier 1,Supermarket Type1,2290.352',\n 'FDQ10,12.85,Low Fat,0.033230816,Snack Foods,172.3422,OUT049,1999,Medium,Tier 1,Supermarket Type1,1207.0954',\n 'FDN48,,Low Fat,0.113720344,Baking Goods,89.9804,OUT019,1985,Small,Tier 1,Grocery Store,643.1628',\n 'FDL04,19,Low Fat,0.112556507,Frozen Foods,104.9622,OUT017,2007,,Tier 2,Supermarket Type1,1587.933',\n 'FDV25,5.905,Low Fat,0,Canned,222.5456,OUT045,2002,,Tier 2,Supermarket Type1,5305.0944',\n 'FDD58,7.76,Low Fat,0.059352241,Snack Foods,101.87,OUT046,1997,Small,Tier 1,Supermarket Type1,1697.79',\n 'FDN04,11.8,reg,0.014087057,Frozen Foods,180.3344,OUT046,1997,Small,Tier 1,Supermarket Type1,1427.4752',\n 'FDV45,16.75,low fat,0.045230944,Snack Foods,187.9556,OUT018,2009,Medium,Tier 3,Supermarket Type2,4693.89',\n 'NCL18,,Low Fat,0.293417759,Household,194.6136,OUT019,1985,Small,Tier 1,Grocery Store,583.2408',\n 'FDR12,,Regular,0.031382044,Baking Goods,171.3764,OUT027,1985,Medium,Tier 3,Supermarket Type3,3091.9752',\n 'FDG20,15.5,Regular,0.12639886,Fruits and Vegetables,177.0028,OUT017,2007,,Tier 2,Supermarket Type1,2479.4392',\n 'FDZ55,6.055,Low Fat,0.025403898,Fruits and Vegetables,160.992,OUT035,2004,Small,Tier 2,Supermarket Type1,2716.464',\n 'FDQ49,,Regular,0.039057677,Breakfast,155.963,OUT027,1985,Medium,Tier 3,Supermarket Type3,3285.723',\n 'FDN33,6.305,Regular,0.123115764,Snack Foods,95.6436,OUT046,1997,Small,Tier 1,Supermarket Type1,661.8052',\n 'FDN27,20.85,Low Fat,0.039624006,Meat,117.2808,OUT049,1999,Medium,Tier 1,Supermarket Type1,1523.3504',\n 'FDW20,20.75,Low Fat,0.040421193,Fruits and Vegetables,122.173,OUT010,1998,,Tier 3,Grocery Store,369.519',\n 'DRG27,8.895,Low Fat,0.105274111,Dairy,39.9138,OUT049,1999,Medium,Tier 1,Supermarket Type1,690.4346',\n 'DRI25,19.6,Low Fat,0.033970195,Soft Drinks,55.1614,OUT045,2002,,Tier 2,Supermarket Type1,1381.535',\n 'FDA44,19.7,Low Fat,0.053212652,Fruits and Vegetables,57.893,OUT035,2004,Small,Tier 2,Supermarket Type1,622.523',\n 'NCR17,9.8,Low Fat,0.024378706,Health and Hygiene,114.5492,OUT035,2004,Small,Tier 2,Supermarket Type1,1274.3412',\n 'FDU04,,Low Fat,0.009714595,Frozen Foods,120.0414,OUT019,1985,Small,Tier 1,Grocery Store,487.3656',\n 'FDF41,12.15,Low Fat,0.131383762,Frozen Foods,246.046,OUT049,1999,Medium,Tier 1,Supermarket Type1,1231.73',\n 'FDB56,8.75,Regular,0.07461309,Fruits and Vegetables,187.4556,OUT035,2004,Small,Tier 2,Supermarket Type1,3755.112',\n 'NCP18,,Low Fat,0.028459761,Household,149.9708,OUT027,1985,Medium,Tier 3,Supermarket Type3,4363.6532',\n 'FDB56,8.75,Regular,0.074627201,Fruits and Vegetables,187.8556,OUT046,1997,Small,Tier 1,Supermarket Type1,1314.2892',\n 'FDT28,13.3,Low Fat,0.063695084,Frozen Foods,151.0708,OUT045,2002,,Tier 2,Supermarket Type1,1805.6496',\n 'FDD10,,Regular,0.045797829,Snack Foods,178.5344,OUT027,1985,Medium,Tier 3,Supermarket Type3,2854.9504',\n 'FDW57,8.31,Regular,0.115857223,Snack Foods,179.1028,OUT049,1999,Medium,Tier 1,Supermarket Type1,3896.2616',\n 'DRB48,16.75,Regular,0.024832806,Soft Drinks,38.7822,OUT013,1987,High,Tier 3,Supermarket Type1,667.7974',\n 'FDP09,19.75,Low Fat,0.034027909,Snack Foods,212.0902,OUT018,2009,Medium,Tier 3,Supermarket Type2,3185.853',\n 'FDH14,17.1,Regular,0.0467696,Canned,141.1838,OUT013,1987,High,Tier 3,Supermarket Type1,2247.7408',\n 'FDA47,10.5,Regular,0.116576702,Baking Goods,163.121,OUT013,1987,High,Tier 3,Supermarket Type1,1794.331',\n 'FDG12,6.635,Regular,0,Baking Goods,121.3098,OUT045,2002,,Tier 2,Supermarket Type1,2530.7058',\n 'DRE60,,low fat,0.278974075,Soft Drinks,225.372,OUT019,1985,Small,Tier 1,Grocery Store,679.116',\n 'DRK49,14.15,Low Fat,0.035913805,Soft Drinks,41.4138,OUT013,1987,High,Tier 3,Supermarket Type1,812.276',\n 'FDD03,13.3,Low Fat,0.079806266,Dairy,232.53,OUT046,1997,Small,Tier 1,Supermarket Type1,699.09',\n 'FDS52,8.89,low fat,0.005505481,Frozen Foods,102.4016,OUT017,2007,,Tier 2,Supermarket Type1,2732.4432',\n 'FDW39,,Regular,0.064625342,Meat,176.937,OUT019,1985,Small,Tier 1,Grocery Store,176.437',\n 'FDX34,,Low Fat,0.071636937,Snack Foods,121.7098,OUT027,1985,Medium,Tier 3,Supermarket Type3,4097.3332',\n 'FDV11,9.1,Regular,0,Breads,173.2054,OUT045,2002,,Tier 2,Supermarket Type1,3151.8972',\n 'FDD17,7.5,Low Fat,0.032677678,Frozen Foods,239.0906,OUT049,1999,Medium,Tier 1,Supermarket Type1,5942.265',\n 'FDZ16,16.85,Regular,0.160760054,Frozen Foods,192.4478,OUT017,2007,,Tier 2,Supermarket Type1,4843.695',\n 'FDZ46,7.485,Low Fat,0.06911065,Snack Foods,109.0228,OUT035,2004,Small,Tier 2,Supermarket Type1,2542.0244',\n 'DRA12,11.6,Low Fat,0.041177505,Soft Drinks,140.3154,OUT017,2007,,Tier 2,Supermarket Type1,2552.6772',\n 'FDY58,11.65,Low Fat,0.040081193,Snack Foods,227.0694,OUT018,2009,Medium,Tier 3,Supermarket Type2,1141.847',\n 'NCF19,13,Low Fat,0.035307322,Household,47.5034,OUT017,2007,,Tier 2,Supermarket Type1,680.4476',\n 'DRJ13,12.65,LF,0.063017847,Soft Drinks,159.0578,OUT045,2002,,Tier 2,Supermarket Type1,2085.9514',\n 'FDB14,20.25,Regular,0.171938781,Canned,92.512,OUT010,1998,,Tier 3,Grocery Store,186.424',\n 'FDJ38,8.6,Regular,0.040197932,Canned,190.153,OUT035,2004,Small,Tier 2,Supermarket Type1,3036.048',\n 'FDW11,12.6,Low Fat,0.049058014,Breads,62.7194,OUT017,2007,,Tier 2,Supermarket Type1,866.8716',\n 'FDL40,17.7,Low Fat,0.01161096,Frozen Foods,95.041,OUT035,2004,Small,Tier 2,Supermarket Type1,868.869',\n 'DRI49,14.15,Low Fat,0.183507295,Soft Drinks,82.4276,OUT046,1997,Small,Tier 1,Supermarket Type1,1137.1864',\n 'FDV38,19.25,Low Fat,0.102349519,Dairy,52.7956,OUT017,2007,,Tier 2,Supermarket Type1,928.1252',\n 'DRG23,8.88,Low Fat,0.086708987,Hard Drinks,151.7682,OUT013,1987,High,Tier 3,Supermarket Type1,762.341',\n 'NCP30,20.5,Low Fat,0.032835147,Household,40.2822,OUT045,2002,,Tier 2,Supermarket Type1,707.0796',\n 'FDY25,,Low Fat,0.033809913,Canned,180.5976,OUT027,1985,Medium,Tier 3,Supermarket Type3,7968.2944',\n 'NCH54,13.5,Low Fat,0.07266912,Household,160.292,OUT046,1997,Small,Tier 1,Supermarket Type1,1438.128',\n 'NCR53,,Low Fat,0.144338493,Health and Hygiene,224.4404,OUT027,1985,Medium,Tier 3,Supermarket Type3,6976.2524',\n 'FDS52,8.89,Low Fat,0.009163216,Frozen Foods,101.7016,OUT010,1998,,Tier 3,Grocery Store,101.2016',\n 'FDG02,7.855,Low Fat,0.011307038,Canned,188.5188,OUT018,2009,Medium,Tier 3,Supermarket Type2,952.094',\n 'NCO26,7.235,Low Fat,0.076855628,Household,116.0492,OUT046,1997,Small,Tier 1,Supermarket Type1,1969.4364',\n 'FDH35,,Low Fat,0.059956876,Starchy Foods,165.4526,OUT027,1985,Medium,Tier 3,Supermarket Type3,5262.4832',\n 'FDB51,6.92,Low Fat,0.038532062,Dairy,60.5852,OUT045,2002,,Tier 2,Supermarket Type1,1314.2892',\n 'FDX44,9.3,Low Fat,0.043209581,Fruits and Vegetables,90.8172,OUT017,2007,,Tier 2,Supermarket Type1,535.3032',\n 'NCN07,18.5,Low Fat,0.056816465,Others,132.1284,OUT010,1998,,Tier 3,Grocery Store,263.6568',\n 'NCC31,8.02,Low Fat,0.019866705,Household,154.5972,OUT035,2004,Small,Tier 2,Supermarket Type1,1402.1748',\n 'NCX54,9.195,Low Fat,0.048331717,Household,105.1622,OUT017,2007,,Tier 2,Supermarket Type1,1693.7952',\n 'NCO55,12.8,Low Fat,0.091221855,Others,105.5938,OUT045,2002,,Tier 2,Supermarket Type1,2143.876',\n 'NCC30,16.6,Low Fat,0.027622076,Household,177.6344,OUT049,1999,Medium,Tier 1,Supermarket Type1,2676.516',\n 'FDI16,14,Regular,0,Frozen Foods,53.064,OUT035,2004,Small,Tier 2,Supermarket Type1,905.488',\n 'FDP16,18.6,Low Fat,0.039355947,Frozen Foods,246.3802,OUT049,1999,Medium,Tier 1,Supermarket Type1,7370.406',\n 'FDB11,16,Low Fat,0.060836524,Starchy Foods,226.8404,OUT035,2004,Small,Tier 2,Supermarket Type1,6301.1312',\n 'NCB06,17.6,Low Fat,0.082316506,Health and Hygiene,160.692,OUT035,2004,Small,Tier 2,Supermarket Type1,1597.92',\n 'FDA45,21.25,Low Fat,0.155350299,Snack Foods,178.237,OUT035,2004,Small,Tier 2,Supermarket Type1,529.311',\n 'NCO26,7.235,Low Fat,0.076841095,Household,117.5492,OUT035,2004,Small,Tier 2,Supermarket Type1,1969.4364',\n 'DRJ25,14.6,Low Fat,0.151419185,Soft Drinks,50.3692,OUT017,2007,,Tier 2,Supermarket Type1,1034.6532',\n 'FDR28,13.85,reg,0.026001976,Frozen Foods,161.521,OUT018,2009,Medium,Tier 3,Supermarket Type2,1794.331',\n 'FDI04,13.65,Regular,0.073209447,Frozen Foods,197.6426,OUT018,2009,Medium,Tier 3,Supermarket Type2,2768.3964',\n 'DRK12,,Low Fat,0.041683481,Soft Drinks,31.29,OUT027,1985,Medium,Tier 3,Supermarket Type3,898.83',\n 'FDX20,7.365,Low Fat,0.042560252,Fruits and Vegetables,226.172,OUT046,1997,Small,Tier 1,Supermarket Type1,3169.208',\n 'NCI18,18.35,Low Fat,0.014081156,Household,223.5746,OUT018,2009,Medium,Tier 3,Supermarket Type2,3589.9936',\n 'FDB36,5.465,Regular,0,Baking Goods,132.5626,OUT018,2009,Medium,Tier 3,Supermarket Type2,262.3252',\n 'FDN13,18.6,Low Fat,0.152918384,Breakfast,99.8358,OUT017,2007,,Tier 2,Supermarket Type1,1910.1802',\n 'DRD24,13.85,Low Fat,0.030969274,Soft Drinks,140.9154,OUT017,2007,,Tier 2,Supermarket Type1,1701.7848',\n 'FDQ28,14,Regular,0.060376776,Frozen Foods,154.5656,OUT013,1987,High,Tier 3,Supermarket Type1,2471.4496',\n 'FDM22,14,Regular,0.04192285,Snack Foods,54.764,OUT013,1987,High,Tier 3,Supermarket Type1,1331.6',\n 'FDR07,,Low Fat,0.077367431,Fruits and Vegetables,97.0094,OUT027,1985,Medium,Tier 3,Supermarket Type3,1808.9786',\n 'FDV25,5.905,Low Fat,0.045838211,Canned,222.5456,OUT018,2009,Medium,Tier 3,Supermarket Type2,3315.684',\n 'DRF49,7.27,Low Fat,0.071077939,Soft Drinks,114.2518,OUT046,1997,Small,Tier 1,Supermarket Type1,2618.5914',\n 'FDW51,6.155,Regular,0.094659871,Meat,214.556,OUT046,1997,Small,Tier 1,Supermarket Type1,2769.728',\n 'DRL01,19.5,Regular,0.077608838,Soft Drinks,233.4958,OUT017,2007,,Tier 2,Supermarket Type1,5375.0034',\n 'FDP25,15.2,Low Fat,0.021327477,Canned,216.8824,OUT017,2007,,Tier 2,Supermarket Type1,2838.9712',\n 'FDL50,12.15,Regular,0.042485444,Canned,125.0046,OUT018,2009,Medium,Tier 3,Supermarket Type2,1743.0644',\n 'NCB30,,Low Fat,0.025578526,Household,198.8084,OUT027,1985,Medium,Tier 3,Supermarket Type3,5555.4352',\n 'FDW11,12.6,Low Fat,0.0489808,Breads,61.9194,OUT018,2009,Medium,Tier 3,Supermarket Type2,619.194',\n 'NCM43,14.5,Low Fat,0.019471688,Others,164.821,OUT035,2004,Small,Tier 2,Supermarket Type1,2120.573',\n 'FDK44,16.6,Low Fat,0.122918852,Fruits and Vegetables,173.0738,OUT017,2007,,Tier 2,Supermarket Type1,3823.0236',\n 'FDM15,11.8,Regular,0.057373797,Meat,151.4366,OUT013,1987,High,Tier 3,Supermarket Type1,1360.2294',\n 'FDS31,13.1,Regular,0.044155597,Fruits and Vegetables,178.8318,OUT013,1987,High,Tier 3,Supermarket Type1,3969.4996',\n 'FDI32,17.7,Low Fat,0.291865402,Fruits and Vegetables,115.1834,OUT010,1998,,Tier 3,Grocery Store,345.5502',\n 'FDR47,17.85,LF,0,Breads,196.5794,OUT010,1998,,Tier 3,Grocery Store,585.2382',\n 'FDB35,12.3,Regular,0.064750025,Starchy Foods,92.6804,OUT045,2002,,Tier 2,Supermarket Type1,1010.6844',\n 'NCU05,11.8,Low Fat,0.098312421,Health and Hygiene,81.4618,OUT010,1998,,Tier 3,Grocery Store,161.1236',\n 'DRY23,,Regular,0.191013663,Soft Drinks,42.1112,OUT019,1985,Small,Tier 1,Grocery Store,42.6112',\n 'FDO24,11.1,Low Fat,0.176573035,Baking Goods,157.4604,OUT045,2002,,Tier 2,Supermarket Type1,3010.7476',\n 'FDQ28,,Regular,0.060134441,Frozen Foods,153.0656,OUT027,1985,Medium,Tier 3,Supermarket Type3,6024.1584',\n 'FDV39,11.3,Low Fat,0.007294652,Meat,198.1426,OUT045,2002,,Tier 2,Supermarket Type1,988.713',\n 'NCO17,,Low Fat,0.128478462,Health and Hygiene,117.944,OUT019,1985,Small,Tier 1,Grocery Store,239.688',\n 'FDU50,5.75,Regular,0.075107656,Dairy,112.8176,OUT013,1987,High,Tier 3,Supermarket Type1,1374.2112',\n 'FDT12,,Regular,0.049381406,Baking Goods,226.8062,OUT027,1985,Medium,Tier 3,Supermarket Type3,4739.8302',\n 'FDK58,11.35,Regular,0.045165796,Snack Foods,100.0016,OUT018,2009,Medium,Tier 3,Supermarket Type2,1012.016',\n 'FDO08,,Regular,0.09415375,Fruits and Vegetables,165.7526,OUT019,1985,Small,Tier 1,Grocery Store,657.8104',\n 'NCW29,14,Low Fat,0.028907832,Health and Hygiene,130.431,OUT049,1999,Medium,Tier 1,Supermarket Type1,778.986',\n 'FDE04,19.75,Regular,0.018059621,Frozen Foods,179.766,OUT045,2002,,Tier 2,Supermarket Type1,2336.958',\n 'NCB19,6.525,Low Fat,0.090436094,Household,85.0882,OUT049,1999,Medium,Tier 1,Supermarket Type1,2233.0932',\n 'FDV15,10.3,Low Fat,0.146399712,Meat,103.9648,OUT049,1999,Medium,Tier 1,Supermarket Type1,1661.8368',\n 'FDL58,5.78,Regular,0.074264356,Snack Foods,264.7568,OUT049,1999,Medium,Tier 1,Supermarket Type1,4745.8224',\n 'FDA08,11.85,Regular,0.050186726,Fruits and Vegetables,164.1526,OUT045,2002,,Tier 2,Supermarket Type1,3124.5994',\n 'FDT43,16.35,Low Fat,0.020631654,Fruits and Vegetables,50.1324,OUT018,2009,Medium,Tier 3,Supermarket Type2,467.3916',\n 'NCX06,,Low Fat,0.01561108,Household,182.5976,OUT027,1985,Medium,Tier 3,Supermarket Type3,5070.7328',\n 'FDT20,10.5,Low Fat,0.041395445,Fruits and Vegetables,37.6164,OUT046,1997,Small,Tier 1,Supermarket Type1,540.6296',\n 'FDB41,19,Regular,0.097313129,Frozen Foods,48.0718,OUT046,1997,Small,Tier 1,Supermarket Type1,992.7078',\n 'NCN55,14.6,Low Fat,0.059582996,Others,238.8538,OUT049,1999,Medium,Tier 1,Supermarket Type1,6008.845',\n 'FDE40,,Regular,0.098663652,Dairy,62.9194,OUT027,1985,Medium,Tier 3,Supermarket Type3,2105.2596',\n 'FDX49,,reg,0.101338651,Canned,232.63,OUT027,1985,Medium,Tier 3,Supermarket Type3,5359.69',\n 'NCM53,18.75,Low Fat,0.052146456,Health and Hygiene,104.628,OUT045,2002,,Tier 2,Supermarket Type1,745.696',\n 'FDE36,5.26,Regular,0.041764487,Baking Goods,161.8868,OUT035,2004,Small,Tier 2,Supermarket Type1,3275.736',\n 'FDN57,18.25,Low Fat,0.054344186,Snack Foods,140.2154,OUT045,2002,,Tier 2,Supermarket Type1,1701.7848',\n 'FDI24,,Low Fat,0.078362484,Baking Goods,177.937,OUT027,1985,Medium,Tier 3,Supermarket Type3,6704.606',\n 'FDI19,15.1,Low Fat,0.052339069,Meat,242.7512,OUT046,1997,Small,Tier 1,Supermarket Type1,4119.9704',\n 'FDF24,15.5,Regular,0.042464962,Baking Goods,81.5934,OUT010,1998,,Tier 3,Grocery Store,327.5736',\n 'FDG52,13.65,Low Fat,0.065732883,Frozen Foods,45.7402,OUT049,1999,Medium,Tier 1,Supermarket Type1,780.9834',\n 'DRF36,16.1,LF,0.023625114,Soft Drinks,189.3846,OUT045,2002,,Tier 2,Supermarket Type1,3630.6074',\n 'FDS45,,Regular,0.051643608,Snack Foods,107.3622,OUT019,1985,Small,Tier 1,Grocery Store,317.5866',\n 'FDX40,12.85,Low Fat,0.165694219,Frozen Foods,39.7164,OUT010,1998,,Tier 3,Grocery Store,231.6984',\n 'DRK12,9.5,LF,0.041878397,Soft Drinks,32.99,OUT035,2004,Small,Tier 2,Supermarket Type1,133.16',\n 'DRC27,13.8,Low Fat,0.058091482,Dairy,245.1802,OUT035,2004,Small,Tier 2,Supermarket Type1,5650.6446',\n 'FDL58,5.78,Regular,0,Snack Foods,263.7568,OUT017,2007,,Tier 2,Supermarket Type1,2636.568',\n 'NCD30,19.7,Low Fat,0.026903714,Household,96.0726,OUT045,2002,,Tier 2,Supermarket Type1,1272.3438',\n 'NCZ54,14.65,Low Fat,0,Household,161.5552,OUT010,1998,,Tier 3,Grocery Store,324.9104',\n 'FDE10,6.67,Regular,0.150554711,Snack Foods,130.0626,OUT010,1998,,Tier 3,Grocery Store,131.1626',\n 'FDR44,6.11,Regular,0,Fruits and Vegetables,131.2968,OUT010,1998,,Tier 3,Grocery Store,260.9936',\n 'FDP28,13.65,Regular,0.134975628,Frozen Foods,260.0936,OUT010,1998,,Tier 3,Grocery Store,260.9936',\n 'FDX15,17.2,Low Fat,0.15616879,Meat,160.6578,OUT013,1987,High,Tier 3,Supermarket Type1,3690.5294',\n 'FDA39,6.32,LF,0,Meat,40.2822,OUT035,2004,Small,Tier 2,Supermarket Type1,1139.1838',\n 'FDY24,4.88,Regular,0.133700752,Baking Goods,52.9298,OUT049,1999,Medium,Tier 1,Supermarket Type1,1995.4026',\n 'FDC60,5.425,Regular,0.115119905,Baking Goods,88.3514,OUT017,2007,,Tier 2,Supermarket Type1,1416.8224',\n 'FDH28,15.85,Regular,0.110030997,Frozen Foods,37.2506,OUT046,1997,Small,Tier 1,Supermarket Type1,265.6542',\n 'FDT25,7.5,Low Fat,0.051038045,Canned,121.7072,OUT017,2007,,Tier 2,Supermarket Type1,3552.7088',\n 'DRJ13,12.65,Low Fat,0.062837968,Soft Drinks,161.5578,OUT013,1987,High,Tier 3,Supermarket Type1,2406.867',\n 'NCO07,,Low Fat,0.017116983,Others,211.956,OUT019,1985,Small,Tier 1,Grocery Store,213.056',\n 'FDW20,20.75,Low Fat,0.024129332,Fruits and Vegetables,124.173,OUT013,1987,High,Tier 3,Supermarket Type1,2956.152',\n 'DRF27,,Low Fat,0.049754975,Dairy,152.134,OUT019,1985,Small,Tier 1,Grocery Store,153.134',\n 'FDS49,9,Low Fat,0,Canned,79.7644,OUT035,2004,Small,Tier 2,Supermarket Type1,1649.8524',\n 'FDX25,,Low Fat,0.101561568,Canned,181.9292,OUT027,1985,Medium,Tier 3,Supermarket Type3,3101.2964',\n 'NCX42,,Low Fat,0.005949644,Household,165.6526,OUT027,1985,Medium,Tier 3,Supermarket Type3,4769.1254',\n 'FDG33,,Regular,0.13956116,Seafood,170.4764,OUT027,1985,Medium,Tier 3,Supermarket Type3,3435.528',\n 'FDL56,14.1,Low Fat,0.126035694,Fruits and Vegetables,86.4198,OUT045,2002,,Tier 2,Supermarket Type1,1133.8574',\n 'FDF14,7.55,Low Fat,0.027164679,Canned,152.334,OUT035,2004,Small,Tier 2,Supermarket Type1,2603.278',\n 'NCD06,13,Low Fat,0.099325278,Household,45.406,OUT046,1997,Small,Tier 1,Supermarket Type1,605.878',\n 'DRM47,,Low Fat,0.04357366,Hard Drinks,192.8846,OUT027,1985,Medium,Tier 3,Supermarket Type3,2293.0152',\n 'FDS46,,Regular,0.082741482,Snack Foods,118.7782,OUT019,1985,Small,Tier 1,Grocery Store,119.1782',\n 'FDB35,12.3,Regular,0.064565202,Starchy Foods,92.9804,OUT013,1987,High,Tier 3,Supermarket Type1,1929.4884',\n '\n\n*** WARNING: max output size exceeded, skipping output. ***\n\n266,OUT013,1987,High,Tier 3,Supermarket Type1,5163.9448',\n 'FDV56,16.1,Regular,0.013584408,Fruits and Vegetables,107.7596,OUT013,1987,High,Tier 3,Supermarket Type1,323.5788',\n 'FDK43,9.8,Low Fat,0.026950104,Meat,128.402,OUT018,2009,Medium,Tier 3,Supermarket Type2,1265.02',\n 'NCR29,7.565,Low Fat,0.054751689,Health and Hygiene,54.793,OUT045,2002,,Tier 2,Supermarket Type1,622.523',\n 'FDY03,17.6,Regular,0.076121831,Meat,111.7202,OUT046,1997,Small,Tier 1,Supermarket Type1,1125.202',\n 'FDU44,12.15,Regular,0.058516562,Fruits and Vegetables,164.1552,OUT049,1999,Medium,Tier 1,Supermarket Type1,5198.5664',\n 'FDZ04,9.31,low fat,0.037923509,Frozen Foods,61.651,OUT013,1987,High,Tier 3,Supermarket Type1,379.506',\n 'FDU16,19.25,Regular,0.058365706,Frozen Foods,82.1908,OUT049,1999,Medium,Tier 1,Supermarket Type1,2432.8332',\n 'FDV07,9.5,Low Fat,0.031346387,Fruits and Vegetables,110.7228,OUT045,2002,,Tier 2,Supermarket Type1,1657.842',\n 'NCL19,15.35,Low Fat,0.015663185,Others,143.947,OUT013,1987,High,Tier 3,Supermarket Type1,3006.087',\n 'FDW01,,Low Fat,0.063750302,Canned,153.4682,OUT027,1985,Medium,Tier 3,Supermarket Type3,2287.023',\n 'FDC10,,Regular,0.07252476,Snack Foods,120.3098,OUT027,1985,Medium,Tier 3,Supermarket Type3,1687.1372',\n 'DRC12,17.85,Low Fat,0.038040837,Soft Drinks,189.1188,OUT017,2007,,Tier 2,Supermarket Type1,3237.1196',\n 'DRK39,7.02,Low Fat,0.049823902,Dairy,82.225,OUT013,1987,High,Tier 3,Supermarket Type1,2746.425',\n 'FDG24,,Low Fat,0.014560297,Baking Goods,81.425,OUT027,1985,Medium,Tier 3,Supermarket Type3,1331.6',\n 'FDO04,,Low Fat,0.026408698,Frozen Foods,53.2614,OUT027,1985,Medium,Tier 3,Supermarket Type3,607.8754',\n 'DRB25,12.3,Low Fat,0.069446588,Soft Drinks,106.3938,OUT035,2004,Small,Tier 2,Supermarket Type1,857.5504',\n 'FDK26,5.46,Regular,0.03217132,Canned,184.824,OUT035,2004,Small,Tier 2,Supermarket Type1,4287.752',\n 'FDM52,15.1,Low Fat,0.026046138,Frozen Foods,147.2076,OUT045,2002,,Tier 2,Supermarket Type1,1773.6912',\n 'FDY07,11.8,Low Fat,0.121848436,Fruits and Vegetables,46.8402,OUT045,2002,,Tier 2,Supermarket Type1,597.2226',\n 'NCO06,19.25,Low Fat,0.108470504,Household,33.4558,OUT018,2009,Medium,Tier 3,Supermarket Type2,441.4254',\n 'FDO10,13.65,Regular,0,Snack Foods,55.8588,OUT045,2002,,Tier 2,Supermarket Type1,1431.47',\n 'FDK34,13.35,Low Fat,0.038494623,Snack Foods,240.2564,OUT013,1987,High,Tier 3,Supermarket Type1,2860.2768',\n 'FDS33,,Regular,0.122830885,Snack Foods,86.9514,OUT027,1985,Medium,Tier 3,Supermarket Type3,3364.9532',\n 'FDO45,13.15,Regular,0.038029746,Snack Foods,88.6856,OUT045,2002,,Tier 2,Supermarket Type1,1757.712',\n 'FDF08,14.3,Regular,0.065207559,Fruits and Vegetables,89.8856,OUT046,1997,Small,Tier 1,Supermarket Type1,966.7416',\n 'FDH58,12.3,Low Fat,0.037014587,Snack Foods,115.1834,OUT045,2002,,Tier 2,Supermarket Type1,1958.1178',\n 'FDS03,7.825,Low Fat,0.133281968,Meat,63.2826,OUT010,1998,,Tier 3,Grocery Store,129.1652',\n 'DRF03,19.1,Low Fat,0.045299563,Dairy,38.8138,OUT035,2004,Small,Tier 2,Supermarket Type1,365.5242',\n 'FDE02,8.71,low fat,0.121149472,Canned,93.7778,OUT013,1987,High,Tier 3,Supermarket Type1,1783.6782',\n 'NCZ06,19.6,Low Fat,0.094083303,Household,252.2698,OUT013,1987,High,Tier 3,Supermarket Type1,2790.3678',\n 'FDW49,19.5,Low Fat,0,Canned,179.3002,OUT049,1999,Medium,Tier 1,Supermarket Type1,2328.3026',\n 'FDR23,15.85,Low Fat,0,Breads,174.737,OUT017,2007,,Tier 2,Supermarket Type1,2822.992',\n 'NCJ29,,Low Fat,0.035022503,Health and Hygiene,85.1224,OUT027,1985,Medium,Tier 3,Supermarket Type3,2045.3376',\n 'FDY35,17.6,Regular,0.016060186,Breads,47.2402,OUT045,2002,,Tier 2,Supermarket Type1,505.3422',\n 'FDZ01,,Regular,0.009014978,Canned,102.699,OUT027,1985,Medium,Tier 3,Supermarket Type3,3095.97',\n 'FDX19,19.1,Low Fat,0.096733815,Fruits and Vegetables,233.1958,OUT046,1997,Small,Tier 1,Supermarket Type1,5141.3076',\n 'FDG44,6.13,Low Fat,0.102607233,Fruits and Vegetables,54.0298,OUT018,2009,Medium,Tier 3,Supermarket Type2,808.947',\n 'FDQ23,6.55,Low Fat,0.024521191,Breads,100.6332,OUT035,2004,Small,Tier 2,Supermarket Type1,2665.8632',\n 'FDY22,16.5,Regular,0.160624116,Snack Foods,143.8128,OUT017,2007,,Tier 2,Supermarket Type1,2588.6304',\n 'NCN41,17,Low Fat,0.052165855,Health and Hygiene,125.073,OUT013,1987,High,Tier 3,Supermarket Type1,1108.557',\n 'FDA47,10.5,Regular,0,Baking Goods,162.421,OUT045,2002,,Tier 2,Supermarket Type1,1304.968',\n 'NCD19,8.93,Low Fat,0,Household,55.4614,OUT045,2002,,Tier 2,Supermarket Type1,331.5684',\n 'FDO36,,Low Fat,0.07753654,Baking Goods,180.866,OUT027,1985,Medium,Tier 3,Supermarket Type3,3235.788',\n 'FDH20,16.1,Regular,0.024928351,Fruits and Vegetables,95.141,OUT013,1987,High,Tier 3,Supermarket Type1,3089.312',\n 'FDN12,,LF,0.08071118,Baking Goods,113.1544,OUT027,1985,Medium,Tier 3,Supermarket Type3,3355.632',\n 'NCJ30,5.82,Low Fat,0.080968973,Household,171.379,OUT018,2009,Medium,Tier 3,Supermarket Type2,2037.348',\n 'FDB09,16.25,Low Fat,0.057485328,Fruits and Vegetables,126.2046,OUT049,1999,Medium,Tier 1,Supermarket Type1,1867.569',\n 'FDA09,13.35,Regular,0.149669322,Snack Foods,180.266,OUT045,2002,,Tier 2,Supermarket Type1,898.83',\n 'FDL24,,Regular,0.024776026,Baking Goods,172.3422,OUT027,1985,Medium,Tier 3,Supermarket Type3,7759.899',\n 'FDP03,5.15,Regular,0.061165512,Meat,125.6388,OUT035,2004,Small,Tier 2,Supermarket Type1,2848.2924',\n 'FDR58,,Low Fat,0.041718456,Snack Foods,94.5462,OUT027,1985,Medium,Tier 3,Supermarket Type3,2868.9322',\n 'FDO13,7.865,Low Fat,0.06100886,Breakfast,166.0526,OUT013,1987,High,Tier 3,Supermarket Type1,3617.9572',\n 'DRD49,9.895,Low Fat,0.167799329,Soft Drinks,239.4564,OUT035,2004,Small,Tier 2,Supermarket Type1,5243.8408',\n 'NCF42,17.35,Low Fat,0.167351411,Household,176.0712,OUT035,2004,Small,Tier 2,Supermarket Type1,2109.2544',\n 'DRK35,8.365,Low Fat,0.071832909,Hard Drinks,36.1506,OUT035,2004,Small,Tier 2,Supermarket Type1,721.0614',\n 'FDR58,6.675,Low Fat,0.041886576,Snack Foods,92.1462,OUT013,1987,High,Tier 3,Supermarket Type1,1203.1006',\n 'FDQ15,,Regular,0.150341867,Meat,83.1276,OUT027,1985,Medium,Tier 3,Supermarket Type3,1868.2348',\n 'NCP50,17.35,Low Fat,0.020542737,Others,80.5618,OUT013,1987,High,Tier 3,Supermarket Type1,322.2472',\n 'FDV45,16.75,Low Fat,0.045047439,Snack Foods,186.4556,OUT046,1997,Small,Tier 1,Supermarket Type1,3942.8676',\n 'DRP35,18.85,Low Fat,0.091008572,Hard Drinks,129.6336,OUT049,1999,Medium,Tier 1,Supermarket Type1,3195.84',\n 'FDN23,6.575,Regular,0.07549348,Breads,143.5444,OUT035,2004,Small,Tier 2,Supermarket Type1,3338.3212',\n 'FDS44,12.65,Regular,0.156286566,Fruits and Vegetables,238.9538,OUT049,1999,Medium,Tier 1,Supermarket Type1,4086.0146',\n 'NCI54,15.2,Low Fat,0.033735909,Household,110.9912,OUT018,2009,Medium,Tier 3,Supermarket Type2,1856.2504',\n 'FDH40,,Regular,0.078547351,Frozen Foods,79.3276,OUT027,1985,Medium,Tier 3,Supermarket Type3,1380.8692',\n 'FDF46,7.07,Low Fat,0.093653464,Snack Foods,113.3834,OUT035,2004,Small,Tier 2,Supermarket Type1,1267.0174',\n 'FDA21,13.65,Low Fat,0.036107198,Snack Foods,184.4924,OUT018,2009,Medium,Tier 3,Supermarket Type2,5182.5872',\n 'FDI41,,Regular,0.109003832,Frozen Foods,145.2418,OUT019,1985,Small,Tier 1,Grocery Store,147.1418',\n 'FDE35,7.06,Regular,0.073480266,Starchy Foods,58.8904,OUT010,1998,,Tier 3,Grocery Store,58.5904',\n 'DRJ24,11.8,Low Fat,0.113234914,Soft Drinks,186.3924,OUT013,1987,High,Tier 3,Supermarket Type1,5367.6796',\n 'NCK17,,Low Fat,0.037711338,Health and Hygiene,41.548,OUT027,1985,Medium,Tier 3,Supermarket Type3,1358.232',\n 'FDA15,9.3,Low Fat,0.016054884,Dairy,250.2092,OUT045,2002,,Tier 2,Supermarket Type1,5976.2208',\n 'FDD36,,Low Fat,0.021170542,Baking Goods,117.6124,OUT027,1985,Medium,Tier 3,Supermarket Type3,2251.7356',\n 'DRD60,,Low Fat,0.065188619,Soft Drinks,181.1634,OUT019,1985,Small,Tier 1,Grocery Store,181.7634',\n 'FDA46,13.6,Low Fat,0.117537563,Snack Foods,195.4136,OUT013,1987,High,Tier 3,Supermarket Type1,5443.5808',\n 'NCO54,19.5,Low Fat,0.01430324,Household,57.2614,OUT045,2002,,Tier 2,Supermarket Type1,1547.3192',\n 'FDL48,19.35,Regular,0.137697119,Baking Goods,47.1034,OUT010,1998,,Tier 3,Grocery Store,145.8102',\n 'NCM19,,Low Fat,0.047008497,Others,112.0202,OUT027,1985,Medium,Tier 3,Supermarket Type3,5063.409',\n 'FDS31,13.1,reg,0,Fruits and Vegetables,178.9318,OUT049,1999,Medium,Tier 1,Supermarket Type1,3067.3406',\n 'FDV12,16.7,Regular,0.060863167,Baking Goods,97.6384,OUT035,2004,Small,Tier 2,Supermarket Type1,2857.6136',\n 'FDQ31,5.785,Regular,0,Fruits and Vegetables,87.1856,OUT035,2004,Small,Tier 2,Supermarket Type1,1406.1696',\n 'FDK55,,Low Fat,0.045105407,Meat,89.4172,OUT019,1985,Small,Tier 1,Grocery Store,178.4344',\n 'DRG15,6.13,Low Fat,0.076855207,Dairy,59.3536,OUT049,1999,Medium,Tier 1,Supermarket Type1,1470.0864',\n 'NCR17,9.8,Low Fat,0.024482644,Health and Hygiene,116.2492,OUT018,2009,Medium,Tier 3,Supermarket Type2,2896.23',\n 'FDV01,,Regular,0,Canned,154.6314,OUT027,1985,Medium,Tier 3,Supermarket Type3,6515.5188',\n 'FDT21,7.42,Low Fat,0.020474913,Snack Foods,248.4092,OUT018,2009,Medium,Tier 3,Supermarket Type2,996.0368',\n 'FDT10,16.7,Regular,0.062044506,Snack Foods,57.4562,OUT046,1997,Small,Tier 1,Supermarket Type1,948.0992',\n 'FDL56,,Low Fat,0.220225608,Fruits and Vegetables,85.6198,OUT019,1985,Small,Tier 1,Grocery Store,87.2198',\n 'FDS49,9,Low Fat,0.079794329,Canned,80.1644,OUT017,2007,,Tier 2,Supermarket Type1,1178.466',\n 'FDT32,,Regular,0.114916546,Fruits and Vegetables,188.4214,OUT019,1985,Small,Tier 1,Grocery Store,565.2642',\n 'NCX42,6.36,Low Fat,0.00597362,Household,164.5526,OUT013,1987,High,Tier 3,Supermarket Type1,2137.8838',\n 'FDX26,17.7,LF,0.146973462,Dairy,184.1292,OUT010,1998,,Tier 3,Grocery Store,547.2876',\n 'FDN02,16.5,Low Fat,0.07376631,Canned,208.5638,OUT013,1987,High,Tier 3,Supermarket Type1,2691.8294',\n 'FDJ40,,Regular,0.049349121,Frozen Foods,108.6912,OUT027,1985,Medium,Tier 3,Supermarket Type3,3057.3536',\n 'FDU13,,low fat,0.328390948,Canned,146.0418,OUT019,1985,Small,Tier 1,Grocery Store,588.5672',\n 'DRE27,11.85,Low Fat,0.13267058,Dairy,96.4726,OUT046,1997,Small,Tier 1,Supermarket Type1,978.726',\n 'FDS27,10.195,Regular,0.012455787,Meat,197.511,OUT035,2004,Small,Tier 2,Supermarket Type1,2356.932',\n 'FDU44,,Regular,0.058142797,Fruits and Vegetables,162.1552,OUT027,1985,Medium,Tier 3,Supermarket Type3,3086.6488',\n 'DRM59,,Low Fat,0.006289291,Hard Drinks,153.2998,OUT019,1985,Small,Tier 1,Grocery Store,461.3994',\n 'FDT08,13.65,Low Fat,0.04929502,Fruits and Vegetables,150.505,OUT049,1999,Medium,Tier 1,Supermarket Type1,2696.49',\n 'FDL46,20.35,low fat,0.054362695,Snack Foods,117.9466,OUT017,2007,,Tier 2,Supermarket Type1,1649.8524',\n 'NCV30,20.2,Low Fat,0.110356797,Household,62.051,OUT010,1998,,Tier 3,Grocery Store,126.502',\n 'FDP51,13.85,Regular,0.085274988,Meat,119.6124,OUT046,1997,Small,Tier 1,Supermarket Type1,2014.7108',\n 'FDA51,8.05,Regular,0.164542555,Dairy,112.2518,OUT013,1987,High,Tier 3,Supermarket Type1,1707.777',\n 'FDM46,7.365,Low Fat,0.160292264,Snack Foods,94.712,OUT045,2002,,Tier 2,Supermarket Type1,932.12',\n 'FDK02,12.5,Low Fat,0.112859454,Canned,118.344,OUT017,2007,,Tier 2,Supermarket Type1,2157.192',\n 'FDJ57,7.42,Regular,0.021569566,Seafood,184.8582,OUT035,2004,Small,Tier 2,Supermarket Type1,4643.955',\n 'FDJ45,,Low Fat,0.073055148,Seafood,33.7216,OUT027,1985,Medium,Tier 3,Supermarket Type3,1280.9992',\n 'NCB31,6.235,Low Fat,0.119345629,Household,261.991,OUT017,2007,,Tier 2,Supermarket Type1,2366.919',\n 'FDJ03,12.35,Regular,0.072334667,Dairy,49.1692,OUT013,1987,High,Tier 3,Supermarket Type1,886.8456',\n 'FDT50,6.75,Regular,0.108148913,Dairy,95.6752,OUT013,1987,High,Tier 3,Supermarket Type1,958.752',\n 'NCY41,16.75,Low Fat,0.07585337,Health and Hygiene,36.8532,OUT049,1999,Medium,Tier 1,Supermarket Type1,1150.5024',\n 'FDJ60,19.35,Regular,0.062655235,Baking Goods,163.3184,OUT045,2002,,Tier 2,Supermarket Type1,2641.8944',\n 'FDZ35,9.6,Regular,0.022278477,Breads,102.499,OUT046,1997,Small,Tier 1,Supermarket Type1,1547.985',\n 'FDS21,19.85,Regular,0.020961192,Snack Foods,62.0194,OUT018,2009,Medium,Tier 3,Supermarket Type2,619.194',\n 'FDM52,15.1,Low Fat,0.025993423,Frozen Foods,147.4076,OUT046,1997,Small,Tier 1,Supermarket Type1,2808.3444',\n 'FDQ08,,Regular,0.018838681,Fruits and Vegetables,62.9536,OUT027,1985,Medium,Tier 3,Supermarket Type3,2266.3832',\n 'FDQ56,6.59,Low Fat,0.105577348,Fruits and Vegetables,85.6908,OUT035,2004,Small,Tier 2,Supermarket Type1,1929.4884',\n 'FDS47,16.75,Low Fat,0.129086113,Breads,89.4856,OUT049,1999,Medium,Tier 1,Supermarket Type1,1054.6272',\n 'DRM48,15.2,Low Fat,0.113125627,Soft Drinks,38.6848,OUT045,2002,,Tier 2,Supermarket Type1,1155.8288',\n 'FDW46,13,Regular,0.070699313,Snack Foods,65.7484,OUT017,2007,,Tier 2,Supermarket Type1,1174.4712',\n 'FDW27,5.86,Regular,0.151467821,Meat,154.1314,OUT018,2009,Medium,Tier 3,Supermarket Type2,3412.8908',\n 'NCQ05,11.395,Low Fat,0.03616416,Health and Hygiene,150.1708,OUT010,1998,,Tier 3,Grocery Store,300.9416',\n 'FDU40,20.85,Low Fat,0.062606583,Frozen Foods,192.2478,OUT010,1998,,Tier 3,Grocery Store,387.4956',\n 'DRE12,,Low Fat,0.0704378,Soft Drinks,112.886,OUT027,1985,Medium,Tier 3,Supermarket Type3,2942.836',\n 'FDX35,5.035,Regular,0.079844043,Breads,226.3036,OUT013,1987,High,Tier 3,Supermarket Type1,4098.6648',\n 'FDD51,11.15,Low Fat,0.120139206,Dairy,45.0744,OUT049,1999,Medium,Tier 1,Supermarket Type1,452.744',\n 'FDY27,6.38,Low Fat,0.032028115,Dairy,178.3344,OUT018,2009,Medium,Tier 3,Supermarket Type2,3211.8192',\n 'NCN06,8.39,Low Fat,0.120497266,Household,162.2868,OUT046,1997,Small,Tier 1,Supermarket Type1,2620.5888',\n 'FDR57,5.675,Regular,0.023492524,Snack Foods,155.5288,OUT035,2004,Small,Tier 2,Supermarket Type1,1414.1592',\n 'FDL32,15.7,Regular,0.122657336,Fruits and Vegetables,110.1544,OUT049,1999,Medium,Tier 1,Supermarket Type1,1565.9616',\n 'FDW46,13,reg,0.070588037,Snack Foods,65.9484,OUT018,2009,Medium,Tier 3,Supermarket Type2,1043.9744',\n 'NCO17,,Low Fat,0.073024401,Health and Hygiene,121.844,OUT027,1985,Medium,Tier 3,Supermarket Type3,3115.944',\n 'FDR19,13.5,Regular,0.159587755,Fruits and Vegetables,145.3102,OUT013,1987,High,Tier 3,Supermarket Type1,729.051',\n 'FDJ33,8.895,Regular,0.088821765,Snack Foods,125.173,OUT017,2007,,Tier 2,Supermarket Type1,2956.152',\n 'FDB15,10.895,Low Fat,0.136810742,Dairy,263.0568,OUT046,1997,Small,Tier 1,Supermarket Type1,527.3136',\n 'FDA52,16.2,Regular,0.128682722,Frozen Foods,178.437,OUT045,2002,,Tier 2,Supermarket Type1,1058.622',\n 'FDZ08,,Regular,0.109459733,Fruits and Vegetables,84.1592,OUT027,1985,Medium,Tier 3,Supermarket Type3,1320.9472',\n 'FDR27,15.1,Regular,0.096644015,Meat,131.9942,OUT017,2007,,Tier 2,Supermarket Type1,3047.3666',\n 'NCK42,7.475,Low Fat,0.013120028,Household,217.6192,OUT046,1997,Small,Tier 1,Supermarket Type1,1725.7536',\n 'FDZ12,,Low Fat,0,Baking Goods,144.847,OUT019,1985,Small,Tier 1,Grocery Store,143.147',\n 'FDM60,10.8,Regular,0.048339408,Baking Goods,41.5138,OUT018,2009,Medium,Tier 3,Supermarket Type2,446.7518',\n 'NCI31,20,Low Fat,0.08165845,Others,35.019,OUT018,2009,Medium,Tier 3,Supermarket Type2,585.904',\n 'FDX39,14.3,Regular,0.04975339,Meat,210.3586,OUT049,1999,Medium,Tier 1,Supermarket Type1,6331.758',\n 'NCV05,10.1,Low Fat,0.030379382,Health and Hygiene,153.4656,OUT017,2007,,Tier 2,Supermarket Type1,1853.5872',\n 'FDX16,17.85,LF,0.065810045,Frozen Foods,149.105,OUT046,1997,Small,Tier 1,Supermarket Type1,2247.075',\n 'DRK12,9.5,Low Fat,0,Soft Drinks,32.89,OUT010,1998,,Tier 3,Grocery Store,33.29',\n 'NCA05,20.75,Low Fat,0.025272781,Health and Hygiene,146.6734,OUT017,2007,,Tier 2,Supermarket Type1,445.4202',\n 'DRG51,12.1,Low Fat,0.019314961,Dairy,164.6526,OUT010,1998,,Tier 3,Grocery Store,657.8104',\n 'NCR30,20.6,Low Fat,0.071282168,Household,74.4696,OUT018,2009,Medium,Tier 3,Supermarket Type2,223.7088',\n 'NCE31,7.67,Low Fat,0.184843579,Household,33.1216,OUT046,1997,Small,Tier 1,Supermarket Type1,727.0536',\n 'FDM56,,Low Fat,0.122896411,Fruits and Vegetables,111.1912,OUT019,1985,Small,Tier 1,Grocery Store,218.3824',\n 'FDP24,20.6,Low Fat,0.082935004,Baking Goods,119.5756,OUT013,1987,High,Tier 3,Supermarket Type1,2665.8632',\n 'DRM37,15.35,Low Fat,0.161350176,Soft Drinks,196.6768,OUT010,1998,,Tier 3,Grocery Store,591.2304',\n 'FDN56,5.46,Regular,0.106968096,Fruits and Vegetables,142.6786,OUT013,1987,High,Tier 3,Supermarket Type1,2311.6576',\n 'DRE60,9.395,Low Fat,0.159582185,Soft Drinks,224.772,OUT049,1999,Medium,Tier 1,Supermarket Type1,7017.532',\n 'FDW49,,Low Fat,0.14453827,Canned,180.6002,OUT019,1985,Small,Tier 1,Grocery Store,895.501',\n 'FDM20,10,Low Fat,0.038685802,Fruits and Vegetables,243.8144,OUT046,1997,Small,Tier 1,Supermarket Type1,4655.2736',\n 'FDK15,,Low Fat,0.172309903,Meat,98.2042,OUT019,1985,Small,Tier 1,Grocery Store,198.4084',\n 'FDK48,7.445,Low Fat,0.037690731,Baking Goods,73.3354,OUT049,1999,Medium,Tier 1,Supermarket Type1,451.4124',\n 'FDO49,,Regular,0.05787008,Breakfast,49.7008,OUT019,1985,Small,Tier 1,Grocery Store,50.6008',\n 'FDC09,15.5,Regular,0.026409147,Fruits and Vegetables,102.1332,OUT018,2009,Medium,Tier 3,Supermarket Type2,615.1992',\n 'NCZ41,19.85,Low Fat,0.064367627,Health and Hygiene,126.1704,OUT013,1987,High,Tier 3,Supermarket Type1,876.1928',\n 'FDP19,11.5,Low Fat,0.173516063,Fruits and Vegetables,128.1652,OUT046,1997,Small,Tier 1,Supermarket Type1,2454.1388',\n 'FDQ24,,Low Fat,0.12898088,Baking Goods,250.4724,OUT019,1985,Small,Tier 1,Grocery Store,251.6724',\n 'DRL11,10.5,Low Fat,0.048115543,Hard Drinks,159.0946,OUT045,2002,,Tier 2,Supermarket Type1,4102.6596',\n 'FDO36,19.7,Low Fat,0.077899109,Baking Goods,177.766,OUT035,2004,Small,Tier 2,Supermarket Type1,2696.49',\n 'FDN52,,Regular,0.13093275,Frozen Foods,86.9198,OUT027,1985,Medium,Tier 3,Supermarket Type3,1569.9564',\n 'FDF21,10.3,Regular,0.098464979,Fruits and Vegetables,188.653,OUT010,1998,,Tier 3,Grocery Store,189.753',\n 'FDU40,20.85,Low Fat,0.037372847,Frozen Foods,192.7478,OUT013,1987,High,Tier 3,Supermarket Type1,3099.9648',\n 'FDS51,13.35,Low Fat,0.032230526,Meat,61.4194,OUT049,1999,Medium,Tier 1,Supermarket Type1,743.0328',\n 'FDE45,12.1,Low Fat,0.040357315,Fruits and Vegetables,177.8002,OUT046,1997,Small,Tier 1,Supermarket Type1,1611.9018',\n 'FDX50,20.1,Low Fat,0.07461309,Dairy,108.7228,OUT035,2004,Small,Tier 2,Supermarket Type1,1215.7508',\n 'NCN14,,Low Fat,0.160936178,Others,184.2608,OUT019,1985,Small,Tier 1,Grocery Store,367.5216',\n 'FDQ21,21.25,Low Fat,0.019502354,Snack Foods,120.8756,OUT018,2009,Medium,Tier 3,Supermarket Type2,3150.5656',\n 'FDV57,,Regular,0.065577449,Snack Foods,181.766,OUT027,1985,Medium,Tier 3,Supermarket Type3,7370.406',\n 'FDB44,6.655,Low Fat,0.016944719,Fruits and Vegetables,209.2586,OUT013,1987,High,Tier 3,Supermarket Type1,2954.8204',\n 'FDG52,13.65,Low Fat,0.065576228,Frozen Foods,47.7402,OUT013,1987,High,Tier 3,Supermarket Type1,643.1628',\n 'FDL38,,Regular,0.02579577,Canned,88.4172,OUT019,1985,Small,Tier 1,Grocery Store,89.2172',\n 'NCS54,13.6,Low Fat,0.010008699,Household,176.737,OUT049,1999,Medium,Tier 1,Supermarket Type1,4940.236',\n 'DRL37,15.5,Low Fat,0.053362086,Soft Drinks,41.577,OUT035,2004,Small,Tier 2,Supermarket Type1,735.709',\n 'FDA43,10.895,Low Fat,0.064621927,Fruits and Vegetables,196.6794,OUT013,1987,High,Tier 3,Supermarket Type1,1170.4764',\n 'FDZ39,19.7,Regular,0.018126724,Meat,101.799,OUT017,2007,,Tier 2,Supermarket Type1,1135.189',\n 'FDG45,8.1,Low Fat,0,Fruits and Vegetables,211.8902,OUT018,2009,Medium,Tier 3,Supermarket Type2,3823.0236',\n 'FDH10,21,Low Fat,0.049263979,Snack Foods,195.0478,OUT013,1987,High,Tier 3,Supermarket Type1,1549.9824',\n 'FDO10,13.65,Regular,0.021343732,Snack Foods,58.3588,OUT010,1998,,Tier 3,Grocery Store,114.5176',\n 'FDS35,,LF,0.110681931,Breads,63.2826,OUT027,1985,Medium,Tier 3,Supermarket Type3,1033.3216',\n 'FDI41,,Regular,0.061955439,Frozen Foods,145.1418,OUT027,1985,Medium,Tier 3,Supermarket Type3,4561.3958',\n 'FDN21,,LF,0.076483451,Snack Foods,163.1236,OUT027,1985,Medium,Tier 3,Supermarket Type3,2416.854',\n 'NCO18,13.15,Low Fat,0.024701262,Household,176.8686,OUT045,2002,,Tier 2,Supermarket Type1,2133.2232',\n 'FDB34,15.25,Low Fat,0.02671821,Snack Foods,85.2198,OUT018,2009,Medium,Tier 3,Supermarket Type2,1482.7366',\n 'FDD05,19.35,Low Fat,0.016597651,Frozen Foods,121.5098,OUT013,1987,High,Tier 3,Supermarket Type1,2892.2352',\n 'FDX59,,Low Fat,0.0514111,Breads,33.0558,OUT027,1985,Medium,Tier 3,Supermarket Type3,984.7182',\n 'FDZ23,17.75,Regular,0.112985849,Baking Goods,185.424,OUT010,1998,,Tier 3,Grocery Store,745.696',\n 'FDX27,20.7,Regular,0.11411709,Dairy,92.7436,OUT046,1997,Small,Tier 1,Supermarket Type1,1323.6104',\n 'FDV07,9.5,Low Fat,0,Fruits and Vegetables,110.4228,OUT017,2007,,Tier 2,Supermarket Type1,1547.3192',\n 'FDR14,11.65,Low Fat,0.175033524,Dairy,55.5298,OUT017,2007,,Tier 2,Supermarket Type1,647.1576',\n 'FDO01,21.1,Regular,0.020760673,Breakfast,128.7994,OUT045,2002,,Tier 2,Supermarket Type1,1798.9916',\n 'FDO13,7.865,Low Fat,0.061405051,Breakfast,166.3526,OUT017,2007,,Tier 2,Supermarket Type1,1973.4312',\n 'FDU25,12.35,Low Fat,0.026676216,Canned,57.0246,OUT035,2004,Small,Tier 2,Supermarket Type1,1737.738',\n 'NCK54,,Low Fat,0.029380407,Household,114.715,OUT027,1985,Medium,Tier 3,Supermarket Type3,1864.24',\n 'FDZ56,16.25,Low Fat,0.025715562,Fruits and Vegetables,168.1474,OUT013,1987,High,Tier 3,Supermarket Type1,1516.0266',\n 'NCL55,12.15,Low Fat,0.065026434,Others,253.704,OUT017,2007,,Tier 2,Supermarket Type1,5060.08',\n 'FDD59,10.5,Regular,0.066315023,Starchy Foods,78.296,OUT045,2002,,Tier 2,Supermarket Type1,2157.192',\n 'FDJ55,12.8,Regular,0.023664054,Meat,226.0404,OUT017,2007,,Tier 2,Supermarket Type1,5400.9696',\n 'FDA45,,Low Fat,0.154627247,Snack Foods,177.637,OUT027,1985,Medium,Tier 3,Supermarket Type3,5469.547',\n 'DRF23,4.61,Low Fat,0.205294827,Hard Drinks,172.8396,OUT010,1998,,Tier 3,Grocery Store,174.4396',\n 'FDT49,7,Low Fat,0.152261999,Canned,105.728,OUT017,2007,,Tier 2,Supermarket Type1,1278.336',\n 'NCO17,10,Low Fat,0,Health and Hygiene,120.644,OUT035,2004,Small,Tier 2,Supermarket Type1,1917.504',\n 'FDH22,6.405,Low Fat,0.136275173,Snack Foods,128.1678,OUT035,2004,Small,Tier 2,Supermarket Type1,1017.3424',\n 'FDT34,9.3,Low Fat,0.174621343,Snack Foods,104.2964,OUT049,1999,Medium,Tier 1,Supermarket Type1,1998.7316',\n 'FDB39,11.6,Low Fat,0.038597077,Dairy,57.9272,OUT045,2002,,Tier 2,Supermarket Type1,615.1992',\n 'FDQ22,16.75,Low Fat,0.029799965,Snack Foods,39.1822,OUT045,2002,,Tier 2,Supermarket Type1,314.2576',\n 'NCN43,12.15,Low Fat,0.011314423,Others,122.973,OUT010,1998,,Tier 3,Grocery Store,123.173',\n 'FDG57,14.7,Low Fat,0.072410764,Fruits and Vegetables,48.2034,OUT049,1999,Medium,Tier 1,Supermarket Type1,1020.6714',\n 'FDR20,20,Regular,0.028118435,Fruits and Vegetables,46.7744,OUT035,2004,Small,Tier 2,Supermarket Type1,1222.4088',\n 'FDU22,,Low Fat,0.163350221,Snack Foods,120.2124,OUT019,1985,Small,Tier 1,Grocery Store,474.0496',\n 'NCC43,7.39,Low Fat,0.093307713,Household,250.9066,OUT017,2007,,Tier 2,Supermarket Type1,1506.0396',\n 'FDP01,20.75,Regular,0.105994654,Breakfast,150.5682,OUT010,1998,,Tier 3,Grocery Store,762.341',\n 'FDF52,9.3,Low Fat,0.067055339,Frozen Foods,184.2292,OUT018,2009,Medium,Tier 3,Supermarket Type2,1277.0044',\n 'FDZ33,10.195,Low Fat,0.107376743,Snack Foods,147.6076,OUT035,2004,Small,Tier 2,Supermarket Type1,3547.3824',\n 'FDP48,,Regular,0.043810028,Baking Goods,181.395,OUT027,1985,Medium,Tier 3,Supermarket Type3,6042.135',\n 'FDW56,7.68,Low Fat,0.118672537,Fruits and Vegetables,192.2162,OUT010,1998,,Tier 3,Grocery Store,384.8324',\n 'FDC26,10.195,Low Fat,0.126897925,Canned,110.6886,OUT018,2009,Medium,Tier 3,Supermarket Type2,1223.0746',\n 'FDF34,9.3,Regular,0.014076503,Snack Foods,200.0084,OUT018,2009,Medium,Tier 3,Supermarket Type2,2182.4924',\n 'FDJ33,8.895,Regular,0.088305478,Snack Foods,123.473,OUT035,2004,Small,Tier 2,Supermarket Type1,1478.076',\n 'FDD04,16,Low Fat,0.090153756,Dairy,143.2154,OUT045,2002,,Tier 2,Supermarket Type1,1418.154',\n 'NCJ31,19.2,Low Fat,0.182501773,Others,239.2196,OUT013,1987,High,Tier 3,Supermarket Type1,5061.4116',\n 'FDO57,20.75,Low Fat,0.108710162,Snack Foods,161.7578,OUT046,1997,Small,Tier 1,Supermarket Type1,2888.2404',\n 'FDM36,,Regular,0.058446424,Baking Goods,172.1422,OUT027,1985,Medium,Tier 3,Supermarket Type3,5518.1504',\n 'NCY05,13.5,Low Fat,0.054990009,Health and Hygiene,35.2874,OUT046,1997,Small,Tier 1,Supermarket Type1,741.0354',\n 'FDS44,,Regular,0.15528831,Fruits and Vegetables,241.7538,OUT027,1985,Medium,Tier 3,Supermarket Type3,9133.4444',\n 'FDZ39,19.7,Regular,0.018021361,Meat,101.199,OUT035,2004,Small,Tier 2,Supermarket Type1,1857.582',\n 'NCM31,6.095,Low Fat,0.0816559,Others,143.3154,OUT017,2007,,Tier 2,Supermarket Type1,2836.308',\n 'DRK11,8.21,Low Fat,0.010755465,Hard Drinks,150.8392,OUT013,1987,High,Tier 3,Supermarket Type1,2982.784',\n 'FDO34,17.7,Low Fat,0.050111641,Snack Foods,165.9816,OUT010,1998,,Tier 3,Grocery Store,167.7816',\n 'NCL30,18.1,Low Fat,0.048931174,Household,127.3336,OUT035,2004,Small,Tier 2,Supermarket Type1,1150.5024',\n 'FDK28,5.695,Low Fat,0.065960909,Frozen Foods,259.2646,OUT017,2007,,Tier 2,Supermarket Type1,9275.9256',\n 'DRJ39,20.25,Low Fat,0.036319195,Dairy,219.3482,OUT035,2004,Small,Tier 2,Supermarket Type1,5038.1086',\n ...]",
       "datasetInfos": [],
       "metadata": {},
       "removedWidgets": [],
       "type": "ansi"
      }
     },
     "output_type": "display_data"
    }
   ],
   "source": [
    "data.collect()"
   ]
  },
  {
   "cell_type": "code",
   "execution_count": 0,
   "metadata": {
    "application/vnd.databricks.v1+cell": {
     "cellMetadata": {},
     "inputWidgets": {},
     "nuid": "416d8cd4-76f8-4127-bb59-2edd8d6d8618",
     "showTitle": false,
     "title": ""
    }
   },
   "outputs": [
    {
     "data": {
      "text/plain": [
       "Out[8]: /FileStore/tables/train.csv MapPartitionsRDD[1] at textFile at NativeMethodAccessorImpl.java:0"
      ]
     },
     "metadata": {
      "application/vnd.databricks.v1+output": {
       "addedWidgets": {},
       "arguments": {},
       "data": "Out[8]: /FileStore/tables/train.csv MapPartitionsRDD[1] at textFile at NativeMethodAccessorImpl.java:0",
       "datasetInfos": [],
       "metadata": {},
       "removedWidgets": [],
       "type": "ansi"
      }
     },
     "output_type": "display_data"
    }
   ],
   "source": [
    "data.cache()"
   ]
  },
  {
   "cell_type": "markdown",
   "metadata": {
    "application/vnd.databricks.v1+cell": {
     "cellMetadata": {},
     "inputWidgets": {},
     "nuid": "132c7ae8-bd96-4d3f-bb9d-86e16a5cbc7f",
     "showTitle": false,
     "title": ""
    }
   },
   "source": [
    "#TRANSFORMATION"
   ]
  },
  {
   "cell_type": "code",
   "execution_count": 0,
   "metadata": {
    "application/vnd.databricks.v1+cell": {
     "cellMetadata": {},
     "inputWidgets": {},
     "nuid": "f3123b93-06b3-4cbd-9ea1-481508079051",
     "showTitle": false,
     "title": ""
    }
   },
   "outputs": [],
   "source": [
    "str_re=data.map(lambda x: x.replace(',',''))"
   ]
  },
  {
   "cell_type": "code",
   "execution_count": 0,
   "metadata": {
    "application/vnd.databricks.v1+cell": {
     "cellMetadata": {},
     "inputWidgets": {},
     "nuid": "35517e73-6229-433c-9e05-4e6a6a15c640",
     "showTitle": false,
     "title": ""
    }
   },
   "outputs": [
    {
     "data": {
      "text/plain": [
       "Out[10]: ['Item_IdentifierItem_WeightItem_Fat_ContentItem_VisibilityItem_TypeItem_MRPOutlet_IdentifierOutlet_Establishment_YearOutlet_SizeOutlet_Location_TypeOutlet_TypeItem_Outlet_Sales',\n",
       " 'FDA159.3Low Fat0.016047301Dairy249.8092OUT0491999MediumTier 1Supermarket Type13735.138',\n",
       " 'DRC015.92Regular0.019278216Soft Drinks48.2692OUT0182009MediumTier 3Supermarket Type2443.4228',\n",
       " 'FDN1517.5Low Fat0.016760075Meat141.618OUT0491999MediumTier 1Supermarket Type12097.27',\n",
       " 'FDX0719.2Regular0Fruits and Vegetables182.095OUT0101998Tier 3Grocery Store732.38',\n",
       " 'NCD198.93Low Fat0Household53.8614OUT0131987HighTier 3Supermarket Type1994.7052',\n",
       " 'FDP3610.395Regular0Baking Goods51.4008OUT0182009MediumTier 3Supermarket Type2556.6088',\n",
       " 'FDO1013.65Regular0.012741089Snack Foods57.6588OUT0131987HighTier 3Supermarket Type1343.5528',\n",
       " 'FDP10Low Fat0.127469857Snack Foods107.7622OUT0271985MediumTier 3Supermarket Type34022.7636',\n",
       " 'FDH1716.2Regular0.016687114Frozen Foods96.9726OUT0452002Tier 2Supermarket Type11076.5986',\n",
       " 'FDU2819.2Regular0.09444959Frozen Foods187.8214OUT0172007Tier 2Supermarket Type14710.535',\n",
       " 'FDY0711.8Low Fat0Fruits and Vegetables45.5402OUT0491999MediumTier 1Supermarket Type11516.0266',\n",
       " 'FDA0318.5Regular0.045463773Dairy144.1102OUT0461997SmallTier 1Supermarket Type12187.153',\n",
       " 'FDX3215.1Regular0.1000135Fruits and Vegetables145.4786OUT0491999MediumTier 1Supermarket Type11589.2646',\n",
       " 'FDS4617.6Regular0.047257328Snack Foods119.6782OUT0461997SmallTier 1Supermarket Type12145.2076',\n",
       " 'FDF3216.35Low Fat0.0680243Fruits and Vegetables196.4426OUT0131987HighTier 3Supermarket Type11977.426',\n",
       " 'FDP499Regular0.069088961Breakfast56.3614OUT0461997SmallTier 1Supermarket Type11547.3192',\n",
       " 'NCB4211.8Low Fat0.008596051Health and Hygiene115.3492OUT0182009MediumTier 3Supermarket Type21621.8888',\n",
       " 'FDP499Regular0.069196376Breakfast54.3614OUT0491999MediumTier 1Supermarket Type1718.3982',\n",
       " 'DRI11Low Fat0.034237682Hard Drinks113.2834OUT0271985MediumTier 3Supermarket Type32303.668',\n",
       " 'FDU0213.35Low Fat0.10249212Dairy230.5352OUT0352004SmallTier 2Supermarket Type12748.4224',\n",
       " 'FDN2218.85Regular0.138190277Snack Foods250.8724OUT0131987HighTier 3Supermarket Type13775.086',\n",
       " 'FDW12Regular0.035399923Baking Goods144.5444OUT0271985MediumTier 3Supermarket Type34064.0432',\n",
       " 'NCB3014.6Low Fat0.025698134Household196.5084OUT0352004SmallTier 2Supermarket Type11587.2672',\n",
       " 'FDC37Low Fat0.057556998Baking Goods107.6938OUT0191985SmallTier 1Grocery Store214.3876',\n",
       " 'FDR2813.85Regular0.025896485Frozen Foods165.021OUT0461997SmallTier 1Supermarket Type14078.025',\n",
       " 'NCD0613Low Fat0.099887103Household45.906OUT0172007Tier 2Supermarket Type1838.908',\n",
       " 'FDV107.645Regular0.066693437Snack Foods42.3112OUT0352004SmallTier 2Supermarket Type11065.28',\n",
       " 'DRJ5911.65low fat0.019356132Hard Drinks39.1164OUT0131987HighTier 3Supermarket Type1308.9312',\n",
       " 'FDE515.925Regular0.161466534Dairy45.5086OUT0101998Tier 3Grocery Store178.4344',\n",
       " 'FDC14Regular0.072221801Canned43.6454OUT0191985SmallTier 1Grocery Store125.8362',\n",
       " 'FDV3819.25Low Fat0.170348551Dairy55.7956OUT0101998Tier 3Grocery Store163.7868',\n",
       " 'NCS1718.6Low Fat0.080829372Health and Hygiene96.4436OUT0182009MediumTier 3Supermarket Type22741.7644',\n",
       " 'FDP3318.7Low Fat0Snack Foods256.6672OUT0182009MediumTier 3Supermarket Type23068.0064',\n",
       " 'FDO2317.85Low Fat0Breads93.1436OUT0452002Tier 2Supermarket Type12174.5028',\n",
       " 'DRH0117.5Low Fat0.097904029Soft Drinks174.8738OUT0461997SmallTier 1Supermarket Type12085.2856',\n",
       " 'NCX2910Low Fat0.089291137Health and Hygiene146.7102OUT0491999MediumTier 1Supermarket Type13791.0652',\n",
       " 'FDV20Regular0.059511812Fruits and Vegetables128.0678OUT0271985MediumTier 3Supermarket Type32797.6916',\n",
       " 'DRZ118.85Regular0.113123893Soft Drinks122.5388OUT0182009MediumTier 3Supermarket Type21609.9044',\n",
       " 'FDX10Regular0.123111453Snack Foods36.9874OUT0271985MediumTier 3Supermarket Type3388.1614',\n",
       " 'FDB34Low Fat0.026480954Snack Foods87.6198OUT0271985MediumTier 3Supermarket Type32180.495',\n",
       " 'FDU0213.35Low Fat0.102511504Dairy230.6352OUT0461997SmallTier 1Supermarket Type13435.528',\n",
       " 'FDK439.8Low Fat0.02681843Meat126.002OUT0131987HighTier 3Supermarket Type12150.534',\n",
       " 'FDA4613.6Low Fat0.117818348Snack Foods192.9136OUT0491999MediumTier 1Supermarket Type12527.3768',\n",
       " 'FDC0221.35Low Fat0.069102831Canned259.9278OUT0182009MediumTier 3Supermarket Type26768.5228',\n",
       " 'FDL5012.15Regular0.042277867Canned126.5046OUT0131987HighTier 3Supermarket Type1373.5138',\n",
       " 'FDM396.42LF0.089498926Dairy178.1002OUT0101998Tier 3Grocery Store358.2004',\n",
       " 'NCP0519.6Low Fat0Health and Hygiene153.3024OUT0452002Tier 2Supermarket Type12428.8384',\n",
       " 'FDV4910Low Fat0.025879577Canned265.2226OUT0452002Tier 2Supermarket Type15815.0972',\n",
       " 'FDL1215.85Regular0.121632721Baking Goods60.622OUT0461997SmallTier 1Supermarket Type12576.646',\n",
       " 'FDS02Regular0.255394896Dairy196.8794OUT0191985SmallTier 1Grocery Store780.3176',\n",
       " 'NCL177.39Low Fat0.067779712Health and Hygiene143.8812OUT0461997SmallTier 1Supermarket Type13134.5864',\n",
       " 'FDM4010.195Low Fat0.159803853Frozen Foods141.5154OUT0131987HighTier 3Supermarket Type1850.8924',\n",
       " 'FDR139.895Regular0.028696932Canned117.0492OUT0131987HighTier 3Supermarket Type1810.9444',\n",
       " 'FDA4310.895Low Fat0.065041581Fruits and Vegetables196.3794OUT0172007Tier 2Supermarket Type13121.2704',\n",
       " 'NCP1812.15Low Fat0.028760013Household151.4708OUT0172007Tier 2Supermarket Type14815.0656',\n",
       " 'FDK217.905Low Fat0.010053105Snack Foods249.0408OUT0182009MediumTier 3Supermarket Type26258.52',\n",
       " 'NCX549.195Low Fat0.048157338Household106.1622OUT0452002Tier 2Supermarket Type12117.244',\n",
       " 'DRK358.365Low Fat0.071958197Hard Drinks38.0506OUT0491999MediumTier 1Supermarket Type1796.9626',\n",
       " 'FDY2115.1Low Fat0.173481304Snack Foods194.511OUT0461997SmallTier 1Supermarket Type14910.275',\n",
       " 'FDI26Low Fat0.061082177Canned180.0344OUT0191985SmallTier 1Grocery Store892.172',\n",
       " 'FDM2010Low Fat0Fruits and Vegetables246.9144OUT0182009MediumTier 3Supermarket Type23185.1872',\n",
       " 'FDV277.97Regular0.040071131Meat87.3514OUT0452002Tier 2Supermarket Type11062.6168',\n",
       " 'FDF09Low Fat0.012090074Fruits and Vegetables38.2848OUT0271985MediumTier 3Supermarket Type3484.7024',\n",
       " 'FDY40Regular0.15028599Frozen Foods51.0692OUT0191985SmallTier 1Grocery Store147.8076',\n",
       " 'FDY45Low Fat0.026015519Snack Foods255.8356OUT0271985MediumTier 3Supermarket Type32543.356',\n",
       " 'FDC4617.7LF0.195068226Snack Foods185.4266OUT0101998Tier 3Grocery Store184.4266',\n",
       " 'FDH1919.35Low Fat0.033082215Meat172.5738OUT0352004SmallTier 2Supermarket Type14865.6664',\n",
       " 'FDZ0313.65Regular0.078946455Dairy186.024OUT0452002Tier 2Supermarket Type11118.544',\n",
       " 'DRH3717.6Low Fat0.041700756Soft Drinks164.8526OUT0452002Tier 2Supermarket Type12302.3364',\n",
       " 'NCI178.645Low Fat0.143422643Health and Hygiene95.841OUT0461997SmallTier 1Supermarket Type12027.361',\n",
       " 'FDJ5815.6Regular0.105296072Snack Foods170.1764OUT0461997SmallTier 1Supermarket Type13435.528',\n",
       " 'FDL1215.85Regular0.121531501Baking Goods59.222OUT0131987HighTier 3Supermarket Type1599.22',\n",
       " 'FDH3518.25Low Fat0Starchy Foods164.7526OUT0452002Tier 2Supermarket Type14604.6728',\n",
       " 'FDG027.855Low Fat0.011324862Canned189.6188OUT0172007Tier 2Supermarket Type12285.0256',\n",
       " 'NCZ187.825low fat0.186357148Household254.3698OUT0491999MediumTier 1Supermarket Type15580.7356',\n",
       " 'FDC298.39Regular0.024205661Frozen Foods114.0176OUT0461997SmallTier 1Supermarket Type12290.352',\n",
       " 'FDQ1012.85Low Fat0.033230816Snack Foods172.3422OUT0491999MediumTier 1Supermarket Type11207.0954',\n",
       " 'FDN48Low Fat0.113720344Baking Goods89.9804OUT0191985SmallTier 1Grocery Store643.1628',\n",
       " 'FDL0419Low Fat0.112556507Frozen Foods104.9622OUT0172007Tier 2Supermarket Type11587.933',\n",
       " 'FDV255.905Low Fat0Canned222.5456OUT0452002Tier 2Supermarket Type15305.0944',\n",
       " 'FDD587.76Low Fat0.059352241Snack Foods101.87OUT0461997SmallTier 1Supermarket Type11697.79',\n",
       " 'FDN0411.8reg0.014087057Frozen Foods180.3344OUT0461997SmallTier 1Supermarket Type11427.4752',\n",
       " 'FDV4516.75low fat0.045230944Snack Foods187.9556OUT0182009MediumTier 3Supermarket Type24693.89',\n",
       " 'NCL18Low Fat0.293417759Household194.6136OUT0191985SmallTier 1Grocery Store583.2408',\n",
       " 'FDR12Regular0.031382044Baking Goods171.3764OUT0271985MediumTier 3Supermarket Type33091.9752',\n",
       " 'FDG2015.5Regular0.12639886Fruits and Vegetables177.0028OUT0172007Tier 2Supermarket Type12479.4392',\n",
       " 'FDZ556.055Low Fat0.025403898Fruits and Vegetables160.992OUT0352004SmallTier 2Supermarket Type12716.464',\n",
       " 'FDQ49Regular0.039057677Breakfast155.963OUT0271985MediumTier 3Supermarket Type33285.723',\n",
       " 'FDN336.305Regular0.123115764Snack Foods95.6436OUT0461997SmallTier 1Supermarket Type1661.8052',\n",
       " 'FDN2720.85Low Fat0.039624006Meat117.2808OUT0491999MediumTier 1Supermarket Type11523.3504',\n",
       " 'FDW2020.75Low Fat0.040421193Fruits and Vegetables122.173OUT0101998Tier 3Grocery Store369.519',\n",
       " 'DRG278.895Low Fat0.105274111Dairy39.9138OUT0491999MediumTier 1Supermarket Type1690.4346',\n",
       " 'DRI2519.6Low Fat0.033970195Soft Drinks55.1614OUT0452002Tier 2Supermarket Type11381.535',\n",
       " 'FDA4419.7Low Fat0.053212652Fruits and Vegetables57.893OUT0352004SmallTier 2Supermarket Type1622.523',\n",
       " 'NCR179.8Low Fat0.024378706Health and Hygiene114.5492OUT0352004SmallTier 2Supermarket Type11274.3412',\n",
       " 'FDU04Low Fat0.009714595Frozen Foods120.0414OUT0191985SmallTier 1Grocery Store487.3656',\n",
       " 'FDF4112.15Low Fat0.131383762Frozen Foods246.046OUT0491999MediumTier 1Supermarket Type11231.73',\n",
       " 'FDB568.75Regular0.07461309Fruits and Vegetables187.4556OUT0352004SmallTier 2Supermarket Type13755.112',\n",
       " 'NCP18Low Fat0.028459761Household149.9708OUT0271985MediumTier 3Supermarket Type34363.6532',\n",
       " 'FDB568.75Regular0.074627201Fruits and Vegetables187.8556OUT0461997SmallTier 1Supermarket Type11314.2892',\n",
       " 'FDT2813.3Low Fat0.063695084Frozen Foods151.0708OUT0452002Tier 2Supermarket Type11805.6496',\n",
       " 'FDD10Regular0.045797829Snack Foods178.5344OUT0271985MediumTier 3Supermarket Type32854.9504',\n",
       " 'FDW578.31Regular0.115857223Snack Foods179.1028OUT0491999MediumTier 1Supermarket Type13896.2616',\n",
       " 'DRB4816.75Regular0.024832806Soft Drinks38.7822OUT0131987HighTier 3Supermarket Type1667.7974',\n",
       " 'FDP0919.75Low Fat0.034027909Snack Foods212.0902OUT0182009MediumTier 3Supermarket Type23185.853',\n",
       " 'FDH1417.1Regular0.0467696Canned141.1838OUT0131987HighTier 3Supermarket Type12247.7408',\n",
       " 'FDA4710.5Regular0.116576702Baking Goods163.121OUT0131987HighTier 3Supermarket Type11794.331',\n",
       " 'FDG126.635Regular0Baking Goods121.3098OUT0452002Tier 2Supermarket Type12530.7058',\n",
       " 'DRE60low fat0.278974075Soft Drinks225.372OUT0191985SmallTier 1Grocery Store679.116',\n",
       " 'DRK4914.15Low Fat0.035913805Soft Drinks41.4138OUT0131987HighTier 3Supermarket Type1812.276',\n",
       " 'FDD0313.3Low Fat0.079806266Dairy232.53OUT0461997SmallTier 1Supermarket Type1699.09',\n",
       " 'FDS528.89low fat0.005505481Frozen Foods102.4016OUT0172007Tier 2Supermarket Type12732.4432',\n",
       " 'FDW39Regular0.064625342Meat176.937OUT0191985SmallTier 1Grocery Store176.437',\n",
       " 'FDX34Low Fat0.071636937Snack Foods121.7098OUT0271985MediumTier 3Supermarket Type34097.3332',\n",
       " 'FDV119.1Regular0Breads173.2054OUT0452002Tier 2Supermarket Type13151.8972',\n",
       " 'FDD177.5Low Fat0.032677678Frozen Foods239.0906OUT0491999MediumTier 1Supermarket Type15942.265',\n",
       " 'FDZ1616.85Regular0.160760054Frozen Foods192.4478OUT0172007Tier 2Supermarket Type14843.695',\n",
       " 'FDZ467.485Low Fat0.06911065Snack Foods109.0228OUT0352004SmallTier 2Supermarket Type12542.0244',\n",
       " 'DRA1211.6Low Fat0.041177505Soft Drinks140.3154OUT0172007Tier 2Supermarket Type12552.6772',\n",
       " 'FDY5811.65Low Fat0.040081193Snack Foods227.0694OUT0182009MediumTier 3Supermarket Type21141.847',\n",
       " 'NCF1913Low Fat0.035307322Household47.5034OUT0172007Tier 2Supermarket Type1680.4476',\n",
       " 'DRJ1312.65LF0.063017847Soft Drinks159.0578OUT0452002Tier 2Supermarket Type12085.9514',\n",
       " 'FDB1420.25Regular0.171938781Canned92.512OUT0101998Tier 3Grocery Store186.424',\n",
       " 'FDJ388.6Regular0.040197932Canned190.153OUT0352004SmallTier 2Supermarket Type13036.048',\n",
       " 'FDW1112.6Low Fat0.049058014Breads62.7194OUT0172007Tier 2Supermarket Type1866.8716',\n",
       " 'FDL4017.7Low Fat0.01161096Frozen Foods95.041OUT0352004SmallTier 2Supermarket Type1868.869',\n",
       " 'DRI4914.15Low Fat0.183507295Soft Drinks82.4276OUT0461997SmallTier 1Supermarket Type11137.1864',\n",
       " 'FDV3819.25Low Fat0.102349519Dairy52.7956OUT0172007Tier 2Supermarket Type1928.1252',\n",
       " 'DRG238.88Low Fat0.086708987Hard Drinks151.7682OUT0131987HighTier 3Supermarket Type1762.341',\n",
       " 'NCP3020.5Low Fat0.032835147Household40.2822OUT0452002Tier 2Supermarket Type1707.0796',\n",
       " 'FDY25Low Fat0.033809913Canned180.5976OUT0271985MediumTier 3Supermarket Type37968.2944',\n",
       " 'NCH5413.5Low Fat0.07266912Household160.292OUT0461997SmallTier 1Supermarket Type11438.128',\n",
       " 'NCR53Low Fat0.144338493Health and Hygiene224.4404OUT0271985MediumTier 3Supermarket Type36976.2524',\n",
       " 'FDS528.89Low Fat0.009163216Frozen Foods101.7016OUT0101998Tier 3Grocery Store101.2016',\n",
       " 'FDG027.855Low Fat0.011307038Canned188.5188OUT0182009MediumTier 3Supermarket Type2952.094',\n",
       " 'NCO267.235Low Fat0.076855628Household116.0492OUT0461997SmallTier 1Supermarket Type11969.4364',\n",
       " 'FDH35Low Fat0.059956876Starchy Foods165.4526OUT0271985MediumTier 3Supermarket Type35262.4832',\n",
       " 'FDB516.92Low Fat0.038532062Dairy60.5852OUT0452002Tier 2Supermarket Type11314.2892',\n",
       " 'FDX449.3Low Fat0.043209581Fruits and Vegetables90.8172OUT0172007Tier 2Supermarket Type1535.3032',\n",
       " 'NCN0718.5Low Fat0.056816465Others132.1284OUT0101998Tier 3Grocery Store263.6568',\n",
       " 'NCC318.02Low Fat0.019866705Household154.5972OUT0352004SmallTier 2Supermarket Type11402.1748',\n",
       " 'NCX549.195Low Fat0.048331717Household105.1622OUT0172007Tier 2Supermarket Type11693.7952',\n",
       " 'NCO5512.8Low Fat0.091221855Others105.5938OUT0452002Tier 2Supermarket Type12143.876',\n",
       " 'NCC3016.6Low Fat0.027622076Household177.6344OUT0491999MediumTier 1Supermarket Type12676.516',\n",
       " 'FDI1614Regular0Frozen Foods53.064OUT0352004SmallTier 2Supermarket Type1905.488',\n",
       " 'FDP1618.6Low Fat0.039355947Frozen Foods246.3802OUT0491999MediumTier 1Supermarket Type17370.406',\n",
       " 'FDB1116Low Fat0.060836524Starchy Foods226.8404OUT0352004SmallTier 2Supermarket Type16301.1312',\n",
       " 'NCB0617.6Low Fat0.082316506Health and Hygiene160.692OUT0352004SmallTier 2Supermarket Type11597.92',\n",
       " 'FDA4521.25Low Fat0.155350299Snack Foods178.237OUT0352004SmallTier 2Supermarket Type1529.311',\n",
       " 'NCO267.235Low Fat0.076841095Household117.5492OUT0352004SmallTier 2Supermarket Type11969.4364',\n",
       " 'DRJ2514.6Low Fat0.151419185Soft Drinks50.3692OUT0172007Tier 2Supermarket Type11034.6532',\n",
       " 'FDR2813.85reg0.026001976Frozen Foods161.521OUT0182009MediumTier 3Supermarket Type21794.331',\n",
       " 'FDI0413.65Regular0.073209447Frozen Foods197.6426OUT0182009MediumTier 3Supermarket Type22768.3964',\n",
       " 'DRK12Low Fat0.041683481Soft Drinks31.29OUT0271985MediumTier 3Supermarket Type3898.83',\n",
       " 'FDX207.365Low Fat0.042560252Fruits and Vegetables226.172OUT0461997SmallTier 1Supermarket Type13169.208',\n",
       " 'NCI1818.35Low Fat0.014081156Household223.5746OUT0182009MediumTier 3Supermarket Type23589.9936',\n",
       " 'FDB365.465Regular0Baking Goods132.5626OUT0182009MediumTier 3Supermarket Type2262.3252',\n",
       " 'FDN1318.6Low Fat0.152918384Breakfast99.8358OUT0172007Tier 2Supermarket Type11910.1802',\n",
       " 'DRD2413.85Low Fat0.030969274Soft Drinks140.9154OUT0172007Tier 2Supermarket Type11701.7848',\n",
       " 'FDQ2814Regular0.060376776Frozen Foods154.5656OUT0131987HighTier 3Supermarket Type12471.4496',\n",
       " 'FDM2214Regular0.04192285Snack Foods54.764OUT0131987HighTier 3Supermarket Type11331.6',\n",
       " 'FDR07Low Fat0.077367431Fruits and Vegetables97.0094OUT0271985MediumTier 3Supermarket Type31808.9786',\n",
       " 'FDV255.905Low Fat0.045838211Canned222.5456OUT0182009MediumTier 3Supermarket Type23315.684',\n",
       " 'DRF497.27Low Fat0.071077939Soft Drinks114.2518OUT0461997SmallTier 1Supermarket Type12618.5914',\n",
       " 'FDW516.155Regular0.094659871Meat214.556OUT0461997SmallTier 1Supermarket Type12769.728',\n",
       " 'DRL0119.5Regular0.077608838Soft Drinks233.4958OUT0172007Tier 2Supermarket Type15375.0034',\n",
       " 'FDP2515.2Low Fat0.021327477Canned216.8824OUT0172007Tier 2Supermarket Type12838.9712',\n",
       " 'FDL5012.15Regular0.042485444Canned125.0046OUT0182009MediumTier 3Supermarket Type21743.0644',\n",
       " 'NCB30Low Fat0.025578526Household198.8084OUT0271985MediumTier 3Supermarket Type35555.4352',\n",
       " 'FDW1112.6Low Fat0.0489808Breads61.9194OUT0182009MediumTier 3Supermarket Type2619.194',\n",
       " 'NCM4314.5Low Fat0.019471688Others164.821OUT0352004SmallTier 2Supermarket Type12120.573',\n",
       " 'FDK4416.6Low Fat0.122918852Fruits and Vegetables173.0738OUT0172007Tier 2Supermarket Type13823.0236',\n",
       " 'FDM1511.8Regular0.057373797Meat151.4366OUT0131987HighTier 3Supermarket Type11360.2294',\n",
       " 'FDS3113.1Regular0.044155597Fruits and Vegetables178.8318OUT0131987HighTier 3Supermarket Type13969.4996',\n",
       " 'FDI3217.7Low Fat0.291865402Fruits and Vegetables115.1834OUT0101998Tier 3Grocery Store345.5502',\n",
       " 'FDR4717.85LF0Breads196.5794OUT0101998Tier 3Grocery Store585.2382',\n",
       " 'FDB3512.3Regular0.064750025Starchy Foods92.6804OUT0452002Tier 2Supermarket Type11010.6844',\n",
       " 'NCU0511.8Low Fat0.098312421Health and Hygiene81.4618OUT0101998Tier 3Grocery Store161.1236',\n",
       " 'DRY23Regular0.191013663Soft Drinks42.1112OUT0191985SmallTier 1Grocery Store42.6112',\n",
       " 'FDO2411.1Low Fat0.176573035Baking Goods157.4604OUT0452002Tier 2Supermarket Type13010.7476',\n",
       " 'FDQ28Regular0.060134441Frozen Foods153.0656OUT0271985MediumTier 3Supermarket Type36024.1584',\n",
       " 'FDV3911.3Low Fat0.007294652Meat198.1426OUT0452002Tier 2Supermarket Type1988.713',\n",
       " 'NCO17Low Fat0.128478462Health and Hygiene117.944OUT0191985SmallTier 1Grocery Store239.688',\n",
       " 'FDU505.75Regular0.075107656Dairy112.8176OUT0131987HighTier 3Supermarket Type11374.2112',\n",
       " 'FDT12Regular0.049381406Baking Goods226.8062OUT0271985MediumTier 3Supermarket Type34739.8302',\n",
       " 'FDK5811.35Regular0.045165796Snack Foods100.0016OUT0182009MediumTier 3Supermarket Type21012.016',\n",
       " 'FDO08Regular0.09415375Fruits and Vegetables165.7526OUT0191985SmallTier 1Grocery Store657.8104',\n",
       " 'NCW2914Low Fat0.028907832Health and Hygiene130.431OUT0491999MediumTier 1Supermarket Type1778.986',\n",
       " 'FDE0419.75Regular0.018059621Frozen Foods179.766OUT0452002Tier 2Supermarket Type12336.958',\n",
       " 'NCB196.525Low Fat0.090436094Household85.0882OUT0491999MediumTier 1Supermarket Type12233.0932',\n",
       " 'FDV1510.3Low Fat0.146399712Meat103.9648OUT0491999MediumTier 1Supermarket Type11661.8368',\n",
       " 'FDL585.78Regular0.074264356Snack Foods264.7568OUT0491999MediumTier 1Supermarket Type14745.8224',\n",
       " 'FDA0811.85Regular0.050186726Fruits and Vegetables164.1526OUT0452002Tier 2Supermarket Type13124.5994',\n",
       " 'FDT4316.35Low Fat0.020631654Fruits and Vegetables50.1324OUT0182009MediumTier 3Supermarket Type2467.3916',\n",
       " 'NCX06Low Fat0.01561108Household182.5976OUT0271985MediumTier 3Supermarket Type35070.7328',\n",
       " 'FDT2010.5Low Fat0.041395445Fruits and Vegetables37.6164OUT0461997SmallTier 1Supermarket Type1540.6296',\n",
       " 'FDB4119Regular0.097313129Frozen Foods48.0718OUT0461997SmallTier 1Supermarket Type1992.7078',\n",
       " 'NCN5514.6Low Fat0.059582996Others238.8538OUT0491999MediumTier 1Supermarket Type16008.845',\n",
       " 'FDE40Regular0.098663652Dairy62.9194OUT0271985MediumTier 3Supermarket Type32105.2596',\n",
       " 'FDX49reg0.101338651Canned232.63OUT0271985MediumTier 3Supermarket Type35359.69',\n",
       " 'NCM5318.75Low Fat0.052146456Health and Hygiene104.628OUT0452002Tier 2Supermarket Type1745.696',\n",
       " 'FDE365.26Regular0.041764487Baking Goods161.8868OUT0352004SmallTier 2Supermarket Type13275.736',\n",
       " 'FDN5718.25Low Fat0.054344186Snack Foods140.2154OUT0452002Tier 2Supermarket Type11701.7848',\n",
       " 'FDI24Low Fat0.078362484Baking Goods177.937OUT0271985MediumTier 3Supermarket Type36704.606',\n",
       " 'FDI1915.1Low Fat0.052339069Meat242.7512OUT0461997SmallTier 1Supermarket Type14119.9704',\n",
       " 'FDF2415.5Regular0.042464962Baking Goods81.5934OUT0101998Tier 3Grocery Store327.5736',\n",
       " 'FDG5213.65Low Fat0.065732883Frozen Foods45.7402OUT0491999MediumTier 1Supermarket Type1780.9834',\n",
       " 'DRF3616.1LF0.023625114Soft Drinks189.3846OUT0452002Tier 2Supermarket Type13630.6074',\n",
       " 'FDS45Regular0.051643608Snack Foods107.3622OUT0191985SmallTier 1Grocery Store317.5866',\n",
       " 'FDX4012.85Low Fat0.165694219Frozen Foods39.7164OUT0101998Tier 3Grocery Store231.6984',\n",
       " 'DRK129.5LF0.041878397Soft Drinks32.99OUT0352004SmallTier 2Supermarket Type1133.16',\n",
       " 'DRC2713.8Low Fat0.058091482Dairy245.1802OUT0352004SmallTier 2Supermarket Type15650.6446',\n",
       " 'FDL585.78Regular0Snack Foods263.7568OUT0172007Tier 2Supermarket Type12636.568',\n",
       " 'NCD3019.7Low Fat0.026903714Household96.0726OUT0452002Tier 2Supermarket Type11272.3438',\n",
       " 'NCZ5414.65Low Fat0Household161.5552OUT0101998Tier 3Grocery Store324.9104',\n",
       " 'FDE106.67Regular0.150554711Snack Foods130.0626OUT0101998Tier 3Grocery Store131.1626',\n",
       " 'FDR446.11Regular0Fruits and Vegetables131.2968OUT0101998Tier 3Grocery Store260.9936',\n",
       " 'FDP2813.65Regular0.134975628Frozen Foods260.0936OUT0101998Tier 3Grocery Store260.9936',\n",
       " 'FDX1517.2Low Fat0.15616879Meat160.6578OUT0131987HighTier 3Supermarket Type13690.5294',\n",
       " 'FDA396.32LF0Meat40.2822OUT0352004SmallTier 2Supermarket Type11139.1838',\n",
       " 'FDY244.88Regular0.133700752Baking Goods52.9298OUT0491999MediumTier 1Supermarket Type11995.4026',\n",
       " 'FDC605.425Regular0.115119905Baking Goods88.3514OUT0172007Tier 2Supermarket Type11416.8224',\n",
       " 'FDH2815.85Regular0.110030997Frozen Foods37.2506OUT0461997SmallTier 1Supermarket Type1265.6542',\n",
       " 'FDT257.5Low Fat0.051038045Canned121.7072OUT0172007Tier 2Supermarket Type13552.7088',\n",
       " 'DRJ1312.65Low Fat0.062837968Soft Drinks161.5578OUT0131987HighTier 3Supermarket Type12406.867',\n",
       " 'NCO07Low Fat0.017116983Others211.956OUT0191985SmallTier 1Grocery Store213.056',\n",
       " 'FDW2020.75Low Fat0.024129332Fruits and Vegetables124.173OUT0131987HighTier 3Supermarket Type12956.152',\n",
       " 'DRF27Low Fat0.049754975Dairy152.134OUT0191985SmallTier 1Grocery Store153.134',\n",
       " 'FDS499Low Fat0Canned79.7644OUT0352004SmallTier 2Supermarket Type11649.8524',\n",
       " 'FDX25Low Fat0.101561568Canned181.9292OUT0271985MediumTier 3Supermarket Type33101.2964',\n",
       " 'NCX42Low Fat0.005949644Household165.6526OUT0271985MediumTier 3Supermarket Type34769.1254',\n",
       " 'FDG33Regular0.13956116Seafood170.4764OUT0271985MediumTier 3Supermarket Type33435.528',\n",
       " 'FDL5614.1Low Fat0.126035694Fruits and Vegetables86.4198OUT0452002Tier 2Supermarket Type11133.8574',\n",
       " 'FDF147.55Low Fat0.027164679Canned152.334OUT0352004SmallTier 2Supermarket Type12603.278',\n",
       " 'NCD0613Low Fat0.099325278Household45.406OUT0461997SmallTier 1Supermarket Type1605.878',\n",
       " 'DRM47Low Fat0.04357366Hard Drinks192.8846OUT0271985MediumTier 3Supermarket Type32293.0152',\n",
       " 'FDS46Regular0.082741482Snack Foods118.7782OUT0191985SmallTier 1Grocery Store119.1782',\n",
       " 'FDB3512.3Regular0.064565202Starchy Foods92.9804OUT0131987HighTier 3Supermarket Type11929.4884',\n",
       " 'FDX21LF0.084554569Snack Foods109.8912OUT0271985MediumTier 3Supermarket Type32074.6328',\n",
       " 'NCU05Low Fat0.058451805Health and Hygiene79.9618OUT0271985MediumTier 3Supermarket Type3241.6854',\n",
       " 'NCR3817.25Low Fat0.113748685Household251.3724OUT0452002Tier 2Supermarket Type16795.1548',\n",
       " 'NCR1815.85Low Fat0.020603511Household42.7112OUT0172007Tier 2Supermarket Type1639.168',\n",
       " 'NCU4118.85Low Fat0.052044976Health and Hygiene192.1846OUT0352004SmallTier 2Supermarket Type13248.4382',\n",
       " 'FDY5616.35Regular0.062764429Fruits and Vegetables227.6062OUT0172007Tier 2Supermarket Type17222.5984',\n",
       " 'DRJ5114.1Low Fat0.087977262Dairy229.0668OUT0352004SmallTier 2Supermarket Type13225.1352',\n",
       " 'FDK217.905Low Fat0.010010425Snack Foods249.0408OUT0352004SmallTier 2Supermarket Type13755.112',\n",
       " 'FDY2512Low Fat0.033946163Canned179.3976OUT0131987HighTier 3Supermarket Type13440.8544',\n",
       " 'FDU4412.15Regular0.058414678Fruits and Vegetables163.4552OUT0352004SmallTier 2Supermarket Type1974.7312',\n",
       " 'FDL4310.1Low Fat0.027106459Meat75.367OUT0491999MediumTier 1Supermarket Type1535.969',\n",
       " 'FDF0517.5Low Fat0.027022883Frozen Foods262.491OUT0172007Tier 2Supermarket Type15259.82',\n",
       " 'DRF15Low Fat0.058153409Dairy152.034OUT0191985SmallTier 1Grocery Store306.268',\n",
       " 'FDL2017.1Low Fat0.128937661Fruits and Vegetables112.3886OUT0182009MediumTier 3Supermarket Type21779.0176',\n",
       " 'FDV327.785Low Fat0.088846306Fruits and Vegetables61.451OUT0491999MediumTier 1Supermarket Type1759.012',\n",
       " 'FDJ3411.8Regular0.09357779Snack Foods125.9704OUT0131987HighTier 3Supermarket Type11877.556',\n",
       " 'FDG0813.15Regular0.165694678Fruits and Vegetables171.8764OUT0452002Tier 2Supermarket Type13779.0808',\n",
       " 'FDQ04Low Fat0.148392623Frozen Foods41.5796OUT0191985SmallTier 1Grocery Store41.2796',\n",
       " 'FDW138.5Low Fat0.098438394Canned51.1324OUT0172007Tier 2Supermarket Type1259.662',\n",
       " 'NCI178.645Low Fat0.143303291Health and Hygiene96.341OUT0131987HighTier 3Supermarket Type1193.082',\n",
       " 'FDY0317.6Regular0.076276208Meat110.9202OUT0452002Tier 2Supermarket Type11687.803',\n",
       " 'FDS129.1Low Fat0.175103435Baking Goods127.5362OUT0172007Tier 2Supermarket Type14655.9394',\n",
       " 'FDJ5512.8Regular0.023511371Meat225.9404OUT0131987HighTier 3Supermarket Type14950.8888',\n",
       " 'DRK017.63Low Fat0.06105276Soft Drinks95.4436OUT0352004SmallTier 2Supermarket Type11418.154',\n",
       " 'FDG289.285Regular0.049559042Frozen Foods246.4144OUT0172007Tier 2Supermarket Type11225.072',\n",
       " 'FDY3813.6Regular0.119418124Dairy231.03OUT0452002Tier 2Supermarket Type15359.69',\n",
       " 'FDN018.895Low Fat0.072545601Breakfast176.237OUT0452002Tier 2Supermarket Type11764.37',\n",
       " 'NCR5416.35Low Fat0.090486828Household195.211OUT0131987HighTier 3Supermarket Type125\n",
       "\n",
       "*** WARNING: max output size exceeded, skipping output. ***\n",
       "\n",
       "3Supermarket Type11039.9796',\n",
       " 'DRK238.395Low Fat0.072088552Hard Drinks253.704OUT0491999MediumTier 1Supermarket Type14554.072',\n",
       " 'FDU114.785Low Fat0.092781435Breads119.7098OUT0452002Tier 2Supermarket Type11807.647',\n",
       " 'NCK065.03Low Fat0.008644894Household122.6756OUT0352004SmallTier 2Supermarket Type12665.8632',\n",
       " 'FDY0915.6Low Fat0.025342692Snack Foods174.3054OUT0172007Tier 2Supermarket Type11751.054',\n",
       " 'NCY187.285Low Fat0.031145743Household173.6054OUT0352004SmallTier 2Supermarket Type12626.581',\n",
       " 'FDA1020.35Low Fat0Snack Foods120.9072OUT0491999MediumTier 1Supermarket Type11470.0864',\n",
       " 'FDO3417.7Low Fat0.030108283Snack Foods165.9816OUT0172007Tier 2Supermarket Type14362.3216',\n",
       " 'FDE38Low Fat0.044391149Canned164.3842OUT0271985MediumTier 3Supermarket Type34476.1734',\n",
       " 'FDF4020.25Regular0.022639471Dairy248.4092OUT0172007Tier 2Supermarket Type12241.0828',\n",
       " 'FDY028.945Regular0Dairy264.791OUT0172007Tier 2Supermarket Type14733.838',\n",
       " 'FDS03Low Fat0.139419417Meat66.0826OUT0191985SmallTier 1Grocery Store258.3304',\n",
       " 'FDB5918.25Low Fat0.015278899Snack Foods199.0084OUT0461997SmallTier 1Supermarket Type13174.5344',\n",
       " 'NCQ4220.35Low Fat0.039329257Household127.6678OUT0491999MediumTier 1Supermarket Type12924.8594',\n",
       " 'FDO1516.75Regular0.008579863Meat72.3038OUT0491999MediumTier 1Supermarket Type1960.7494',\n",
       " 'DRN4712.1Low Fat0.028164527Hard Drinks178.166OUT0101998Tier 3Grocery Store539.298',\n",
       " 'FDA0318.5Regular0Dairy144.2102OUT0352004SmallTier 2Supermarket Type12041.3428',\n",
       " 'FDA0115Regular0.054367971Canned58.5904OUT0352004SmallTier 2Supermarket Type1996.0368',\n",
       " 'FDB3819.5Regular0.0273467Canned158.992OUT0461997SmallTier 1Supermarket Type11757.712',\n",
       " 'FDT5913.65Low Fat0.016001434Breads230.6668OUT0172007Tier 2Supermarket Type11842.9344',\n",
       " 'FDG0813.15Regular0.165328057Fruits and Vegetables170.6764OUT0352004SmallTier 2Supermarket Type13435.528',\n",
       " 'FDV56Regular0.013529884Fruits and Vegetables106.2596OUT0271985MediumTier 3Supermarket Type31402.1748',\n",
       " 'FDY2620.6reg0.030510526Dairy211.4244OUT0461997SmallTier 1Supermarket Type17833.8028',\n",
       " 'DRE136.28Low Fat0.027699863Soft Drinks87.9198OUT0352004SmallTier 2Supermarket Type11221.0772',\n",
       " 'FDE515.925Regular0.09646733Dairy42.8086OUT0461997SmallTier 1Supermarket Type1669.129',\n",
       " 'FDL4017.7Low Fat0.011636708Frozen Foods94.541OUT0452002Tier 2Supermarket Type11061.951',\n",
       " 'FDD5018.85Low Fat0.141642219Canned168.1132OUT0461997SmallTier 1Supermarket Type12874.9244',\n",
       " 'FDC04Low Fat0.044767801Dairy241.8854OUT0271985MediumTier 3Supermarket Type34592.0226',\n",
       " 'FDN1517.5Low Fat0.028009382Meat141.718OUT0101998Tier 3Grocery Store419.454',\n",
       " 'FDC4617.7Low Fat0.1164455Snack Foods182.8266OUT0131987HighTier 3Supermarket Type15163.9448',\n",
       " 'FDV5616.1Regular0.013584408Fruits and Vegetables107.7596OUT0131987HighTier 3Supermarket Type1323.5788',\n",
       " 'FDK439.8Low Fat0.026950104Meat128.402OUT0182009MediumTier 3Supermarket Type21265.02',\n",
       " 'NCR297.565Low Fat0.054751689Health and Hygiene54.793OUT0452002Tier 2Supermarket Type1622.523',\n",
       " 'FDY0317.6Regular0.076121831Meat111.7202OUT0461997SmallTier 1Supermarket Type11125.202',\n",
       " 'FDU4412.15Regular0.058516562Fruits and Vegetables164.1552OUT0491999MediumTier 1Supermarket Type15198.5664',\n",
       " 'FDZ049.31low fat0.037923509Frozen Foods61.651OUT0131987HighTier 3Supermarket Type1379.506',\n",
       " 'FDU1619.25Regular0.058365706Frozen Foods82.1908OUT0491999MediumTier 1Supermarket Type12432.8332',\n",
       " 'FDV079.5Low Fat0.031346387Fruits and Vegetables110.7228OUT0452002Tier 2Supermarket Type11657.842',\n",
       " 'NCL1915.35Low Fat0.015663185Others143.947OUT0131987HighTier 3Supermarket Type13006.087',\n",
       " 'FDW01Low Fat0.063750302Canned153.4682OUT0271985MediumTier 3Supermarket Type32287.023',\n",
       " 'FDC10Regular0.07252476Snack Foods120.3098OUT0271985MediumTier 3Supermarket Type31687.1372',\n",
       " 'DRC1217.85Low Fat0.038040837Soft Drinks189.1188OUT0172007Tier 2Supermarket Type13237.1196',\n",
       " 'DRK397.02Low Fat0.049823902Dairy82.225OUT0131987HighTier 3Supermarket Type12746.425',\n",
       " 'FDG24Low Fat0.014560297Baking Goods81.425OUT0271985MediumTier 3Supermarket Type31331.6',\n",
       " 'FDO04Low Fat0.026408698Frozen Foods53.2614OUT0271985MediumTier 3Supermarket Type3607.8754',\n",
       " 'DRB2512.3Low Fat0.069446588Soft Drinks106.3938OUT0352004SmallTier 2Supermarket Type1857.5504',\n",
       " 'FDK265.46Regular0.03217132Canned184.824OUT0352004SmallTier 2Supermarket Type14287.752',\n",
       " 'FDM5215.1Low Fat0.026046138Frozen Foods147.2076OUT0452002Tier 2Supermarket Type11773.6912',\n",
       " 'FDY0711.8Low Fat0.121848436Fruits and Vegetables46.8402OUT0452002Tier 2Supermarket Type1597.2226',\n",
       " 'NCO0619.25Low Fat0.108470504Household33.4558OUT0182009MediumTier 3Supermarket Type2441.4254',\n",
       " 'FDO1013.65Regular0Snack Foods55.8588OUT0452002Tier 2Supermarket Type11431.47',\n",
       " 'FDK3413.35Low Fat0.038494623Snack Foods240.2564OUT0131987HighTier 3Supermarket Type12860.2768',\n",
       " 'FDS33Regular0.122830885Snack Foods86.9514OUT0271985MediumTier 3Supermarket Type33364.9532',\n",
       " 'FDO4513.15Regular0.038029746Snack Foods88.6856OUT0452002Tier 2Supermarket Type11757.712',\n",
       " 'FDF0814.3Regular0.065207559Fruits and Vegetables89.8856OUT0461997SmallTier 1Supermarket Type1966.7416',\n",
       " 'FDH5812.3Low Fat0.037014587Snack Foods115.1834OUT0452002Tier 2Supermarket Type11958.1178',\n",
       " 'FDS037.825Low Fat0.133281968Meat63.2826OUT0101998Tier 3Grocery Store129.1652',\n",
       " 'DRF0319.1Low Fat0.045299563Dairy38.8138OUT0352004SmallTier 2Supermarket Type1365.5242',\n",
       " 'FDE028.71low fat0.121149472Canned93.7778OUT0131987HighTier 3Supermarket Type11783.6782',\n",
       " 'NCZ0619.6Low Fat0.094083303Household252.2698OUT0131987HighTier 3Supermarket Type12790.3678',\n",
       " 'FDW4919.5Low Fat0Canned179.3002OUT0491999MediumTier 1Supermarket Type12328.3026',\n",
       " 'FDR2315.85Low Fat0Breads174.737OUT0172007Tier 2Supermarket Type12822.992',\n",
       " 'NCJ29Low Fat0.035022503Health and Hygiene85.1224OUT0271985MediumTier 3Supermarket Type32045.3376',\n",
       " 'FDY3517.6Regular0.016060186Breads47.2402OUT0452002Tier 2Supermarket Type1505.3422',\n",
       " 'FDZ01Regular0.009014978Canned102.699OUT0271985MediumTier 3Supermarket Type33095.97',\n",
       " 'FDX1919.1Low Fat0.096733815Fruits and Vegetables233.1958OUT0461997SmallTier 1Supermarket Type15141.3076',\n",
       " 'FDG446.13Low Fat0.102607233Fruits and Vegetables54.0298OUT0182009MediumTier 3Supermarket Type2808.947',\n",
       " 'FDQ236.55Low Fat0.024521191Breads100.6332OUT0352004SmallTier 2Supermarket Type12665.8632',\n",
       " 'FDY2216.5Regular0.160624116Snack Foods143.8128OUT0172007Tier 2Supermarket Type12588.6304',\n",
       " 'NCN4117Low Fat0.052165855Health and Hygiene125.073OUT0131987HighTier 3Supermarket Type11108.557',\n",
       " 'FDA4710.5Regular0Baking Goods162.421OUT0452002Tier 2Supermarket Type11304.968',\n",
       " 'NCD198.93Low Fat0Household55.4614OUT0452002Tier 2Supermarket Type1331.5684',\n",
       " 'FDO36Low Fat0.07753654Baking Goods180.866OUT0271985MediumTier 3Supermarket Type33235.788',\n",
       " 'FDH2016.1Regular0.024928351Fruits and Vegetables95.141OUT0131987HighTier 3Supermarket Type13089.312',\n",
       " 'FDN12LF0.08071118Baking Goods113.1544OUT0271985MediumTier 3Supermarket Type33355.632',\n",
       " 'NCJ305.82Low Fat0.080968973Household171.379OUT0182009MediumTier 3Supermarket Type22037.348',\n",
       " 'FDB0916.25Low Fat0.057485328Fruits and Vegetables126.2046OUT0491999MediumTier 1Supermarket Type11867.569',\n",
       " 'FDA0913.35Regular0.149669322Snack Foods180.266OUT0452002Tier 2Supermarket Type1898.83',\n",
       " 'FDL24Regular0.024776026Baking Goods172.3422OUT0271985MediumTier 3Supermarket Type37759.899',\n",
       " 'FDP035.15Regular0.061165512Meat125.6388OUT0352004SmallTier 2Supermarket Type12848.2924',\n",
       " 'FDR58Low Fat0.041718456Snack Foods94.5462OUT0271985MediumTier 3Supermarket Type32868.9322',\n",
       " 'FDO137.865Low Fat0.06100886Breakfast166.0526OUT0131987HighTier 3Supermarket Type13617.9572',\n",
       " 'DRD499.895Low Fat0.167799329Soft Drinks239.4564OUT0352004SmallTier 2Supermarket Type15243.8408',\n",
       " 'NCF4217.35Low Fat0.167351411Household176.0712OUT0352004SmallTier 2Supermarket Type12109.2544',\n",
       " 'DRK358.365Low Fat0.071832909Hard Drinks36.1506OUT0352004SmallTier 2Supermarket Type1721.0614',\n",
       " 'FDR586.675Low Fat0.041886576Snack Foods92.1462OUT0131987HighTier 3Supermarket Type11203.1006',\n",
       " 'FDQ15Regular0.150341867Meat83.1276OUT0271985MediumTier 3Supermarket Type31868.2348',\n",
       " 'NCP5017.35Low Fat0.020542737Others80.5618OUT0131987HighTier 3Supermarket Type1322.2472',\n",
       " 'FDV4516.75Low Fat0.045047439Snack Foods186.4556OUT0461997SmallTier 1Supermarket Type13942.8676',\n",
       " 'DRP3518.85Low Fat0.091008572Hard Drinks129.6336OUT0491999MediumTier 1Supermarket Type13195.84',\n",
       " 'FDN236.575Regular0.07549348Breads143.5444OUT0352004SmallTier 2Supermarket Type13338.3212',\n",
       " 'FDS4412.65Regular0.156286566Fruits and Vegetables238.9538OUT0491999MediumTier 1Supermarket Type14086.0146',\n",
       " 'NCI5415.2Low Fat0.033735909Household110.9912OUT0182009MediumTier 3Supermarket Type21856.2504',\n",
       " 'FDH40Regular0.078547351Frozen Foods79.3276OUT0271985MediumTier 3Supermarket Type31380.8692',\n",
       " 'FDF467.07Low Fat0.093653464Snack Foods113.3834OUT0352004SmallTier 2Supermarket Type11267.0174',\n",
       " 'FDA2113.65Low Fat0.036107198Snack Foods184.4924OUT0182009MediumTier 3Supermarket Type25182.5872',\n",
       " 'FDI41Regular0.109003832Frozen Foods145.2418OUT0191985SmallTier 1Grocery Store147.1418',\n",
       " 'FDE357.06Regular0.073480266Starchy Foods58.8904OUT0101998Tier 3Grocery Store58.5904',\n",
       " 'DRJ2411.8Low Fat0.113234914Soft Drinks186.3924OUT0131987HighTier 3Supermarket Type15367.6796',\n",
       " 'NCK17Low Fat0.037711338Health and Hygiene41.548OUT0271985MediumTier 3Supermarket Type31358.232',\n",
       " 'FDA159.3Low Fat0.016054884Dairy250.2092OUT0452002Tier 2Supermarket Type15976.2208',\n",
       " 'FDD36Low Fat0.021170542Baking Goods117.6124OUT0271985MediumTier 3Supermarket Type32251.7356',\n",
       " 'DRD60Low Fat0.065188619Soft Drinks181.1634OUT0191985SmallTier 1Grocery Store181.7634',\n",
       " 'FDA4613.6Low Fat0.117537563Snack Foods195.4136OUT0131987HighTier 3Supermarket Type15443.5808',\n",
       " 'NCO5419.5Low Fat0.01430324Household57.2614OUT0452002Tier 2Supermarket Type11547.3192',\n",
       " 'FDL4819.35Regular0.137697119Baking Goods47.1034OUT0101998Tier 3Grocery Store145.8102',\n",
       " 'NCM19Low Fat0.047008497Others112.0202OUT0271985MediumTier 3Supermarket Type35063.409',\n",
       " 'FDS3113.1reg0Fruits and Vegetables178.9318OUT0491999MediumTier 1Supermarket Type13067.3406',\n",
       " 'FDV1216.7Regular0.060863167Baking Goods97.6384OUT0352004SmallTier 2Supermarket Type12857.6136',\n",
       " 'FDQ315.785Regular0Fruits and Vegetables87.1856OUT0352004SmallTier 2Supermarket Type11406.1696',\n",
       " 'FDK55Low Fat0.045105407Meat89.4172OUT0191985SmallTier 1Grocery Store178.4344',\n",
       " 'DRG156.13Low Fat0.076855207Dairy59.3536OUT0491999MediumTier 1Supermarket Type11470.0864',\n",
       " 'NCR179.8Low Fat0.024482644Health and Hygiene116.2492OUT0182009MediumTier 3Supermarket Type22896.23',\n",
       " 'FDV01Regular0Canned154.6314OUT0271985MediumTier 3Supermarket Type36515.5188',\n",
       " 'FDT217.42Low Fat0.020474913Snack Foods248.4092OUT0182009MediumTier 3Supermarket Type2996.0368',\n",
       " 'FDT1016.7Regular0.062044506Snack Foods57.4562OUT0461997SmallTier 1Supermarket Type1948.0992',\n",
       " 'FDL56Low Fat0.220225608Fruits and Vegetables85.6198OUT0191985SmallTier 1Grocery Store87.2198',\n",
       " 'FDS499Low Fat0.079794329Canned80.1644OUT0172007Tier 2Supermarket Type11178.466',\n",
       " 'FDT32Regular0.114916546Fruits and Vegetables188.4214OUT0191985SmallTier 1Grocery Store565.2642',\n",
       " 'NCX426.36Low Fat0.00597362Household164.5526OUT0131987HighTier 3Supermarket Type12137.8838',\n",
       " 'FDX2617.7LF0.146973462Dairy184.1292OUT0101998Tier 3Grocery Store547.2876',\n",
       " 'FDN0216.5Low Fat0.07376631Canned208.5638OUT0131987HighTier 3Supermarket Type12691.8294',\n",
       " 'FDJ40Regular0.049349121Frozen Foods108.6912OUT0271985MediumTier 3Supermarket Type33057.3536',\n",
       " 'FDU13low fat0.328390948Canned146.0418OUT0191985SmallTier 1Grocery Store588.5672',\n",
       " 'DRE2711.85Low Fat0.13267058Dairy96.4726OUT0461997SmallTier 1Supermarket Type1978.726',\n",
       " 'FDS2710.195Regular0.012455787Meat197.511OUT0352004SmallTier 2Supermarket Type12356.932',\n",
       " 'FDU44Regular0.058142797Fruits and Vegetables162.1552OUT0271985MediumTier 3Supermarket Type33086.6488',\n",
       " 'DRM59Low Fat0.006289291Hard Drinks153.2998OUT0191985SmallTier 1Grocery Store461.3994',\n",
       " 'FDT0813.65Low Fat0.04929502Fruits and Vegetables150.505OUT0491999MediumTier 1Supermarket Type12696.49',\n",
       " 'FDL4620.35low fat0.054362695Snack Foods117.9466OUT0172007Tier 2Supermarket Type11649.8524',\n",
       " 'NCV3020.2Low Fat0.110356797Household62.051OUT0101998Tier 3Grocery Store126.502',\n",
       " 'FDP5113.85Regular0.085274988Meat119.6124OUT0461997SmallTier 1Supermarket Type12014.7108',\n",
       " 'FDA518.05Regular0.164542555Dairy112.2518OUT0131987HighTier 3Supermarket Type11707.777',\n",
       " 'FDM467.365Low Fat0.160292264Snack Foods94.712OUT0452002Tier 2Supermarket Type1932.12',\n",
       " 'FDK0212.5Low Fat0.112859454Canned118.344OUT0172007Tier 2Supermarket Type12157.192',\n",
       " 'FDJ577.42Regular0.021569566Seafood184.8582OUT0352004SmallTier 2Supermarket Type14643.955',\n",
       " 'FDJ45Low Fat0.073055148Seafood33.7216OUT0271985MediumTier 3Supermarket Type31280.9992',\n",
       " 'NCB316.235Low Fat0.119345629Household261.991OUT0172007Tier 2Supermarket Type12366.919',\n",
       " 'FDJ0312.35Regular0.072334667Dairy49.1692OUT0131987HighTier 3Supermarket Type1886.8456',\n",
       " 'FDT506.75Regular0.108148913Dairy95.6752OUT0131987HighTier 3Supermarket Type1958.752',\n",
       " 'NCY4116.75Low Fat0.07585337Health and Hygiene36.8532OUT0491999MediumTier 1Supermarket Type11150.5024',\n",
       " 'FDJ6019.35Regular0.062655235Baking Goods163.3184OUT0452002Tier 2Supermarket Type12641.8944',\n",
       " 'FDZ359.6Regular0.022278477Breads102.499OUT0461997SmallTier 1Supermarket Type11547.985',\n",
       " 'FDS2119.85Regular0.020961192Snack Foods62.0194OUT0182009MediumTier 3Supermarket Type2619.194',\n",
       " 'FDM5215.1Low Fat0.025993423Frozen Foods147.4076OUT0461997SmallTier 1Supermarket Type12808.3444',\n",
       " 'FDQ08Regular0.018838681Fruits and Vegetables62.9536OUT0271985MediumTier 3Supermarket Type32266.3832',\n",
       " 'FDQ566.59Low Fat0.105577348Fruits and Vegetables85.6908OUT0352004SmallTier 2Supermarket Type11929.4884',\n",
       " 'FDS4716.75Low Fat0.129086113Breads89.4856OUT0491999MediumTier 1Supermarket Type11054.6272',\n",
       " 'DRM4815.2Low Fat0.113125627Soft Drinks38.6848OUT0452002Tier 2Supermarket Type11155.8288',\n",
       " 'FDW4613Regular0.070699313Snack Foods65.7484OUT0172007Tier 2Supermarket Type11174.4712',\n",
       " 'FDW275.86Regular0.151467821Meat154.1314OUT0182009MediumTier 3Supermarket Type23412.8908',\n",
       " 'NCQ0511.395Low Fat0.03616416Health and Hygiene150.1708OUT0101998Tier 3Grocery Store300.9416',\n",
       " 'FDU4020.85Low Fat0.062606583Frozen Foods192.2478OUT0101998Tier 3Grocery Store387.4956',\n",
       " 'DRE12Low Fat0.0704378Soft Drinks112.886OUT0271985MediumTier 3Supermarket Type32942.836',\n",
       " 'FDX355.035Regular0.079844043Breads226.3036OUT0131987HighTier 3Supermarket Type14098.6648',\n",
       " 'FDD5111.15Low Fat0.120139206Dairy45.0744OUT0491999MediumTier 1Supermarket Type1452.744',\n",
       " 'FDY276.38Low Fat0.032028115Dairy178.3344OUT0182009MediumTier 3Supermarket Type23211.8192',\n",
       " 'NCN068.39Low Fat0.120497266Household162.2868OUT0461997SmallTier 1Supermarket Type12620.5888',\n",
       " 'FDR575.675Regular0.023492524Snack Foods155.5288OUT0352004SmallTier 2Supermarket Type11414.1592',\n",
       " 'FDL3215.7Regular0.122657336Fruits and Vegetables110.1544OUT0491999MediumTier 1Supermarket Type11565.9616',\n",
       " 'FDW4613reg0.070588037Snack Foods65.9484OUT0182009MediumTier 3Supermarket Type21043.9744',\n",
       " 'NCO17Low Fat0.073024401Health and Hygiene121.844OUT0271985MediumTier 3Supermarket Type33115.944',\n",
       " 'FDR1913.5Regular0.159587755Fruits and Vegetables145.3102OUT0131987HighTier 3Supermarket Type1729.051',\n",
       " 'FDJ338.895Regular0.088821765Snack Foods125.173OUT0172007Tier 2Supermarket Type12956.152',\n",
       " 'FDB1510.895Low Fat0.136810742Dairy263.0568OUT0461997SmallTier 1Supermarket Type1527.3136',\n",
       " 'FDA5216.2Regular0.128682722Frozen Foods178.437OUT0452002Tier 2Supermarket Type11058.622',\n",
       " 'FDZ08Regular0.109459733Fruits and Vegetables84.1592OUT0271985MediumTier 3Supermarket Type31320.9472',\n",
       " 'FDR2715.1Regular0.096644015Meat131.9942OUT0172007Tier 2Supermarket Type13047.3666',\n",
       " 'NCK427.475Low Fat0.013120028Household217.6192OUT0461997SmallTier 1Supermarket Type11725.7536',\n",
       " 'FDZ12Low Fat0Baking Goods144.847OUT0191985SmallTier 1Grocery Store143.147',\n",
       " 'FDM6010.8Regular0.048339408Baking Goods41.5138OUT0182009MediumTier 3Supermarket Type2446.7518',\n",
       " 'NCI3120Low Fat0.08165845Others35.019OUT0182009MediumTier 3Supermarket Type2585.904',\n",
       " 'FDX3914.3Regular0.04975339Meat210.3586OUT0491999MediumTier 1Supermarket Type16331.758',\n",
       " 'NCV0510.1Low Fat0.030379382Health and Hygiene153.4656OUT0172007Tier 2Supermarket Type11853.5872',\n",
       " 'FDX1617.85LF0.065810045Frozen Foods149.105OUT0461997SmallTier 1Supermarket Type12247.075',\n",
       " 'DRK129.5Low Fat0Soft Drinks32.89OUT0101998Tier 3Grocery Store33.29',\n",
       " 'NCA0520.75Low Fat0.025272781Health and Hygiene146.6734OUT0172007Tier 2Supermarket Type1445.4202',\n",
       " 'DRG5112.1Low Fat0.019314961Dairy164.6526OUT0101998Tier 3Grocery Store657.8104',\n",
       " 'NCR3020.6Low Fat0.071282168Household74.4696OUT0182009MediumTier 3Supermarket Type2223.7088',\n",
       " 'NCE317.67Low Fat0.184843579Household33.1216OUT0461997SmallTier 1Supermarket Type1727.0536',\n",
       " 'FDM56Low Fat0.122896411Fruits and Vegetables111.1912OUT0191985SmallTier 1Grocery Store218.3824',\n",
       " 'FDP2420.6Low Fat0.082935004Baking Goods119.5756OUT0131987HighTier 3Supermarket Type12665.8632',\n",
       " 'DRM3715.35Low Fat0.161350176Soft Drinks196.6768OUT0101998Tier 3Grocery Store591.2304',\n",
       " 'FDN565.46Regular0.106968096Fruits and Vegetables142.6786OUT0131987HighTier 3Supermarket Type12311.6576',\n",
       " 'DRE609.395Low Fat0.159582185Soft Drinks224.772OUT0491999MediumTier 1Supermarket Type17017.532',\n",
       " 'FDW49Low Fat0.14453827Canned180.6002OUT0191985SmallTier 1Grocery Store895.501',\n",
       " 'FDM2010Low Fat0.038685802Fruits and Vegetables243.8144OUT0461997SmallTier 1Supermarket Type14655.2736',\n",
       " 'FDK15Low Fat0.172309903Meat98.2042OUT0191985SmallTier 1Grocery Store198.4084',\n",
       " 'FDK487.445Low Fat0.037690731Baking Goods73.3354OUT0491999MediumTier 1Supermarket Type1451.4124',\n",
       " 'FDO49Regular0.05787008Breakfast49.7008OUT0191985SmallTier 1Grocery Store50.6008',\n",
       " 'FDC0915.5Regular0.026409147Fruits and Vegetables102.1332OUT0182009MediumTier 3Supermarket Type2615.1992',\n",
       " 'NCZ4119.85Low Fat0.064367627Health and Hygiene126.1704OUT0131987HighTier 3Supermarket Type1876.1928',\n",
       " 'FDP1911.5Low Fat0.173516063Fruits and Vegetables128.1652OUT0461997SmallTier 1Supermarket Type12454.1388',\n",
       " 'FDQ24Low Fat0.12898088Baking Goods250.4724OUT0191985SmallTier 1Grocery Store251.6724',\n",
       " 'DRL1110.5Low Fat0.048115543Hard Drinks159.0946OUT0452002Tier 2Supermarket Type14102.6596',\n",
       " 'FDO3619.7Low Fat0.077899109Baking Goods177.766OUT0352004SmallTier 2Supermarket Type12696.49',\n",
       " 'FDN52Regular0.13093275Frozen Foods86.9198OUT0271985MediumTier 3Supermarket Type31569.9564',\n",
       " 'FDF2110.3Regular0.098464979Fruits and Vegetables188.653OUT0101998Tier 3Grocery Store189.753',\n",
       " 'FDU4020.85Low Fat0.037372847Frozen Foods192.7478OUT0131987HighTier 3Supermarket Type13099.9648',\n",
       " 'FDS5113.35Low Fat0.032230526Meat61.4194OUT0491999MediumTier 1Supermarket Type1743.0328',\n",
       " 'FDE4512.1Low Fat0.040357315Fruits and Vegetables177.8002OUT0461997SmallTier 1Supermarket Type11611.9018',\n",
       " 'FDX5020.1Low Fat0.07461309Dairy108.7228OUT0352004SmallTier 2Supermarket Type11215.7508',\n",
       " 'NCN14Low Fat0.160936178Others184.2608OUT0191985SmallTier 1Grocery Store367.5216',\n",
       " 'FDQ2121.25Low Fat0.019502354Snack Foods120.8756OUT0182009MediumTier 3Supermarket Type23150.5656',\n",
       " 'FDV57Regular0.065577449Snack Foods181.766OUT0271985MediumTier 3Supermarket Type37370.406',\n",
       " 'FDB446.655Low Fat0.016944719Fruits and Vegetables209.2586OUT0131987HighTier 3Supermarket Type12954.8204',\n",
       " 'FDG5213.65Low Fat0.065576228Frozen Foods47.7402OUT0131987HighTier 3Supermarket Type1643.1628',\n",
       " 'FDL38Regular0.02579577Canned88.4172OUT0191985SmallTier 1Grocery Store89.2172',\n",
       " 'NCS5413.6Low Fat0.010008699Household176.737OUT0491999MediumTier 1Supermarket Type14940.236',\n",
       " 'DRL3715.5Low Fat0.053362086Soft Drinks41.577OUT0352004SmallTier 2Supermarket Type1735.709',\n",
       " 'FDA4310.895Low Fat0.064621927Fruits and Vegetables196.6794OUT0131987HighTier 3Supermarket Type11170.4764',\n",
       " 'FDZ3919.7Regular0.018126724Meat101.799OUT0172007Tier 2Supermarket Type11135.189',\n",
       " 'FDG458.1Low Fat0Fruits and Vegetables211.8902OUT0182009MediumTier 3Supermarket Type23823.0236',\n",
       " 'FDH1021Low Fat0.049263979Snack Foods195.0478OUT0131987HighTier 3Supermarket Type11549.9824',\n",
       " 'FDO1013.65Regular0.021343732Snack Foods58.3588OUT0101998Tier 3Grocery Store114.5176',\n",
       " 'FDS35LF0.110681931Breads63.2826OUT0271985MediumTier 3Supermarket Type31033.3216',\n",
       " 'FDI41Regular0.061955439Frozen Foods145.1418OUT0271985MediumTier 3Supermarket Type34561.3958',\n",
       " 'FDN21LF0.076483451Snack Foods163.1236OUT0271985MediumTier 3Supermarket Type32416.854',\n",
       " 'NCO1813.15Low Fat0.024701262Household176.8686OUT0452002Tier 2Supermarket Type12133.2232',\n",
       " 'FDB3415.25Low Fat0.02671821Snack Foods85.2198OUT0182009MediumTier 3Supermarket Type21482.7366',\n",
       " 'FDD0519.35Low Fat0.016597651Frozen Foods121.5098OUT0131987HighTier 3Supermarket Type12892.2352',\n",
       " 'FDX59Low Fat0.0514111Breads33.0558OUT0271985MediumTier 3Supermarket Type3984.7182',\n",
       " 'FDZ2317.75Regular0.112985849Baking Goods185.424OUT0101998Tier 3Grocery Store745.696',\n",
       " 'FDX2720.7Regular0.11411709Dairy92.7436OUT0461997SmallTier 1Supermarket Type11323.6104',\n",
       " 'FDV079.5Low Fat0Fruits and Vegetables110.4228OUT0172007Tier 2Supermarket Type11547.3192',\n",
       " 'FDR1411.65Low Fat0.175033524Dairy55.5298OUT0172007Tier 2Supermarket Type1647.1576',\n",
       " 'FDO0121.1Regular0.020760673Breakfast128.7994OUT0452002Tier 2Supermarket Type11798.9916',\n",
       " 'FDO137.865Low Fat0.061405051Breakfast166.3526OUT0172007Tier 2Supermarket Type11973.4312',\n",
       " 'FDU2512.35Low Fat0.026676216Canned57.0246OUT0352004SmallTier 2Supermarket Type11737.738',\n",
       " 'NCK54Low Fat0.029380407Household114.715OUT0271985MediumTier 3Supermarket Type31864.24',\n",
       " 'FDZ5616.25Low Fat0.025715562Fruits and Vegetables168.1474OUT0131987HighTier 3Supermarket Type11516.0266',\n",
       " 'NCL5512.15Low Fat0.065026434Others253.704OUT0172007Tier 2Supermarket Type15060.08',\n",
       " 'FDD5910.5Regular0.066315023Starchy Foods78.296OUT0452002Tier 2Supermarket Type12157.192',\n",
       " 'FDJ5512.8Regular0.023664054Meat226.0404OUT0172007Tier 2Supermarket Type15400.9696',\n",
       " 'FDA45Low Fat0.154627247Snack Foods177.637OUT0271985MediumTier 3Supermarket Type35469.547',\n",
       " 'DRF234.61Low Fat0.205294827Hard Drinks172.8396OUT0101998Tier 3Grocery Store174.4396',\n",
       " 'FDT497Low Fat0.152261999Canned105.728OUT0172007Tier 2Supermarket Type11278.336',\n",
       " 'NCO1710Low Fat0Health and Hygiene120.644OUT0352004SmallTier 2Supermarket Type11917.504',\n",
       " 'FDH226.405Low Fat0.136275173Snack Foods128.1678OUT0352004SmallTier 2Supermarket Type11017.3424',\n",
       " 'FDT349.3Low Fat0.174621343Snack Foods104.2964OUT0491999MediumTier 1Supermarket Type11998.7316',\n",
       " 'FDB3911.6Low Fat0.038597077Dairy57.9272OUT0452002Tier 2Supermarket Type1615.1992',\n",
       " 'FDQ2216.75Low Fat0.029799965Snack Foods39.1822OUT0452002Tier 2Supermarket Type1314.2576',\n",
       " 'NCN4312.15Low Fat0.011314423Others122.973OUT0101998Tier 3Grocery Store123.173',\n",
       " 'FDG5714.7Low Fat0.072410764Fruits and Vegetables48.2034OUT0491999MediumTier 1Supermarket Type11020.6714',\n",
       " 'FDR2020Regular0.028118435Fruits and Vegetables46.7744OUT0352004SmallTier 2Supermarket Type11222.4088',\n",
       " 'FDU22Low Fat0.163350221Snack Foods120.2124OUT0191985SmallTier 1Grocery Store474.0496',\n",
       " 'NCC437.39Low Fat0.093307713Household250.9066OUT0172007Tier 2Supermarket Type11506.0396',\n",
       " 'FDP0120.75Regular0.105994654Breakfast150.5682OUT0101998Tier 3Grocery Store762.341',\n",
       " 'FDF529.3Low Fat0.067055339Frozen Foods184.2292OUT0182009MediumTier 3Supermarket Type21277.0044',\n",
       " 'FDZ3310.195Low Fat0.107376743Snack Foods147.6076OUT0352004SmallTier 2Supermarket Type13547.3824',\n",
       " 'FDP48Regular0.043810028Baking Goods181.395OUT0271985MediumTier 3Supermarket Type36042.135',\n",
       " 'FDW567.68Low Fat0.118672537Fruits and Vegetables192.2162OUT0101998Tier 3Grocery Store384.8324',\n",
       " 'FDC2610.195Low Fat0.126897925Canned110.6886OUT0182009MediumTier 3Supermarket Type21223.0746',\n",
       " 'FDF349.3Regular0.014076503Snack Foods200.0084OUT0182009MediumTier 3Supermarket Type22182.4924',\n",
       " 'FDJ338.895Regular0.088305478Snack Foods123.473OUT0352004SmallTier 2Supermarket Type11478.076',\n",
       " 'FDD0416Low Fat0.090153756Dairy143.2154OUT0452002Tier 2Supermarket Type11418.154',\n",
       " 'NCJ3119.2Low Fat0.182501773Others239.2196OUT0131987HighTier 3Supermarket Type15061.4116',\n",
       " 'FDO5720.75Low Fat0.108710162Snack Foods161.7578OUT0461997SmallTier 1Supermarket Type12888.2404',\n",
       " 'FDM36Regular0.058446424Baking Goods172.1422OUT0271985MediumTier 3Supermarket Type35518.1504',\n",
       " 'NCY0513.5Low Fat0.054990009Health and Hygiene35.2874OUT0461997SmallTier 1Supermarket Type1741.0354',\n",
       " 'FDS44Regular0.15528831Fruits and Vegetables241.7538OUT0271985MediumTier 3Supermarket Type39133.4444',\n",
       " 'FDZ3919.7Regular0.018021361Meat101.199OUT0352004SmallTier 2Supermarket Type11857.582',\n",
       " 'NCM316.095Low Fat0.0816559Others143.3154OUT0172007Tier 2Supermarket Type12836.308',\n",
       " 'DRK118.21Low Fat0.010755465Hard Drinks150.8392OUT0131987HighTier 3Supermarket Type12982.784',\n",
       " 'FDO3417.7Low Fat0.050111641Snack Foods165.9816OUT0101998Tier 3Grocery Store167.7816',\n",
       " 'NCL3018.1Low Fat0.048931174Household127.3336OUT0352004SmallTier 2Supermarket Type11150.5024',\n",
       " 'FDK285.695Low Fat0.065960909Frozen Foods259.2646OUT0172007Tier 2Supermarket Type19275.9256',\n",
       " 'DRJ3920.25Low Fat0.036319195Dairy219.3482OUT0352004SmallTier 2Supermarket Type15038.1086',\n",
       " ...]"
      ]
     },
     "metadata": {
      "application/vnd.databricks.v1+output": {
       "addedWidgets": {},
       "arguments": {},
       "data": "Out[10]: ['Item_IdentifierItem_WeightItem_Fat_ContentItem_VisibilityItem_TypeItem_MRPOutlet_IdentifierOutlet_Establishment_YearOutlet_SizeOutlet_Location_TypeOutlet_TypeItem_Outlet_Sales',\n 'FDA159.3Low Fat0.016047301Dairy249.8092OUT0491999MediumTier 1Supermarket Type13735.138',\n 'DRC015.92Regular0.019278216Soft Drinks48.2692OUT0182009MediumTier 3Supermarket Type2443.4228',\n 'FDN1517.5Low Fat0.016760075Meat141.618OUT0491999MediumTier 1Supermarket Type12097.27',\n 'FDX0719.2Regular0Fruits and Vegetables182.095OUT0101998Tier 3Grocery Store732.38',\n 'NCD198.93Low Fat0Household53.8614OUT0131987HighTier 3Supermarket Type1994.7052',\n 'FDP3610.395Regular0Baking Goods51.4008OUT0182009MediumTier 3Supermarket Type2556.6088',\n 'FDO1013.65Regular0.012741089Snack Foods57.6588OUT0131987HighTier 3Supermarket Type1343.5528',\n 'FDP10Low Fat0.127469857Snack Foods107.7622OUT0271985MediumTier 3Supermarket Type34022.7636',\n 'FDH1716.2Regular0.016687114Frozen Foods96.9726OUT0452002Tier 2Supermarket Type11076.5986',\n 'FDU2819.2Regular0.09444959Frozen Foods187.8214OUT0172007Tier 2Supermarket Type14710.535',\n 'FDY0711.8Low Fat0Fruits and Vegetables45.5402OUT0491999MediumTier 1Supermarket Type11516.0266',\n 'FDA0318.5Regular0.045463773Dairy144.1102OUT0461997SmallTier 1Supermarket Type12187.153',\n 'FDX3215.1Regular0.1000135Fruits and Vegetables145.4786OUT0491999MediumTier 1Supermarket Type11589.2646',\n 'FDS4617.6Regular0.047257328Snack Foods119.6782OUT0461997SmallTier 1Supermarket Type12145.2076',\n 'FDF3216.35Low Fat0.0680243Fruits and Vegetables196.4426OUT0131987HighTier 3Supermarket Type11977.426',\n 'FDP499Regular0.069088961Breakfast56.3614OUT0461997SmallTier 1Supermarket Type11547.3192',\n 'NCB4211.8Low Fat0.008596051Health and Hygiene115.3492OUT0182009MediumTier 3Supermarket Type21621.8888',\n 'FDP499Regular0.069196376Breakfast54.3614OUT0491999MediumTier 1Supermarket Type1718.3982',\n 'DRI11Low Fat0.034237682Hard Drinks113.2834OUT0271985MediumTier 3Supermarket Type32303.668',\n 'FDU0213.35Low Fat0.10249212Dairy230.5352OUT0352004SmallTier 2Supermarket Type12748.4224',\n 'FDN2218.85Regular0.138190277Snack Foods250.8724OUT0131987HighTier 3Supermarket Type13775.086',\n 'FDW12Regular0.035399923Baking Goods144.5444OUT0271985MediumTier 3Supermarket Type34064.0432',\n 'NCB3014.6Low Fat0.025698134Household196.5084OUT0352004SmallTier 2Supermarket Type11587.2672',\n 'FDC37Low Fat0.057556998Baking Goods107.6938OUT0191985SmallTier 1Grocery Store214.3876',\n 'FDR2813.85Regular0.025896485Frozen Foods165.021OUT0461997SmallTier 1Supermarket Type14078.025',\n 'NCD0613Low Fat0.099887103Household45.906OUT0172007Tier 2Supermarket Type1838.908',\n 'FDV107.645Regular0.066693437Snack Foods42.3112OUT0352004SmallTier 2Supermarket Type11065.28',\n 'DRJ5911.65low fat0.019356132Hard Drinks39.1164OUT0131987HighTier 3Supermarket Type1308.9312',\n 'FDE515.925Regular0.161466534Dairy45.5086OUT0101998Tier 3Grocery Store178.4344',\n 'FDC14Regular0.072221801Canned43.6454OUT0191985SmallTier 1Grocery Store125.8362',\n 'FDV3819.25Low Fat0.170348551Dairy55.7956OUT0101998Tier 3Grocery Store163.7868',\n 'NCS1718.6Low Fat0.080829372Health and Hygiene96.4436OUT0182009MediumTier 3Supermarket Type22741.7644',\n 'FDP3318.7Low Fat0Snack Foods256.6672OUT0182009MediumTier 3Supermarket Type23068.0064',\n 'FDO2317.85Low Fat0Breads93.1436OUT0452002Tier 2Supermarket Type12174.5028',\n 'DRH0117.5Low Fat0.097904029Soft Drinks174.8738OUT0461997SmallTier 1Supermarket Type12085.2856',\n 'NCX2910Low Fat0.089291137Health and Hygiene146.7102OUT0491999MediumTier 1Supermarket Type13791.0652',\n 'FDV20Regular0.059511812Fruits and Vegetables128.0678OUT0271985MediumTier 3Supermarket Type32797.6916',\n 'DRZ118.85Regular0.113123893Soft Drinks122.5388OUT0182009MediumTier 3Supermarket Type21609.9044',\n 'FDX10Regular0.123111453Snack Foods36.9874OUT0271985MediumTier 3Supermarket Type3388.1614',\n 'FDB34Low Fat0.026480954Snack Foods87.6198OUT0271985MediumTier 3Supermarket Type32180.495',\n 'FDU0213.35Low Fat0.102511504Dairy230.6352OUT0461997SmallTier 1Supermarket Type13435.528',\n 'FDK439.8Low Fat0.02681843Meat126.002OUT0131987HighTier 3Supermarket Type12150.534',\n 'FDA4613.6Low Fat0.117818348Snack Foods192.9136OUT0491999MediumTier 1Supermarket Type12527.3768',\n 'FDC0221.35Low Fat0.069102831Canned259.9278OUT0182009MediumTier 3Supermarket Type26768.5228',\n 'FDL5012.15Regular0.042277867Canned126.5046OUT0131987HighTier 3Supermarket Type1373.5138',\n 'FDM396.42LF0.089498926Dairy178.1002OUT0101998Tier 3Grocery Store358.2004',\n 'NCP0519.6Low Fat0Health and Hygiene153.3024OUT0452002Tier 2Supermarket Type12428.8384',\n 'FDV4910Low Fat0.025879577Canned265.2226OUT0452002Tier 2Supermarket Type15815.0972',\n 'FDL1215.85Regular0.121632721Baking Goods60.622OUT0461997SmallTier 1Supermarket Type12576.646',\n 'FDS02Regular0.255394896Dairy196.8794OUT0191985SmallTier 1Grocery Store780.3176',\n 'NCL177.39Low Fat0.067779712Health and Hygiene143.8812OUT0461997SmallTier 1Supermarket Type13134.5864',\n 'FDM4010.195Low Fat0.159803853Frozen Foods141.5154OUT0131987HighTier 3Supermarket Type1850.8924',\n 'FDR139.895Regular0.028696932Canned117.0492OUT0131987HighTier 3Supermarket Type1810.9444',\n 'FDA4310.895Low Fat0.065041581Fruits and Vegetables196.3794OUT0172007Tier 2Supermarket Type13121.2704',\n 'NCP1812.15Low Fat0.028760013Household151.4708OUT0172007Tier 2Supermarket Type14815.0656',\n 'FDK217.905Low Fat0.010053105Snack Foods249.0408OUT0182009MediumTier 3Supermarket Type26258.52',\n 'NCX549.195Low Fat0.048157338Household106.1622OUT0452002Tier 2Supermarket Type12117.244',\n 'DRK358.365Low Fat0.071958197Hard Drinks38.0506OUT0491999MediumTier 1Supermarket Type1796.9626',\n 'FDY2115.1Low Fat0.173481304Snack Foods194.511OUT0461997SmallTier 1Supermarket Type14910.275',\n 'FDI26Low Fat0.061082177Canned180.0344OUT0191985SmallTier 1Grocery Store892.172',\n 'FDM2010Low Fat0Fruits and Vegetables246.9144OUT0182009MediumTier 3Supermarket Type23185.1872',\n 'FDV277.97Regular0.040071131Meat87.3514OUT0452002Tier 2Supermarket Type11062.6168',\n 'FDF09Low Fat0.012090074Fruits and Vegetables38.2848OUT0271985MediumTier 3Supermarket Type3484.7024',\n 'FDY40Regular0.15028599Frozen Foods51.0692OUT0191985SmallTier 1Grocery Store147.8076',\n 'FDY45Low Fat0.026015519Snack Foods255.8356OUT0271985MediumTier 3Supermarket Type32543.356',\n 'FDC4617.7LF0.195068226Snack Foods185.4266OUT0101998Tier 3Grocery Store184.4266',\n 'FDH1919.35Low Fat0.033082215Meat172.5738OUT0352004SmallTier 2Supermarket Type14865.6664',\n 'FDZ0313.65Regular0.078946455Dairy186.024OUT0452002Tier 2Supermarket Type11118.544',\n 'DRH3717.6Low Fat0.041700756Soft Drinks164.8526OUT0452002Tier 2Supermarket Type12302.3364',\n 'NCI178.645Low Fat0.143422643Health and Hygiene95.841OUT0461997SmallTier 1Supermarket Type12027.361',\n 'FDJ5815.6Regular0.105296072Snack Foods170.1764OUT0461997SmallTier 1Supermarket Type13435.528',\n 'FDL1215.85Regular0.121531501Baking Goods59.222OUT0131987HighTier 3Supermarket Type1599.22',\n 'FDH3518.25Low Fat0Starchy Foods164.7526OUT0452002Tier 2Supermarket Type14604.6728',\n 'FDG027.855Low Fat0.011324862Canned189.6188OUT0172007Tier 2Supermarket Type12285.0256',\n 'NCZ187.825low fat0.186357148Household254.3698OUT0491999MediumTier 1Supermarket Type15580.7356',\n 'FDC298.39Regular0.024205661Frozen Foods114.0176OUT0461997SmallTier 1Supermarket Type12290.352',\n 'FDQ1012.85Low Fat0.033230816Snack Foods172.3422OUT0491999MediumTier 1Supermarket Type11207.0954',\n 'FDN48Low Fat0.113720344Baking Goods89.9804OUT0191985SmallTier 1Grocery Store643.1628',\n 'FDL0419Low Fat0.112556507Frozen Foods104.9622OUT0172007Tier 2Supermarket Type11587.933',\n 'FDV255.905Low Fat0Canned222.5456OUT0452002Tier 2Supermarket Type15305.0944',\n 'FDD587.76Low Fat0.059352241Snack Foods101.87OUT0461997SmallTier 1Supermarket Type11697.79',\n 'FDN0411.8reg0.014087057Frozen Foods180.3344OUT0461997SmallTier 1Supermarket Type11427.4752',\n 'FDV4516.75low fat0.045230944Snack Foods187.9556OUT0182009MediumTier 3Supermarket Type24693.89',\n 'NCL18Low Fat0.293417759Household194.6136OUT0191985SmallTier 1Grocery Store583.2408',\n 'FDR12Regular0.031382044Baking Goods171.3764OUT0271985MediumTier 3Supermarket Type33091.9752',\n 'FDG2015.5Regular0.12639886Fruits and Vegetables177.0028OUT0172007Tier 2Supermarket Type12479.4392',\n 'FDZ556.055Low Fat0.025403898Fruits and Vegetables160.992OUT0352004SmallTier 2Supermarket Type12716.464',\n 'FDQ49Regular0.039057677Breakfast155.963OUT0271985MediumTier 3Supermarket Type33285.723',\n 'FDN336.305Regular0.123115764Snack Foods95.6436OUT0461997SmallTier 1Supermarket Type1661.8052',\n 'FDN2720.85Low Fat0.039624006Meat117.2808OUT0491999MediumTier 1Supermarket Type11523.3504',\n 'FDW2020.75Low Fat0.040421193Fruits and Vegetables122.173OUT0101998Tier 3Grocery Store369.519',\n 'DRG278.895Low Fat0.105274111Dairy39.9138OUT0491999MediumTier 1Supermarket Type1690.4346',\n 'DRI2519.6Low Fat0.033970195Soft Drinks55.1614OUT0452002Tier 2Supermarket Type11381.535',\n 'FDA4419.7Low Fat0.053212652Fruits and Vegetables57.893OUT0352004SmallTier 2Supermarket Type1622.523',\n 'NCR179.8Low Fat0.024378706Health and Hygiene114.5492OUT0352004SmallTier 2Supermarket Type11274.3412',\n 'FDU04Low Fat0.009714595Frozen Foods120.0414OUT0191985SmallTier 1Grocery Store487.3656',\n 'FDF4112.15Low Fat0.131383762Frozen Foods246.046OUT0491999MediumTier 1Supermarket Type11231.73',\n 'FDB568.75Regular0.07461309Fruits and Vegetables187.4556OUT0352004SmallTier 2Supermarket Type13755.112',\n 'NCP18Low Fat0.028459761Household149.9708OUT0271985MediumTier 3Supermarket Type34363.6532',\n 'FDB568.75Regular0.074627201Fruits and Vegetables187.8556OUT0461997SmallTier 1Supermarket Type11314.2892',\n 'FDT2813.3Low Fat0.063695084Frozen Foods151.0708OUT0452002Tier 2Supermarket Type11805.6496',\n 'FDD10Regular0.045797829Snack Foods178.5344OUT0271985MediumTier 3Supermarket Type32854.9504',\n 'FDW578.31Regular0.115857223Snack Foods179.1028OUT0491999MediumTier 1Supermarket Type13896.2616',\n 'DRB4816.75Regular0.024832806Soft Drinks38.7822OUT0131987HighTier 3Supermarket Type1667.7974',\n 'FDP0919.75Low Fat0.034027909Snack Foods212.0902OUT0182009MediumTier 3Supermarket Type23185.853',\n 'FDH1417.1Regular0.0467696Canned141.1838OUT0131987HighTier 3Supermarket Type12247.7408',\n 'FDA4710.5Regular0.116576702Baking Goods163.121OUT0131987HighTier 3Supermarket Type11794.331',\n 'FDG126.635Regular0Baking Goods121.3098OUT0452002Tier 2Supermarket Type12530.7058',\n 'DRE60low fat0.278974075Soft Drinks225.372OUT0191985SmallTier 1Grocery Store679.116',\n 'DRK4914.15Low Fat0.035913805Soft Drinks41.4138OUT0131987HighTier 3Supermarket Type1812.276',\n 'FDD0313.3Low Fat0.079806266Dairy232.53OUT0461997SmallTier 1Supermarket Type1699.09',\n 'FDS528.89low fat0.005505481Frozen Foods102.4016OUT0172007Tier 2Supermarket Type12732.4432',\n 'FDW39Regular0.064625342Meat176.937OUT0191985SmallTier 1Grocery Store176.437',\n 'FDX34Low Fat0.071636937Snack Foods121.7098OUT0271985MediumTier 3Supermarket Type34097.3332',\n 'FDV119.1Regular0Breads173.2054OUT0452002Tier 2Supermarket Type13151.8972',\n 'FDD177.5Low Fat0.032677678Frozen Foods239.0906OUT0491999MediumTier 1Supermarket Type15942.265',\n 'FDZ1616.85Regular0.160760054Frozen Foods192.4478OUT0172007Tier 2Supermarket Type14843.695',\n 'FDZ467.485Low Fat0.06911065Snack Foods109.0228OUT0352004SmallTier 2Supermarket Type12542.0244',\n 'DRA1211.6Low Fat0.041177505Soft Drinks140.3154OUT0172007Tier 2Supermarket Type12552.6772',\n 'FDY5811.65Low Fat0.040081193Snack Foods227.0694OUT0182009MediumTier 3Supermarket Type21141.847',\n 'NCF1913Low Fat0.035307322Household47.5034OUT0172007Tier 2Supermarket Type1680.4476',\n 'DRJ1312.65LF0.063017847Soft Drinks159.0578OUT0452002Tier 2Supermarket Type12085.9514',\n 'FDB1420.25Regular0.171938781Canned92.512OUT0101998Tier 3Grocery Store186.424',\n 'FDJ388.6Regular0.040197932Canned190.153OUT0352004SmallTier 2Supermarket Type13036.048',\n 'FDW1112.6Low Fat0.049058014Breads62.7194OUT0172007Tier 2Supermarket Type1866.8716',\n 'FDL4017.7Low Fat0.01161096Frozen Foods95.041OUT0352004SmallTier 2Supermarket Type1868.869',\n 'DRI4914.15Low Fat0.183507295Soft Drinks82.4276OUT0461997SmallTier 1Supermarket Type11137.1864',\n 'FDV3819.25Low Fat0.102349519Dairy52.7956OUT0172007Tier 2Supermarket Type1928.1252',\n 'DRG238.88Low Fat0.086708987Hard Drinks151.7682OUT0131987HighTier 3Supermarket Type1762.341',\n 'NCP3020.5Low Fat0.032835147Household40.2822OUT0452002Tier 2Supermarket Type1707.0796',\n 'FDY25Low Fat0.033809913Canned180.5976OUT0271985MediumTier 3Supermarket Type37968.2944',\n 'NCH5413.5Low Fat0.07266912Household160.292OUT0461997SmallTier 1Supermarket Type11438.128',\n 'NCR53Low Fat0.144338493Health and Hygiene224.4404OUT0271985MediumTier 3Supermarket Type36976.2524',\n 'FDS528.89Low Fat0.009163216Frozen Foods101.7016OUT0101998Tier 3Grocery Store101.2016',\n 'FDG027.855Low Fat0.011307038Canned188.5188OUT0182009MediumTier 3Supermarket Type2952.094',\n 'NCO267.235Low Fat0.076855628Household116.0492OUT0461997SmallTier 1Supermarket Type11969.4364',\n 'FDH35Low Fat0.059956876Starchy Foods165.4526OUT0271985MediumTier 3Supermarket Type35262.4832',\n 'FDB516.92Low Fat0.038532062Dairy60.5852OUT0452002Tier 2Supermarket Type11314.2892',\n 'FDX449.3Low Fat0.043209581Fruits and Vegetables90.8172OUT0172007Tier 2Supermarket Type1535.3032',\n 'NCN0718.5Low Fat0.056816465Others132.1284OUT0101998Tier 3Grocery Store263.6568',\n 'NCC318.02Low Fat0.019866705Household154.5972OUT0352004SmallTier 2Supermarket Type11402.1748',\n 'NCX549.195Low Fat0.048331717Household105.1622OUT0172007Tier 2Supermarket Type11693.7952',\n 'NCO5512.8Low Fat0.091221855Others105.5938OUT0452002Tier 2Supermarket Type12143.876',\n 'NCC3016.6Low Fat0.027622076Household177.6344OUT0491999MediumTier 1Supermarket Type12676.516',\n 'FDI1614Regular0Frozen Foods53.064OUT0352004SmallTier 2Supermarket Type1905.488',\n 'FDP1618.6Low Fat0.039355947Frozen Foods246.3802OUT0491999MediumTier 1Supermarket Type17370.406',\n 'FDB1116Low Fat0.060836524Starchy Foods226.8404OUT0352004SmallTier 2Supermarket Type16301.1312',\n 'NCB0617.6Low Fat0.082316506Health and Hygiene160.692OUT0352004SmallTier 2Supermarket Type11597.92',\n 'FDA4521.25Low Fat0.155350299Snack Foods178.237OUT0352004SmallTier 2Supermarket Type1529.311',\n 'NCO267.235Low Fat0.076841095Household117.5492OUT0352004SmallTier 2Supermarket Type11969.4364',\n 'DRJ2514.6Low Fat0.151419185Soft Drinks50.3692OUT0172007Tier 2Supermarket Type11034.6532',\n 'FDR2813.85reg0.026001976Frozen Foods161.521OUT0182009MediumTier 3Supermarket Type21794.331',\n 'FDI0413.65Regular0.073209447Frozen Foods197.6426OUT0182009MediumTier 3Supermarket Type22768.3964',\n 'DRK12Low Fat0.041683481Soft Drinks31.29OUT0271985MediumTier 3Supermarket Type3898.83',\n 'FDX207.365Low Fat0.042560252Fruits and Vegetables226.172OUT0461997SmallTier 1Supermarket Type13169.208',\n 'NCI1818.35Low Fat0.014081156Household223.5746OUT0182009MediumTier 3Supermarket Type23589.9936',\n 'FDB365.465Regular0Baking Goods132.5626OUT0182009MediumTier 3Supermarket Type2262.3252',\n 'FDN1318.6Low Fat0.152918384Breakfast99.8358OUT0172007Tier 2Supermarket Type11910.1802',\n 'DRD2413.85Low Fat0.030969274Soft Drinks140.9154OUT0172007Tier 2Supermarket Type11701.7848',\n 'FDQ2814Regular0.060376776Frozen Foods154.5656OUT0131987HighTier 3Supermarket Type12471.4496',\n 'FDM2214Regular0.04192285Snack Foods54.764OUT0131987HighTier 3Supermarket Type11331.6',\n 'FDR07Low Fat0.077367431Fruits and Vegetables97.0094OUT0271985MediumTier 3Supermarket Type31808.9786',\n 'FDV255.905Low Fat0.045838211Canned222.5456OUT0182009MediumTier 3Supermarket Type23315.684',\n 'DRF497.27Low Fat0.071077939Soft Drinks114.2518OUT0461997SmallTier 1Supermarket Type12618.5914',\n 'FDW516.155Regular0.094659871Meat214.556OUT0461997SmallTier 1Supermarket Type12769.728',\n 'DRL0119.5Regular0.077608838Soft Drinks233.4958OUT0172007Tier 2Supermarket Type15375.0034',\n 'FDP2515.2Low Fat0.021327477Canned216.8824OUT0172007Tier 2Supermarket Type12838.9712',\n 'FDL5012.15Regular0.042485444Canned125.0046OUT0182009MediumTier 3Supermarket Type21743.0644',\n 'NCB30Low Fat0.025578526Household198.8084OUT0271985MediumTier 3Supermarket Type35555.4352',\n 'FDW1112.6Low Fat0.0489808Breads61.9194OUT0182009MediumTier 3Supermarket Type2619.194',\n 'NCM4314.5Low Fat0.019471688Others164.821OUT0352004SmallTier 2Supermarket Type12120.573',\n 'FDK4416.6Low Fat0.122918852Fruits and Vegetables173.0738OUT0172007Tier 2Supermarket Type13823.0236',\n 'FDM1511.8Regular0.057373797Meat151.4366OUT0131987HighTier 3Supermarket Type11360.2294',\n 'FDS3113.1Regular0.044155597Fruits and Vegetables178.8318OUT0131987HighTier 3Supermarket Type13969.4996',\n 'FDI3217.7Low Fat0.291865402Fruits and Vegetables115.1834OUT0101998Tier 3Grocery Store345.5502',\n 'FDR4717.85LF0Breads196.5794OUT0101998Tier 3Grocery Store585.2382',\n 'FDB3512.3Regular0.064750025Starchy Foods92.6804OUT0452002Tier 2Supermarket Type11010.6844',\n 'NCU0511.8Low Fat0.098312421Health and Hygiene81.4618OUT0101998Tier 3Grocery Store161.1236',\n 'DRY23Regular0.191013663Soft Drinks42.1112OUT0191985SmallTier 1Grocery Store42.6112',\n 'FDO2411.1Low Fat0.176573035Baking Goods157.4604OUT0452002Tier 2Supermarket Type13010.7476',\n 'FDQ28Regular0.060134441Frozen Foods153.0656OUT0271985MediumTier 3Supermarket Type36024.1584',\n 'FDV3911.3Low Fat0.007294652Meat198.1426OUT0452002Tier 2Supermarket Type1988.713',\n 'NCO17Low Fat0.128478462Health and Hygiene117.944OUT0191985SmallTier 1Grocery Store239.688',\n 'FDU505.75Regular0.075107656Dairy112.8176OUT0131987HighTier 3Supermarket Type11374.2112',\n 'FDT12Regular0.049381406Baking Goods226.8062OUT0271985MediumTier 3Supermarket Type34739.8302',\n 'FDK5811.35Regular0.045165796Snack Foods100.0016OUT0182009MediumTier 3Supermarket Type21012.016',\n 'FDO08Regular0.09415375Fruits and Vegetables165.7526OUT0191985SmallTier 1Grocery Store657.8104',\n 'NCW2914Low Fat0.028907832Health and Hygiene130.431OUT0491999MediumTier 1Supermarket Type1778.986',\n 'FDE0419.75Regular0.018059621Frozen Foods179.766OUT0452002Tier 2Supermarket Type12336.958',\n 'NCB196.525Low Fat0.090436094Household85.0882OUT0491999MediumTier 1Supermarket Type12233.0932',\n 'FDV1510.3Low Fat0.146399712Meat103.9648OUT0491999MediumTier 1Supermarket Type11661.8368',\n 'FDL585.78Regular0.074264356Snack Foods264.7568OUT0491999MediumTier 1Supermarket Type14745.8224',\n 'FDA0811.85Regular0.050186726Fruits and Vegetables164.1526OUT0452002Tier 2Supermarket Type13124.5994',\n 'FDT4316.35Low Fat0.020631654Fruits and Vegetables50.1324OUT0182009MediumTier 3Supermarket Type2467.3916',\n 'NCX06Low Fat0.01561108Household182.5976OUT0271985MediumTier 3Supermarket Type35070.7328',\n 'FDT2010.5Low Fat0.041395445Fruits and Vegetables37.6164OUT0461997SmallTier 1Supermarket Type1540.6296',\n 'FDB4119Regular0.097313129Frozen Foods48.0718OUT0461997SmallTier 1Supermarket Type1992.7078',\n 'NCN5514.6Low Fat0.059582996Others238.8538OUT0491999MediumTier 1Supermarket Type16008.845',\n 'FDE40Regular0.098663652Dairy62.9194OUT0271985MediumTier 3Supermarket Type32105.2596',\n 'FDX49reg0.101338651Canned232.63OUT0271985MediumTier 3Supermarket Type35359.69',\n 'NCM5318.75Low Fat0.052146456Health and Hygiene104.628OUT0452002Tier 2Supermarket Type1745.696',\n 'FDE365.26Regular0.041764487Baking Goods161.8868OUT0352004SmallTier 2Supermarket Type13275.736',\n 'FDN5718.25Low Fat0.054344186Snack Foods140.2154OUT0452002Tier 2Supermarket Type11701.7848',\n 'FDI24Low Fat0.078362484Baking Goods177.937OUT0271985MediumTier 3Supermarket Type36704.606',\n 'FDI1915.1Low Fat0.052339069Meat242.7512OUT0461997SmallTier 1Supermarket Type14119.9704',\n 'FDF2415.5Regular0.042464962Baking Goods81.5934OUT0101998Tier 3Grocery Store327.5736',\n 'FDG5213.65Low Fat0.065732883Frozen Foods45.7402OUT0491999MediumTier 1Supermarket Type1780.9834',\n 'DRF3616.1LF0.023625114Soft Drinks189.3846OUT0452002Tier 2Supermarket Type13630.6074',\n 'FDS45Regular0.051643608Snack Foods107.3622OUT0191985SmallTier 1Grocery Store317.5866',\n 'FDX4012.85Low Fat0.165694219Frozen Foods39.7164OUT0101998Tier 3Grocery Store231.6984',\n 'DRK129.5LF0.041878397Soft Drinks32.99OUT0352004SmallTier 2Supermarket Type1133.16',\n 'DRC2713.8Low Fat0.058091482Dairy245.1802OUT0352004SmallTier 2Supermarket Type15650.6446',\n 'FDL585.78Regular0Snack Foods263.7568OUT0172007Tier 2Supermarket Type12636.568',\n 'NCD3019.7Low Fat0.026903714Household96.0726OUT0452002Tier 2Supermarket Type11272.3438',\n 'NCZ5414.65Low Fat0Household161.5552OUT0101998Tier 3Grocery Store324.9104',\n 'FDE106.67Regular0.150554711Snack Foods130.0626OUT0101998Tier 3Grocery Store131.1626',\n 'FDR446.11Regular0Fruits and Vegetables131.2968OUT0101998Tier 3Grocery Store260.9936',\n 'FDP2813.65Regular0.134975628Frozen Foods260.0936OUT0101998Tier 3Grocery Store260.9936',\n 'FDX1517.2Low Fat0.15616879Meat160.6578OUT0131987HighTier 3Supermarket Type13690.5294',\n 'FDA396.32LF0Meat40.2822OUT0352004SmallTier 2Supermarket Type11139.1838',\n 'FDY244.88Regular0.133700752Baking Goods52.9298OUT0491999MediumTier 1Supermarket Type11995.4026',\n 'FDC605.425Regular0.115119905Baking Goods88.3514OUT0172007Tier 2Supermarket Type11416.8224',\n 'FDH2815.85Regular0.110030997Frozen Foods37.2506OUT0461997SmallTier 1Supermarket Type1265.6542',\n 'FDT257.5Low Fat0.051038045Canned121.7072OUT0172007Tier 2Supermarket Type13552.7088',\n 'DRJ1312.65Low Fat0.062837968Soft Drinks161.5578OUT0131987HighTier 3Supermarket Type12406.867',\n 'NCO07Low Fat0.017116983Others211.956OUT0191985SmallTier 1Grocery Store213.056',\n 'FDW2020.75Low Fat0.024129332Fruits and Vegetables124.173OUT0131987HighTier 3Supermarket Type12956.152',\n 'DRF27Low Fat0.049754975Dairy152.134OUT0191985SmallTier 1Grocery Store153.134',\n 'FDS499Low Fat0Canned79.7644OUT0352004SmallTier 2Supermarket Type11649.8524',\n 'FDX25Low Fat0.101561568Canned181.9292OUT0271985MediumTier 3Supermarket Type33101.2964',\n 'NCX42Low Fat0.005949644Household165.6526OUT0271985MediumTier 3Supermarket Type34769.1254',\n 'FDG33Regular0.13956116Seafood170.4764OUT0271985MediumTier 3Supermarket Type33435.528',\n 'FDL5614.1Low Fat0.126035694Fruits and Vegetables86.4198OUT0452002Tier 2Supermarket Type11133.8574',\n 'FDF147.55Low Fat0.027164679Canned152.334OUT0352004SmallTier 2Supermarket Type12603.278',\n 'NCD0613Low Fat0.099325278Household45.406OUT0461997SmallTier 1Supermarket Type1605.878',\n 'DRM47Low Fat0.04357366Hard Drinks192.8846OUT0271985MediumTier 3Supermarket Type32293.0152',\n 'FDS46Regular0.082741482Snack Foods118.7782OUT0191985SmallTier 1Grocery Store119.1782',\n 'FDB3512.3Regular0.064565202Starchy Foods92.9804OUT0131987HighTier 3Supermarket Type11929.4884',\n 'FDX21LF0.084554569Snack Foods109.8912OUT0271985MediumTier 3Supermarket Type32074.6328',\n 'NCU05Low Fat0.058451805Health and Hygiene79.9618OUT0271985MediumTier 3Supermarket Type3241.6854',\n 'NCR3817.25Low Fat0.113748685Household251.3724OUT0452002Tier 2Supermarket Type16795.1548',\n 'NCR1815.85Low Fat0.020603511Household42.7112OUT0172007Tier 2Supermarket Type1639.168',\n 'NCU4118.85Low Fat0.052044976Health and Hygiene192.1846OUT0352004SmallTier 2Supermarket Type13248.4382',\n 'FDY5616.35Regular0.062764429Fruits and Vegetables227.6062OUT0172007Tier 2Supermarket Type17222.5984',\n 'DRJ5114.1Low Fat0.087977262Dairy229.0668OUT0352004SmallTier 2Supermarket Type13225.1352',\n 'FDK217.905Low Fat0.010010425Snack Foods249.0408OUT0352004SmallTier 2Supermarket Type13755.112',\n 'FDY2512Low Fat0.033946163Canned179.3976OUT0131987HighTier 3Supermarket Type13440.8544',\n 'FDU4412.15Regular0.058414678Fruits and Vegetables163.4552OUT0352004SmallTier 2Supermarket Type1974.7312',\n 'FDL4310.1Low Fat0.027106459Meat75.367OUT0491999MediumTier 1Supermarket Type1535.969',\n 'FDF0517.5Low Fat0.027022883Frozen Foods262.491OUT0172007Tier 2Supermarket Type15259.82',\n 'DRF15Low Fat0.058153409Dairy152.034OUT0191985SmallTier 1Grocery Store306.268',\n 'FDL2017.1Low Fat0.128937661Fruits and Vegetables112.3886OUT0182009MediumTier 3Supermarket Type21779.0176',\n 'FDV327.785Low Fat0.088846306Fruits and Vegetables61.451OUT0491999MediumTier 1Supermarket Type1759.012',\n 'FDJ3411.8Regular0.09357779Snack Foods125.9704OUT0131987HighTier 3Supermarket Type11877.556',\n 'FDG0813.15Regular0.165694678Fruits and Vegetables171.8764OUT0452002Tier 2Supermarket Type13779.0808',\n 'FDQ04Low Fat0.148392623Frozen Foods41.5796OUT0191985SmallTier 1Grocery Store41.2796',\n 'FDW138.5Low Fat0.098438394Canned51.1324OUT0172007Tier 2Supermarket Type1259.662',\n 'NCI178.645Low Fat0.143303291Health and Hygiene96.341OUT0131987HighTier 3Supermarket Type1193.082',\n 'FDY0317.6Regular0.076276208Meat110.9202OUT0452002Tier 2Supermarket Type11687.803',\n 'FDS129.1Low Fat0.175103435Baking Goods127.5362OUT0172007Tier 2Supermarket Type14655.9394',\n 'FDJ5512.8Regular0.023511371Meat225.9404OUT0131987HighTier 3Supermarket Type14950.8888',\n 'DRK017.63Low Fat0.06105276Soft Drinks95.4436OUT0352004SmallTier 2Supermarket Type11418.154',\n 'FDG289.285Regular0.049559042Frozen Foods246.4144OUT0172007Tier 2Supermarket Type11225.072',\n 'FDY3813.6Regular0.119418124Dairy231.03OUT0452002Tier 2Supermarket Type15359.69',\n 'FDN018.895Low Fat0.072545601Breakfast176.237OUT0452002Tier 2Supermarket Type11764.37',\n 'NCR5416.35Low Fat0.090486828Household195.211OUT0131987HighTier 3Supermarket Type125\n\n*** WARNING: max output size exceeded, skipping output. ***\n\n3Supermarket Type11039.9796',\n 'DRK238.395Low Fat0.072088552Hard Drinks253.704OUT0491999MediumTier 1Supermarket Type14554.072',\n 'FDU114.785Low Fat0.092781435Breads119.7098OUT0452002Tier 2Supermarket Type11807.647',\n 'NCK065.03Low Fat0.008644894Household122.6756OUT0352004SmallTier 2Supermarket Type12665.8632',\n 'FDY0915.6Low Fat0.025342692Snack Foods174.3054OUT0172007Tier 2Supermarket Type11751.054',\n 'NCY187.285Low Fat0.031145743Household173.6054OUT0352004SmallTier 2Supermarket Type12626.581',\n 'FDA1020.35Low Fat0Snack Foods120.9072OUT0491999MediumTier 1Supermarket Type11470.0864',\n 'FDO3417.7Low Fat0.030108283Snack Foods165.9816OUT0172007Tier 2Supermarket Type14362.3216',\n 'FDE38Low Fat0.044391149Canned164.3842OUT0271985MediumTier 3Supermarket Type34476.1734',\n 'FDF4020.25Regular0.022639471Dairy248.4092OUT0172007Tier 2Supermarket Type12241.0828',\n 'FDY028.945Regular0Dairy264.791OUT0172007Tier 2Supermarket Type14733.838',\n 'FDS03Low Fat0.139419417Meat66.0826OUT0191985SmallTier 1Grocery Store258.3304',\n 'FDB5918.25Low Fat0.015278899Snack Foods199.0084OUT0461997SmallTier 1Supermarket Type13174.5344',\n 'NCQ4220.35Low Fat0.039329257Household127.6678OUT0491999MediumTier 1Supermarket Type12924.8594',\n 'FDO1516.75Regular0.008579863Meat72.3038OUT0491999MediumTier 1Supermarket Type1960.7494',\n 'DRN4712.1Low Fat0.028164527Hard Drinks178.166OUT0101998Tier 3Grocery Store539.298',\n 'FDA0318.5Regular0Dairy144.2102OUT0352004SmallTier 2Supermarket Type12041.3428',\n 'FDA0115Regular0.054367971Canned58.5904OUT0352004SmallTier 2Supermarket Type1996.0368',\n 'FDB3819.5Regular0.0273467Canned158.992OUT0461997SmallTier 1Supermarket Type11757.712',\n 'FDT5913.65Low Fat0.016001434Breads230.6668OUT0172007Tier 2Supermarket Type11842.9344',\n 'FDG0813.15Regular0.165328057Fruits and Vegetables170.6764OUT0352004SmallTier 2Supermarket Type13435.528',\n 'FDV56Regular0.013529884Fruits and Vegetables106.2596OUT0271985MediumTier 3Supermarket Type31402.1748',\n 'FDY2620.6reg0.030510526Dairy211.4244OUT0461997SmallTier 1Supermarket Type17833.8028',\n 'DRE136.28Low Fat0.027699863Soft Drinks87.9198OUT0352004SmallTier 2Supermarket Type11221.0772',\n 'FDE515.925Regular0.09646733Dairy42.8086OUT0461997SmallTier 1Supermarket Type1669.129',\n 'FDL4017.7Low Fat0.011636708Frozen Foods94.541OUT0452002Tier 2Supermarket Type11061.951',\n 'FDD5018.85Low Fat0.141642219Canned168.1132OUT0461997SmallTier 1Supermarket Type12874.9244',\n 'FDC04Low Fat0.044767801Dairy241.8854OUT0271985MediumTier 3Supermarket Type34592.0226',\n 'FDN1517.5Low Fat0.028009382Meat141.718OUT0101998Tier 3Grocery Store419.454',\n 'FDC4617.7Low Fat0.1164455Snack Foods182.8266OUT0131987HighTier 3Supermarket Type15163.9448',\n 'FDV5616.1Regular0.013584408Fruits and Vegetables107.7596OUT0131987HighTier 3Supermarket Type1323.5788',\n 'FDK439.8Low Fat0.026950104Meat128.402OUT0182009MediumTier 3Supermarket Type21265.02',\n 'NCR297.565Low Fat0.054751689Health and Hygiene54.793OUT0452002Tier 2Supermarket Type1622.523',\n 'FDY0317.6Regular0.076121831Meat111.7202OUT0461997SmallTier 1Supermarket Type11125.202',\n 'FDU4412.15Regular0.058516562Fruits and Vegetables164.1552OUT0491999MediumTier 1Supermarket Type15198.5664',\n 'FDZ049.31low fat0.037923509Frozen Foods61.651OUT0131987HighTier 3Supermarket Type1379.506',\n 'FDU1619.25Regular0.058365706Frozen Foods82.1908OUT0491999MediumTier 1Supermarket Type12432.8332',\n 'FDV079.5Low Fat0.031346387Fruits and Vegetables110.7228OUT0452002Tier 2Supermarket Type11657.842',\n 'NCL1915.35Low Fat0.015663185Others143.947OUT0131987HighTier 3Supermarket Type13006.087',\n 'FDW01Low Fat0.063750302Canned153.4682OUT0271985MediumTier 3Supermarket Type32287.023',\n 'FDC10Regular0.07252476Snack Foods120.3098OUT0271985MediumTier 3Supermarket Type31687.1372',\n 'DRC1217.85Low Fat0.038040837Soft Drinks189.1188OUT0172007Tier 2Supermarket Type13237.1196',\n 'DRK397.02Low Fat0.049823902Dairy82.225OUT0131987HighTier 3Supermarket Type12746.425',\n 'FDG24Low Fat0.014560297Baking Goods81.425OUT0271985MediumTier 3Supermarket Type31331.6',\n 'FDO04Low Fat0.026408698Frozen Foods53.2614OUT0271985MediumTier 3Supermarket Type3607.8754',\n 'DRB2512.3Low Fat0.069446588Soft Drinks106.3938OUT0352004SmallTier 2Supermarket Type1857.5504',\n 'FDK265.46Regular0.03217132Canned184.824OUT0352004SmallTier 2Supermarket Type14287.752',\n 'FDM5215.1Low Fat0.026046138Frozen Foods147.2076OUT0452002Tier 2Supermarket Type11773.6912',\n 'FDY0711.8Low Fat0.121848436Fruits and Vegetables46.8402OUT0452002Tier 2Supermarket Type1597.2226',\n 'NCO0619.25Low Fat0.108470504Household33.4558OUT0182009MediumTier 3Supermarket Type2441.4254',\n 'FDO1013.65Regular0Snack Foods55.8588OUT0452002Tier 2Supermarket Type11431.47',\n 'FDK3413.35Low Fat0.038494623Snack Foods240.2564OUT0131987HighTier 3Supermarket Type12860.2768',\n 'FDS33Regular0.122830885Snack Foods86.9514OUT0271985MediumTier 3Supermarket Type33364.9532',\n 'FDO4513.15Regular0.038029746Snack Foods88.6856OUT0452002Tier 2Supermarket Type11757.712',\n 'FDF0814.3Regular0.065207559Fruits and Vegetables89.8856OUT0461997SmallTier 1Supermarket Type1966.7416',\n 'FDH5812.3Low Fat0.037014587Snack Foods115.1834OUT0452002Tier 2Supermarket Type11958.1178',\n 'FDS037.825Low Fat0.133281968Meat63.2826OUT0101998Tier 3Grocery Store129.1652',\n 'DRF0319.1Low Fat0.045299563Dairy38.8138OUT0352004SmallTier 2Supermarket Type1365.5242',\n 'FDE028.71low fat0.121149472Canned93.7778OUT0131987HighTier 3Supermarket Type11783.6782',\n 'NCZ0619.6Low Fat0.094083303Household252.2698OUT0131987HighTier 3Supermarket Type12790.3678',\n 'FDW4919.5Low Fat0Canned179.3002OUT0491999MediumTier 1Supermarket Type12328.3026',\n 'FDR2315.85Low Fat0Breads174.737OUT0172007Tier 2Supermarket Type12822.992',\n 'NCJ29Low Fat0.035022503Health and Hygiene85.1224OUT0271985MediumTier 3Supermarket Type32045.3376',\n 'FDY3517.6Regular0.016060186Breads47.2402OUT0452002Tier 2Supermarket Type1505.3422',\n 'FDZ01Regular0.009014978Canned102.699OUT0271985MediumTier 3Supermarket Type33095.97',\n 'FDX1919.1Low Fat0.096733815Fruits and Vegetables233.1958OUT0461997SmallTier 1Supermarket Type15141.3076',\n 'FDG446.13Low Fat0.102607233Fruits and Vegetables54.0298OUT0182009MediumTier 3Supermarket Type2808.947',\n 'FDQ236.55Low Fat0.024521191Breads100.6332OUT0352004SmallTier 2Supermarket Type12665.8632',\n 'FDY2216.5Regular0.160624116Snack Foods143.8128OUT0172007Tier 2Supermarket Type12588.6304',\n 'NCN4117Low Fat0.052165855Health and Hygiene125.073OUT0131987HighTier 3Supermarket Type11108.557',\n 'FDA4710.5Regular0Baking Goods162.421OUT0452002Tier 2Supermarket Type11304.968',\n 'NCD198.93Low Fat0Household55.4614OUT0452002Tier 2Supermarket Type1331.5684',\n 'FDO36Low Fat0.07753654Baking Goods180.866OUT0271985MediumTier 3Supermarket Type33235.788',\n 'FDH2016.1Regular0.024928351Fruits and Vegetables95.141OUT0131987HighTier 3Supermarket Type13089.312',\n 'FDN12LF0.08071118Baking Goods113.1544OUT0271985MediumTier 3Supermarket Type33355.632',\n 'NCJ305.82Low Fat0.080968973Household171.379OUT0182009MediumTier 3Supermarket Type22037.348',\n 'FDB0916.25Low Fat0.057485328Fruits and Vegetables126.2046OUT0491999MediumTier 1Supermarket Type11867.569',\n 'FDA0913.35Regular0.149669322Snack Foods180.266OUT0452002Tier 2Supermarket Type1898.83',\n 'FDL24Regular0.024776026Baking Goods172.3422OUT0271985MediumTier 3Supermarket Type37759.899',\n 'FDP035.15Regular0.061165512Meat125.6388OUT0352004SmallTier 2Supermarket Type12848.2924',\n 'FDR58Low Fat0.041718456Snack Foods94.5462OUT0271985MediumTier 3Supermarket Type32868.9322',\n 'FDO137.865Low Fat0.06100886Breakfast166.0526OUT0131987HighTier 3Supermarket Type13617.9572',\n 'DRD499.895Low Fat0.167799329Soft Drinks239.4564OUT0352004SmallTier 2Supermarket Type15243.8408',\n 'NCF4217.35Low Fat0.167351411Household176.0712OUT0352004SmallTier 2Supermarket Type12109.2544',\n 'DRK358.365Low Fat0.071832909Hard Drinks36.1506OUT0352004SmallTier 2Supermarket Type1721.0614',\n 'FDR586.675Low Fat0.041886576Snack Foods92.1462OUT0131987HighTier 3Supermarket Type11203.1006',\n 'FDQ15Regular0.150341867Meat83.1276OUT0271985MediumTier 3Supermarket Type31868.2348',\n 'NCP5017.35Low Fat0.020542737Others80.5618OUT0131987HighTier 3Supermarket Type1322.2472',\n 'FDV4516.75Low Fat0.045047439Snack Foods186.4556OUT0461997SmallTier 1Supermarket Type13942.8676',\n 'DRP3518.85Low Fat0.091008572Hard Drinks129.6336OUT0491999MediumTier 1Supermarket Type13195.84',\n 'FDN236.575Regular0.07549348Breads143.5444OUT0352004SmallTier 2Supermarket Type13338.3212',\n 'FDS4412.65Regular0.156286566Fruits and Vegetables238.9538OUT0491999MediumTier 1Supermarket Type14086.0146',\n 'NCI5415.2Low Fat0.033735909Household110.9912OUT0182009MediumTier 3Supermarket Type21856.2504',\n 'FDH40Regular0.078547351Frozen Foods79.3276OUT0271985MediumTier 3Supermarket Type31380.8692',\n 'FDF467.07Low Fat0.093653464Snack Foods113.3834OUT0352004SmallTier 2Supermarket Type11267.0174',\n 'FDA2113.65Low Fat0.036107198Snack Foods184.4924OUT0182009MediumTier 3Supermarket Type25182.5872',\n 'FDI41Regular0.109003832Frozen Foods145.2418OUT0191985SmallTier 1Grocery Store147.1418',\n 'FDE357.06Regular0.073480266Starchy Foods58.8904OUT0101998Tier 3Grocery Store58.5904',\n 'DRJ2411.8Low Fat0.113234914Soft Drinks186.3924OUT0131987HighTier 3Supermarket Type15367.6796',\n 'NCK17Low Fat0.037711338Health and Hygiene41.548OUT0271985MediumTier 3Supermarket Type31358.232',\n 'FDA159.3Low Fat0.016054884Dairy250.2092OUT0452002Tier 2Supermarket Type15976.2208',\n 'FDD36Low Fat0.021170542Baking Goods117.6124OUT0271985MediumTier 3Supermarket Type32251.7356',\n 'DRD60Low Fat0.065188619Soft Drinks181.1634OUT0191985SmallTier 1Grocery Store181.7634',\n 'FDA4613.6Low Fat0.117537563Snack Foods195.4136OUT0131987HighTier 3Supermarket Type15443.5808',\n 'NCO5419.5Low Fat0.01430324Household57.2614OUT0452002Tier 2Supermarket Type11547.3192',\n 'FDL4819.35Regular0.137697119Baking Goods47.1034OUT0101998Tier 3Grocery Store145.8102',\n 'NCM19Low Fat0.047008497Others112.0202OUT0271985MediumTier 3Supermarket Type35063.409',\n 'FDS3113.1reg0Fruits and Vegetables178.9318OUT0491999MediumTier 1Supermarket Type13067.3406',\n 'FDV1216.7Regular0.060863167Baking Goods97.6384OUT0352004SmallTier 2Supermarket Type12857.6136',\n 'FDQ315.785Regular0Fruits and Vegetables87.1856OUT0352004SmallTier 2Supermarket Type11406.1696',\n 'FDK55Low Fat0.045105407Meat89.4172OUT0191985SmallTier 1Grocery Store178.4344',\n 'DRG156.13Low Fat0.076855207Dairy59.3536OUT0491999MediumTier 1Supermarket Type11470.0864',\n 'NCR179.8Low Fat0.024482644Health and Hygiene116.2492OUT0182009MediumTier 3Supermarket Type22896.23',\n 'FDV01Regular0Canned154.6314OUT0271985MediumTier 3Supermarket Type36515.5188',\n 'FDT217.42Low Fat0.020474913Snack Foods248.4092OUT0182009MediumTier 3Supermarket Type2996.0368',\n 'FDT1016.7Regular0.062044506Snack Foods57.4562OUT0461997SmallTier 1Supermarket Type1948.0992',\n 'FDL56Low Fat0.220225608Fruits and Vegetables85.6198OUT0191985SmallTier 1Grocery Store87.2198',\n 'FDS499Low Fat0.079794329Canned80.1644OUT0172007Tier 2Supermarket Type11178.466',\n 'FDT32Regular0.114916546Fruits and Vegetables188.4214OUT0191985SmallTier 1Grocery Store565.2642',\n 'NCX426.36Low Fat0.00597362Household164.5526OUT0131987HighTier 3Supermarket Type12137.8838',\n 'FDX2617.7LF0.146973462Dairy184.1292OUT0101998Tier 3Grocery Store547.2876',\n 'FDN0216.5Low Fat0.07376631Canned208.5638OUT0131987HighTier 3Supermarket Type12691.8294',\n 'FDJ40Regular0.049349121Frozen Foods108.6912OUT0271985MediumTier 3Supermarket Type33057.3536',\n 'FDU13low fat0.328390948Canned146.0418OUT0191985SmallTier 1Grocery Store588.5672',\n 'DRE2711.85Low Fat0.13267058Dairy96.4726OUT0461997SmallTier 1Supermarket Type1978.726',\n 'FDS2710.195Regular0.012455787Meat197.511OUT0352004SmallTier 2Supermarket Type12356.932',\n 'FDU44Regular0.058142797Fruits and Vegetables162.1552OUT0271985MediumTier 3Supermarket Type33086.6488',\n 'DRM59Low Fat0.006289291Hard Drinks153.2998OUT0191985SmallTier 1Grocery Store461.3994',\n 'FDT0813.65Low Fat0.04929502Fruits and Vegetables150.505OUT0491999MediumTier 1Supermarket Type12696.49',\n 'FDL4620.35low fat0.054362695Snack Foods117.9466OUT0172007Tier 2Supermarket Type11649.8524',\n 'NCV3020.2Low Fat0.110356797Household62.051OUT0101998Tier 3Grocery Store126.502',\n 'FDP5113.85Regular0.085274988Meat119.6124OUT0461997SmallTier 1Supermarket Type12014.7108',\n 'FDA518.05Regular0.164542555Dairy112.2518OUT0131987HighTier 3Supermarket Type11707.777',\n 'FDM467.365Low Fat0.160292264Snack Foods94.712OUT0452002Tier 2Supermarket Type1932.12',\n 'FDK0212.5Low Fat0.112859454Canned118.344OUT0172007Tier 2Supermarket Type12157.192',\n 'FDJ577.42Regular0.021569566Seafood184.8582OUT0352004SmallTier 2Supermarket Type14643.955',\n 'FDJ45Low Fat0.073055148Seafood33.7216OUT0271985MediumTier 3Supermarket Type31280.9992',\n 'NCB316.235Low Fat0.119345629Household261.991OUT0172007Tier 2Supermarket Type12366.919',\n 'FDJ0312.35Regular0.072334667Dairy49.1692OUT0131987HighTier 3Supermarket Type1886.8456',\n 'FDT506.75Regular0.108148913Dairy95.6752OUT0131987HighTier 3Supermarket Type1958.752',\n 'NCY4116.75Low Fat0.07585337Health and Hygiene36.8532OUT0491999MediumTier 1Supermarket Type11150.5024',\n 'FDJ6019.35Regular0.062655235Baking Goods163.3184OUT0452002Tier 2Supermarket Type12641.8944',\n 'FDZ359.6Regular0.022278477Breads102.499OUT0461997SmallTier 1Supermarket Type11547.985',\n 'FDS2119.85Regular0.020961192Snack Foods62.0194OUT0182009MediumTier 3Supermarket Type2619.194',\n 'FDM5215.1Low Fat0.025993423Frozen Foods147.4076OUT0461997SmallTier 1Supermarket Type12808.3444',\n 'FDQ08Regular0.018838681Fruits and Vegetables62.9536OUT0271985MediumTier 3Supermarket Type32266.3832',\n 'FDQ566.59Low Fat0.105577348Fruits and Vegetables85.6908OUT0352004SmallTier 2Supermarket Type11929.4884',\n 'FDS4716.75Low Fat0.129086113Breads89.4856OUT0491999MediumTier 1Supermarket Type11054.6272',\n 'DRM4815.2Low Fat0.113125627Soft Drinks38.6848OUT0452002Tier 2Supermarket Type11155.8288',\n 'FDW4613Regular0.070699313Snack Foods65.7484OUT0172007Tier 2Supermarket Type11174.4712',\n 'FDW275.86Regular0.151467821Meat154.1314OUT0182009MediumTier 3Supermarket Type23412.8908',\n 'NCQ0511.395Low Fat0.03616416Health and Hygiene150.1708OUT0101998Tier 3Grocery Store300.9416',\n 'FDU4020.85Low Fat0.062606583Frozen Foods192.2478OUT0101998Tier 3Grocery Store387.4956',\n 'DRE12Low Fat0.0704378Soft Drinks112.886OUT0271985MediumTier 3Supermarket Type32942.836',\n 'FDX355.035Regular0.079844043Breads226.3036OUT0131987HighTier 3Supermarket Type14098.6648',\n 'FDD5111.15Low Fat0.120139206Dairy45.0744OUT0491999MediumTier 1Supermarket Type1452.744',\n 'FDY276.38Low Fat0.032028115Dairy178.3344OUT0182009MediumTier 3Supermarket Type23211.8192',\n 'NCN068.39Low Fat0.120497266Household162.2868OUT0461997SmallTier 1Supermarket Type12620.5888',\n 'FDR575.675Regular0.023492524Snack Foods155.5288OUT0352004SmallTier 2Supermarket Type11414.1592',\n 'FDL3215.7Regular0.122657336Fruits and Vegetables110.1544OUT0491999MediumTier 1Supermarket Type11565.9616',\n 'FDW4613reg0.070588037Snack Foods65.9484OUT0182009MediumTier 3Supermarket Type21043.9744',\n 'NCO17Low Fat0.073024401Health and Hygiene121.844OUT0271985MediumTier 3Supermarket Type33115.944',\n 'FDR1913.5Regular0.159587755Fruits and Vegetables145.3102OUT0131987HighTier 3Supermarket Type1729.051',\n 'FDJ338.895Regular0.088821765Snack Foods125.173OUT0172007Tier 2Supermarket Type12956.152',\n 'FDB1510.895Low Fat0.136810742Dairy263.0568OUT0461997SmallTier 1Supermarket Type1527.3136',\n 'FDA5216.2Regular0.128682722Frozen Foods178.437OUT0452002Tier 2Supermarket Type11058.622',\n 'FDZ08Regular0.109459733Fruits and Vegetables84.1592OUT0271985MediumTier 3Supermarket Type31320.9472',\n 'FDR2715.1Regular0.096644015Meat131.9942OUT0172007Tier 2Supermarket Type13047.3666',\n 'NCK427.475Low Fat0.013120028Household217.6192OUT0461997SmallTier 1Supermarket Type11725.7536',\n 'FDZ12Low Fat0Baking Goods144.847OUT0191985SmallTier 1Grocery Store143.147',\n 'FDM6010.8Regular0.048339408Baking Goods41.5138OUT0182009MediumTier 3Supermarket Type2446.7518',\n 'NCI3120Low Fat0.08165845Others35.019OUT0182009MediumTier 3Supermarket Type2585.904',\n 'FDX3914.3Regular0.04975339Meat210.3586OUT0491999MediumTier 1Supermarket Type16331.758',\n 'NCV0510.1Low Fat0.030379382Health and Hygiene153.4656OUT0172007Tier 2Supermarket Type11853.5872',\n 'FDX1617.85LF0.065810045Frozen Foods149.105OUT0461997SmallTier 1Supermarket Type12247.075',\n 'DRK129.5Low Fat0Soft Drinks32.89OUT0101998Tier 3Grocery Store33.29',\n 'NCA0520.75Low Fat0.025272781Health and Hygiene146.6734OUT0172007Tier 2Supermarket Type1445.4202',\n 'DRG5112.1Low Fat0.019314961Dairy164.6526OUT0101998Tier 3Grocery Store657.8104',\n 'NCR3020.6Low Fat0.071282168Household74.4696OUT0182009MediumTier 3Supermarket Type2223.7088',\n 'NCE317.67Low Fat0.184843579Household33.1216OUT0461997SmallTier 1Supermarket Type1727.0536',\n 'FDM56Low Fat0.122896411Fruits and Vegetables111.1912OUT0191985SmallTier 1Grocery Store218.3824',\n 'FDP2420.6Low Fat0.082935004Baking Goods119.5756OUT0131987HighTier 3Supermarket Type12665.8632',\n 'DRM3715.35Low Fat0.161350176Soft Drinks196.6768OUT0101998Tier 3Grocery Store591.2304',\n 'FDN565.46Regular0.106968096Fruits and Vegetables142.6786OUT0131987HighTier 3Supermarket Type12311.6576',\n 'DRE609.395Low Fat0.159582185Soft Drinks224.772OUT0491999MediumTier 1Supermarket Type17017.532',\n 'FDW49Low Fat0.14453827Canned180.6002OUT0191985SmallTier 1Grocery Store895.501',\n 'FDM2010Low Fat0.038685802Fruits and Vegetables243.8144OUT0461997SmallTier 1Supermarket Type14655.2736',\n 'FDK15Low Fat0.172309903Meat98.2042OUT0191985SmallTier 1Grocery Store198.4084',\n 'FDK487.445Low Fat0.037690731Baking Goods73.3354OUT0491999MediumTier 1Supermarket Type1451.4124',\n 'FDO49Regular0.05787008Breakfast49.7008OUT0191985SmallTier 1Grocery Store50.6008',\n 'FDC0915.5Regular0.026409147Fruits and Vegetables102.1332OUT0182009MediumTier 3Supermarket Type2615.1992',\n 'NCZ4119.85Low Fat0.064367627Health and Hygiene126.1704OUT0131987HighTier 3Supermarket Type1876.1928',\n 'FDP1911.5Low Fat0.173516063Fruits and Vegetables128.1652OUT0461997SmallTier 1Supermarket Type12454.1388',\n 'FDQ24Low Fat0.12898088Baking Goods250.4724OUT0191985SmallTier 1Grocery Store251.6724',\n 'DRL1110.5Low Fat0.048115543Hard Drinks159.0946OUT0452002Tier 2Supermarket Type14102.6596',\n 'FDO3619.7Low Fat0.077899109Baking Goods177.766OUT0352004SmallTier 2Supermarket Type12696.49',\n 'FDN52Regular0.13093275Frozen Foods86.9198OUT0271985MediumTier 3Supermarket Type31569.9564',\n 'FDF2110.3Regular0.098464979Fruits and Vegetables188.653OUT0101998Tier 3Grocery Store189.753',\n 'FDU4020.85Low Fat0.037372847Frozen Foods192.7478OUT0131987HighTier 3Supermarket Type13099.9648',\n 'FDS5113.35Low Fat0.032230526Meat61.4194OUT0491999MediumTier 1Supermarket Type1743.0328',\n 'FDE4512.1Low Fat0.040357315Fruits and Vegetables177.8002OUT0461997SmallTier 1Supermarket Type11611.9018',\n 'FDX5020.1Low Fat0.07461309Dairy108.7228OUT0352004SmallTier 2Supermarket Type11215.7508',\n 'NCN14Low Fat0.160936178Others184.2608OUT0191985SmallTier 1Grocery Store367.5216',\n 'FDQ2121.25Low Fat0.019502354Snack Foods120.8756OUT0182009MediumTier 3Supermarket Type23150.5656',\n 'FDV57Regular0.065577449Snack Foods181.766OUT0271985MediumTier 3Supermarket Type37370.406',\n 'FDB446.655Low Fat0.016944719Fruits and Vegetables209.2586OUT0131987HighTier 3Supermarket Type12954.8204',\n 'FDG5213.65Low Fat0.065576228Frozen Foods47.7402OUT0131987HighTier 3Supermarket Type1643.1628',\n 'FDL38Regular0.02579577Canned88.4172OUT0191985SmallTier 1Grocery Store89.2172',\n 'NCS5413.6Low Fat0.010008699Household176.737OUT0491999MediumTier 1Supermarket Type14940.236',\n 'DRL3715.5Low Fat0.053362086Soft Drinks41.577OUT0352004SmallTier 2Supermarket Type1735.709',\n 'FDA4310.895Low Fat0.064621927Fruits and Vegetables196.6794OUT0131987HighTier 3Supermarket Type11170.4764',\n 'FDZ3919.7Regular0.018126724Meat101.799OUT0172007Tier 2Supermarket Type11135.189',\n 'FDG458.1Low Fat0Fruits and Vegetables211.8902OUT0182009MediumTier 3Supermarket Type23823.0236',\n 'FDH1021Low Fat0.049263979Snack Foods195.0478OUT0131987HighTier 3Supermarket Type11549.9824',\n 'FDO1013.65Regular0.021343732Snack Foods58.3588OUT0101998Tier 3Grocery Store114.5176',\n 'FDS35LF0.110681931Breads63.2826OUT0271985MediumTier 3Supermarket Type31033.3216',\n 'FDI41Regular0.061955439Frozen Foods145.1418OUT0271985MediumTier 3Supermarket Type34561.3958',\n 'FDN21LF0.076483451Snack Foods163.1236OUT0271985MediumTier 3Supermarket Type32416.854',\n 'NCO1813.15Low Fat0.024701262Household176.8686OUT0452002Tier 2Supermarket Type12133.2232',\n 'FDB3415.25Low Fat0.02671821Snack Foods85.2198OUT0182009MediumTier 3Supermarket Type21482.7366',\n 'FDD0519.35Low Fat0.016597651Frozen Foods121.5098OUT0131987HighTier 3Supermarket Type12892.2352',\n 'FDX59Low Fat0.0514111Breads33.0558OUT0271985MediumTier 3Supermarket Type3984.7182',\n 'FDZ2317.75Regular0.112985849Baking Goods185.424OUT0101998Tier 3Grocery Store745.696',\n 'FDX2720.7Regular0.11411709Dairy92.7436OUT0461997SmallTier 1Supermarket Type11323.6104',\n 'FDV079.5Low Fat0Fruits and Vegetables110.4228OUT0172007Tier 2Supermarket Type11547.3192',\n 'FDR1411.65Low Fat0.175033524Dairy55.5298OUT0172007Tier 2Supermarket Type1647.1576',\n 'FDO0121.1Regular0.020760673Breakfast128.7994OUT0452002Tier 2Supermarket Type11798.9916',\n 'FDO137.865Low Fat0.061405051Breakfast166.3526OUT0172007Tier 2Supermarket Type11973.4312',\n 'FDU2512.35Low Fat0.026676216Canned57.0246OUT0352004SmallTier 2Supermarket Type11737.738',\n 'NCK54Low Fat0.029380407Household114.715OUT0271985MediumTier 3Supermarket Type31864.24',\n 'FDZ5616.25Low Fat0.025715562Fruits and Vegetables168.1474OUT0131987HighTier 3Supermarket Type11516.0266',\n 'NCL5512.15Low Fat0.065026434Others253.704OUT0172007Tier 2Supermarket Type15060.08',\n 'FDD5910.5Regular0.066315023Starchy Foods78.296OUT0452002Tier 2Supermarket Type12157.192',\n 'FDJ5512.8Regular0.023664054Meat226.0404OUT0172007Tier 2Supermarket Type15400.9696',\n 'FDA45Low Fat0.154627247Snack Foods177.637OUT0271985MediumTier 3Supermarket Type35469.547',\n 'DRF234.61Low Fat0.205294827Hard Drinks172.8396OUT0101998Tier 3Grocery Store174.4396',\n 'FDT497Low Fat0.152261999Canned105.728OUT0172007Tier 2Supermarket Type11278.336',\n 'NCO1710Low Fat0Health and Hygiene120.644OUT0352004SmallTier 2Supermarket Type11917.504',\n 'FDH226.405Low Fat0.136275173Snack Foods128.1678OUT0352004SmallTier 2Supermarket Type11017.3424',\n 'FDT349.3Low Fat0.174621343Snack Foods104.2964OUT0491999MediumTier 1Supermarket Type11998.7316',\n 'FDB3911.6Low Fat0.038597077Dairy57.9272OUT0452002Tier 2Supermarket Type1615.1992',\n 'FDQ2216.75Low Fat0.029799965Snack Foods39.1822OUT0452002Tier 2Supermarket Type1314.2576',\n 'NCN4312.15Low Fat0.011314423Others122.973OUT0101998Tier 3Grocery Store123.173',\n 'FDG5714.7Low Fat0.072410764Fruits and Vegetables48.2034OUT0491999MediumTier 1Supermarket Type11020.6714',\n 'FDR2020Regular0.028118435Fruits and Vegetables46.7744OUT0352004SmallTier 2Supermarket Type11222.4088',\n 'FDU22Low Fat0.163350221Snack Foods120.2124OUT0191985SmallTier 1Grocery Store474.0496',\n 'NCC437.39Low Fat0.093307713Household250.9066OUT0172007Tier 2Supermarket Type11506.0396',\n 'FDP0120.75Regular0.105994654Breakfast150.5682OUT0101998Tier 3Grocery Store762.341',\n 'FDF529.3Low Fat0.067055339Frozen Foods184.2292OUT0182009MediumTier 3Supermarket Type21277.0044',\n 'FDZ3310.195Low Fat0.107376743Snack Foods147.6076OUT0352004SmallTier 2Supermarket Type13547.3824',\n 'FDP48Regular0.043810028Baking Goods181.395OUT0271985MediumTier 3Supermarket Type36042.135',\n 'FDW567.68Low Fat0.118672537Fruits and Vegetables192.2162OUT0101998Tier 3Grocery Store384.8324',\n 'FDC2610.195Low Fat0.126897925Canned110.6886OUT0182009MediumTier 3Supermarket Type21223.0746',\n 'FDF349.3Regular0.014076503Snack Foods200.0084OUT0182009MediumTier 3Supermarket Type22182.4924',\n 'FDJ338.895Regular0.088305478Snack Foods123.473OUT0352004SmallTier 2Supermarket Type11478.076',\n 'FDD0416Low Fat0.090153756Dairy143.2154OUT0452002Tier 2Supermarket Type11418.154',\n 'NCJ3119.2Low Fat0.182501773Others239.2196OUT0131987HighTier 3Supermarket Type15061.4116',\n 'FDO5720.75Low Fat0.108710162Snack Foods161.7578OUT0461997SmallTier 1Supermarket Type12888.2404',\n 'FDM36Regular0.058446424Baking Goods172.1422OUT0271985MediumTier 3Supermarket Type35518.1504',\n 'NCY0513.5Low Fat0.054990009Health and Hygiene35.2874OUT0461997SmallTier 1Supermarket Type1741.0354',\n 'FDS44Regular0.15528831Fruits and Vegetables241.7538OUT0271985MediumTier 3Supermarket Type39133.4444',\n 'FDZ3919.7Regular0.018021361Meat101.199OUT0352004SmallTier 2Supermarket Type11857.582',\n 'NCM316.095Low Fat0.0816559Others143.3154OUT0172007Tier 2Supermarket Type12836.308',\n 'DRK118.21Low Fat0.010755465Hard Drinks150.8392OUT0131987HighTier 3Supermarket Type12982.784',\n 'FDO3417.7Low Fat0.050111641Snack Foods165.9816OUT0101998Tier 3Grocery Store167.7816',\n 'NCL3018.1Low Fat0.048931174Household127.3336OUT0352004SmallTier 2Supermarket Type11150.5024',\n 'FDK285.695Low Fat0.065960909Frozen Foods259.2646OUT0172007Tier 2Supermarket Type19275.9256',\n 'DRJ3920.25Low Fat0.036319195Dairy219.3482OUT0352004SmallTier 2Supermarket Type15038.1086',\n ...]",
       "datasetInfos": [],
       "metadata": {},
       "removedWidgets": [],
       "type": "ansi"
      }
     },
     "output_type": "display_data"
    }
   ],
   "source": [
    "str_re.collect()"
   ]
  },
  {
   "cell_type": "code",
   "execution_count": 0,
   "metadata": {
    "application/vnd.databricks.v1+cell": {
     "cellMetadata": {},
     "inputWidgets": {},
     "nuid": "1eb79307-b2d0-4d57-b8d1-35f598084e3f",
     "showTitle": false,
     "title": ""
    }
   },
   "outputs": [
    {
     "data": {
      "text/plain": [
       "Out[11]: 8524"
      ]
     },
     "metadata": {
      "application/vnd.databricks.v1+output": {
       "addedWidgets": {},
       "arguments": {},
       "data": "Out[11]: 8524",
       "datasetInfos": [],
       "metadata": {},
       "removedWidgets": [],
       "type": "ansi"
      }
     },
     "output_type": "display_data"
    }
   ],
   "source": [
    "data.count()"
   ]
  },
  {
   "cell_type": "code",
   "execution_count": 0,
   "metadata": {
    "application/vnd.databricks.v1+cell": {
     "cellMetadata": {},
     "inputWidgets": {},
     "nuid": "8f88d3cc-7718-4de0-a891-dc312a855a2f",
     "showTitle": false,
     "title": ""
    }
   },
   "outputs": [
    {
     "data": {
      "text/plain": [
       "Out[12]: ['Item_Identifier,Item_Weight,Item_Fat_Content,Item_Visibility,Item_Type,Item_MRP,Outlet_Identifier,Outlet_Establishment_Year,Outlet_Size,Outlet_Location_Type,Outlet_Type,Item_Outlet_Sales',\n",
       " 'FDA15,9.3,Low Fat,0.016047301,Dairy,249.8092,OUT049,1999,Medium,Tier 1,Supermarket Type1,3735.138',\n",
       " 'DRC01,5.92,Regular,0.019278216,Soft Drinks,48.2692,OUT018,2009,Medium,Tier 3,Supermarket Type2,443.4228',\n",
       " 'FDN15,17.5,Low Fat,0.016760075,Meat,141.618,OUT049,1999,Medium,Tier 1,Supermarket Type1,2097.27',\n",
       " 'FDX07,19.2,Regular,0,Fruits and Vegetables,182.095,OUT010,1998,,Tier 3,Grocery Store,732.38',\n",
       " 'NCD19,8.93,Low Fat,0,Household,53.8614,OUT013,1987,High,Tier 3,Supermarket Type1,994.7052',\n",
       " 'FDP36,10.395,Regular,0,Baking Goods,51.4008,OUT018,2009,Medium,Tier 3,Supermarket Type2,556.6088',\n",
       " 'FDO10,13.65,Regular,0.012741089,Snack Foods,57.6588,OUT013,1987,High,Tier 3,Supermarket Type1,343.5528',\n",
       " 'FDP10,,Low Fat,0.127469857,Snack Foods,107.7622,OUT027,1985,Medium,Tier 3,Supermarket Type3,4022.7636',\n",
       " 'FDH17,16.2,Regular,0.016687114,Frozen Foods,96.9726,OUT045,2002,,Tier 2,Supermarket Type1,1076.5986']"
      ]
     },
     "metadata": {
      "application/vnd.databricks.v1+output": {
       "addedWidgets": {},
       "arguments": {},
       "data": "Out[12]: ['Item_Identifier,Item_Weight,Item_Fat_Content,Item_Visibility,Item_Type,Item_MRP,Outlet_Identifier,Outlet_Establishment_Year,Outlet_Size,Outlet_Location_Type,Outlet_Type,Item_Outlet_Sales',\n 'FDA15,9.3,Low Fat,0.016047301,Dairy,249.8092,OUT049,1999,Medium,Tier 1,Supermarket Type1,3735.138',\n 'DRC01,5.92,Regular,0.019278216,Soft Drinks,48.2692,OUT018,2009,Medium,Tier 3,Supermarket Type2,443.4228',\n 'FDN15,17.5,Low Fat,0.016760075,Meat,141.618,OUT049,1999,Medium,Tier 1,Supermarket Type1,2097.27',\n 'FDX07,19.2,Regular,0,Fruits and Vegetables,182.095,OUT010,1998,,Tier 3,Grocery Store,732.38',\n 'NCD19,8.93,Low Fat,0,Household,53.8614,OUT013,1987,High,Tier 3,Supermarket Type1,994.7052',\n 'FDP36,10.395,Regular,0,Baking Goods,51.4008,OUT018,2009,Medium,Tier 3,Supermarket Type2,556.6088',\n 'FDO10,13.65,Regular,0.012741089,Snack Foods,57.6588,OUT013,1987,High,Tier 3,Supermarket Type1,343.5528',\n 'FDP10,,Low Fat,0.127469857,Snack Foods,107.7622,OUT027,1985,Medium,Tier 3,Supermarket Type3,4022.7636',\n 'FDH17,16.2,Regular,0.016687114,Frozen Foods,96.9726,OUT045,2002,,Tier 2,Supermarket Type1,1076.5986']",
       "datasetInfos": [],
       "metadata": {},
       "removedWidgets": [],
       "type": "ansi"
      }
     },
     "output_type": "display_data"
    }
   ],
   "source": [
    "data.take(10)"
   ]
  },
  {
   "cell_type": "code",
   "execution_count": 0,
   "metadata": {
    "application/vnd.databricks.v1+cell": {
     "cellMetadata": {},
     "inputWidgets": {},
     "nuid": "90e4ae13-e3ad-4582-b8c0-6e24529ddfdb",
     "showTitle": false,
     "title": ""
    }
   },
   "outputs": [],
   "source": [
    "find_supermarket=data.filter(lambda x: 'Grocery Store' in x)"
   ]
  },
  {
   "cell_type": "code",
   "execution_count": 0,
   "metadata": {
    "application/vnd.databricks.v1+cell": {
     "cellMetadata": {},
     "inputWidgets": {},
     "nuid": "2f02759f-3ba0-4d88-a1bc-4140b51571c4",
     "showTitle": false,
     "title": ""
    }
   },
   "outputs": [
    {
     "data": {
      "text/plain": [
       "Out[14]: ['FDX07,19.2,Regular,0,Fruits and Vegetables,182.095,OUT010,1998,,Tier 3,Grocery Store,732.38',\n",
       " 'FDC37,,Low Fat,0.057556998,Baking Goods,107.6938,OUT019,1985,Small,Tier 1,Grocery Store,214.3876',\n",
       " 'FDE51,5.925,Regular,0.161466534,Dairy,45.5086,OUT010,1998,,Tier 3,Grocery Store,178.4344',\n",
       " 'FDC14,,Regular,0.072221801,Canned,43.6454,OUT019,1985,Small,Tier 1,Grocery Store,125.8362',\n",
       " 'FDV38,19.25,Low Fat,0.170348551,Dairy,55.7956,OUT010,1998,,Tier 3,Grocery Store,163.7868',\n",
       " 'FDM39,6.42,LF,0.089498926,Dairy,178.1002,OUT010,1998,,Tier 3,Grocery Store,358.2004',\n",
       " 'FDS02,,Regular,0.255394896,Dairy,196.8794,OUT019,1985,Small,Tier 1,Grocery Store,780.3176',\n",
       " 'FDI26,,Low Fat,0.061082177,Canned,180.0344,OUT019,1985,Small,Tier 1,Grocery Store,892.172',\n",
       " 'FDY40,,Regular,0.15028599,Frozen Foods,51.0692,OUT019,1985,Small,Tier 1,Grocery Store,147.8076',\n",
       " 'FDC46,17.7,LF,0.195068226,Snack Foods,185.4266,OUT010,1998,,Tier 3,Grocery Store,184.4266',\n",
       " 'FDN48,,Low Fat,0.113720344,Baking Goods,89.9804,OUT019,1985,Small,Tier 1,Grocery Store,643.1628',\n",
       " 'NCL18,,Low Fat,0.293417759,Household,194.6136,OUT019,1985,Small,Tier 1,Grocery Store,583.2408',\n",
       " 'FDW20,20.75,Low Fat,0.040421193,Fruits and Vegetables,122.173,OUT010,1998,,Tier 3,Grocery Store,369.519',\n",
       " 'FDU04,,Low Fat,0.009714595,Frozen Foods,120.0414,OUT019,1985,Small,Tier 1,Grocery Store,487.3656',\n",
       " 'DRE60,,low fat,0.278974075,Soft Drinks,225.372,OUT019,1985,Small,Tier 1,Grocery Store,679.116',\n",
       " 'FDW39,,Regular,0.064625342,Meat,176.937,OUT019,1985,Small,Tier 1,Grocery Store,176.437',\n",
       " 'FDB14,20.25,Regular,0.171938781,Canned,92.512,OUT010,1998,,Tier 3,Grocery Store,186.424',\n",
       " 'FDS52,8.89,Low Fat,0.009163216,Frozen Foods,101.7016,OUT010,1998,,Tier 3,Grocery Store,101.2016',\n",
       " 'NCN07,18.5,Low Fat,0.056816465,Others,132.1284,OUT010,1998,,Tier 3,Grocery Store,263.6568',\n",
       " 'FDI32,17.7,Low Fat,0.291865402,Fruits and Vegetables,115.1834,OUT010,1998,,Tier 3,Grocery Store,345.5502',\n",
       " 'FDR47,17.85,LF,0,Breads,196.5794,OUT010,1998,,Tier 3,Grocery Store,585.2382',\n",
       " 'NCU05,11.8,Low Fat,0.098312421,Health and Hygiene,81.4618,OUT010,1998,,Tier 3,Grocery Store,161.1236',\n",
       " 'DRY23,,Regular,0.191013663,Soft Drinks,42.1112,OUT019,1985,Small,Tier 1,Grocery Store,42.6112',\n",
       " 'NCO17,,Low Fat,0.128478462,Health and Hygiene,117.944,OUT019,1985,Small,Tier 1,Grocery Store,239.688',\n",
       " 'FDO08,,Regular,0.09415375,Fruits and Vegetables,165.7526,OUT019,1985,Small,Tier 1,Grocery Store,657.8104',\n",
       " 'FDF24,15.5,Regular,0.042464962,Baking Goods,81.5934,OUT010,1998,,Tier 3,Grocery Store,327.5736',\n",
       " 'FDS45,,Regular,0.051643608,Snack Foods,107.3622,OUT019,1985,Small,Tier 1,Grocery Store,317.5866',\n",
       " 'FDX40,12.85,Low Fat,0.165694219,Frozen Foods,39.7164,OUT010,1998,,Tier 3,Grocery Store,231.6984',\n",
       " 'NCZ54,14.65,Low Fat,0,Household,161.5552,OUT010,1998,,Tier 3,Grocery Store,324.9104',\n",
       " 'FDE10,6.67,Regular,0.150554711,Snack Foods,130.0626,OUT010,1998,,Tier 3,Grocery Store,131.1626',\n",
       " 'FDR44,6.11,Regular,0,Fruits and Vegetables,131.2968,OUT010,1998,,Tier 3,Grocery Store,260.9936',\n",
       " 'FDP28,13.65,Regular,0.134975628,Frozen Foods,260.0936,OUT010,1998,,Tier 3,Grocery Store,260.9936',\n",
       " 'NCO07,,Low Fat,0.017116983,Others,211.956,OUT019,1985,Small,Tier 1,Grocery Store,213.056',\n",
       " 'DRF27,,Low Fat,0.049754975,Dairy,152.134,OUT019,1985,Small,Tier 1,Grocery Store,153.134',\n",
       " 'FDS46,,Regular,0.082741482,Snack Foods,118.7782,OUT019,1985,Small,Tier 1,Grocery Store,119.1782',\n",
       " 'DRF15,,Low Fat,0.058153409,Dairy,152.034,OUT019,1985,Small,Tier 1,Grocery Store,306.268',\n",
       " 'FDQ04,,Low Fat,0.148392623,Frozen Foods,41.5796,OUT019,1985,Small,Tier 1,Grocery Store,41.2796',\n",
       " 'FDK21,7.905,Low Fat,0.016758569,Snack Foods,250.4408,OUT010,1998,,Tier 3,Grocery Store,500.6816',\n",
       " 'FDJ08,,Low Fat,0.193772568,Fruits and Vegetables,190.3846,OUT019,1985,Small,Tier 1,Grocery Store,573.2538',\n",
       " 'FDE08,18.2,Low Fat,0.082551042,Fruits and Vegetables,147.3734,OUT010,1998,,Tier 3,Grocery Store,296.9468',\n",
       " 'FDV20,,Regular,0.104704537,Fruits and Vegetables,125.2678,OUT019,1985,Small,Tier 1,Grocery Store,254.3356',\n",
       " 'FDC08,19,Regular,0.173154079,Fruits and Vegetables,228.272,OUT010,1998,,Tier 3,Grocery Store,452.744',\n",
       " 'NCK19,9.8,Low Fat,0.151420934,Others,194.3478,OUT010,1998,,Tier 3,Grocery Store,387.4956',\n",
       " 'FDC41,,Low Fat,0.2047,Frozen Foods,76.867,OUT019,1985,Small,Tier 1,Grocery Store,229.701',\n",
       " 'FDJ22,,Low Fat,0.09246392,Snack Foods,190.9504,OUT019,1985,Small,Tier 1,Grocery Store,383.5008',\n",
       " 'FDX26,,Low Fat,0.153741385,Dairy,182.6292,OUT019,1985,Small,Tier 1,Grocery Store,182.4292',\n",
       " 'NCW53,,Low Fat,0.053392944,Health and Hygiene,193.8162,OUT019,1985,Small,Tier 1,Grocery Store,384.8324',\n",
       " 'FDT57,15.2,Low Fat,0.031860325,Snack Foods,235.1248,OUT010,1998,,Tier 3,Grocery Store,474.0496',\n",
       " 'FDU02,,Low Fat,0.179484411,Dairy,228.9352,OUT019,1985,Small,Tier 1,Grocery Store,916.1408',\n",
       " 'FDW24,,Low Fat,0.065652494,Baking Goods,48.9034,OUT019,1985,Small,Tier 1,Grocery Store,48.6034',\n",
       " 'NCZ42,10.5,Low Fat,0,Household,238.3248,OUT010,1998,,Tier 3,Grocery Store,711.0744',\n",
       " 'FDW35,,low fat,0.0194158,Breads,41.6454,OUT019,1985,Small,Tier 1,Grocery Store,83.8908',\n",
       " 'FDR04,7.075,Low Fat,0.03777249,Frozen Foods,98.0068,OUT010,1998,,Tier 3,Grocery Store,291.6204',\n",
       " 'FDW23,,Low Fat,0.143592939,Baking Goods,37.3164,OUT019,1985,Small,Tier 1,Grocery Store,38.6164',\n",
       " 'DRH03,,Low Fat,0.061393095,Dairy,91.812,OUT019,1985,Small,Tier 1,Grocery Store,372.848',\n",
       " 'FDW27,,Regular,0.264124669,Meat,155.7314,OUT019,1985,Small,Tier 1,Grocery Store,155.1314',\n",
       " 'FDS09,,Regular,0.141975462,Snack Foods,49.6008,OUT019,1985,Small,Tier 1,Grocery Store,50.6008',\n",
       " 'FDV51,16.35,Low Fat,0.054463442,Meat,163.8842,OUT010,1998,,Tier 3,Grocery Store,165.7842',\n",
       " 'FDC02,21.35,Low Fat,0.115194717,Canned,258.3278,OUT010,1998,,Tier 3,Grocery Store,520.6556',\n",
       " 'FDX14,,Low Fat,0.13121032,Dairy,74.0354,OUT019,1985,Small,Tier 1,Grocery Store,75.2354',\n",
       " 'FDH28,,reg,0.192650072,Frozen Foods,37.4506,OUT019,1985,Small,Tier 1,Grocery Store,37.9506',\n",
       " 'NCT41,,Low Fat,0.098031771,Health and Hygiene,151.3024,OUT019,1985,Small,Tier 1,Grocery Store,151.8024',\n",
       " 'FDN09,14.15,Low Fat,0.05837308,Snack Foods,243.9828,OUT010,1998,,Tier 3,Grocery Store,731.0484',\n",
       " 'FDB15,10.895,Low Fat,0.228993134,Dairy,263.4568,OUT010,1998,,Tier 3,Grocery Store,527.3136',\n",
       " 'DRN36,,Low Fat,0.087854925,Soft Drinks,95.9752,OUT019,1985,Small,Tier 1,Grocery Store,95.8752',\n",
       " 'FDQ37,20.75,Low Fat,0.149404057,Breakfast,192.8478,OUT010,1998,,Tier 3,Grocery Store,774.9912',\n",
       " 'FDC15,18.1,Low Fat,0.297883712,Dairy,156.7288,OUT010,1998,,Tier 3,Grocery Store,314.2576',\n",
       " 'NCD19,8.93,Low Fat,0.022059594,Household,56.0614,OUT010,1998,,Tier 3,Grocery Store,276.307',\n",
       " 'NCE06,,Low Fat,0.160178832,Household,160.2894,OUT019,1985,Small,Tier 1,Grocery Store,323.5788',\n",
       " 'NCM55,15.6,Low Fat,0.111685868,Others,184.7924,OUT010,1998,,Tier 3,Grocery Store,370.1848',\n",
       " 'FDR49,8.71,Low Fat,0.233039817,Canned,49.5376,OUT010,1998,,Tier 3,Grocery Store,95.8752',\n",
       " 'FDA44,19.7,Low Fat,0.089083914,Fruits and Vegetables,54.593,OUT010,1998,,Tier 3,Grocery Store,56.593',\n",
       " 'FDB38,,Regular,0,Canned,160.692,OUT019,1985,Small,Tier 1,Grocery Store,319.584',\n",
       " 'FDD29,12.15,Low Fat,0.030815427,Frozen Foods,252.0698,OUT010,1998,,Tier 3,Grocery Store,1014.6792',\n",
       " 'FDW50,,Low Fat,0.132327406,Dairy,168.4158,OUT019,1985,Small,Tier 1,Grocery Store,334.2316',\n",
       " 'DRF03,19.1,Low Fat,0.075836522,Dairy,40.2138,OUT010,1998,,Tier 3,Grocery Store,81.2276',\n",
       " 'FDE22,,Low Fat,0.051778173,Snack Foods,157.892,OUT019,1985,Small,Tier 1,Grocery Store,319.584',\n",
       " 'DRK35,,Low Fat,0.125793938,Hard Drinks,36.2506,OUT019,1985,Small,Tier 1,Grocery Store,37.9506',\n",
       " 'FDE05,,Regular,0,Frozen Foods,145.2102,OUT019,1985,Small,Tier 1,Grocery Store,437.4306',\n",
       " 'FDZ01,8.975,Regular,0.01516265,Canned,101.899,OUT010,1998,,Tier 3,Grocery Store,103.199',\n",
       " 'FDY07,11.8,Low Fat,0,Fruits and Vegetables,46.5402,OUT010,1998,,Tier 3,Grocery Store,229.701',\n",
       " 'FDG20,15.5,Regular,0.210375806,Fruits and Vegetables,178.2028,OUT010,1998,,Tier 3,Grocery Store,177.1028',\n",
       " 'FDU32,8.785,Low Fat,0,Fruits and Vegetables,123.0414,OUT010,1998,,Tier 3,Grocery Store,121.8414',\n",
       " 'NCZ06,,Low Fat,0.164864915,Household,255.2698,OUT019,1985,Small,Tier 1,Grocery Store,761.0094',\n",
       " 'FDX57,17.25,Regular,0.079113947,Snack Foods,99.2068,OUT010,1998,,Tier 3,Grocery Store,97.2068',\n",
       " 'DRI39,13.8,Low Fat,0.162462044,Dairy,55.893,OUT010,1998,,Tier 3,Grocery Store,226.372',\n",
       " 'FDA14,,Low Fat,0.114127418,Dairy,147.176,OUT019,1985,Small,Tier 1,Grocery Store,585.904',\n",
       " 'FDS03,,Low Fat,0.139419417,Meat,66.0826,OUT019,1985,Small,Tier 1,Grocery Store,258.3304',\n",
       " 'DRN47,12.1,Low Fat,0.028164527,Hard Drinks,178.166,OUT010,1998,,Tier 3,Grocery Store,539.298',\n",
       " 'FDN15,17.5,Low Fat,0.028009382,Meat,141.718,OUT010,1998,,Tier 3,Grocery Store,419.454',\n",
       " 'FDS03,7.825,Low Fat,0.133281968,Meat,63.2826,OUT010,1998,,Tier 3,Grocery Store,129.1652',\n",
       " 'FDI41,,Regular,0.109003832,Frozen Foods,145.2418,OUT019,1985,Small,Tier 1,Grocery Store,147.1418',\n",
       " 'FDE35,7.06,Regular,0.073480266,Starchy Foods,58.8904,OUT010,1998,,Tier 3,Grocery Store,58.5904',\n",
       " 'DRD60,,Low Fat,0.065188619,Soft Drinks,181.1634,OUT019,1985,Small,Tier 1,Grocery Store,181.7634',\n",
       " 'FDL48,19.35,Regular,0.137697119,Baking Goods,47.1034,OUT010,1998,,Tier 3,Grocery Store,145.8102',\n",
       " 'FDK55,,Low Fat,0.045105407,Meat,89.4172,OUT019,1985,Small,Tier 1,Grocery Store,178.4344',\n",
       " 'FDL56,,Low Fat,0.220225608,Fruits and Vegetables,85.6198,OUT019,1985,Small,Tier 1,Grocery Store,87.2198',\n",
       " 'FDT32,,Regular,0.114916546,Fruits and Vegetables,188.4214,OUT019,1985,Small,Tier 1,Grocery Store,565.2642',\n",
       " 'FDX26,17.7,LF,0.146973462,Dairy,184.1292,OUT010,1998,,Tier 3,Grocery Store,547.2876',\n",
       " 'FDU13,,low fat,0.328390948,Canned,146.0418,OUT019,1985,Small,Tier 1,Grocery Store,588.5672',\n",
       " 'DRM59,,Low Fat,0.006289291,Hard Drinks,153.2998,OUT019,1985,Small,Tier 1,Grocery Store,461.3994',\n",
       " 'NCV30,20.2,Low Fat,0.110356797,Household,62.051,OUT010,1998,,Tier 3,Grocery Store,126.502',\n",
       " 'NCQ05,11.395,Low Fat,0.03616416,Health and Hygiene,150.1708,OUT010,1998,,Tier 3,Grocery Store,300.9416',\n",
       " 'FDU40,20.85,Low Fat,0.062606583,Frozen Foods,192.2478,OUT010,1998,,Tier 3,Grocery Store,387.4956',\n",
       " 'FDZ12,,Low Fat,0,Baking Goods,144.847,OUT019,1985,Small,Tier 1,Grocery Store,143.147',\n",
       " 'DRK12,9.5,Low Fat,0,Soft Drinks,32.89,OUT010,1998,,Tier 3,Grocery Store,33.29',\n",
       " 'DRG51,12.1,Low Fat,0.019314961,Dairy,164.6526,OUT010,1998,,Tier 3,Grocery Store,657.8104',\n",
       " 'FDM56,,Low Fat,0.122896411,Fruits and Vegetables,111.1912,OUT019,1985,Small,Tier 1,Grocery Store,218.3824',\n",
       " 'DRM37,15.35,Low Fat,0.161350176,Soft Drinks,196.6768,OUT010,1998,,Tier 3,Grocery Store,591.2304',\n",
       " 'FDW49,,Low Fat,0.14453827,Canned,180.6002,OUT019,1985,Small,Tier 1,Grocery Store,895.501',\n",
       " 'FDK15,,Low Fat,0.172309903,Meat,98.2042,OUT019,1985,Small,Tier 1,Grocery Store,198.4084',\n",
       " 'FDO49,,Regular,0.05787008,Breakfast,49.7008,OUT019,1985,Small,Tier 1,Grocery Store,50.6008',\n",
       " 'FDQ24,,Low Fat,0.12898088,Baking Goods,250.4724,OUT019,1985,Small,Tier 1,Grocery Store,251.6724',\n",
       " 'FDF21,10.3,Regular,0.098464979,Fruits and Vegetables,188.653,OUT010,1998,,Tier 3,Grocery Store,189.753',\n",
       " 'NCN14,,Low Fat,0.160936178,Others,184.2608,OUT019,1985,Small,Tier 1,Grocery Store,367.5216',\n",
       " 'FDL38,,Regular,0.02579577,Canned,88.4172,OUT019,1985,Small,Tier 1,Grocery Store,89.2172',\n",
       " 'FDO10,13.65,Regular,0.021343732,Snack Foods,58.3588,OUT010,1998,,Tier 3,Grocery Store,114.5176',\n",
       " 'FDZ23,17.75,Regular,0.112985849,Baking Goods,185.424,OUT010,1998,,Tier 3,Grocery Store,745.696',\n",
       " 'DRF23,4.61,Low Fat,0.205294827,Hard Drinks,172.8396,OUT010,1998,,Tier 3,Grocery Store,174.4396',\n",
       " 'NCN43,12.15,Low Fat,0.011314423,Others,122.973,OUT010,1998,,Tier 3,Grocery Store,123.173',\n",
       " 'FDU22,,Low Fat,0.163350221,Snack Foods,120.2124,OUT019,1985,Small,Tier 1,Grocery Store,474.0496',\n",
       " 'FDP01,20.75,Regular,0.105994654,Breakfast,150.5682,OUT010,1998,,Tier 3,Grocery Store,762.341',\n",
       " 'FDW56,7.68,Low Fat,0.118672537,Fruits and Vegetables,192.2162,OUT010,1998,,Tier 3,Grocery Store,384.8324',\n",
       " 'FDO34,17.7,Low Fat,0.050111641,Snack Foods,165.9816,OUT010,1998,,Tier 3,Grocery Store,167.7816',\n",
       " 'FDG31,12.15,Low Fat,0.063430788,Meat,65.4826,OUT010,1998,,Tier 3,Grocery Store,258.3304',\n",
       " 'NCS54,13.6,Low Fat,0.016726506,Household,176.037,OUT010,1998,,Tier 3,Grocery Store,352.874',\n",
       " 'FDQ57,,Low Fat,0.048932713,Snack Foods,144.476,OUT019,1985,Small,Tier 1,Grocery Store,146.476',\n",
       " 'NCX29,,Low Fat,0.156094569,Health and Hygiene,144.3102,OUT019,1985,Small,Tier 1,Grocery Store,145.8102',\n",
       " 'FDM02,12.5,Regular,0.12341737,Canned,86.0198,OUT010,1998,,Tier 3,Grocery Store,87.2198',\n",
       " 'FDL52,6.635,reg,0.077145553,Frozen Foods,39.8506,OUT010,1998,,Tier 3,Grocery Store,75.9012',\n",
       " 'DRK37,,Low Fat,0.077046505,Soft Drinks,189.453,OUT019,1985,Small,Tier 1,Grocery Store,759.012',\n",
       " 'FDM28,15.7,Low Fat,0.075661985,Frozen Foods,181.366,OUT010,1998,,Tier 3,Grocery Store,179.766',\n",
       " 'NCY41,16.75,Low Fat,0.126765903,Health and Hygiene,35.7532,OUT010,1998,,Tier 3,Grocery Store,143.8128',\n",
       " 'FDC21,,Regular,0.075215349,Fruits and Vegetables,108.4254,OUT019,1985,Small,Tier 1,Grocery Store,217.0508',\n",
       " 'FDL13,,Regular,0.098606543,Breakfast,232.73,OUT019,1985,Small,Tier 1,Grocery Store,932.12',\n",
       " 'NCA54,16.5,Low Fat,0.061330521,Household,178.7318,OUT010,1998,,Tier 3,Grocery Store,360.8636',\n",
       " 'NCF18,18.35,Low Fat,0.148938624,Household,191.9504,OUT010,1998,,Tier 3,Grocery Store,767.0016',\n",
       " 'NCX41,19,Low Fat,0,Health and Hygiene,211.0244,OUT010,1998,,Tier 3,Grocery Store,1482.0708',\n",
       " 'FDA49,,Low Fat,0.113669629,Canned,89.0198,OUT019,1985,Small,Tier 1,Grocery Store,174.4396',\n",
       " 'FDY52,,Low Fat,0.012865901,Frozen Foods,59.3536,OUT019,1985,Small,Tier 1,Grocery Store,122.5072',\n",
       " 'FDL02,,Regular,0.182236555,Canned,107.1622,OUT019,1985,Small,Tier 1,Grocery Store,211.7244',\n",
       " 'FDJ02,,Regular,0.044063785,Canned,147.2418,OUT019,1985,Small,Tier 1,Grocery Store,294.2836',\n",
       " 'FDB34,15.25,Low Fat,0.044539371,Snack Foods,85.3198,OUT010,1998,,Tier 3,Grocery Store,261.6594',\n",
       " 'FDD46,,Low Fat,0.247321039,Snack Foods,152.3998,OUT019,1985,Small,Tier 1,Grocery Store,153.7998',\n",
       " 'FDK45,,Low Fat,0.059281315,Seafood,111.586,OUT019,1985,Small,Tier 1,Grocery Store,339.558',\n",
       " 'DRH01,,Low Fat,0.171417316,Soft Drinks,173.0738,OUT019,1985,Small,Tier 1,Grocery Store,347.5476',\n",
       " 'DRH37,,Low Fat,0.072864869,Soft Drinks,165.2526,OUT019,1985,Small,Tier 1,Grocery Store,822.263',\n",
       " 'NCK06,5.03,Low Fat,0.014472516,Household,122.0756,OUT010,1998,,Tier 3,Grocery Store,121.1756',\n",
       " 'DRH49,,Low Fat,0.043168763,Soft Drinks,82.8592,OUT019,1985,Small,Tier 1,Grocery Store,165.1184',\n",
       " 'NCZ30,6.59,Low Fat,0.043828293,Household,121.4098,OUT010,1998,,Tier 3,Grocery Store,241.0196',\n",
       " 'FDK08,,Regular,0.214139786,Fruits and Vegetables,102.4016,OUT019,1985,Small,Tier 1,Grocery Store,202.4032',\n",
       " 'FDO22,13.5,Regular,0.029893094,Snack Foods,81.096,OUT010,1998,,Tier 3,Grocery Store,159.792',\n",
       " 'DRE37,,Low Fat,0.164966345,Soft Drinks,189.4872,OUT019,1985,Small,Tier 1,Grocery Store,189.0872',\n",
       " 'FDU60,20,Regular,0.100262068,Baking Goods,169.6132,OUT010,1998,,Tier 3,Grocery Store,169.1132',\n",
       " 'FDZ33,,Low Fat,0.188038372,Snack Foods,146.4076,OUT019,1985,Small,Tier 1,Grocery Store,147.8076',\n",
       " 'DRM23,16.6,Low Fat,0.227189581,Hard Drinks,173.9422,OUT010,1998,,Tier 3,Grocery Store,172.4422',\n",
       " 'FDI04,,Regular,0.127660257,Frozen Foods,198.5426,OUT019,1985,Small,Tier 1,Grocery Store,790.9704',\n",
       " 'FDY24,4.88,Regular,0.223440258,Baking Goods,52.2298,OUT010,1998,,Tier 3,Grocery Store,161.7894',\n",
       " 'FDK43,,Low Fat,0.046994717,Meat,125.802,OUT019,1985,Small,Tier 1,Grocery Store,253.004',\n",
       " 'FDV28,16.1,Regular,0.267352587,Frozen Foods,34.9558,OUT010,1998,,Tier 3,Grocery Store,67.9116',\n",
       " 'FDT58,9,Low Fat,0.143870574,Snack Foods,169.4816,OUT010,1998,,Tier 3,Grocery Store,503.3448',\n",
       " 'FDO23,,Low Fat,0.25637539,Breads,94.8436,OUT019,1985,Small,Tier 1,Grocery Store,567.2616',\n",
       " 'NCI31,20,low fat,0.136124989,Others,38.319,OUT010,1998,,Tier 3,Grocery Store,146.476',\n",
       " 'NCK29,,Low Fat,0,Health and Hygiene,123.473,OUT019,1985,Small,Tier 1,Grocery Store,369.519',\n",
       " 'FDM32,20.5,Low Fat,0,Fruits and Vegetables,90.883,OUT010,1998,,Tier 3,Grocery Store,89.883',\n",
       " 'DRI11,,Low Fat,0.060237465,Hard Drinks,115.9834,OUT019,1985,Small,Tier 1,Grocery Store,345.5502',\n",
       " 'FDJ55,12.8,Regular,0.039385992,Meat,224.8404,OUT010,1998,,Tier 3,Grocery Store,1575.2828',\n",
       " 'FDO56,10.195,Regular,0.075291577,Fruits and Vegetables,119.1808,OUT010,1998,,Tier 3,Grocery Store,351.5424',\n",
       " 'NCF19,,Low Fat,0.061470858,Household,48.6034,OUT019,1985,Small,Tier 1,Grocery Store,145.8102',\n",
       " 'FDQ03,,Regular,0.136592891,Meat,238.0248,OUT019,1985,Small,Tier 1,Grocery Store,711.0744',\n",
       " 'FDR46,,Low Fat,0.244102315,Snack Foods,148.076,OUT019,1985,Small,Tier 1,Grocery Store,146.476',\n",
       " 'FDE16,,Low Fat,0.046124444,Frozen Foods,206.7954,OUT019,1985,Small,Tier 1,Grocery Store,833.5816',\n",
       " 'NCW42,18.2,Low Fat,0.097865088,Household,221.8456,OUT010,1998,,Tier 3,Grocery Store,884.1824',\n",
       " 'NCI54,,LF,0.058827583,Household,110.4912,OUT019,1985,Small,Tier 1,Grocery Store,436.7648',\n",
       " 'FDD16,20.5,Low Fat,0.060847634,Frozen Foods,75.0696,OUT010,1998,,Tier 3,Grocery Store,149.1392',\n",
       " 'FDW38,,Regular,0,Dairy,55.9298,OUT019,1985,Small,Tier 1,Grocery Store,107.8596',\n",
       " 'NCX05,,Low Fat,0.169943195,Health and Hygiene,116.2492,OUT019,1985,Small,Tier 1,Grocery Store,115.8492',\n",
       " 'NCG18,15.3,Low Fat,0.038460297,Household,104.0332,OUT010,1998,,Tier 3,Grocery Store,205.0664',\n",
       " 'FDK02,12.5,Low Fat,0.187841082,Canned,119.244,OUT010,1998,,Tier 3,Grocery Store,119.844',\n",
       " 'FDQ31,5.785,Regular,0.0901292,Fruits and Vegetables,89.8856,OUT010,1998,,Tier 3,Grocery Store,175.7712',\n",
       " 'FDS01,,Low Fat,0.031069203,Canned,179.6686,OUT019,1985,Small,Tier 1,Grocery Store,177.7686',\n",
       " 'FDW34,,Low Fat,0.062294473,Snack Foods,242.417,OUT019,1985,Small,Tier 1,Grocery Store,486.034',\n",
       " 'NCJ17,7.68,Low Fat,0.255348289,Health and Hygiene,84.4224,OUT010,1998,,Tier 3,Grocery Store,170.4448',\n",
       " 'FDL20,,Low Fat,0.224837308,Fruits and Vegetables,112.7886,OUT019,1985,Small,Tier 1,Grocery Store,222.3772',\n",
       " 'FDD57,18.1,Low Fat,0.037492325,Fruits and Vegetables,95.5094,OUT010,1998,,Tier 3,Grocery Store,95.2094',\n",
       " 'FDE45,,Low Fat,0.070660449,Fruits and Vegetables,180.4002,OUT019,1985,Small,Tier 1,Grocery Store,716.4008',\n",
       " 'FDK52,18.25,Low Fat,0.132596101,Frozen Foods,226.2062,OUT010,1998,,Tier 3,Grocery Store,677.1186',\n",
       " 'NCK18,9.6,Low Fat,0.011211251,Household,166.9184,OUT010,1998,,Tier 3,Grocery Store,660.4736',\n",
       " 'FDC04,,Low Fat,0.078764059,Dairy,241.3854,OUT019,1985,Small,Tier 1,Grocery Store,483.3708',\n",
       " 'FDU58,6.61,Regular,0.04855968,Snack Foods,188.4898,OUT010,1998,,Tier 3,Grocery Store,187.0898',\n",
       " 'FDL09,,Regular,0.22417463,Snack Foods,168.8816,OUT019,1985,Small,Tier 1,Grocery Store,167.7816',\n",
       " 'FDG33,,Regular,0.245542627,Seafood,172.2764,OUT019,1985,Small,Tier 1,Grocery Store,171.7764',\n",
       " 'FDD16,,Low Fat,0.063649582,Frozen Foods,74.7696,OUT019,1985,Small,Tier 1,Grocery Store,74.5696',\n",
       " 'FDP11,15.85,Low Fat,0.11566015,Breads,218.3166,OUT010,1998,,Tier 3,Grocery Store,435.4332',\n",
       " 'NCG43,20.2,Low Fat,0.124261614,Household,93.6462,OUT010,1998,,Tier 3,Grocery Store,277.6386',\n",
       " 'FDL14,8.115,reg,0.05382735,Canned,155.2972,OUT010,1998,,Tier 3,Grocery Store,311.5944',\n",
       " 'FDS45,5.175,Regular,0.04937018,Snack Foods,106.7622,OUT010,1998,,Tier 3,Grocery Store,211.7244',\n",
       " 'FDD46,6.035,Low Fat,0.236433601,Snack Foods,155.5998,OUT010,1998,,Tier 3,Grocery Store,153.7998',\n",
       " 'FDR43,18.2,Low Fat,0.270300331,Fruits and Vegetables,38.319,OUT010,1998,,Tier 3,Grocery Store,109.857',\n",
       " 'NCQ06,,Low Fat,0.073229342,Household,254.1014,OUT019,1985,Small,Tier 1,Grocery Store,255.0014',\n",
       " 'FDG16,,Low Fat,0.157257637,Frozen Foods,215.0192,OUT019,1985,Small,Tier 1,Grocery Store,1078.596',\n",
       " 'NCX30,,LF,0.046609281,Household,248.6776,OUT019,1985,Small,Tier 1,Grocery Store,495.3552',\n",
       " 'FDK03,12.6,Regular,0.123727659,Dairy,253.0356,OUT010,1998,,Tier 3,Grocery Store,254.3356',\n",
       " 'FDZ59,,Regular,0.182128363,Baking Goods,165.65,OUT019,1985,Small,Tier 1,Grocery Store,665.8',\n",
       " 'DRP35,,Low Fat,0.159096908,Hard Drinks,129.3336,OUT019,1985,Small,Tier 1,Grocery Store,127.8336',\n",
       " 'DRC25,,Low Fat,0.079440262,Soft Drinks,86.7882,OUT019,1985,Small,Tier 1,Grocery Store,85.8882',\n",
       " 'FDO57,20.75,Low Fat,0.181958524,Snack Foods,161.0578,OUT010,1998,,Tier 3,Grocery Store,481.3734',\n",
       " 'FDF16,7.3,Low Fat,0.144167934,Frozen Foods,146.3076,OUT010,1998,,Tier 3,Grocery Store,886.8456',\n",
       " 'FDP25,,low fat,0.037131628,Canned,216.4824,OUT019,1985,Small,Tier 1,Grocery Store,218.3824',\n",
       " 'NCL05,,Low Fat,0.083862625,Health and Hygiene,44.077,OUT019,1985,Small,Tier 1,Grocery Store,216.385',\n",
       " 'FDK08,9.195,Regular,0.204713036,Fruits and Vegetables,101.0016,OUT010,1998,,Tier 3,Grocery Store,202.4032',\n",
       " 'FDC28,,Low Fat,0,Frozen Foods,109.9254,OUT019,1985,Small,Tier 1,Grocery Store,108.5254',\n",
       " 'FDX21,,Low Fat,0.148764535,Snack Foods,111.1912,OUT019,1985,Small,Tier 1,Grocery Store,109.1912',\n",
       " 'FDW12,8.315,Regular,0.059540542,Baking Goods,143.6444,OUT010,1998,,Tier 3,Grocery Store,145.1444',\n",
       " 'FDY09,,Low Fat,0.044122209,Snack Foods,173.8054,OUT019,1985,Small,Tier 1,Grocery Store,175.1054',\n",
       " 'FDU36,,Low Fat,0.081014461,Baking Goods,98.8384,OUT019,1985,Small,Tier 1,Grocery Store,492.692',\n",
       " 'FDE04,19.75,Regular,0.030166924,Frozen Foods,179.766,OUT010,1998,,Tier 3,Grocery Store,719.064',\n",
       " 'FDJ56,,Low Fat,0.32111501,Fruits and Vegetables,100.77,OUT019,1985,Small,Tier 1,Grocery Store,199.74',\n",
       " 'FDC10,,Regular,0.127599399,Snack Foods,118.9098,OUT019,1985,Small,Tier 1,Grocery Store,120.5098',\n",
       " 'FDW36,,Low Fat,0.099681705,Baking Goods,107.4622,OUT019,1985,Small,Tier 1,Grocery Store,317.5866',\n",
       " 'FDZ45,14.1,Low Fat,0.111936685,Snack Foods,198.8084,OUT010,1998,,Tier 3,Grocery Store,992.042',\n",
       " 'FDA10,,LF,0.248301532,Snack Foods,124.1072,OUT019,1985,Small,Tier 1,Grocery Store,245.0144',\n",
       " 'FDZ58,,Low Fat,0.091354948,Snack Foods,122.3072,OUT019,1985,Small,Tier 1,Grocery Store,122.5072',\n",
       " 'FDE34,9.195,Low Fat,0.180588082,Snack Foods,182.2634,OUT010,1998,,Tier 3,Grocery Store,363.5268',\n",
       " 'NCJ18,12.35,LF,0.274405193,Household,117.1124,OUT010,1998,,Tier 3,Grocery Store,355.5372',\n",
       " 'FDX27,20.7,Regular,0.191008614,Dairy,92.8436,OUT010,1998,,Tier 3,Grocery Store,189.0872',\n",
       " 'FDE33,,Regular,0.086905536,Fruits and Vegetables,78.8644,OUT019,1985,Small,Tier 1,Grocery Store,314.2576',\n",
       " 'NCH30,17.1,Low Fat,0.112402118,Household,112.986,OUT010,1998,,Tier 3,Grocery Store,113.186',\n",
       " 'NCM29,11.5,Low Fat,0.029529474,Health and Hygiene,132.6626,OUT010,1998,,Tier 3,Grocery Store,262.3252',\n",
       " 'NCU54,8.88,Low Fat,0.165073642,Household,207.727,OUT010,1998,,Tier 3,Grocery Store,209.727',\n",
       " 'FDH44,19.1,Regular,0.043304681,Fruits and Vegetables,147.5418,OUT010,1998,,Tier 3,Grocery Store,294.2836',\n",
       " 'FDR59,14.5,Regular,0.106894492,Breads,260.4594,OUT010,1998,,Tier 3,Grocery Store,1046.6376',\n",
       " 'FDH21,,Low Fat,0.054670967,Seafood,158.6604,OUT019,1985,Small,Tier 1,Grocery Store,316.9208',\n",
       " 'FDR12,,Regular,0.055213281,Baking Goods,172.4764,OUT019,1985,Small,Tier 1,Grocery Store,687.1056',\n",
       " 'DRK49,,LF,0,Soft Drinks,40.5138,OUT019,1985,Small,Tier 1,Grocery Store,40.6138',\n",
       " 'FDW32,,Regular,0.165101585,Fruits and Vegetables,87.7882,OUT019,1985,Small,Tier 1,Grocery Store,515.3292',\n",
       " 'FDN08,7.72,Regular,0.147904328,Fruits and Vegetables,116.6466,OUT010,1998,,Tier 3,Grocery Store,117.8466',\n",
       " 'FDH52,,Regular,0.076868664,Frozen Foods,62.1194,OUT019,1985,Small,Tier 1,Grocery Store,123.8388',\n",
       " 'FDB27,7.575,Low Fat,0.092711708,Dairy,197.7768,OUT010,1998,,Tier 3,Grocery Store,197.0768',\n",
       " 'NCB31,,Low Fat,0.207783483,Household,262.291,OUT019,1985,Small,Tier 1,Grocery Store,525.982',\n",
       " 'FDA03,18.5,Regular,0.076097035,Dairy,145.8102,OUT010,1998,,Tier 3,Grocery Store,291.6204',\n",
       " 'FDB58,,Regular,0.02363057,Snack Foods,141.7154,OUT019,1985,Small,Tier 1,Grocery Store,425.4462',\n",
       " 'NCO54,,low fat,0.024992442,Household,53.6614,OUT019,1985,Small,Tier 1,Grocery Store,165.7842',\n",
       " 'NCQ42,,Low Fat,0.068753558,Household,127.9678,OUT019,1985,Small,Tier 1,Grocery Store,254.3356',\n",
       " 'DRJ13,12.65,Low Fat,0.105265475,Soft Drinks,159.9578,OUT010,1998,,Tier 3,Grocery Store,962.7468',\n",
       " 'FDE53,10.895,Low Fat,0.044991876,Frozen Foods,107.228,OUT010,1998,,Tier 3,Grocery Store,426.112',\n",
       " 'FDQ12,,Low Fat,0.061999648,Baking Goods,230.001,OUT019,1985,Small,Tier 1,Grocery Store,689.103',\n",
       " 'FDV46,,Low Fat,0.022074764,Snack Foods,141.418,OUT019,1985,Small,Tier 1,Grocery Store,559.272',\n",
       " 'FDM28,,Low Fat,0.079146113,Frozen Foods,181.466,OUT019,1985,Small,Tier 1,Grocery Store,179.766',\n",
       " 'DRJ11,9.5,Low Fat,0.142425145,Hard Drinks,189.9872,OUT010,1998,,Tier 3,Grocery Store,756.3488',\n",
       " 'NCY29,,Low Fat,0.135226962,Health and Hygiene,56.293,OUT019,1985,Small,Tier 1,Grocery Store,113.186',\n",
       " 'FDA38,,Low Fat,0.04461205,Dairy,241.1538,OUT019,1985,Small,Tier 1,Grocery Store,480.7076',\n",
       " 'NCB06,17.6,Low Fat,0.137807013,Health and Hygiene,161.792,OUT010,1998,,Tier 3,Grocery Store,159.792',\n",
       " 'FDQ36,,Regular,0,Baking Goods,38.1848,OUT019,1985,Small,Tier 1,Grocery Store,37.2848',\n",
       " 'FDE41,,reg,0,Frozen Foods,83.7566,OUT019,1985,Small,Tier 1,Grocery Store,253.6698',\n",
       " 'DRL01,19.5,Regular,0.129170642,Soft Drinks,233.9958,OU\n",
       "\n",
       "*** WARNING: max output size exceeded, skipping output. ***\n",
       "\n",
       "es,167.95,OUT010,1998,,Tier 3,Grocery Store,166.45',\n",
       " 'NCB18,,Low Fat,0.072295507,Household,89.7514,OUT019,1985,Small,Tier 1,Grocery Store,88.5514',\n",
       " 'FDE59,12.15,LF,0.104257037,Starchy Foods,34.0532,OUT010,1998,,Tier 3,Grocery Store,179.766',\n",
       " 'FDP49,,Regular,0.120965853,Breakfast,55.8614,OUT019,1985,Small,Tier 1,Grocery Store,110.5228',\n",
       " 'NCM06,7.475,Low Fat,0.126752975,Household,154.2656,OUT010,1998,,Tier 3,Grocery Store,308.9312',\n",
       " 'FDX39,14.3,Regular,0.083147702,Meat,210.1586,OUT010,1998,,Tier 3,Grocery Store,422.1172',\n",
       " 'FDZ51,11.3,Regular,0.091310237,Meat,96.9094,OUT010,1998,,Tier 3,Grocery Store,190.4188',\n",
       " 'FDQ56,6.59,Low Fat,0.176748258,Fruits and Vegetables,82.7908,OUT010,1998,,Tier 3,Grocery Store,83.8908',\n",
       " 'NCU53,5.485,Low Fat,0.071557769,Health and Hygiene,165.7842,OUT010,1998,,Tier 3,Grocery Store,165.7842',\n",
       " 'NCH07,13.15,Low Fat,0.155105614,Household,157.2604,OUT010,1998,,Tier 3,Grocery Store,316.9208',\n",
       " 'FDN57,,Low Fat,0.094957079,Snack Foods,143.5154,OUT019,1985,Small,Tier 1,Grocery Store,567.2616',\n",
       " 'FDP27,,Low Fat,0.20914265,Meat,190.953,OUT019,1985,Small,Tier 1,Grocery Store,379.506',\n",
       " 'NCA05,,Low Fat,0.044000492,Health and Hygiene,148.2734,OUT019,1985,Small,Tier 1,Grocery Store,296.9468',\n",
       " 'FDO16,5.48,Low Fat,0.02528802,Frozen Foods,83.325,OUT010,1998,,Tier 3,Grocery Store,416.125',\n",
       " 'NCL07,,Low Fat,0.05486977,Others,40.548,OUT019,1985,Small,Tier 1,Grocery Store,39.948',\n",
       " 'NCM05,6.825,Low Fat,0.100171568,Health and Hygiene,262.7226,OUT010,1998,,Tier 3,Grocery Store,264.3226',\n",
       " 'FDF34,9.3,Regular,0.02346559,Snack Foods,197.6084,OUT010,1998,,Tier 3,Grocery Store,595.2252',\n",
       " 'DRD15,10.6,Low Fat,0.095064731,Dairy,232.4642,OUT010,1998,,Tier 3,Grocery Store,697.0926',\n",
       " 'NCS30,5.945,Low Fat,0.155706798,Household,127.9652,OUT010,1998,,Tier 3,Grocery Store,645.826',\n",
       " 'FDV31,9.8,Low Fat,0.178622919,Fruits and Vegetables,177.937,OUT010,1998,,Tier 3,Grocery Store,176.437',\n",
       " 'DRK59,8.895,low fat,0.126287542,Hard Drinks,235.5616,OUT010,1998,,Tier 3,Grocery Store,468.7232',\n",
       " 'DRA59,,Regular,0.223985293,Soft Drinks,186.2924,OUT019,1985,Small,Tier 1,Grocery Store,555.2772',\n",
       " 'FDY56,,Regular,0.109274313,Fruits and Vegetables,225.3062,OUT019,1985,Small,Tier 1,Grocery Store,677.1186',\n",
       " 'FDB35,,Regular,0.113139486,Starchy Foods,92.9804,OUT019,1985,Small,Tier 1,Grocery Store,183.7608',\n",
       " 'FDB23,,Regular,0.00978492,Starchy Foods,225.9062,OUT019,1985,Small,Tier 1,Grocery Store,451.4124',\n",
       " 'DRM37,,LF,0.168780127,Soft Drinks,197.8768,OUT019,1985,Small,Tier 1,Grocery Store,197.0768',\n",
       " 'FDV19,,Regular,0.06173052,Fruits and Vegetables,159.1578,OUT019,1985,Small,Tier 1,Grocery Store,160.4578',\n",
       " 'FDD04,,Low Fat,0.157528118,Dairy,142.9154,OUT019,1985,Small,Tier 1,Grocery Store,141.8154',\n",
       " 'FDO60,20,Low Fat,0.057527544,Baking Goods,43.1086,OUT010,1998,,Tier 3,Grocery Store,89.2172',\n",
       " 'FDZ59,6.63,reg,0.174110803,Baking Goods,166.85,OUT010,1998,,Tier 3,Grocery Store,499.35',\n",
       " 'FDJ20,20.7,Regular,0.16767231,Fruits and Vegetables,124.2388,OUT010,1998,,Tier 3,Grocery Store,247.6776',\n",
       " 'FDL28,,Regular,0,Frozen Foods,230.0668,OUT019,1985,Small,Tier 1,Grocery Store,691.1004',\n",
       " 'NCF54,18,Low Fat,0.079299474,Household,170.5422,OUT010,1998,,Tier 3,Grocery Store,344.8844',\n",
       " 'FDY55,,LF,0,Fruits and Vegetables,258.3988,OUT019,1985,Small,Tier 1,Grocery Store,256.9988',\n",
       " 'FDQ19,7.35,reg,0.024044279,Fruits and Vegetables,241.0512,OUT010,1998,,Tier 3,Grocery Store,242.3512',\n",
       " 'DRG03,14.5,Low Fat,0.103752817,Dairy,155.1998,OUT010,1998,,Tier 3,Grocery Store,307.5996',\n",
       " 'FDC21,14.6,Regular,0.071904258,Fruits and Vegetables,106.8254,OUT010,1998,,Tier 3,Grocery Store,108.5254',\n",
       " 'FDM34,19,Low Fat,0.112893408,Snack Foods,131.0626,OUT010,1998,,Tier 3,Grocery Store,524.6504',\n",
       " 'FDU28,,Regular,0.164438907,Frozen Foods,188.4214,OUT019,1985,Small,Tier 1,Grocery Store,376.8428',\n",
       " 'NCX29,10,Low Fat,0.149223055,Health and Hygiene,145.8102,OUT010,1998,,Tier 3,Grocery Store,874.8612',\n",
       " 'FDX38,,Regular,0.084404264,Dairy,49.5376,OUT019,1985,Small,Tier 1,Grocery Store,143.8128',\n",
       " 'FDS11,,Regular,0.097275777,Breads,223.9088,OUT019,1985,Small,Tier 1,Grocery Store,223.7088',\n",
       " 'FDN38,,Regular,0.161030847,Canned,251.2408,OUT019,1985,Small,Tier 1,Grocery Store,1001.3632',\n",
       " 'FDT43,16.35,Low Fat,0.034393057,Fruits and Vegetables,50.8324,OUT010,1998,,Tier 3,Grocery Store,155.7972',\n",
       " 'FDZ04,9.31,Low Fat,0.063529046,Frozen Foods,63.751,OUT010,1998,,Tier 3,Grocery Store,126.502',\n",
       " 'NCG43,,Low Fat,0.129983688,Household,93.0462,OUT019,1985,Small,Tier 1,Grocery Store,185.0924',\n",
       " 'NCQ29,,Low Fat,0.182493512,Health and Hygiene,258.8278,OUT019,1985,Small,Tier 1,Grocery Store,1041.3112',\n",
       " 'NCV05,10.1,Low Fat,0.050562853,Health and Hygiene,153.3656,OUT010,1998,,Tier 3,Grocery Store,463.3968',\n",
       " 'FDW55,12.6,Regular,0.036773101,Fruits and Vegetables,250.3092,OUT010,1998,,Tier 3,Grocery Store,249.0092',\n",
       " 'FDT11,5.94,Regular,0.049163321,Breads,186.4556,OUT010,1998,,Tier 3,Grocery Store,563.2668',\n",
       " 'FDS32,17.75,Regular,0.049634572,Fruits and Vegetables,140.2838,OUT010,1998,,Tier 3,Grocery Store,280.9676',\n",
       " 'NCW06,16.2,Low Fat,0.08425957,Household,192.3162,OUT010,1998,,Tier 3,Grocery Store,769.6648',\n",
       " 'FDA36,,Low Fat,0.009921107,Baking Goods,183.6924,OUT019,1985,Small,Tier 1,Grocery Store,555.2772',\n",
       " 'FDX32,15.1,Regular,0,Fruits and Vegetables,146.2786,OUT010,1998,,Tier 3,Grocery Store,433.4358',\n",
       " 'FDQ14,,low fat,0.10818157,Dairy,149.605,OUT019,1985,Small,Tier 1,Grocery Store,449.415',\n",
       " 'NCM26,,Low Fat,0.040520754,Others,153.934,OUT019,1985,Small,Tier 1,Grocery Store,153.134',\n",
       " 'FDK38,6.65,Low Fat,0.089196394,Canned,147.0734,OUT010,1998,,Tier 3,Grocery Store,296.9468',\n",
       " 'FDC48,,Low Fat,0.027767577,Baking Goods,82.1592,OUT019,1985,Small,Tier 1,Grocery Store,412.796',\n",
       " 'FDW07,18,Regular,0.238831875,Fruits and Vegetables,88.2514,OUT010,1998,,Tier 3,Grocery Store,88.5514',\n",
       " 'FDY38,,Regular,0.208662546,Dairy,231.83,OUT019,1985,Small,Tier 1,Grocery Store,466.06',\n",
       " 'FDK58,,Regular,0.078758649,Snack Foods,103.0016,OUT019,1985,Small,Tier 1,Grocery Store,202.4032',\n",
       " 'FDS55,,Low Fat,0.142107998,Fruits and Vegetables,150.3734,OUT019,1985,Small,Tier 1,Grocery Store,296.9468',\n",
       " 'FDN01,8.895,Low Fat,0.121180705,Breakfast,177.037,OUT010,1998,,Tier 3,Grocery Store,176.437',\n",
       " 'NCC18,19.1,Low Fat,0.296713665,Household,171.8422,OUT010,1998,,Tier 3,Grocery Store,1034.6532',\n",
       " 'FDP39,12.65,Low Fat,0.116203156,Meat,53.5324,OUT010,1998,,Tier 3,Grocery Store,415.4592',\n",
       " 'FDW47,,Low Fat,0.081197035,Breads,121.7414,OUT019,1985,Small,Tier 1,Grocery Store,365.5242',\n",
       " 'FDE17,20.1,Regular,0,Frozen Foods,152.2366,OUT010,1998,,Tier 3,Grocery Store,151.1366',\n",
       " 'FDW13,8.5,low fat,0.163838951,Canned,51.3324,OUT010,1998,,Tier 3,Grocery Store,311.5944',\n",
       " 'FDF46,,Low Fat,0.164006137,Snack Foods,113.2834,OUT019,1985,Small,Tier 1,Grocery Store,575.917',\n",
       " 'NCE43,12.5,Low Fat,0.17314115,Household,168.4448,OUT010,1998,,Tier 3,Grocery Store,170.4448',\n",
       " 'DRH36,,Low Fat,0.058444176,Soft Drinks,73.0696,OUT019,1985,Small,Tier 1,Grocery Store,223.7088',\n",
       " 'FDI32,,Low Fat,0.305305397,Fruits and Vegetables,116.6834,OUT019,1985,Small,Tier 1,Grocery Store,460.7336',\n",
       " 'DRI51,17.25,Low Fat,0.070703828,Dairy,170.3764,OUT010,1998,,Tier 3,Grocery Store,343.5528',\n",
       " 'FDH48,13.5,Low Fat,0.101231721,Baking Goods,86.254,OUT010,1998,,Tier 3,Grocery Store,173.108',\n",
       " 'NCB18,19.6,Low Fat,0.069112952,Household,90.1514,OUT010,1998,,Tier 3,Grocery Store,442.757',\n",
       " 'NCC31,8.02,LF,0.033259081,Household,154.2972,OUT010,1998,,Tier 3,Grocery Store,1090.5804',\n",
       " 'FDE46,,Low Fat,0.027610698,Snack Foods,149.5366,OUT019,1985,Small,Tier 1,Grocery Store,604.5464',\n",
       " 'FDT46,,Low Fat,0.053939315,Snack Foods,52.1008,OUT019,1985,Small,Tier 1,Grocery Store,50.6008',\n",
       " 'FDX52,,Regular,0.073541072,Frozen Foods,192.282,OUT019,1985,Small,Tier 1,Grocery Store,386.164',\n",
       " 'FDP27,8.155,Low Fat,0.199935881,Meat,188.453,OUT010,1998,,Tier 3,Grocery Store,379.506',\n",
       " 'DRC27,13.8,Low Fat,0.097251621,Dairy,245.7802,OUT010,1998,,Tier 3,Grocery Store,245.6802',\n",
       " 'FDZ38,,Low Fat,0.014008751,Dairy,171.3422,OUT019,1985,Small,Tier 1,Grocery Store,862.211',\n",
       " 'DRH25,18.7,Low Fat,0.02442574,Soft Drinks,52.9324,OUT010,1998,,Tier 3,Grocery Store,51.9324',\n",
       " 'FDS13,6.465,Low Fat,0.208397715,Canned,265.2884,OUT010,1998,,Tier 3,Grocery Store,264.9884',\n",
       " 'DRI03,,Low Fat,0.039751236,Dairy,176.9028,OUT019,1985,Small,Tier 1,Grocery Store,708.4112',\n",
       " 'FDS12,9.1,Low Fat,0.291438755,Baking Goods,126.8362,OUT010,1998,,Tier 3,Grocery Store,125.8362',\n",
       " 'NCA18,10.1,Low Fat,0.093862362,Household,115.9492,OUT010,1998,,Tier 3,Grocery Store,231.6984',\n",
       " 'FDE33,19.35,Regular,0.083079826,Fruits and Vegetables,80.3644,OUT010,1998,,Tier 3,Grocery Store,157.1288',\n",
       " 'FDJ58,15.6,Regular,0.176244038,Snack Foods,173.6764,OUT010,1998,,Tier 3,Grocery Store,515.3292',\n",
       " 'FDT13,,Low Fat,0.032516546,Canned,188.8214,OUT019,1985,Small,Tier 1,Grocery Store,753.6856',\n",
       " 'FDW28,18.25,LF,0.148673586,Frozen Foods,197.2452,OUT010,1998,,Tier 3,Grocery Store,195.7452',\n",
       " 'NCC30,16.6,Low Fat,0.046161923,Household,176.6344,OUT010,1998,,Tier 3,Grocery Store,356.8688',\n",
       " 'FDT55,,Regular,0.076434542,Fruits and Vegetables,155.8946,OUT019,1985,Small,Tier 1,Grocery Store,473.3838',\n",
       " 'FDT60,,Low Fat,0.132275338,Baking Goods,123.8388,OUT019,1985,Small,Tier 1,Grocery Store,123.8388',\n",
       " 'NCU06,,Low Fat,0.13027716,Household,228.001,OUT019,1985,Small,Tier 1,Grocery Store,1148.505',\n",
       " 'NCU18,,Low Fat,0.097768728,Household,142.4496,OUT019,1985,Small,Tier 1,Grocery Store,564.5984',\n",
       " 'FDX12,18.2,Regular,0.043626605,Baking Goods,241.4196,OUT010,1998,,Tier 3,Grocery Store,482.0392',\n",
       " 'FDH45,,Regular,0.185008985,Fruits and Vegetables,42.3796,OUT019,1985,Small,Tier 1,Grocery Store,123.8388',\n",
       " 'FDP34,,Low Fat,0.240268248,Snack Foods,156.463,OUT019,1985,Small,Tier 1,Grocery Store,312.926',\n",
       " 'FDF08,14.3,Regular,0.109144085,Fruits and Vegetables,88.2856,OUT010,1998,,Tier 3,Grocery Store,175.7712',\n",
       " 'FDR21,19.7,Low Fat,0.112036236,Snack Foods,174.937,OUT010,1998,,Tier 3,Grocery Store,882.185',\n",
       " 'DRO59,,Low Fat,0.094817105,Hard Drinks,77.9012,OUT019,1985,Small,Tier 1,Grocery Store,75.9012',\n",
       " 'FDJ57,,Regular,0,Seafood,184.3582,OUT019,1985,Small,Tier 1,Grocery Store,185.7582',\n",
       " 'NCM54,,Low Fat,0.08918772,Household,128.9678,OUT019,1985,Small,Tier 1,Grocery Store,254.3356',\n",
       " 'NCF30,17,Low Fat,0.211306673,Household,125.1362,OUT010,1998,,Tier 3,Grocery Store,251.6724',\n",
       " 'FDB39,,Low Fat,0.067441726,Dairy,57.4272,OUT019,1985,Small,Tier 1,Grocery Store,111.8544',\n",
       " 'FDY03,,Regular,0.133279499,Meat,112.6202,OUT019,1985,Small,Tier 1,Grocery Store,675.1212',\n",
       " 'FDX03,,Regular,0.106971167,Meat,44.7744,OUT019,1985,Small,Tier 1,Grocery Store,135.8232',\n",
       " 'DRI25,19.6,Low Fat,0.056744064,Soft Drinks,55.6614,OUT010,1998,,Tier 3,Grocery Store,165.7842',\n",
       " 'FDB41,,Regular,0.170382726,Frozen Foods,45.2718,OUT019,1985,Small,Tier 1,Grocery Store,47.2718',\n",
       " 'FDV10,,Regular,0.116793684,Snack Foods,41.0112,OUT019,1985,Small,Tier 1,Grocery Store,42.6112',\n",
       " 'DRG37,,LF,0.033929133,Soft Drinks,154.3972,OUT019,1985,Small,Tier 1,Grocery Store,311.5944',\n",
       " 'FDM58,16.85,Regular,0.133385398,Snack Foods,109.8544,OUT010,1998,,Tier 3,Grocery Store,223.7088',\n",
       " 'NCE54,,Low Fat,0.047098175,Household,75.5354,OUT019,1985,Small,Tier 1,Grocery Store,150.4708',\n",
       " 'FDG21,,Regular,0.256152243,Seafood,151.005,OUT019,1985,Small,Tier 1,Grocery Store,149.805',\n",
       " 'FDC47,15,Low Fat,0.19899855,Snack Foods,226.5694,OUT010,1998,,Tier 3,Grocery Store,913.4776',\n",
       " 'DRJ24,11.8,Low Fat,0.189689886,Soft Drinks,184.3924,OUT010,1998,,Tier 3,Grocery Store,370.1848',\n",
       " 'FDS33,,Regular,0.216107535,Snack Foods,86.8514,OUT019,1985,Small,Tier 1,Grocery Store,354.2056',\n",
       " 'FDM36,,Regular,0.102830104,Baking Goods,172.6422,OUT019,1985,Small,Tier 1,Grocery Store,344.8844',\n",
       " 'FDQ11,,Regular,0.118535581,Breads,256.3988,OUT019,1985,Small,Tier 1,Grocery Store,256.9988',\n",
       " 'NCA53,,Low Fat,0.017295906,Health and Hygiene,47.1034,OUT019,1985,Small,Tier 1,Grocery Store,145.8102',\n",
       " 'NCN30,16.35,Low Fat,0.02844314,Household,98.141,OUT010,1998,,Tier 3,Grocery Store,386.164',\n",
       " 'NCR42,9.105,Low Fat,0.064410783,Household,33.39,OUT010,1998,,Tier 3,Grocery Store,33.29',\n",
       " 'FDN15,,Low Fat,0.029299175,Meat,140.318,OUT019,1985,Small,Tier 1,Grocery Store,139.818',\n",
       " 'FDD51,,low fat,0.210021713,Dairy,44.2744,OUT019,1985,Small,Tier 1,Grocery Store,90.5488',\n",
       " 'NCN19,,Low Fat,0.021184746,Others,189.553,OUT019,1985,Small,Tier 1,Grocery Store,379.506',\n",
       " 'FDL32,15.7,Regular,0.204984538,Fruits and Vegetables,111.0544,OUT010,1998,,Tier 3,Grocery Store,223.7088',\n",
       " 'FDZ25,,Regular,0,Canned,169.879,OUT019,1985,Small,Tier 1,Grocery Store,339.558',\n",
       " 'NCK17,,Low Fat,0,Health and Hygiene,40.348,OUT019,1985,Small,Tier 1,Grocery Store,79.896',\n",
       " 'FDU26,,Regular,0.074620291,Dairy,120.1782,OUT019,1985,Small,Tier 1,Grocery Store,357.5346',\n",
       " 'FDJ45,,Low Fat,0.128532558,Seafood,34.2216,OUT019,1985,Small,Tier 1,Grocery Store,173.108',\n",
       " 'FDH27,7.075,Low Fat,0.097660814,Dairy,141.8128,OUT010,1998,,Tier 3,Grocery Store,143.8128',\n",
       " 'FDU52,,Low Fat,0.111654545,Frozen Foods,157.063,OUT019,1985,Small,Tier 1,Grocery Store,312.926',\n",
       " 'FDD58,,Low Fat,0.103918113,Snack Foods,100.67,OUT019,1985,Small,Tier 1,Grocery Store,399.48',\n",
       " 'DRE01,10.1,Low Fat,0.279783532,Soft Drinks,241.8512,OUT010,1998,,Tier 3,Grocery Store,484.7024',\n",
       " 'FDI19,15.1,Low Fat,0.087604871,Meat,242.2512,OUT010,1998,,Tier 3,Grocery Store,484.7024',\n",
       " 'NCG30,,Low Fat,0.196659953,Household,125.8046,OUT019,1985,Small,Tier 1,Grocery Store,249.0092',\n",
       " 'FDS15,9.195,Regular,0.130657442,Meat,106.4596,OUT010,1998,,Tier 3,Grocery Store,215.7192',\n",
       " 'FDV01,19.2,Regular,0.142189843,Canned,153.8314,OUT010,1998,,Tier 3,Grocery Store,155.1314',\n",
       " 'NCX54,9.195,low fat,0.080442371,Household,107.7622,OUT010,1998,,Tier 3,Grocery Store,105.8622',\n",
       " 'FDL32,,Regular,0.214423791,Fruits and Vegetables,111.6544,OUT019,1985,Small,Tier 1,Grocery Store,335.5632',\n",
       " 'FDI22,,Low Fat,0.168455549,Snack Foods,211.0612,OUT019,1985,Small,Tier 1,Grocery Store,418.1224',\n",
       " 'FDV60,,Regular,0.205484395,Baking Goods,198.011,OUT019,1985,Small,Tier 1,Grocery Store,392.822',\n",
       " 'NCB30,,Low Fat,0.045002624,Household,196.5084,OUT019,1985,Small,Tier 1,Grocery Store,198.4084',\n",
       " 'NCX18,14.15,Low Fat,0.014719325,Household,196.911,OUT010,1998,,Tier 3,Grocery Store,392.822',\n",
       " 'FDE11,,Regular,0.23653561,Starchy Foods,184.1924,OUT019,1985,Small,Tier 1,Grocery Store,185.0924',\n",
       " 'FDP25,15.2,Low Fat,0.035497039,Canned,216.7824,OUT010,1998,,Tier 3,Grocery Store,436.7648',\n",
       " 'FDV26,,Regular,0.133347119,Dairy,193.0794,OUT019,1985,Small,Tier 1,Grocery Store,975.397',\n",
       " 'FDE28,9.5,Regular,0.221856492,Frozen Foods,231.8668,OUT010,1998,,Tier 3,Grocery Store,230.3668',\n",
       " 'NCP29,8.42,Low Fat,0.187918654,Health and Hygiene,65.4168,OUT010,1998,,Tier 3,Grocery Store,127.8336',\n",
       " 'FDV47,,Low Fat,0.094910421,Breads,84.5566,OUT019,1985,Small,Tier 1,Grocery Store,253.6698',\n",
       " 'FDP26,,Low Fat,0.244338986,Dairy,105.9306,OUT019,1985,Small,Tier 1,Grocery Store,209.0612',\n",
       " 'FDT09,,Regular,0.021471456,Snack Foods,131.0284,OUT019,1985,Small,Tier 1,Grocery Store,131.8284',\n",
       " 'FDU07,,Low Fat,0.104784329,Fruits and Vegetables,150.4366,OUT019,1985,Small,Tier 1,Grocery Store,151.1366',\n",
       " 'FDA01,15,Regular,0.091018048,Canned,60.2904,OUT010,1998,,Tier 3,Grocery Store,117.1808',\n",
       " 'FDP09,,low fat,0.059336763,Snack Foods,212.1902,OUT019,1985,Small,Tier 1,Grocery Store,424.7804',\n",
       " 'FDH14,,Regular,0.081955735,Canned,142.0838,OUT019,1985,Small,Tier 1,Grocery Store,280.9676',\n",
       " 'FDZ08,12.5,Regular,0,Fruits and Vegetables,80.8592,OUT010,1998,,Tier 3,Grocery Store,82.5592',\n",
       " 'NCM43,,Low Fat,0.03409886,Others,162.621,OUT019,1985,Small,Tier 1,Grocery Store,815.605',\n",
       " 'NCZ54,,Low Fat,0.145951533,Household,160.9552,OUT019,1985,Small,Tier 1,Grocery Store,162.4552',\n",
       " 'FDR22,19.35,Regular,0.031069993,Snack Foods,112.0544,OUT010,1998,,Tier 3,Grocery Store,223.7088',\n",
       " 'FDT51,11.65,Regular,0.018275816,Meat,110.8544,OUT010,1998,,Tier 3,Grocery Store,111.8544',\n",
       " 'FDQ10,,Low Fat,0.058092551,Snack Foods,172.0422,OUT019,1985,Small,Tier 1,Grocery Store,517.3266',\n",
       " 'FDV21,11.5,Low Fat,0.286357776,Snack Foods,123.9704,OUT010,1998,,Tier 3,Grocery Store,375.5112',\n",
       " 'FDH12,,Low Fat,0.148742896,Baking Goods,107.128,OUT019,1985,Small,Tier 1,Grocery Store,319.584',\n",
       " 'FDP33,,Low Fat,0.156304192,Snack Foods,256.3672,OUT019,1985,Small,Tier 1,Grocery Store,255.6672',\n",
       " 'FDQ25,8.63,Regular,0.047329385,Canned,174.1422,OUT010,1998,,Tier 3,Grocery Store,517.3266',\n",
       " 'FDT24,12.35,Regular,0.311090379,Baking Goods,79.2328,OUT010,1998,,Tier 3,Grocery Store,154.4656',\n",
       " 'FDM44,12.5,Low Fat,0.051970788,Fruits and Vegetables,103.699,OUT010,1998,,Tier 3,Grocery Store,412.796',\n",
       " 'FDY32,,Low Fat,0.226284381,Fruits and Vegetables,163.221,OUT019,1985,Small,Tier 1,Grocery Store,326.242',\n",
       " 'FDB60,9.3,low fat,0.04774013,Baking Goods,195.0136,OUT010,1998,,Tier 3,Grocery Store,194.4136',\n",
       " 'FDX55,,Low Fat,0.096658404,Fruits and Vegetables,216.9166,OUT019,1985,Small,Tier 1,Grocery Store,217.7166',\n",
       " 'FDL38,13.8,Regular,0.024660202,Canned,87.4172,OUT010,1998,,Tier 3,Grocery Store,178.4344',\n",
       " 'FDH57,10.895,Low Fat,0.059834024,Fruits and Vegetables,133.5284,OUT010,1998,,Tier 3,Grocery Store,263.6568',\n",
       " 'FDZ21,17.6,Regular,0.065649353,Snack Foods,94.841,OUT010,1998,,Tier 3,Grocery Store,193.082',\n",
       " 'FDF33,7.97,Low Fat,0.036045991,Seafood,107.5596,OUT010,1998,,Tier 3,Grocery Store,431.4384',\n",
       " 'NCU29,,Low Fat,0.044607722,Health and Hygiene,145.976,OUT019,1985,Small,Tier 1,Grocery Store,585.904',\n",
       " 'FDV39,,Low Fat,0,Meat,196.8426,OUT019,1985,Small,Tier 1,Grocery Store,593.2278',\n",
       " 'FDC59,16.7,reg,0.091437584,Starchy Foods,64.3168,OUT010,1998,,Tier 3,Grocery Store,127.8336',\n",
       " 'NCP50,,Low Fat,0.035997636,Others,78.6618,OUT019,1985,Small,Tier 1,Grocery Store,80.5618',\n",
       " 'NCN41,17,Low Fat,0.087387669,Health and Hygiene,125.073,OUT010,1998,,Tier 3,Grocery Store,369.519',\n",
       " 'NCB30,14.6,Low Fat,0.043021542,Household,196.9084,OUT010,1998,,Tier 3,Grocery Store,595.2252',\n",
       " 'NCR38,,Low Fat,0.19875618,Household,250.7724,OUT019,1985,Small,Tier 1,Grocery Store,251.6724',\n",
       " 'FDD26,,Regular,0.1263349,Canned,184.0924,OUT019,1985,Small,Tier 1,Grocery Store,555.2772',\n",
       " 'NCM43,14.5,Low Fat,0.032597778,Others,163.621,OUT010,1998,,Tier 3,Grocery Store,815.605',\n",
       " 'NCN41,,Low Fat,0.091411749,Health and Hygiene,121.373,OUT019,1985,Small,Tier 1,Grocery Store,369.519',\n",
       " 'NCT53,,Low Fat,0.084245356,Health and Hygiene,164.6526,OUT019,1985,Small,Tier 1,Grocery Store,657.8104',\n",
       " 'FDQ47,7.155,Regular,0.281509514,Breads,33.8874,OUT010,1998,,Tier 3,Grocery Store,35.2874',\n",
       " 'FDI21,5.59,Regular,0.094741514,Snack Foods,63.1168,OUT010,1998,,Tier 3,Grocery Store,191.7504',\n",
       " 'FDS48,15.15,Low Fat,0.046496777,Baking Goods,149.6708,OUT010,1998,,Tier 3,Grocery Store,300.9416',\n",
       " 'FDP38,10.1,Low Fat,0.053732324,Canned,49.8008,OUT010,1998,,Tier 3,Grocery Store,303.6048',\n",
       " 'NCF06,6.235,Low Fat,0.033807904,Household,258.9962,OUT010,1998,,Tier 3,Grocery Store,258.9962',\n",
       " 'FDX24,,LF,0.024387984,Baking Goods,92.4462,OUT019,1985,Small,Tier 1,Grocery Store,185.0924',\n",
       " 'FDV25,,Low Fat,0.079931185,Canned,219.7456,OUT019,1985,Small,Tier 1,Grocery Store,884.1824',\n",
       " 'FDJ41,6.85,Low Fat,0.03830192,Frozen Foods,261.2594,OUT010,1998,,Tier 3,Grocery Store,1046.6376',\n",
       " 'FDU47,12.8,Regular,0.190569038,Breads,138.7838,OUT010,1998,,Tier 3,Grocery Store,280.9676',\n",
       " 'FDO09,,Regular,0,Snack Foods,262.891,OUT019,1985,Small,Tier 1,Grocery Store,788.973',\n",
       " 'FDC32,,Low Fat,0.173527068,Fruits and Vegetables,92.0462,OUT019,1985,Small,Tier 1,Grocery Store,277.6386',\n",
       " 'FDR33,,Low Fat,0.04690397,Snack Foods,110.657,OUT019,1985,Small,Tier 1,Grocery Store,659.142',\n",
       " 'DRK35,8.365,Low Fat,0.120256303,Hard Drinks,39.2506,OUT010,1998,,Tier 3,Grocery Store,75.9012',\n",
       " 'DRF37,,Low Fat,0,Soft Drinks,261.291,OUT019,1985,Small,Tier 1,Grocery Store,788.973',\n",
       " 'FDX32,,Regular,0.1748389,Fruits and Vegetables,142.8786,OUT019,1985,Small,Tier 1,Grocery Store,433.4358',\n",
       " 'FDE56,,Regular,0.278730642,Fruits and Vegetables,63.2194,OUT019,1985,Small,Tier 1,Grocery Store,247.6776',\n",
       " 'FDC53,8.68,Low Fat,0.01478914,Frozen Foods,97.7384,OUT010,1998,,Tier 3,Grocery Store,98.5384',\n",
       " 'NCO55,,Low Fat,0.159394437,Others,105.6938,OUT019,1985,Small,Tier 1,Grocery Store,214.3876',\n",
       " 'FDO57,,Low Fat,0.19033746,Snack Foods,159.4578,OUT019,1985,Small,Tier 1,Grocery Store,160.4578',\n",
       " 'FDK56,9.695,Low Fat,0,Fruits and Vegetables,186.7898,OUT010,1998,,Tier 3,Grocery Store,561.2694',\n",
       " 'FDZ22,,Low Fat,0.079261744,Snack Foods,81.825,OUT019,1985,Small,Tier 1,Grocery Store,83.225',\n",
       " 'FDP13,,Regular,0.235183205,Canned,41.548,OUT019,1985,Small,Tier 1,Grocery Store,79.896',\n",
       " 'FDK22,9.8,Low Fat,0.043663452,Snack Foods,217.185,OUT010,1998,,Tier 3,Grocery Store,432.77',\n",
       " 'FDI07,,Regular,0.059110912,Meat,199.3426,OUT019,1985,Small,Tier 1,Grocery Store,395.4852',\n",
       " 'DRK37,5,LF,0,Soft Drinks,190.453,OUT010,1998,,Tier 3,Grocery Store,379.506',\n",
       " 'NCP05,19.6,Low Fat,0.042324556,Health and Hygiene,150.9024,OUT010,1998,,Tier 3,Grocery Store,303.6048',\n",
       " 'FDY49,,Regular,0.021031586,Canned,164.7184,OUT019,1985,Small,Tier 1,Grocery Store,495.3552',\n",
       " 'NCM07,,Low Fat,0.069968018,Others,83.9908,OUT019,1985,Small,Tier 1,Grocery Store,167.7816',\n",
       " 'FDZ27,,Low Fat,0,Dairy,51.235,OUT019,1985,Small,Tier 1,Grocery Store,49.935',\n",
       " 'FDK15,10.8,Low Fat,0.164724567,Meat,98.4042,OUT010,1998,,Tier 3,Grocery Store,99.2042',\n",
       " 'FDI20,,Low Fat,0.067520165,Fruits and Vegetables,211.3586,OUT019,1985,Small,Tier 1,Grocery Store,422.1172',\n",
       " 'DRN37,9.6,Low Fat,0.161182103,Soft Drinks,165.3158,OUT010,1998,,Tier 3,Grocery Store,334.2316',\n",
       " 'DRD27,,Low Fat,0.041740624,Dairy,98.3042,OUT019,1985,Small,Tier 1,Grocery Store,198.4084',\n",
       " 'DRF01,,Low Fat,0.306542848,Soft Drinks,147.3102,OUT019,1985,Small,Tier 1,Grocery Store,291.6204',\n",
       " 'FDG46,8.63,Regular,0.055084019,Snack Foods,114.7518,OUT010,1998,,Tier 3,Grocery Store,455.4072',\n",
       " 'FDS40,,Low Fat,0.024546148,Frozen Foods,34.619,OUT019,1985,Small,Tier 1,Grocery Store,36.619',\n",
       " 'FDB40,17.5,Regular,0.012620221,Dairy,144.8102,OUT010,1998,,Tier 3,Grocery Store,291.6204',\n",
       " 'NCD54,,Low Fat,0.050790917,Household,142.7786,OUT019,1985,Small,Tier 1,Grocery Store,144.4786',\n",
       " 'NCD55,14,Low Fat,0.040725405,Household,43.4454,OUT010,1998,,Tier 3,Grocery Store,41.9454',\n",
       " 'NCK29,5.615,Low Fat,0.210511558,Health and Hygiene,121.373,OUT010,1998,,Tier 3,Grocery Store,123.173',\n",
       " 'FDE40,,Regular,0.173587926,Dairy,60.0194,OUT019,1985,Small,Tier 1,Grocery Store,123.8388',\n",
       " 'FDN56,,Regular,0.187443314,Fruits and Vegetables,145.8786,OUT019,1985,Small,Tier 1,Grocery Store,288.9572',\n",
       " 'FDN34,,Regular,0.080127283,Snack Foods,168.7132,OUT019,1985,Small,Tier 1,Grocery Store,338.2264',\n",
       " 'FDS56,5.785,Regular,0.064871045,Fruits and Vegetables,262.1252,OUT010,1998,,Tier 3,Grocery Store,786.9756',\n",
       " 'FDH14,17.1,Regular,0.078347922,Canned,141.8838,OUT010,1998,,Tier 3,Grocery Store,280.9676',\n",
       " 'FDX48,,reg,0.066336811,Baking Goods,154.1656,OUT019,1985,Small,Tier 1,Grocery Store,617.8624',\n",
       " 'FDA08,,Regular,0.087692636,Fruits and Vegetables,162.5526,OUT019,1985,Small,Tier 1,Grocery Store,328.9052',\n",
       " 'FDN60,,Low Fat,0.166609517,Baking Goods,157.6604,OUT019,1985,Small,Tier 1,Grocery Store,316.9208',\n",
       " 'FDT36,12.3,Low Fat,0.186250852,Baking Goods,37.2874,OUT010,1998,,Tier 3,Grocery Store,176.437',\n",
       " 'FDL21,,Regular,0.01251245,Snack Foods,38.748,OUT019,1985,Small,Tier 1,Grocery Store,79.896',\n",
       " 'FDX36,,Regular,0.224607399,Baking Goods,223.1404,OUT019,1985,Small,Tier 1,Grocery Store,450.0808',\n",
       " 'FDY39,,Regular,0.08234117,Meat,185.7608,OUT019,1985,Small,Tier 1,Grocery Store,1470.0864',\n",
       " 'NCR54,,Low Fat,0.158562708,Household,194.711,OUT019,1985,Small,Tier 1,Grocery Store,196.411',\n",
       " 'DRL60,,Low Fat,0.047377447,Soft Drinks,150.6682,OUT019,1985,Small,Tier 1,Grocery Store,457.4046',\n",
       " 'NCK30,14.85,Low Fat,0.102065622,Household,254.2698,OUT010,1998,,Tier 3,Grocery Store,1775.6886',\n",
       " 'FDX09,,Low Fat,0.114243048,Snack Foods,174.937,OUT019,1985,Small,Tier 1,Grocery Store,176.437',\n",
       " 'DRF25,,Low Fat,0.068153091,Soft Drinks,36.019,OUT019,1985,Small,Tier 1,Grocery Store,73.238',\n",
       " 'FDX03,15.85,Regular,0.102262138,Meat,47.1744,OUT010,1998,,Tier 3,Grocery Store,90.5488',\n",
       " 'FDF04,,Low Fat,0.023876708,Frozen Foods,258.6304,OUT019,1985,Small,Tier 1,Grocery Store,516.6608',\n",
       " 'DRM47,9.3,Low Fat,0.073288275,Hard Drinks,189.1846,OUT010,1998,,Tier 3,Grocery Store,382.1692',\n",
       " 'FDW46,,Regular,0.123089128,Snack Foods,63.6484,OUT019,1985,Small,Tier 1,Grocery Store,65.2484',\n",
       " 'FDM08,10.1,Regular,0.089688978,Fruits and Vegetables,225.5088,OUT010,1998,,Tier 3,Grocery Store,1342.2528',\n",
       " 'NCC54,17.75,LF,0.163548055,Health and Hygiene,239.3196,OUT010,1998,,Tier 3,Grocery Store,723.0588',\n",
       " 'FDV38,,Low Fat,0.178192864,Dairy,54.9956,OUT019,1985,Small,Tier 1,Grocery Store,109.1912',\n",
       " 'DRH51,,Low Fat,0.170213676,Dairy,89.5856,OUT019,1985,Small,Tier 1,Grocery Store,175.7712',\n",
       " 'FDU14,17.75,Low Fat,0.058168807,Dairy,249.575,OUT010,1998,,Tier 3,Grocery Store,499.35',\n",
       " 'FDD10,20.6,Regular,0.077029195,Snack Foods,177.2344,OUT010,1998,,Tier 3,Grocery Store,892.172',\n",
       " 'FDG10,6.63,Regular,0.018310142,Snack Foods,57.7588,OUT010,1998,,Tier 3,Grocery Store,57.2588',\n",
       " 'FDT13,14.85,Low Fat,0,Canned,187.7214,OUT010,1998,,Tier 3,Grocery Store,188.4214',\n",
       " ...]"
      ]
     },
     "metadata": {
      "application/vnd.databricks.v1+output": {
       "addedWidgets": {},
       "arguments": {},
       "data": "Out[14]: ['FDX07,19.2,Regular,0,Fruits and Vegetables,182.095,OUT010,1998,,Tier 3,Grocery Store,732.38',\n 'FDC37,,Low Fat,0.057556998,Baking Goods,107.6938,OUT019,1985,Small,Tier 1,Grocery Store,214.3876',\n 'FDE51,5.925,Regular,0.161466534,Dairy,45.5086,OUT010,1998,,Tier 3,Grocery Store,178.4344',\n 'FDC14,,Regular,0.072221801,Canned,43.6454,OUT019,1985,Small,Tier 1,Grocery Store,125.8362',\n 'FDV38,19.25,Low Fat,0.170348551,Dairy,55.7956,OUT010,1998,,Tier 3,Grocery Store,163.7868',\n 'FDM39,6.42,LF,0.089498926,Dairy,178.1002,OUT010,1998,,Tier 3,Grocery Store,358.2004',\n 'FDS02,,Regular,0.255394896,Dairy,196.8794,OUT019,1985,Small,Tier 1,Grocery Store,780.3176',\n 'FDI26,,Low Fat,0.061082177,Canned,180.0344,OUT019,1985,Small,Tier 1,Grocery Store,892.172',\n 'FDY40,,Regular,0.15028599,Frozen Foods,51.0692,OUT019,1985,Small,Tier 1,Grocery Store,147.8076',\n 'FDC46,17.7,LF,0.195068226,Snack Foods,185.4266,OUT010,1998,,Tier 3,Grocery Store,184.4266',\n 'FDN48,,Low Fat,0.113720344,Baking Goods,89.9804,OUT019,1985,Small,Tier 1,Grocery Store,643.1628',\n 'NCL18,,Low Fat,0.293417759,Household,194.6136,OUT019,1985,Small,Tier 1,Grocery Store,583.2408',\n 'FDW20,20.75,Low Fat,0.040421193,Fruits and Vegetables,122.173,OUT010,1998,,Tier 3,Grocery Store,369.519',\n 'FDU04,,Low Fat,0.009714595,Frozen Foods,120.0414,OUT019,1985,Small,Tier 1,Grocery Store,487.3656',\n 'DRE60,,low fat,0.278974075,Soft Drinks,225.372,OUT019,1985,Small,Tier 1,Grocery Store,679.116',\n 'FDW39,,Regular,0.064625342,Meat,176.937,OUT019,1985,Small,Tier 1,Grocery Store,176.437',\n 'FDB14,20.25,Regular,0.171938781,Canned,92.512,OUT010,1998,,Tier 3,Grocery Store,186.424',\n 'FDS52,8.89,Low Fat,0.009163216,Frozen Foods,101.7016,OUT010,1998,,Tier 3,Grocery Store,101.2016',\n 'NCN07,18.5,Low Fat,0.056816465,Others,132.1284,OUT010,1998,,Tier 3,Grocery Store,263.6568',\n 'FDI32,17.7,Low Fat,0.291865402,Fruits and Vegetables,115.1834,OUT010,1998,,Tier 3,Grocery Store,345.5502',\n 'FDR47,17.85,LF,0,Breads,196.5794,OUT010,1998,,Tier 3,Grocery Store,585.2382',\n 'NCU05,11.8,Low Fat,0.098312421,Health and Hygiene,81.4618,OUT010,1998,,Tier 3,Grocery Store,161.1236',\n 'DRY23,,Regular,0.191013663,Soft Drinks,42.1112,OUT019,1985,Small,Tier 1,Grocery Store,42.6112',\n 'NCO17,,Low Fat,0.128478462,Health and Hygiene,117.944,OUT019,1985,Small,Tier 1,Grocery Store,239.688',\n 'FDO08,,Regular,0.09415375,Fruits and Vegetables,165.7526,OUT019,1985,Small,Tier 1,Grocery Store,657.8104',\n 'FDF24,15.5,Regular,0.042464962,Baking Goods,81.5934,OUT010,1998,,Tier 3,Grocery Store,327.5736',\n 'FDS45,,Regular,0.051643608,Snack Foods,107.3622,OUT019,1985,Small,Tier 1,Grocery Store,317.5866',\n 'FDX40,12.85,Low Fat,0.165694219,Frozen Foods,39.7164,OUT010,1998,,Tier 3,Grocery Store,231.6984',\n 'NCZ54,14.65,Low Fat,0,Household,161.5552,OUT010,1998,,Tier 3,Grocery Store,324.9104',\n 'FDE10,6.67,Regular,0.150554711,Snack Foods,130.0626,OUT010,1998,,Tier 3,Grocery Store,131.1626',\n 'FDR44,6.11,Regular,0,Fruits and Vegetables,131.2968,OUT010,1998,,Tier 3,Grocery Store,260.9936',\n 'FDP28,13.65,Regular,0.134975628,Frozen Foods,260.0936,OUT010,1998,,Tier 3,Grocery Store,260.9936',\n 'NCO07,,Low Fat,0.017116983,Others,211.956,OUT019,1985,Small,Tier 1,Grocery Store,213.056',\n 'DRF27,,Low Fat,0.049754975,Dairy,152.134,OUT019,1985,Small,Tier 1,Grocery Store,153.134',\n 'FDS46,,Regular,0.082741482,Snack Foods,118.7782,OUT019,1985,Small,Tier 1,Grocery Store,119.1782',\n 'DRF15,,Low Fat,0.058153409,Dairy,152.034,OUT019,1985,Small,Tier 1,Grocery Store,306.268',\n 'FDQ04,,Low Fat,0.148392623,Frozen Foods,41.5796,OUT019,1985,Small,Tier 1,Grocery Store,41.2796',\n 'FDK21,7.905,Low Fat,0.016758569,Snack Foods,250.4408,OUT010,1998,,Tier 3,Grocery Store,500.6816',\n 'FDJ08,,Low Fat,0.193772568,Fruits and Vegetables,190.3846,OUT019,1985,Small,Tier 1,Grocery Store,573.2538',\n 'FDE08,18.2,Low Fat,0.082551042,Fruits and Vegetables,147.3734,OUT010,1998,,Tier 3,Grocery Store,296.9468',\n 'FDV20,,Regular,0.104704537,Fruits and Vegetables,125.2678,OUT019,1985,Small,Tier 1,Grocery Store,254.3356',\n 'FDC08,19,Regular,0.173154079,Fruits and Vegetables,228.272,OUT010,1998,,Tier 3,Grocery Store,452.744',\n 'NCK19,9.8,Low Fat,0.151420934,Others,194.3478,OUT010,1998,,Tier 3,Grocery Store,387.4956',\n 'FDC41,,Low Fat,0.2047,Frozen Foods,76.867,OUT019,1985,Small,Tier 1,Grocery Store,229.701',\n 'FDJ22,,Low Fat,0.09246392,Snack Foods,190.9504,OUT019,1985,Small,Tier 1,Grocery Store,383.5008',\n 'FDX26,,Low Fat,0.153741385,Dairy,182.6292,OUT019,1985,Small,Tier 1,Grocery Store,182.4292',\n 'NCW53,,Low Fat,0.053392944,Health and Hygiene,193.8162,OUT019,1985,Small,Tier 1,Grocery Store,384.8324',\n 'FDT57,15.2,Low Fat,0.031860325,Snack Foods,235.1248,OUT010,1998,,Tier 3,Grocery Store,474.0496',\n 'FDU02,,Low Fat,0.179484411,Dairy,228.9352,OUT019,1985,Small,Tier 1,Grocery Store,916.1408',\n 'FDW24,,Low Fat,0.065652494,Baking Goods,48.9034,OUT019,1985,Small,Tier 1,Grocery Store,48.6034',\n 'NCZ42,10.5,Low Fat,0,Household,238.3248,OUT010,1998,,Tier 3,Grocery Store,711.0744',\n 'FDW35,,low fat,0.0194158,Breads,41.6454,OUT019,1985,Small,Tier 1,Grocery Store,83.8908',\n 'FDR04,7.075,Low Fat,0.03777249,Frozen Foods,98.0068,OUT010,1998,,Tier 3,Grocery Store,291.6204',\n 'FDW23,,Low Fat,0.143592939,Baking Goods,37.3164,OUT019,1985,Small,Tier 1,Grocery Store,38.6164',\n 'DRH03,,Low Fat,0.061393095,Dairy,91.812,OUT019,1985,Small,Tier 1,Grocery Store,372.848',\n 'FDW27,,Regular,0.264124669,Meat,155.7314,OUT019,1985,Small,Tier 1,Grocery Store,155.1314',\n 'FDS09,,Regular,0.141975462,Snack Foods,49.6008,OUT019,1985,Small,Tier 1,Grocery Store,50.6008',\n 'FDV51,16.35,Low Fat,0.054463442,Meat,163.8842,OUT010,1998,,Tier 3,Grocery Store,165.7842',\n 'FDC02,21.35,Low Fat,0.115194717,Canned,258.3278,OUT010,1998,,Tier 3,Grocery Store,520.6556',\n 'FDX14,,Low Fat,0.13121032,Dairy,74.0354,OUT019,1985,Small,Tier 1,Grocery Store,75.2354',\n 'FDH28,,reg,0.192650072,Frozen Foods,37.4506,OUT019,1985,Small,Tier 1,Grocery Store,37.9506',\n 'NCT41,,Low Fat,0.098031771,Health and Hygiene,151.3024,OUT019,1985,Small,Tier 1,Grocery Store,151.8024',\n 'FDN09,14.15,Low Fat,0.05837308,Snack Foods,243.9828,OUT010,1998,,Tier 3,Grocery Store,731.0484',\n 'FDB15,10.895,Low Fat,0.228993134,Dairy,263.4568,OUT010,1998,,Tier 3,Grocery Store,527.3136',\n 'DRN36,,Low Fat,0.087854925,Soft Drinks,95.9752,OUT019,1985,Small,Tier 1,Grocery Store,95.8752',\n 'FDQ37,20.75,Low Fat,0.149404057,Breakfast,192.8478,OUT010,1998,,Tier 3,Grocery Store,774.9912',\n 'FDC15,18.1,Low Fat,0.297883712,Dairy,156.7288,OUT010,1998,,Tier 3,Grocery Store,314.2576',\n 'NCD19,8.93,Low Fat,0.022059594,Household,56.0614,OUT010,1998,,Tier 3,Grocery Store,276.307',\n 'NCE06,,Low Fat,0.160178832,Household,160.2894,OUT019,1985,Small,Tier 1,Grocery Store,323.5788',\n 'NCM55,15.6,Low Fat,0.111685868,Others,184.7924,OUT010,1998,,Tier 3,Grocery Store,370.1848',\n 'FDR49,8.71,Low Fat,0.233039817,Canned,49.5376,OUT010,1998,,Tier 3,Grocery Store,95.8752',\n 'FDA44,19.7,Low Fat,0.089083914,Fruits and Vegetables,54.593,OUT010,1998,,Tier 3,Grocery Store,56.593',\n 'FDB38,,Regular,0,Canned,160.692,OUT019,1985,Small,Tier 1,Grocery Store,319.584',\n 'FDD29,12.15,Low Fat,0.030815427,Frozen Foods,252.0698,OUT010,1998,,Tier 3,Grocery Store,1014.6792',\n 'FDW50,,Low Fat,0.132327406,Dairy,168.4158,OUT019,1985,Small,Tier 1,Grocery Store,334.2316',\n 'DRF03,19.1,Low Fat,0.075836522,Dairy,40.2138,OUT010,1998,,Tier 3,Grocery Store,81.2276',\n 'FDE22,,Low Fat,0.051778173,Snack Foods,157.892,OUT019,1985,Small,Tier 1,Grocery Store,319.584',\n 'DRK35,,Low Fat,0.125793938,Hard Drinks,36.2506,OUT019,1985,Small,Tier 1,Grocery Store,37.9506',\n 'FDE05,,Regular,0,Frozen Foods,145.2102,OUT019,1985,Small,Tier 1,Grocery Store,437.4306',\n 'FDZ01,8.975,Regular,0.01516265,Canned,101.899,OUT010,1998,,Tier 3,Grocery Store,103.199',\n 'FDY07,11.8,Low Fat,0,Fruits and Vegetables,46.5402,OUT010,1998,,Tier 3,Grocery Store,229.701',\n 'FDG20,15.5,Regular,0.210375806,Fruits and Vegetables,178.2028,OUT010,1998,,Tier 3,Grocery Store,177.1028',\n 'FDU32,8.785,Low Fat,0,Fruits and Vegetables,123.0414,OUT010,1998,,Tier 3,Grocery Store,121.8414',\n 'NCZ06,,Low Fat,0.164864915,Household,255.2698,OUT019,1985,Small,Tier 1,Grocery Store,761.0094',\n 'FDX57,17.25,Regular,0.079113947,Snack Foods,99.2068,OUT010,1998,,Tier 3,Grocery Store,97.2068',\n 'DRI39,13.8,Low Fat,0.162462044,Dairy,55.893,OUT010,1998,,Tier 3,Grocery Store,226.372',\n 'FDA14,,Low Fat,0.114127418,Dairy,147.176,OUT019,1985,Small,Tier 1,Grocery Store,585.904',\n 'FDS03,,Low Fat,0.139419417,Meat,66.0826,OUT019,1985,Small,Tier 1,Grocery Store,258.3304',\n 'DRN47,12.1,Low Fat,0.028164527,Hard Drinks,178.166,OUT010,1998,,Tier 3,Grocery Store,539.298',\n 'FDN15,17.5,Low Fat,0.028009382,Meat,141.718,OUT010,1998,,Tier 3,Grocery Store,419.454',\n 'FDS03,7.825,Low Fat,0.133281968,Meat,63.2826,OUT010,1998,,Tier 3,Grocery Store,129.1652',\n 'FDI41,,Regular,0.109003832,Frozen Foods,145.2418,OUT019,1985,Small,Tier 1,Grocery Store,147.1418',\n 'FDE35,7.06,Regular,0.073480266,Starchy Foods,58.8904,OUT010,1998,,Tier 3,Grocery Store,58.5904',\n 'DRD60,,Low Fat,0.065188619,Soft Drinks,181.1634,OUT019,1985,Small,Tier 1,Grocery Store,181.7634',\n 'FDL48,19.35,Regular,0.137697119,Baking Goods,47.1034,OUT010,1998,,Tier 3,Grocery Store,145.8102',\n 'FDK55,,Low Fat,0.045105407,Meat,89.4172,OUT019,1985,Small,Tier 1,Grocery Store,178.4344',\n 'FDL56,,Low Fat,0.220225608,Fruits and Vegetables,85.6198,OUT019,1985,Small,Tier 1,Grocery Store,87.2198',\n 'FDT32,,Regular,0.114916546,Fruits and Vegetables,188.4214,OUT019,1985,Small,Tier 1,Grocery Store,565.2642',\n 'FDX26,17.7,LF,0.146973462,Dairy,184.1292,OUT010,1998,,Tier 3,Grocery Store,547.2876',\n 'FDU13,,low fat,0.328390948,Canned,146.0418,OUT019,1985,Small,Tier 1,Grocery Store,588.5672',\n 'DRM59,,Low Fat,0.006289291,Hard Drinks,153.2998,OUT019,1985,Small,Tier 1,Grocery Store,461.3994',\n 'NCV30,20.2,Low Fat,0.110356797,Household,62.051,OUT010,1998,,Tier 3,Grocery Store,126.502',\n 'NCQ05,11.395,Low Fat,0.03616416,Health and Hygiene,150.1708,OUT010,1998,,Tier 3,Grocery Store,300.9416',\n 'FDU40,20.85,Low Fat,0.062606583,Frozen Foods,192.2478,OUT010,1998,,Tier 3,Grocery Store,387.4956',\n 'FDZ12,,Low Fat,0,Baking Goods,144.847,OUT019,1985,Small,Tier 1,Grocery Store,143.147',\n 'DRK12,9.5,Low Fat,0,Soft Drinks,32.89,OUT010,1998,,Tier 3,Grocery Store,33.29',\n 'DRG51,12.1,Low Fat,0.019314961,Dairy,164.6526,OUT010,1998,,Tier 3,Grocery Store,657.8104',\n 'FDM56,,Low Fat,0.122896411,Fruits and Vegetables,111.1912,OUT019,1985,Small,Tier 1,Grocery Store,218.3824',\n 'DRM37,15.35,Low Fat,0.161350176,Soft Drinks,196.6768,OUT010,1998,,Tier 3,Grocery Store,591.2304',\n 'FDW49,,Low Fat,0.14453827,Canned,180.6002,OUT019,1985,Small,Tier 1,Grocery Store,895.501',\n 'FDK15,,Low Fat,0.172309903,Meat,98.2042,OUT019,1985,Small,Tier 1,Grocery Store,198.4084',\n 'FDO49,,Regular,0.05787008,Breakfast,49.7008,OUT019,1985,Small,Tier 1,Grocery Store,50.6008',\n 'FDQ24,,Low Fat,0.12898088,Baking Goods,250.4724,OUT019,1985,Small,Tier 1,Grocery Store,251.6724',\n 'FDF21,10.3,Regular,0.098464979,Fruits and Vegetables,188.653,OUT010,1998,,Tier 3,Grocery Store,189.753',\n 'NCN14,,Low Fat,0.160936178,Others,184.2608,OUT019,1985,Small,Tier 1,Grocery Store,367.5216',\n 'FDL38,,Regular,0.02579577,Canned,88.4172,OUT019,1985,Small,Tier 1,Grocery Store,89.2172',\n 'FDO10,13.65,Regular,0.021343732,Snack Foods,58.3588,OUT010,1998,,Tier 3,Grocery Store,114.5176',\n 'FDZ23,17.75,Regular,0.112985849,Baking Goods,185.424,OUT010,1998,,Tier 3,Grocery Store,745.696',\n 'DRF23,4.61,Low Fat,0.205294827,Hard Drinks,172.8396,OUT010,1998,,Tier 3,Grocery Store,174.4396',\n 'NCN43,12.15,Low Fat,0.011314423,Others,122.973,OUT010,1998,,Tier 3,Grocery Store,123.173',\n 'FDU22,,Low Fat,0.163350221,Snack Foods,120.2124,OUT019,1985,Small,Tier 1,Grocery Store,474.0496',\n 'FDP01,20.75,Regular,0.105994654,Breakfast,150.5682,OUT010,1998,,Tier 3,Grocery Store,762.341',\n 'FDW56,7.68,Low Fat,0.118672537,Fruits and Vegetables,192.2162,OUT010,1998,,Tier 3,Grocery Store,384.8324',\n 'FDO34,17.7,Low Fat,0.050111641,Snack Foods,165.9816,OUT010,1998,,Tier 3,Grocery Store,167.7816',\n 'FDG31,12.15,Low Fat,0.063430788,Meat,65.4826,OUT010,1998,,Tier 3,Grocery Store,258.3304',\n 'NCS54,13.6,Low Fat,0.016726506,Household,176.037,OUT010,1998,,Tier 3,Grocery Store,352.874',\n 'FDQ57,,Low Fat,0.048932713,Snack Foods,144.476,OUT019,1985,Small,Tier 1,Grocery Store,146.476',\n 'NCX29,,Low Fat,0.156094569,Health and Hygiene,144.3102,OUT019,1985,Small,Tier 1,Grocery Store,145.8102',\n 'FDM02,12.5,Regular,0.12341737,Canned,86.0198,OUT010,1998,,Tier 3,Grocery Store,87.2198',\n 'FDL52,6.635,reg,0.077145553,Frozen Foods,39.8506,OUT010,1998,,Tier 3,Grocery Store,75.9012',\n 'DRK37,,Low Fat,0.077046505,Soft Drinks,189.453,OUT019,1985,Small,Tier 1,Grocery Store,759.012',\n 'FDM28,15.7,Low Fat,0.075661985,Frozen Foods,181.366,OUT010,1998,,Tier 3,Grocery Store,179.766',\n 'NCY41,16.75,Low Fat,0.126765903,Health and Hygiene,35.7532,OUT010,1998,,Tier 3,Grocery Store,143.8128',\n 'FDC21,,Regular,0.075215349,Fruits and Vegetables,108.4254,OUT019,1985,Small,Tier 1,Grocery Store,217.0508',\n 'FDL13,,Regular,0.098606543,Breakfast,232.73,OUT019,1985,Small,Tier 1,Grocery Store,932.12',\n 'NCA54,16.5,Low Fat,0.061330521,Household,178.7318,OUT010,1998,,Tier 3,Grocery Store,360.8636',\n 'NCF18,18.35,Low Fat,0.148938624,Household,191.9504,OUT010,1998,,Tier 3,Grocery Store,767.0016',\n 'NCX41,19,Low Fat,0,Health and Hygiene,211.0244,OUT010,1998,,Tier 3,Grocery Store,1482.0708',\n 'FDA49,,Low Fat,0.113669629,Canned,89.0198,OUT019,1985,Small,Tier 1,Grocery Store,174.4396',\n 'FDY52,,Low Fat,0.012865901,Frozen Foods,59.3536,OUT019,1985,Small,Tier 1,Grocery Store,122.5072',\n 'FDL02,,Regular,0.182236555,Canned,107.1622,OUT019,1985,Small,Tier 1,Grocery Store,211.7244',\n 'FDJ02,,Regular,0.044063785,Canned,147.2418,OUT019,1985,Small,Tier 1,Grocery Store,294.2836',\n 'FDB34,15.25,Low Fat,0.044539371,Snack Foods,85.3198,OUT010,1998,,Tier 3,Grocery Store,261.6594',\n 'FDD46,,Low Fat,0.247321039,Snack Foods,152.3998,OUT019,1985,Small,Tier 1,Grocery Store,153.7998',\n 'FDK45,,Low Fat,0.059281315,Seafood,111.586,OUT019,1985,Small,Tier 1,Grocery Store,339.558',\n 'DRH01,,Low Fat,0.171417316,Soft Drinks,173.0738,OUT019,1985,Small,Tier 1,Grocery Store,347.5476',\n 'DRH37,,Low Fat,0.072864869,Soft Drinks,165.2526,OUT019,1985,Small,Tier 1,Grocery Store,822.263',\n 'NCK06,5.03,Low Fat,0.014472516,Household,122.0756,OUT010,1998,,Tier 3,Grocery Store,121.1756',\n 'DRH49,,Low Fat,0.043168763,Soft Drinks,82.8592,OUT019,1985,Small,Tier 1,Grocery Store,165.1184',\n 'NCZ30,6.59,Low Fat,0.043828293,Household,121.4098,OUT010,1998,,Tier 3,Grocery Store,241.0196',\n 'FDK08,,Regular,0.214139786,Fruits and Vegetables,102.4016,OUT019,1985,Small,Tier 1,Grocery Store,202.4032',\n 'FDO22,13.5,Regular,0.029893094,Snack Foods,81.096,OUT010,1998,,Tier 3,Grocery Store,159.792',\n 'DRE37,,Low Fat,0.164966345,Soft Drinks,189.4872,OUT019,1985,Small,Tier 1,Grocery Store,189.0872',\n 'FDU60,20,Regular,0.100262068,Baking Goods,169.6132,OUT010,1998,,Tier 3,Grocery Store,169.1132',\n 'FDZ33,,Low Fat,0.188038372,Snack Foods,146.4076,OUT019,1985,Small,Tier 1,Grocery Store,147.8076',\n 'DRM23,16.6,Low Fat,0.227189581,Hard Drinks,173.9422,OUT010,1998,,Tier 3,Grocery Store,172.4422',\n 'FDI04,,Regular,0.127660257,Frozen Foods,198.5426,OUT019,1985,Small,Tier 1,Grocery Store,790.9704',\n 'FDY24,4.88,Regular,0.223440258,Baking Goods,52.2298,OUT010,1998,,Tier 3,Grocery Store,161.7894',\n 'FDK43,,Low Fat,0.046994717,Meat,125.802,OUT019,1985,Small,Tier 1,Grocery Store,253.004',\n 'FDV28,16.1,Regular,0.267352587,Frozen Foods,34.9558,OUT010,1998,,Tier 3,Grocery Store,67.9116',\n 'FDT58,9,Low Fat,0.143870574,Snack Foods,169.4816,OUT010,1998,,Tier 3,Grocery Store,503.3448',\n 'FDO23,,Low Fat,0.25637539,Breads,94.8436,OUT019,1985,Small,Tier 1,Grocery Store,567.2616',\n 'NCI31,20,low fat,0.136124989,Others,38.319,OUT010,1998,,Tier 3,Grocery Store,146.476',\n 'NCK29,,Low Fat,0,Health and Hygiene,123.473,OUT019,1985,Small,Tier 1,Grocery Store,369.519',\n 'FDM32,20.5,Low Fat,0,Fruits and Vegetables,90.883,OUT010,1998,,Tier 3,Grocery Store,89.883',\n 'DRI11,,Low Fat,0.060237465,Hard Drinks,115.9834,OUT019,1985,Small,Tier 1,Grocery Store,345.5502',\n 'FDJ55,12.8,Regular,0.039385992,Meat,224.8404,OUT010,1998,,Tier 3,Grocery Store,1575.2828',\n 'FDO56,10.195,Regular,0.075291577,Fruits and Vegetables,119.1808,OUT010,1998,,Tier 3,Grocery Store,351.5424',\n 'NCF19,,Low Fat,0.061470858,Household,48.6034,OUT019,1985,Small,Tier 1,Grocery Store,145.8102',\n 'FDQ03,,Regular,0.136592891,Meat,238.0248,OUT019,1985,Small,Tier 1,Grocery Store,711.0744',\n 'FDR46,,Low Fat,0.244102315,Snack Foods,148.076,OUT019,1985,Small,Tier 1,Grocery Store,146.476',\n 'FDE16,,Low Fat,0.046124444,Frozen Foods,206.7954,OUT019,1985,Small,Tier 1,Grocery Store,833.5816',\n 'NCW42,18.2,Low Fat,0.097865088,Household,221.8456,OUT010,1998,,Tier 3,Grocery Store,884.1824',\n 'NCI54,,LF,0.058827583,Household,110.4912,OUT019,1985,Small,Tier 1,Grocery Store,436.7648',\n 'FDD16,20.5,Low Fat,0.060847634,Frozen Foods,75.0696,OUT010,1998,,Tier 3,Grocery Store,149.1392',\n 'FDW38,,Regular,0,Dairy,55.9298,OUT019,1985,Small,Tier 1,Grocery Store,107.8596',\n 'NCX05,,Low Fat,0.169943195,Health and Hygiene,116.2492,OUT019,1985,Small,Tier 1,Grocery Store,115.8492',\n 'NCG18,15.3,Low Fat,0.038460297,Household,104.0332,OUT010,1998,,Tier 3,Grocery Store,205.0664',\n 'FDK02,12.5,Low Fat,0.187841082,Canned,119.244,OUT010,1998,,Tier 3,Grocery Store,119.844',\n 'FDQ31,5.785,Regular,0.0901292,Fruits and Vegetables,89.8856,OUT010,1998,,Tier 3,Grocery Store,175.7712',\n 'FDS01,,Low Fat,0.031069203,Canned,179.6686,OUT019,1985,Small,Tier 1,Grocery Store,177.7686',\n 'FDW34,,Low Fat,0.062294473,Snack Foods,242.417,OUT019,1985,Small,Tier 1,Grocery Store,486.034',\n 'NCJ17,7.68,Low Fat,0.255348289,Health and Hygiene,84.4224,OUT010,1998,,Tier 3,Grocery Store,170.4448',\n 'FDL20,,Low Fat,0.224837308,Fruits and Vegetables,112.7886,OUT019,1985,Small,Tier 1,Grocery Store,222.3772',\n 'FDD57,18.1,Low Fat,0.037492325,Fruits and Vegetables,95.5094,OUT010,1998,,Tier 3,Grocery Store,95.2094',\n 'FDE45,,Low Fat,0.070660449,Fruits and Vegetables,180.4002,OUT019,1985,Small,Tier 1,Grocery Store,716.4008',\n 'FDK52,18.25,Low Fat,0.132596101,Frozen Foods,226.2062,OUT010,1998,,Tier 3,Grocery Store,677.1186',\n 'NCK18,9.6,Low Fat,0.011211251,Household,166.9184,OUT010,1998,,Tier 3,Grocery Store,660.4736',\n 'FDC04,,Low Fat,0.078764059,Dairy,241.3854,OUT019,1985,Small,Tier 1,Grocery Store,483.3708',\n 'FDU58,6.61,Regular,0.04855968,Snack Foods,188.4898,OUT010,1998,,Tier 3,Grocery Store,187.0898',\n 'FDL09,,Regular,0.22417463,Snack Foods,168.8816,OUT019,1985,Small,Tier 1,Grocery Store,167.7816',\n 'FDG33,,Regular,0.245542627,Seafood,172.2764,OUT019,1985,Small,Tier 1,Grocery Store,171.7764',\n 'FDD16,,Low Fat,0.063649582,Frozen Foods,74.7696,OUT019,1985,Small,Tier 1,Grocery Store,74.5696',\n 'FDP11,15.85,Low Fat,0.11566015,Breads,218.3166,OUT010,1998,,Tier 3,Grocery Store,435.4332',\n 'NCG43,20.2,Low Fat,0.124261614,Household,93.6462,OUT010,1998,,Tier 3,Grocery Store,277.6386',\n 'FDL14,8.115,reg,0.05382735,Canned,155.2972,OUT010,1998,,Tier 3,Grocery Store,311.5944',\n 'FDS45,5.175,Regular,0.04937018,Snack Foods,106.7622,OUT010,1998,,Tier 3,Grocery Store,211.7244',\n 'FDD46,6.035,Low Fat,0.236433601,Snack Foods,155.5998,OUT010,1998,,Tier 3,Grocery Store,153.7998',\n 'FDR43,18.2,Low Fat,0.270300331,Fruits and Vegetables,38.319,OUT010,1998,,Tier 3,Grocery Store,109.857',\n 'NCQ06,,Low Fat,0.073229342,Household,254.1014,OUT019,1985,Small,Tier 1,Grocery Store,255.0014',\n 'FDG16,,Low Fat,0.157257637,Frozen Foods,215.0192,OUT019,1985,Small,Tier 1,Grocery Store,1078.596',\n 'NCX30,,LF,0.046609281,Household,248.6776,OUT019,1985,Small,Tier 1,Grocery Store,495.3552',\n 'FDK03,12.6,Regular,0.123727659,Dairy,253.0356,OUT010,1998,,Tier 3,Grocery Store,254.3356',\n 'FDZ59,,Regular,0.182128363,Baking Goods,165.65,OUT019,1985,Small,Tier 1,Grocery Store,665.8',\n 'DRP35,,Low Fat,0.159096908,Hard Drinks,129.3336,OUT019,1985,Small,Tier 1,Grocery Store,127.8336',\n 'DRC25,,Low Fat,0.079440262,Soft Drinks,86.7882,OUT019,1985,Small,Tier 1,Grocery Store,85.8882',\n 'FDO57,20.75,Low Fat,0.181958524,Snack Foods,161.0578,OUT010,1998,,Tier 3,Grocery Store,481.3734',\n 'FDF16,7.3,Low Fat,0.144167934,Frozen Foods,146.3076,OUT010,1998,,Tier 3,Grocery Store,886.8456',\n 'FDP25,,low fat,0.037131628,Canned,216.4824,OUT019,1985,Small,Tier 1,Grocery Store,218.3824',\n 'NCL05,,Low Fat,0.083862625,Health and Hygiene,44.077,OUT019,1985,Small,Tier 1,Grocery Store,216.385',\n 'FDK08,9.195,Regular,0.204713036,Fruits and Vegetables,101.0016,OUT010,1998,,Tier 3,Grocery Store,202.4032',\n 'FDC28,,Low Fat,0,Frozen Foods,109.9254,OUT019,1985,Small,Tier 1,Grocery Store,108.5254',\n 'FDX21,,Low Fat,0.148764535,Snack Foods,111.1912,OUT019,1985,Small,Tier 1,Grocery Store,109.1912',\n 'FDW12,8.315,Regular,0.059540542,Baking Goods,143.6444,OUT010,1998,,Tier 3,Grocery Store,145.1444',\n 'FDY09,,Low Fat,0.044122209,Snack Foods,173.8054,OUT019,1985,Small,Tier 1,Grocery Store,175.1054',\n 'FDU36,,Low Fat,0.081014461,Baking Goods,98.8384,OUT019,1985,Small,Tier 1,Grocery Store,492.692',\n 'FDE04,19.75,Regular,0.030166924,Frozen Foods,179.766,OUT010,1998,,Tier 3,Grocery Store,719.064',\n 'FDJ56,,Low Fat,0.32111501,Fruits and Vegetables,100.77,OUT019,1985,Small,Tier 1,Grocery Store,199.74',\n 'FDC10,,Regular,0.127599399,Snack Foods,118.9098,OUT019,1985,Small,Tier 1,Grocery Store,120.5098',\n 'FDW36,,Low Fat,0.099681705,Baking Goods,107.4622,OUT019,1985,Small,Tier 1,Grocery Store,317.5866',\n 'FDZ45,14.1,Low Fat,0.111936685,Snack Foods,198.8084,OUT010,1998,,Tier 3,Grocery Store,992.042',\n 'FDA10,,LF,0.248301532,Snack Foods,124.1072,OUT019,1985,Small,Tier 1,Grocery Store,245.0144',\n 'FDZ58,,Low Fat,0.091354948,Snack Foods,122.3072,OUT019,1985,Small,Tier 1,Grocery Store,122.5072',\n 'FDE34,9.195,Low Fat,0.180588082,Snack Foods,182.2634,OUT010,1998,,Tier 3,Grocery Store,363.5268',\n 'NCJ18,12.35,LF,0.274405193,Household,117.1124,OUT010,1998,,Tier 3,Grocery Store,355.5372',\n 'FDX27,20.7,Regular,0.191008614,Dairy,92.8436,OUT010,1998,,Tier 3,Grocery Store,189.0872',\n 'FDE33,,Regular,0.086905536,Fruits and Vegetables,78.8644,OUT019,1985,Small,Tier 1,Grocery Store,314.2576',\n 'NCH30,17.1,Low Fat,0.112402118,Household,112.986,OUT010,1998,,Tier 3,Grocery Store,113.186',\n 'NCM29,11.5,Low Fat,0.029529474,Health and Hygiene,132.6626,OUT010,1998,,Tier 3,Grocery Store,262.3252',\n 'NCU54,8.88,Low Fat,0.165073642,Household,207.727,OUT010,1998,,Tier 3,Grocery Store,209.727',\n 'FDH44,19.1,Regular,0.043304681,Fruits and Vegetables,147.5418,OUT010,1998,,Tier 3,Grocery Store,294.2836',\n 'FDR59,14.5,Regular,0.106894492,Breads,260.4594,OUT010,1998,,Tier 3,Grocery Store,1046.6376',\n 'FDH21,,Low Fat,0.054670967,Seafood,158.6604,OUT019,1985,Small,Tier 1,Grocery Store,316.9208',\n 'FDR12,,Regular,0.055213281,Baking Goods,172.4764,OUT019,1985,Small,Tier 1,Grocery Store,687.1056',\n 'DRK49,,LF,0,Soft Drinks,40.5138,OUT019,1985,Small,Tier 1,Grocery Store,40.6138',\n 'FDW32,,Regular,0.165101585,Fruits and Vegetables,87.7882,OUT019,1985,Small,Tier 1,Grocery Store,515.3292',\n 'FDN08,7.72,Regular,0.147904328,Fruits and Vegetables,116.6466,OUT010,1998,,Tier 3,Grocery Store,117.8466',\n 'FDH52,,Regular,0.076868664,Frozen Foods,62.1194,OUT019,1985,Small,Tier 1,Grocery Store,123.8388',\n 'FDB27,7.575,Low Fat,0.092711708,Dairy,197.7768,OUT010,1998,,Tier 3,Grocery Store,197.0768',\n 'NCB31,,Low Fat,0.207783483,Household,262.291,OUT019,1985,Small,Tier 1,Grocery Store,525.982',\n 'FDA03,18.5,Regular,0.076097035,Dairy,145.8102,OUT010,1998,,Tier 3,Grocery Store,291.6204',\n 'FDB58,,Regular,0.02363057,Snack Foods,141.7154,OUT019,1985,Small,Tier 1,Grocery Store,425.4462',\n 'NCO54,,low fat,0.024992442,Household,53.6614,OUT019,1985,Small,Tier 1,Grocery Store,165.7842',\n 'NCQ42,,Low Fat,0.068753558,Household,127.9678,OUT019,1985,Small,Tier 1,Grocery Store,254.3356',\n 'DRJ13,12.65,Low Fat,0.105265475,Soft Drinks,159.9578,OUT010,1998,,Tier 3,Grocery Store,962.7468',\n 'FDE53,10.895,Low Fat,0.044991876,Frozen Foods,107.228,OUT010,1998,,Tier 3,Grocery Store,426.112',\n 'FDQ12,,Low Fat,0.061999648,Baking Goods,230.001,OUT019,1985,Small,Tier 1,Grocery Store,689.103',\n 'FDV46,,Low Fat,0.022074764,Snack Foods,141.418,OUT019,1985,Small,Tier 1,Grocery Store,559.272',\n 'FDM28,,Low Fat,0.079146113,Frozen Foods,181.466,OUT019,1985,Small,Tier 1,Grocery Store,179.766',\n 'DRJ11,9.5,Low Fat,0.142425145,Hard Drinks,189.9872,OUT010,1998,,Tier 3,Grocery Store,756.3488',\n 'NCY29,,Low Fat,0.135226962,Health and Hygiene,56.293,OUT019,1985,Small,Tier 1,Grocery Store,113.186',\n 'FDA38,,Low Fat,0.04461205,Dairy,241.1538,OUT019,1985,Small,Tier 1,Grocery Store,480.7076',\n 'NCB06,17.6,Low Fat,0.137807013,Health and Hygiene,161.792,OUT010,1998,,Tier 3,Grocery Store,159.792',\n 'FDQ36,,Regular,0,Baking Goods,38.1848,OUT019,1985,Small,Tier 1,Grocery Store,37.2848',\n 'FDE41,,reg,0,Frozen Foods,83.7566,OUT019,1985,Small,Tier 1,Grocery Store,253.6698',\n 'DRL01,19.5,Regular,0.129170642,Soft Drinks,233.9958,OU\n\n*** WARNING: max output size exceeded, skipping output. ***\n\nes,167.95,OUT010,1998,,Tier 3,Grocery Store,166.45',\n 'NCB18,,Low Fat,0.072295507,Household,89.7514,OUT019,1985,Small,Tier 1,Grocery Store,88.5514',\n 'FDE59,12.15,LF,0.104257037,Starchy Foods,34.0532,OUT010,1998,,Tier 3,Grocery Store,179.766',\n 'FDP49,,Regular,0.120965853,Breakfast,55.8614,OUT019,1985,Small,Tier 1,Grocery Store,110.5228',\n 'NCM06,7.475,Low Fat,0.126752975,Household,154.2656,OUT010,1998,,Tier 3,Grocery Store,308.9312',\n 'FDX39,14.3,Regular,0.083147702,Meat,210.1586,OUT010,1998,,Tier 3,Grocery Store,422.1172',\n 'FDZ51,11.3,Regular,0.091310237,Meat,96.9094,OUT010,1998,,Tier 3,Grocery Store,190.4188',\n 'FDQ56,6.59,Low Fat,0.176748258,Fruits and Vegetables,82.7908,OUT010,1998,,Tier 3,Grocery Store,83.8908',\n 'NCU53,5.485,Low Fat,0.071557769,Health and Hygiene,165.7842,OUT010,1998,,Tier 3,Grocery Store,165.7842',\n 'NCH07,13.15,Low Fat,0.155105614,Household,157.2604,OUT010,1998,,Tier 3,Grocery Store,316.9208',\n 'FDN57,,Low Fat,0.094957079,Snack Foods,143.5154,OUT019,1985,Small,Tier 1,Grocery Store,567.2616',\n 'FDP27,,Low Fat,0.20914265,Meat,190.953,OUT019,1985,Small,Tier 1,Grocery Store,379.506',\n 'NCA05,,Low Fat,0.044000492,Health and Hygiene,148.2734,OUT019,1985,Small,Tier 1,Grocery Store,296.9468',\n 'FDO16,5.48,Low Fat,0.02528802,Frozen Foods,83.325,OUT010,1998,,Tier 3,Grocery Store,416.125',\n 'NCL07,,Low Fat,0.05486977,Others,40.548,OUT019,1985,Small,Tier 1,Grocery Store,39.948',\n 'NCM05,6.825,Low Fat,0.100171568,Health and Hygiene,262.7226,OUT010,1998,,Tier 3,Grocery Store,264.3226',\n 'FDF34,9.3,Regular,0.02346559,Snack Foods,197.6084,OUT010,1998,,Tier 3,Grocery Store,595.2252',\n 'DRD15,10.6,Low Fat,0.095064731,Dairy,232.4642,OUT010,1998,,Tier 3,Grocery Store,697.0926',\n 'NCS30,5.945,Low Fat,0.155706798,Household,127.9652,OUT010,1998,,Tier 3,Grocery Store,645.826',\n 'FDV31,9.8,Low Fat,0.178622919,Fruits and Vegetables,177.937,OUT010,1998,,Tier 3,Grocery Store,176.437',\n 'DRK59,8.895,low fat,0.126287542,Hard Drinks,235.5616,OUT010,1998,,Tier 3,Grocery Store,468.7232',\n 'DRA59,,Regular,0.223985293,Soft Drinks,186.2924,OUT019,1985,Small,Tier 1,Grocery Store,555.2772',\n 'FDY56,,Regular,0.109274313,Fruits and Vegetables,225.3062,OUT019,1985,Small,Tier 1,Grocery Store,677.1186',\n 'FDB35,,Regular,0.113139486,Starchy Foods,92.9804,OUT019,1985,Small,Tier 1,Grocery Store,183.7608',\n 'FDB23,,Regular,0.00978492,Starchy Foods,225.9062,OUT019,1985,Small,Tier 1,Grocery Store,451.4124',\n 'DRM37,,LF,0.168780127,Soft Drinks,197.8768,OUT019,1985,Small,Tier 1,Grocery Store,197.0768',\n 'FDV19,,Regular,0.06173052,Fruits and Vegetables,159.1578,OUT019,1985,Small,Tier 1,Grocery Store,160.4578',\n 'FDD04,,Low Fat,0.157528118,Dairy,142.9154,OUT019,1985,Small,Tier 1,Grocery Store,141.8154',\n 'FDO60,20,Low Fat,0.057527544,Baking Goods,43.1086,OUT010,1998,,Tier 3,Grocery Store,89.2172',\n 'FDZ59,6.63,reg,0.174110803,Baking Goods,166.85,OUT010,1998,,Tier 3,Grocery Store,499.35',\n 'FDJ20,20.7,Regular,0.16767231,Fruits and Vegetables,124.2388,OUT010,1998,,Tier 3,Grocery Store,247.6776',\n 'FDL28,,Regular,0,Frozen Foods,230.0668,OUT019,1985,Small,Tier 1,Grocery Store,691.1004',\n 'NCF54,18,Low Fat,0.079299474,Household,170.5422,OUT010,1998,,Tier 3,Grocery Store,344.8844',\n 'FDY55,,LF,0,Fruits and Vegetables,258.3988,OUT019,1985,Small,Tier 1,Grocery Store,256.9988',\n 'FDQ19,7.35,reg,0.024044279,Fruits and Vegetables,241.0512,OUT010,1998,,Tier 3,Grocery Store,242.3512',\n 'DRG03,14.5,Low Fat,0.103752817,Dairy,155.1998,OUT010,1998,,Tier 3,Grocery Store,307.5996',\n 'FDC21,14.6,Regular,0.071904258,Fruits and Vegetables,106.8254,OUT010,1998,,Tier 3,Grocery Store,108.5254',\n 'FDM34,19,Low Fat,0.112893408,Snack Foods,131.0626,OUT010,1998,,Tier 3,Grocery Store,524.6504',\n 'FDU28,,Regular,0.164438907,Frozen Foods,188.4214,OUT019,1985,Small,Tier 1,Grocery Store,376.8428',\n 'NCX29,10,Low Fat,0.149223055,Health and Hygiene,145.8102,OUT010,1998,,Tier 3,Grocery Store,874.8612',\n 'FDX38,,Regular,0.084404264,Dairy,49.5376,OUT019,1985,Small,Tier 1,Grocery Store,143.8128',\n 'FDS11,,Regular,0.097275777,Breads,223.9088,OUT019,1985,Small,Tier 1,Grocery Store,223.7088',\n 'FDN38,,Regular,0.161030847,Canned,251.2408,OUT019,1985,Small,Tier 1,Grocery Store,1001.3632',\n 'FDT43,16.35,Low Fat,0.034393057,Fruits and Vegetables,50.8324,OUT010,1998,,Tier 3,Grocery Store,155.7972',\n 'FDZ04,9.31,Low Fat,0.063529046,Frozen Foods,63.751,OUT010,1998,,Tier 3,Grocery Store,126.502',\n 'NCG43,,Low Fat,0.129983688,Household,93.0462,OUT019,1985,Small,Tier 1,Grocery Store,185.0924',\n 'NCQ29,,Low Fat,0.182493512,Health and Hygiene,258.8278,OUT019,1985,Small,Tier 1,Grocery Store,1041.3112',\n 'NCV05,10.1,Low Fat,0.050562853,Health and Hygiene,153.3656,OUT010,1998,,Tier 3,Grocery Store,463.3968',\n 'FDW55,12.6,Regular,0.036773101,Fruits and Vegetables,250.3092,OUT010,1998,,Tier 3,Grocery Store,249.0092',\n 'FDT11,5.94,Regular,0.049163321,Breads,186.4556,OUT010,1998,,Tier 3,Grocery Store,563.2668',\n 'FDS32,17.75,Regular,0.049634572,Fruits and Vegetables,140.2838,OUT010,1998,,Tier 3,Grocery Store,280.9676',\n 'NCW06,16.2,Low Fat,0.08425957,Household,192.3162,OUT010,1998,,Tier 3,Grocery Store,769.6648',\n 'FDA36,,Low Fat,0.009921107,Baking Goods,183.6924,OUT019,1985,Small,Tier 1,Grocery Store,555.2772',\n 'FDX32,15.1,Regular,0,Fruits and Vegetables,146.2786,OUT010,1998,,Tier 3,Grocery Store,433.4358',\n 'FDQ14,,low fat,0.10818157,Dairy,149.605,OUT019,1985,Small,Tier 1,Grocery Store,449.415',\n 'NCM26,,Low Fat,0.040520754,Others,153.934,OUT019,1985,Small,Tier 1,Grocery Store,153.134',\n 'FDK38,6.65,Low Fat,0.089196394,Canned,147.0734,OUT010,1998,,Tier 3,Grocery Store,296.9468',\n 'FDC48,,Low Fat,0.027767577,Baking Goods,82.1592,OUT019,1985,Small,Tier 1,Grocery Store,412.796',\n 'FDW07,18,Regular,0.238831875,Fruits and Vegetables,88.2514,OUT010,1998,,Tier 3,Grocery Store,88.5514',\n 'FDY38,,Regular,0.208662546,Dairy,231.83,OUT019,1985,Small,Tier 1,Grocery Store,466.06',\n 'FDK58,,Regular,0.078758649,Snack Foods,103.0016,OUT019,1985,Small,Tier 1,Grocery Store,202.4032',\n 'FDS55,,Low Fat,0.142107998,Fruits and Vegetables,150.3734,OUT019,1985,Small,Tier 1,Grocery Store,296.9468',\n 'FDN01,8.895,Low Fat,0.121180705,Breakfast,177.037,OUT010,1998,,Tier 3,Grocery Store,176.437',\n 'NCC18,19.1,Low Fat,0.296713665,Household,171.8422,OUT010,1998,,Tier 3,Grocery Store,1034.6532',\n 'FDP39,12.65,Low Fat,0.116203156,Meat,53.5324,OUT010,1998,,Tier 3,Grocery Store,415.4592',\n 'FDW47,,Low Fat,0.081197035,Breads,121.7414,OUT019,1985,Small,Tier 1,Grocery Store,365.5242',\n 'FDE17,20.1,Regular,0,Frozen Foods,152.2366,OUT010,1998,,Tier 3,Grocery Store,151.1366',\n 'FDW13,8.5,low fat,0.163838951,Canned,51.3324,OUT010,1998,,Tier 3,Grocery Store,311.5944',\n 'FDF46,,Low Fat,0.164006137,Snack Foods,113.2834,OUT019,1985,Small,Tier 1,Grocery Store,575.917',\n 'NCE43,12.5,Low Fat,0.17314115,Household,168.4448,OUT010,1998,,Tier 3,Grocery Store,170.4448',\n 'DRH36,,Low Fat,0.058444176,Soft Drinks,73.0696,OUT019,1985,Small,Tier 1,Grocery Store,223.7088',\n 'FDI32,,Low Fat,0.305305397,Fruits and Vegetables,116.6834,OUT019,1985,Small,Tier 1,Grocery Store,460.7336',\n 'DRI51,17.25,Low Fat,0.070703828,Dairy,170.3764,OUT010,1998,,Tier 3,Grocery Store,343.5528',\n 'FDH48,13.5,Low Fat,0.101231721,Baking Goods,86.254,OUT010,1998,,Tier 3,Grocery Store,173.108',\n 'NCB18,19.6,Low Fat,0.069112952,Household,90.1514,OUT010,1998,,Tier 3,Grocery Store,442.757',\n 'NCC31,8.02,LF,0.033259081,Household,154.2972,OUT010,1998,,Tier 3,Grocery Store,1090.5804',\n 'FDE46,,Low Fat,0.027610698,Snack Foods,149.5366,OUT019,1985,Small,Tier 1,Grocery Store,604.5464',\n 'FDT46,,Low Fat,0.053939315,Snack Foods,52.1008,OUT019,1985,Small,Tier 1,Grocery Store,50.6008',\n 'FDX52,,Regular,0.073541072,Frozen Foods,192.282,OUT019,1985,Small,Tier 1,Grocery Store,386.164',\n 'FDP27,8.155,Low Fat,0.199935881,Meat,188.453,OUT010,1998,,Tier 3,Grocery Store,379.506',\n 'DRC27,13.8,Low Fat,0.097251621,Dairy,245.7802,OUT010,1998,,Tier 3,Grocery Store,245.6802',\n 'FDZ38,,Low Fat,0.014008751,Dairy,171.3422,OUT019,1985,Small,Tier 1,Grocery Store,862.211',\n 'DRH25,18.7,Low Fat,0.02442574,Soft Drinks,52.9324,OUT010,1998,,Tier 3,Grocery Store,51.9324',\n 'FDS13,6.465,Low Fat,0.208397715,Canned,265.2884,OUT010,1998,,Tier 3,Grocery Store,264.9884',\n 'DRI03,,Low Fat,0.039751236,Dairy,176.9028,OUT019,1985,Small,Tier 1,Grocery Store,708.4112',\n 'FDS12,9.1,Low Fat,0.291438755,Baking Goods,126.8362,OUT010,1998,,Tier 3,Grocery Store,125.8362',\n 'NCA18,10.1,Low Fat,0.093862362,Household,115.9492,OUT010,1998,,Tier 3,Grocery Store,231.6984',\n 'FDE33,19.35,Regular,0.083079826,Fruits and Vegetables,80.3644,OUT010,1998,,Tier 3,Grocery Store,157.1288',\n 'FDJ58,15.6,Regular,0.176244038,Snack Foods,173.6764,OUT010,1998,,Tier 3,Grocery Store,515.3292',\n 'FDT13,,Low Fat,0.032516546,Canned,188.8214,OUT019,1985,Small,Tier 1,Grocery Store,753.6856',\n 'FDW28,18.25,LF,0.148673586,Frozen Foods,197.2452,OUT010,1998,,Tier 3,Grocery Store,195.7452',\n 'NCC30,16.6,Low Fat,0.046161923,Household,176.6344,OUT010,1998,,Tier 3,Grocery Store,356.8688',\n 'FDT55,,Regular,0.076434542,Fruits and Vegetables,155.8946,OUT019,1985,Small,Tier 1,Grocery Store,473.3838',\n 'FDT60,,Low Fat,0.132275338,Baking Goods,123.8388,OUT019,1985,Small,Tier 1,Grocery Store,123.8388',\n 'NCU06,,Low Fat,0.13027716,Household,228.001,OUT019,1985,Small,Tier 1,Grocery Store,1148.505',\n 'NCU18,,Low Fat,0.097768728,Household,142.4496,OUT019,1985,Small,Tier 1,Grocery Store,564.5984',\n 'FDX12,18.2,Regular,0.043626605,Baking Goods,241.4196,OUT010,1998,,Tier 3,Grocery Store,482.0392',\n 'FDH45,,Regular,0.185008985,Fruits and Vegetables,42.3796,OUT019,1985,Small,Tier 1,Grocery Store,123.8388',\n 'FDP34,,Low Fat,0.240268248,Snack Foods,156.463,OUT019,1985,Small,Tier 1,Grocery Store,312.926',\n 'FDF08,14.3,Regular,0.109144085,Fruits and Vegetables,88.2856,OUT010,1998,,Tier 3,Grocery Store,175.7712',\n 'FDR21,19.7,Low Fat,0.112036236,Snack Foods,174.937,OUT010,1998,,Tier 3,Grocery Store,882.185',\n 'DRO59,,Low Fat,0.094817105,Hard Drinks,77.9012,OUT019,1985,Small,Tier 1,Grocery Store,75.9012',\n 'FDJ57,,Regular,0,Seafood,184.3582,OUT019,1985,Small,Tier 1,Grocery Store,185.7582',\n 'NCM54,,Low Fat,0.08918772,Household,128.9678,OUT019,1985,Small,Tier 1,Grocery Store,254.3356',\n 'NCF30,17,Low Fat,0.211306673,Household,125.1362,OUT010,1998,,Tier 3,Grocery Store,251.6724',\n 'FDB39,,Low Fat,0.067441726,Dairy,57.4272,OUT019,1985,Small,Tier 1,Grocery Store,111.8544',\n 'FDY03,,Regular,0.133279499,Meat,112.6202,OUT019,1985,Small,Tier 1,Grocery Store,675.1212',\n 'FDX03,,Regular,0.106971167,Meat,44.7744,OUT019,1985,Small,Tier 1,Grocery Store,135.8232',\n 'DRI25,19.6,Low Fat,0.056744064,Soft Drinks,55.6614,OUT010,1998,,Tier 3,Grocery Store,165.7842',\n 'FDB41,,Regular,0.170382726,Frozen Foods,45.2718,OUT019,1985,Small,Tier 1,Grocery Store,47.2718',\n 'FDV10,,Regular,0.116793684,Snack Foods,41.0112,OUT019,1985,Small,Tier 1,Grocery Store,42.6112',\n 'DRG37,,LF,0.033929133,Soft Drinks,154.3972,OUT019,1985,Small,Tier 1,Grocery Store,311.5944',\n 'FDM58,16.85,Regular,0.133385398,Snack Foods,109.8544,OUT010,1998,,Tier 3,Grocery Store,223.7088',\n 'NCE54,,Low Fat,0.047098175,Household,75.5354,OUT019,1985,Small,Tier 1,Grocery Store,150.4708',\n 'FDG21,,Regular,0.256152243,Seafood,151.005,OUT019,1985,Small,Tier 1,Grocery Store,149.805',\n 'FDC47,15,Low Fat,0.19899855,Snack Foods,226.5694,OUT010,1998,,Tier 3,Grocery Store,913.4776',\n 'DRJ24,11.8,Low Fat,0.189689886,Soft Drinks,184.3924,OUT010,1998,,Tier 3,Grocery Store,370.1848',\n 'FDS33,,Regular,0.216107535,Snack Foods,86.8514,OUT019,1985,Small,Tier 1,Grocery Store,354.2056',\n 'FDM36,,Regular,0.102830104,Baking Goods,172.6422,OUT019,1985,Small,Tier 1,Grocery Store,344.8844',\n 'FDQ11,,Regular,0.118535581,Breads,256.3988,OUT019,1985,Small,Tier 1,Grocery Store,256.9988',\n 'NCA53,,Low Fat,0.017295906,Health and Hygiene,47.1034,OUT019,1985,Small,Tier 1,Grocery Store,145.8102',\n 'NCN30,16.35,Low Fat,0.02844314,Household,98.141,OUT010,1998,,Tier 3,Grocery Store,386.164',\n 'NCR42,9.105,Low Fat,0.064410783,Household,33.39,OUT010,1998,,Tier 3,Grocery Store,33.29',\n 'FDN15,,Low Fat,0.029299175,Meat,140.318,OUT019,1985,Small,Tier 1,Grocery Store,139.818',\n 'FDD51,,low fat,0.210021713,Dairy,44.2744,OUT019,1985,Small,Tier 1,Grocery Store,90.5488',\n 'NCN19,,Low Fat,0.021184746,Others,189.553,OUT019,1985,Small,Tier 1,Grocery Store,379.506',\n 'FDL32,15.7,Regular,0.204984538,Fruits and Vegetables,111.0544,OUT010,1998,,Tier 3,Grocery Store,223.7088',\n 'FDZ25,,Regular,0,Canned,169.879,OUT019,1985,Small,Tier 1,Grocery Store,339.558',\n 'NCK17,,Low Fat,0,Health and Hygiene,40.348,OUT019,1985,Small,Tier 1,Grocery Store,79.896',\n 'FDU26,,Regular,0.074620291,Dairy,120.1782,OUT019,1985,Small,Tier 1,Grocery Store,357.5346',\n 'FDJ45,,Low Fat,0.128532558,Seafood,34.2216,OUT019,1985,Small,Tier 1,Grocery Store,173.108',\n 'FDH27,7.075,Low Fat,0.097660814,Dairy,141.8128,OUT010,1998,,Tier 3,Grocery Store,143.8128',\n 'FDU52,,Low Fat,0.111654545,Frozen Foods,157.063,OUT019,1985,Small,Tier 1,Grocery Store,312.926',\n 'FDD58,,Low Fat,0.103918113,Snack Foods,100.67,OUT019,1985,Small,Tier 1,Grocery Store,399.48',\n 'DRE01,10.1,Low Fat,0.279783532,Soft Drinks,241.8512,OUT010,1998,,Tier 3,Grocery Store,484.7024',\n 'FDI19,15.1,Low Fat,0.087604871,Meat,242.2512,OUT010,1998,,Tier 3,Grocery Store,484.7024',\n 'NCG30,,Low Fat,0.196659953,Household,125.8046,OUT019,1985,Small,Tier 1,Grocery Store,249.0092',\n 'FDS15,9.195,Regular,0.130657442,Meat,106.4596,OUT010,1998,,Tier 3,Grocery Store,215.7192',\n 'FDV01,19.2,Regular,0.142189843,Canned,153.8314,OUT010,1998,,Tier 3,Grocery Store,155.1314',\n 'NCX54,9.195,low fat,0.080442371,Household,107.7622,OUT010,1998,,Tier 3,Grocery Store,105.8622',\n 'FDL32,,Regular,0.214423791,Fruits and Vegetables,111.6544,OUT019,1985,Small,Tier 1,Grocery Store,335.5632',\n 'FDI22,,Low Fat,0.168455549,Snack Foods,211.0612,OUT019,1985,Small,Tier 1,Grocery Store,418.1224',\n 'FDV60,,Regular,0.205484395,Baking Goods,198.011,OUT019,1985,Small,Tier 1,Grocery Store,392.822',\n 'NCB30,,Low Fat,0.045002624,Household,196.5084,OUT019,1985,Small,Tier 1,Grocery Store,198.4084',\n 'NCX18,14.15,Low Fat,0.014719325,Household,196.911,OUT010,1998,,Tier 3,Grocery Store,392.822',\n 'FDE11,,Regular,0.23653561,Starchy Foods,184.1924,OUT019,1985,Small,Tier 1,Grocery Store,185.0924',\n 'FDP25,15.2,Low Fat,0.035497039,Canned,216.7824,OUT010,1998,,Tier 3,Grocery Store,436.7648',\n 'FDV26,,Regular,0.133347119,Dairy,193.0794,OUT019,1985,Small,Tier 1,Grocery Store,975.397',\n 'FDE28,9.5,Regular,0.221856492,Frozen Foods,231.8668,OUT010,1998,,Tier 3,Grocery Store,230.3668',\n 'NCP29,8.42,Low Fat,0.187918654,Health and Hygiene,65.4168,OUT010,1998,,Tier 3,Grocery Store,127.8336',\n 'FDV47,,Low Fat,0.094910421,Breads,84.5566,OUT019,1985,Small,Tier 1,Grocery Store,253.6698',\n 'FDP26,,Low Fat,0.244338986,Dairy,105.9306,OUT019,1985,Small,Tier 1,Grocery Store,209.0612',\n 'FDT09,,Regular,0.021471456,Snack Foods,131.0284,OUT019,1985,Small,Tier 1,Grocery Store,131.8284',\n 'FDU07,,Low Fat,0.104784329,Fruits and Vegetables,150.4366,OUT019,1985,Small,Tier 1,Grocery Store,151.1366',\n 'FDA01,15,Regular,0.091018048,Canned,60.2904,OUT010,1998,,Tier 3,Grocery Store,117.1808',\n 'FDP09,,low fat,0.059336763,Snack Foods,212.1902,OUT019,1985,Small,Tier 1,Grocery Store,424.7804',\n 'FDH14,,Regular,0.081955735,Canned,142.0838,OUT019,1985,Small,Tier 1,Grocery Store,280.9676',\n 'FDZ08,12.5,Regular,0,Fruits and Vegetables,80.8592,OUT010,1998,,Tier 3,Grocery Store,82.5592',\n 'NCM43,,Low Fat,0.03409886,Others,162.621,OUT019,1985,Small,Tier 1,Grocery Store,815.605',\n 'NCZ54,,Low Fat,0.145951533,Household,160.9552,OUT019,1985,Small,Tier 1,Grocery Store,162.4552',\n 'FDR22,19.35,Regular,0.031069993,Snack Foods,112.0544,OUT010,1998,,Tier 3,Grocery Store,223.7088',\n 'FDT51,11.65,Regular,0.018275816,Meat,110.8544,OUT010,1998,,Tier 3,Grocery Store,111.8544',\n 'FDQ10,,Low Fat,0.058092551,Snack Foods,172.0422,OUT019,1985,Small,Tier 1,Grocery Store,517.3266',\n 'FDV21,11.5,Low Fat,0.286357776,Snack Foods,123.9704,OUT010,1998,,Tier 3,Grocery Store,375.5112',\n 'FDH12,,Low Fat,0.148742896,Baking Goods,107.128,OUT019,1985,Small,Tier 1,Grocery Store,319.584',\n 'FDP33,,Low Fat,0.156304192,Snack Foods,256.3672,OUT019,1985,Small,Tier 1,Grocery Store,255.6672',\n 'FDQ25,8.63,Regular,0.047329385,Canned,174.1422,OUT010,1998,,Tier 3,Grocery Store,517.3266',\n 'FDT24,12.35,Regular,0.311090379,Baking Goods,79.2328,OUT010,1998,,Tier 3,Grocery Store,154.4656',\n 'FDM44,12.5,Low Fat,0.051970788,Fruits and Vegetables,103.699,OUT010,1998,,Tier 3,Grocery Store,412.796',\n 'FDY32,,Low Fat,0.226284381,Fruits and Vegetables,163.221,OUT019,1985,Small,Tier 1,Grocery Store,326.242',\n 'FDB60,9.3,low fat,0.04774013,Baking Goods,195.0136,OUT010,1998,,Tier 3,Grocery Store,194.4136',\n 'FDX55,,Low Fat,0.096658404,Fruits and Vegetables,216.9166,OUT019,1985,Small,Tier 1,Grocery Store,217.7166',\n 'FDL38,13.8,Regular,0.024660202,Canned,87.4172,OUT010,1998,,Tier 3,Grocery Store,178.4344',\n 'FDH57,10.895,Low Fat,0.059834024,Fruits and Vegetables,133.5284,OUT010,1998,,Tier 3,Grocery Store,263.6568',\n 'FDZ21,17.6,Regular,0.065649353,Snack Foods,94.841,OUT010,1998,,Tier 3,Grocery Store,193.082',\n 'FDF33,7.97,Low Fat,0.036045991,Seafood,107.5596,OUT010,1998,,Tier 3,Grocery Store,431.4384',\n 'NCU29,,Low Fat,0.044607722,Health and Hygiene,145.976,OUT019,1985,Small,Tier 1,Grocery Store,585.904',\n 'FDV39,,Low Fat,0,Meat,196.8426,OUT019,1985,Small,Tier 1,Grocery Store,593.2278',\n 'FDC59,16.7,reg,0.091437584,Starchy Foods,64.3168,OUT010,1998,,Tier 3,Grocery Store,127.8336',\n 'NCP50,,Low Fat,0.035997636,Others,78.6618,OUT019,1985,Small,Tier 1,Grocery Store,80.5618',\n 'NCN41,17,Low Fat,0.087387669,Health and Hygiene,125.073,OUT010,1998,,Tier 3,Grocery Store,369.519',\n 'NCB30,14.6,Low Fat,0.043021542,Household,196.9084,OUT010,1998,,Tier 3,Grocery Store,595.2252',\n 'NCR38,,Low Fat,0.19875618,Household,250.7724,OUT019,1985,Small,Tier 1,Grocery Store,251.6724',\n 'FDD26,,Regular,0.1263349,Canned,184.0924,OUT019,1985,Small,Tier 1,Grocery Store,555.2772',\n 'NCM43,14.5,Low Fat,0.032597778,Others,163.621,OUT010,1998,,Tier 3,Grocery Store,815.605',\n 'NCN41,,Low Fat,0.091411749,Health and Hygiene,121.373,OUT019,1985,Small,Tier 1,Grocery Store,369.519',\n 'NCT53,,Low Fat,0.084245356,Health and Hygiene,164.6526,OUT019,1985,Small,Tier 1,Grocery Store,657.8104',\n 'FDQ47,7.155,Regular,0.281509514,Breads,33.8874,OUT010,1998,,Tier 3,Grocery Store,35.2874',\n 'FDI21,5.59,Regular,0.094741514,Snack Foods,63.1168,OUT010,1998,,Tier 3,Grocery Store,191.7504',\n 'FDS48,15.15,Low Fat,0.046496777,Baking Goods,149.6708,OUT010,1998,,Tier 3,Grocery Store,300.9416',\n 'FDP38,10.1,Low Fat,0.053732324,Canned,49.8008,OUT010,1998,,Tier 3,Grocery Store,303.6048',\n 'NCF06,6.235,Low Fat,0.033807904,Household,258.9962,OUT010,1998,,Tier 3,Grocery Store,258.9962',\n 'FDX24,,LF,0.024387984,Baking Goods,92.4462,OUT019,1985,Small,Tier 1,Grocery Store,185.0924',\n 'FDV25,,Low Fat,0.079931185,Canned,219.7456,OUT019,1985,Small,Tier 1,Grocery Store,884.1824',\n 'FDJ41,6.85,Low Fat,0.03830192,Frozen Foods,261.2594,OUT010,1998,,Tier 3,Grocery Store,1046.6376',\n 'FDU47,12.8,Regular,0.190569038,Breads,138.7838,OUT010,1998,,Tier 3,Grocery Store,280.9676',\n 'FDO09,,Regular,0,Snack Foods,262.891,OUT019,1985,Small,Tier 1,Grocery Store,788.973',\n 'FDC32,,Low Fat,0.173527068,Fruits and Vegetables,92.0462,OUT019,1985,Small,Tier 1,Grocery Store,277.6386',\n 'FDR33,,Low Fat,0.04690397,Snack Foods,110.657,OUT019,1985,Small,Tier 1,Grocery Store,659.142',\n 'DRK35,8.365,Low Fat,0.120256303,Hard Drinks,39.2506,OUT010,1998,,Tier 3,Grocery Store,75.9012',\n 'DRF37,,Low Fat,0,Soft Drinks,261.291,OUT019,1985,Small,Tier 1,Grocery Store,788.973',\n 'FDX32,,Regular,0.1748389,Fruits and Vegetables,142.8786,OUT019,1985,Small,Tier 1,Grocery Store,433.4358',\n 'FDE56,,Regular,0.278730642,Fruits and Vegetables,63.2194,OUT019,1985,Small,Tier 1,Grocery Store,247.6776',\n 'FDC53,8.68,Low Fat,0.01478914,Frozen Foods,97.7384,OUT010,1998,,Tier 3,Grocery Store,98.5384',\n 'NCO55,,Low Fat,0.159394437,Others,105.6938,OUT019,1985,Small,Tier 1,Grocery Store,214.3876',\n 'FDO57,,Low Fat,0.19033746,Snack Foods,159.4578,OUT019,1985,Small,Tier 1,Grocery Store,160.4578',\n 'FDK56,9.695,Low Fat,0,Fruits and Vegetables,186.7898,OUT010,1998,,Tier 3,Grocery Store,561.2694',\n 'FDZ22,,Low Fat,0.079261744,Snack Foods,81.825,OUT019,1985,Small,Tier 1,Grocery Store,83.225',\n 'FDP13,,Regular,0.235183205,Canned,41.548,OUT019,1985,Small,Tier 1,Grocery Store,79.896',\n 'FDK22,9.8,Low Fat,0.043663452,Snack Foods,217.185,OUT010,1998,,Tier 3,Grocery Store,432.77',\n 'FDI07,,Regular,0.059110912,Meat,199.3426,OUT019,1985,Small,Tier 1,Grocery Store,395.4852',\n 'DRK37,5,LF,0,Soft Drinks,190.453,OUT010,1998,,Tier 3,Grocery Store,379.506',\n 'NCP05,19.6,Low Fat,0.042324556,Health and Hygiene,150.9024,OUT010,1998,,Tier 3,Grocery Store,303.6048',\n 'FDY49,,Regular,0.021031586,Canned,164.7184,OUT019,1985,Small,Tier 1,Grocery Store,495.3552',\n 'NCM07,,Low Fat,0.069968018,Others,83.9908,OUT019,1985,Small,Tier 1,Grocery Store,167.7816',\n 'FDZ27,,Low Fat,0,Dairy,51.235,OUT019,1985,Small,Tier 1,Grocery Store,49.935',\n 'FDK15,10.8,Low Fat,0.164724567,Meat,98.4042,OUT010,1998,,Tier 3,Grocery Store,99.2042',\n 'FDI20,,Low Fat,0.067520165,Fruits and Vegetables,211.3586,OUT019,1985,Small,Tier 1,Grocery Store,422.1172',\n 'DRN37,9.6,Low Fat,0.161182103,Soft Drinks,165.3158,OUT010,1998,,Tier 3,Grocery Store,334.2316',\n 'DRD27,,Low Fat,0.041740624,Dairy,98.3042,OUT019,1985,Small,Tier 1,Grocery Store,198.4084',\n 'DRF01,,Low Fat,0.306542848,Soft Drinks,147.3102,OUT019,1985,Small,Tier 1,Grocery Store,291.6204',\n 'FDG46,8.63,Regular,0.055084019,Snack Foods,114.7518,OUT010,1998,,Tier 3,Grocery Store,455.4072',\n 'FDS40,,Low Fat,0.024546148,Frozen Foods,34.619,OUT019,1985,Small,Tier 1,Grocery Store,36.619',\n 'FDB40,17.5,Regular,0.012620221,Dairy,144.8102,OUT010,1998,,Tier 3,Grocery Store,291.6204',\n 'NCD54,,Low Fat,0.050790917,Household,142.7786,OUT019,1985,Small,Tier 1,Grocery Store,144.4786',\n 'NCD55,14,Low Fat,0.040725405,Household,43.4454,OUT010,1998,,Tier 3,Grocery Store,41.9454',\n 'NCK29,5.615,Low Fat,0.210511558,Health and Hygiene,121.373,OUT010,1998,,Tier 3,Grocery Store,123.173',\n 'FDE40,,Regular,0.173587926,Dairy,60.0194,OUT019,1985,Small,Tier 1,Grocery Store,123.8388',\n 'FDN56,,Regular,0.187443314,Fruits and Vegetables,145.8786,OUT019,1985,Small,Tier 1,Grocery Store,288.9572',\n 'FDN34,,Regular,0.080127283,Snack Foods,168.7132,OUT019,1985,Small,Tier 1,Grocery Store,338.2264',\n 'FDS56,5.785,Regular,0.064871045,Fruits and Vegetables,262.1252,OUT010,1998,,Tier 3,Grocery Store,786.9756',\n 'FDH14,17.1,Regular,0.078347922,Canned,141.8838,OUT010,1998,,Tier 3,Grocery Store,280.9676',\n 'FDX48,,reg,0.066336811,Baking Goods,154.1656,OUT019,1985,Small,Tier 1,Grocery Store,617.8624',\n 'FDA08,,Regular,0.087692636,Fruits and Vegetables,162.5526,OUT019,1985,Small,Tier 1,Grocery Store,328.9052',\n 'FDN60,,Low Fat,0.166609517,Baking Goods,157.6604,OUT019,1985,Small,Tier 1,Grocery Store,316.9208',\n 'FDT36,12.3,Low Fat,0.186250852,Baking Goods,37.2874,OUT010,1998,,Tier 3,Grocery Store,176.437',\n 'FDL21,,Regular,0.01251245,Snack Foods,38.748,OUT019,1985,Small,Tier 1,Grocery Store,79.896',\n 'FDX36,,Regular,0.224607399,Baking Goods,223.1404,OUT019,1985,Small,Tier 1,Grocery Store,450.0808',\n 'FDY39,,Regular,0.08234117,Meat,185.7608,OUT019,1985,Small,Tier 1,Grocery Store,1470.0864',\n 'NCR54,,Low Fat,0.158562708,Household,194.711,OUT019,1985,Small,Tier 1,Grocery Store,196.411',\n 'DRL60,,Low Fat,0.047377447,Soft Drinks,150.6682,OUT019,1985,Small,Tier 1,Grocery Store,457.4046',\n 'NCK30,14.85,Low Fat,0.102065622,Household,254.2698,OUT010,1998,,Tier 3,Grocery Store,1775.6886',\n 'FDX09,,Low Fat,0.114243048,Snack Foods,174.937,OUT019,1985,Small,Tier 1,Grocery Store,176.437',\n 'DRF25,,Low Fat,0.068153091,Soft Drinks,36.019,OUT019,1985,Small,Tier 1,Grocery Store,73.238',\n 'FDX03,15.85,Regular,0.102262138,Meat,47.1744,OUT010,1998,,Tier 3,Grocery Store,90.5488',\n 'FDF04,,Low Fat,0.023876708,Frozen Foods,258.6304,OUT019,1985,Small,Tier 1,Grocery Store,516.6608',\n 'DRM47,9.3,Low Fat,0.073288275,Hard Drinks,189.1846,OUT010,1998,,Tier 3,Grocery Store,382.1692',\n 'FDW46,,Regular,0.123089128,Snack Foods,63.6484,OUT019,1985,Small,Tier 1,Grocery Store,65.2484',\n 'FDM08,10.1,Regular,0.089688978,Fruits and Vegetables,225.5088,OUT010,1998,,Tier 3,Grocery Store,1342.2528',\n 'NCC54,17.75,LF,0.163548055,Health and Hygiene,239.3196,OUT010,1998,,Tier 3,Grocery Store,723.0588',\n 'FDV38,,Low Fat,0.178192864,Dairy,54.9956,OUT019,1985,Small,Tier 1,Grocery Store,109.1912',\n 'DRH51,,Low Fat,0.170213676,Dairy,89.5856,OUT019,1985,Small,Tier 1,Grocery Store,175.7712',\n 'FDU14,17.75,Low Fat,0.058168807,Dairy,249.575,OUT010,1998,,Tier 3,Grocery Store,499.35',\n 'FDD10,20.6,Regular,0.077029195,Snack Foods,177.2344,OUT010,1998,,Tier 3,Grocery Store,892.172',\n 'FDG10,6.63,Regular,0.018310142,Snack Foods,57.7588,OUT010,1998,,Tier 3,Grocery Store,57.2588',\n 'FDT13,14.85,Low Fat,0,Canned,187.7214,OUT010,1998,,Tier 3,Grocery Store,188.4214',\n ...]",
       "datasetInfos": [],
       "metadata": {},
       "removedWidgets": [],
       "type": "ansi"
      }
     },
     "output_type": "display_data"
    }
   ],
   "source": [
    "find_supermarket.collect()"
   ]
  },
  {
   "cell_type": "code",
   "execution_count": 0,
   "metadata": {
    "application/vnd.databricks.v1+cell": {
     "cellMetadata": {},
     "inputWidgets": {},
     "nuid": "be3be4dc-aa36-4fcd-a0c4-c6cc968b652d",
     "showTitle": false,
     "title": ""
    }
   },
   "outputs": [
    {
     "data": {
      "text/plain": [
       "Out[15]: 1083"
      ]
     },
     "metadata": {
      "application/vnd.databricks.v1+output": {
       "addedWidgets": {},
       "arguments": {},
       "data": "Out[15]: 1083",
       "datasetInfos": [],
       "metadata": {},
       "removedWidgets": [],
       "type": "ansi"
      }
     },
     "output_type": "display_data"
    }
   ],
   "source": [
    "find_supermarket.count()"
   ]
  },
  {
   "cell_type": "code",
   "execution_count": 0,
   "metadata": {
    "application/vnd.databricks.v1+cell": {
     "cellMetadata": {},
     "inputWidgets": {},
     "nuid": "5d866860-e6fc-443a-9bee-ea7020cafda0",
     "showTitle": false,
     "title": ""
    }
   },
   "outputs": [],
   "source": [
    "Count_Of_Total_Rdds=data.filter(lambda t: \"Item_Identifier\" not in t)"
   ]
  },
  {
   "cell_type": "code",
   "execution_count": 0,
   "metadata": {
    "application/vnd.databricks.v1+cell": {
     "cellMetadata": {},
     "inputWidgets": {},
     "nuid": "0230c101-1db0-4f81-85ae-381c3d6d90ed",
     "showTitle": false,
     "title": ""
    }
   },
   "outputs": [
    {
     "data": {
      "text/plain": [
       "Out[17]: 8523"
      ]
     },
     "metadata": {
      "application/vnd.databricks.v1+output": {
       "addedWidgets": {},
       "arguments": {},
       "data": "Out[17]: 8523",
       "datasetInfos": [],
       "metadata": {},
       "removedWidgets": [],
       "type": "ansi"
      }
     },
     "output_type": "display_data"
    }
   ],
   "source": [
    "Count_Of_Total_Rdds.count() # This line is showing that we have 8523 RDD's."
   ]
  },
  {
   "cell_type": "markdown",
   "metadata": {
    "application/vnd.databricks.v1+cell": {
     "cellMetadata": {},
     "inputWidgets": {},
     "nuid": "054b1a08-c38f-4cc3-a65a-6bdbe1de853c",
     "showTitle": false,
     "title": ""
    }
   },
   "source": [
    "d\n",
    "#SHARED VARIABLE"
   ]
  },
  {
   "cell_type": "code",
   "execution_count": 0,
   "metadata": {
    "application/vnd.databricks.v1+cell": {
     "cellMetadata": {},
     "inputWidgets": {},
     "nuid": "3cdd48ed-f08f-4164-bf3a-f2ed8359b6ed",
     "showTitle": false,
     "title": ""
    }
   },
   "outputs": [],
   "source": [
    "count1=sc.accumulator(0)\n",
    "count2=sc.accumulator(0)\n",
    "fat=sc.broadcast('Low Fat')\n",
    "fat1=sc.broadcast('Regular Fat')"
   ]
  },
  {
   "cell_type": "code",
   "execution_count": 0,
   "metadata": {
    "application/vnd.databricks.v1+cell": {
     "cellMetadata": {},
     "inputWidgets": {},
     "nuid": "000d3a85-95c8-4abf-905b-b7918c76dce1",
     "showTitle": false,
     "title": ""
    }
   },
   "outputs": [
    {
     "data": {
      "text/plain": [
       "0 0\n"
      ]
     },
     "metadata": {
      "application/vnd.databricks.v1+output": {
       "addedWidgets": {},
       "arguments": {},
       "data": "0 0\n",
       "datasetInfos": [],
       "metadata": {},
       "removedWidgets": [],
       "type": "ansi"
      }
     },
     "output_type": "display_data"
    }
   ],
   "source": [
    "def count_fat(data):\n",
    "    global count1\n",
    "    global count2\n",
    "    if fat.value in data:\n",
    "        count1+=1\n",
    "    if fat1.value in data:\n",
    "        count2+=1\n",
    "    \n",
    "count_Data=data.map(count_fat)\n",
    "#count_Data.count()\n",
    "print(count1,count2)"
   ]
  },
  {
   "cell_type": "code",
   "execution_count": 0,
   "metadata": {
    "application/vnd.databricks.v1+cell": {
     "cellMetadata": {},
     "inputWidgets": {},
     "nuid": "4d3627fc-c22c-4f39-9dbc-01bbffeec67d",
     "showTitle": false,
     "title": ""
    }
   },
   "outputs": [],
   "source": [
    "\n",
    "from pyspark.sql import SparkSession"
   ]
  },
  {
   "cell_type": "code",
   "execution_count": 0,
   "metadata": {
    "application/vnd.databricks.v1+cell": {
     "cellMetadata": {},
     "inputWidgets": {},
     "nuid": "a890aeb0-8ad0-4b6b-8443-4887dc84912e",
     "showTitle": false,
     "title": ""
    }
   },
   "outputs": [],
   "source": [
    "from pyspark.sql import SQLContext"
   ]
  },
  {
   "cell_type": "markdown",
   "metadata": {
    "application/vnd.databricks.v1+cell": {
     "cellMetadata": {},
     "inputWidgets": {},
     "nuid": "ba9c1a12-0e84-4a98-a635-f82c924a2f3d",
     "showTitle": false,
     "title": ""
    }
   },
   "source": [
    "#SPARK SQL"
   ]
  },
  {
   "cell_type": "code",
   "execution_count": 0,
   "metadata": {
    "application/vnd.databricks.v1+cell": {
     "cellMetadata": {},
     "inputWidgets": {},
     "nuid": "71d7fd35-e1a7-43dd-a7a7-29126089d5c6",
     "showTitle": false,
     "title": ""
    }
   },
   "outputs": [],
   "source": [
    "\n",
    "df=spark.read.option('header','true').csv('/FileStore/tables/train.csv')"
   ]
  },
  {
   "cell_type": "code",
   "execution_count": 0,
   "metadata": {
    "application/vnd.databricks.v1+cell": {
     "cellMetadata": {},
     "inputWidgets": {},
     "nuid": "33cdbea1-554e-4c56-b4f2-73c14dcc358b",
     "showTitle": false,
     "title": ""
    }
   },
   "outputs": [
    {
     "data": {
      "text/plain": [
       "+---------------+-----------+----------------+---------------+--------------------+--------+-----------------+-------------------------+-----------+--------------------+-----------------+-----------------+\n",
       "|Item_Identifier|Item_Weight|Item_Fat_Content|Item_Visibility|           Item_Type|Item_MRP|Outlet_Identifier|Outlet_Establishment_Year|Outlet_Size|Outlet_Location_Type|      Outlet_Type|Item_Outlet_Sales|\n",
       "+---------------+-----------+----------------+---------------+--------------------+--------+-----------------+-------------------------+-----------+--------------------+-----------------+-----------------+\n",
       "|          FDA15|        9.3|         Low Fat|    0.016047301|               Dairy|249.8092|           OUT049|                     1999|     Medium|              Tier 1|Supermarket Type1|         3735.138|\n",
       "|          DRC01|       5.92|         Regular|    0.019278216|         Soft Drinks| 48.2692|           OUT018|                     2009|     Medium|              Tier 3|Supermarket Type2|         443.4228|\n",
       "|          FDN15|       17.5|         Low Fat|    0.016760075|                Meat| 141.618|           OUT049|                     1999|     Medium|              Tier 1|Supermarket Type1|          2097.27|\n",
       "|          FDX07|       19.2|         Regular|              0|Fruits and Vegeta...| 182.095|           OUT010|                     1998|       null|              Tier 3|    Grocery Store|           732.38|\n",
       "|          NCD19|       8.93|         Low Fat|              0|           Household| 53.8614|           OUT013|                     1987|       High|              Tier 3|Supermarket Type1|         994.7052|\n",
       "+---------------+-----------+----------------+---------------+--------------------+--------+-----------------+-------------------------+-----------+--------------------+-----------------+-----------------+\n",
       "only showing top 5 rows\n",
       "\n"
      ]
     },
     "metadata": {
      "application/vnd.databricks.v1+output": {
       "addedWidgets": {},
       "arguments": {},
       "data": "+---------------+-----------+----------------+---------------+--------------------+--------+-----------------+-------------------------+-----------+--------------------+-----------------+-----------------+\n|Item_Identifier|Item_Weight|Item_Fat_Content|Item_Visibility|           Item_Type|Item_MRP|Outlet_Identifier|Outlet_Establishment_Year|Outlet_Size|Outlet_Location_Type|      Outlet_Type|Item_Outlet_Sales|\n+---------------+-----------+----------------+---------------+--------------------+--------+-----------------+-------------------------+-----------+--------------------+-----------------+-----------------+\n|          FDA15|        9.3|         Low Fat|    0.016047301|               Dairy|249.8092|           OUT049|                     1999|     Medium|              Tier 1|Supermarket Type1|         3735.138|\n|          DRC01|       5.92|         Regular|    0.019278216|         Soft Drinks| 48.2692|           OUT018|                     2009|     Medium|              Tier 3|Supermarket Type2|         443.4228|\n|          FDN15|       17.5|         Low Fat|    0.016760075|                Meat| 141.618|           OUT049|                     1999|     Medium|              Tier 1|Supermarket Type1|          2097.27|\n|          FDX07|       19.2|         Regular|              0|Fruits and Vegeta...| 182.095|           OUT010|                     1998|       null|              Tier 3|    Grocery Store|           732.38|\n|          NCD19|       8.93|         Low Fat|              0|           Household| 53.8614|           OUT013|                     1987|       High|              Tier 3|Supermarket Type1|         994.7052|\n+---------------+-----------+----------------+---------------+--------------------+--------+-----------------+-------------------------+-----------+--------------------+-----------------+-----------------+\nonly showing top 5 rows\n\n",
       "datasetInfos": [],
       "metadata": {},
       "removedWidgets": [],
       "type": "ansi"
      }
     },
     "output_type": "display_data"
    }
   ],
   "source": [
    "df.show(5) "
   ]
  },
  {
   "cell_type": "code",
   "execution_count": 0,
   "metadata": {
    "application/vnd.databricks.v1+cell": {
     "cellMetadata": {},
     "inputWidgets": {},
     "nuid": "74b17f2f-2df6-4fa8-adbe-c04d94efd154",
     "showTitle": false,
     "title": ""
    }
   },
   "outputs": [
    {
     "data": {
      "text/plain": [
       "root\n",
       " |-- Item_Identifier: string (nullable = true)\n",
       " |-- Item_Weight: string (nullable = true)\n",
       " |-- Item_Fat_Content: string (nullable = true)\n",
       " |-- Item_Visibility: string (nullable = true)\n",
       " |-- Item_Type: string (nullable = true)\n",
       " |-- Item_MRP: string (nullable = true)\n",
       " |-- Outlet_Identifier: string (nullable = true)\n",
       " |-- Outlet_Establishment_Year: string (nullable = true)\n",
       " |-- Outlet_Size: string (nullable = true)\n",
       " |-- Outlet_Location_Type: string (nullable = true)\n",
       " |-- Outlet_Type: string (nullable = true)\n",
       " |-- Item_Outlet_Sales: string (nullable = true)\n",
       "\n"
      ]
     },
     "metadata": {
      "application/vnd.databricks.v1+output": {
       "addedWidgets": {},
       "arguments": {},
       "data": "root\n |-- Item_Identifier: string (nullable = true)\n |-- Item_Weight: string (nullable = true)\n |-- Item_Fat_Content: string (nullable = true)\n |-- Item_Visibility: string (nullable = true)\n |-- Item_Type: string (nullable = true)\n |-- Item_MRP: string (nullable = true)\n |-- Outlet_Identifier: string (nullable = true)\n |-- Outlet_Establishment_Year: string (nullable = true)\n |-- Outlet_Size: string (nullable = true)\n |-- Outlet_Location_Type: string (nullable = true)\n |-- Outlet_Type: string (nullable = true)\n |-- Item_Outlet_Sales: string (nullable = true)\n\n",
       "datasetInfos": [],
       "metadata": {},
       "removedWidgets": [],
       "type": "ansi"
      }
     },
     "output_type": "display_data"
    }
   ],
   "source": [
    "df.printSchema()"
   ]
  },
  {
   "cell_type": "code",
   "execution_count": 0,
   "metadata": {
    "application/vnd.databricks.v1+cell": {
     "cellMetadata": {},
     "inputWidgets": {},
     "nuid": "a33ee824-2dfb-401f-acb7-54f94baa9bd6",
     "showTitle": false,
     "title": ""
    }
   },
   "outputs": [
    {
     "data": {
      "text/plain": [
       "Out[25]: DataFrame[summary: string, Item_Identifier: string, Item_Weight: string, Item_Fat_Content: string, Item_Visibility: string, Item_Type: string, Item_MRP: string, Outlet_Identifier: string, Outlet_Establishment_Year: string, Outlet_Size: string, Outlet_Location_Type: string, Outlet_Type: string, Item_Outlet_Sales: string]"
      ]
     },
     "metadata": {
      "application/vnd.databricks.v1+output": {
       "addedWidgets": {},
       "arguments": {},
       "data": "Out[25]: DataFrame[summary: string, Item_Identifier: string, Item_Weight: string, Item_Fat_Content: string, Item_Visibility: string, Item_Type: string, Item_MRP: string, Outlet_Identifier: string, Outlet_Establishment_Year: string, Outlet_Size: string, Outlet_Location_Type: string, Outlet_Type: string, Item_Outlet_Sales: string]",
       "datasetInfos": [],
       "metadata": {},
       "removedWidgets": [],
       "type": "ansi"
      }
     },
     "output_type": "display_data"
    }
   ],
   "source": [
    "df.describe()"
   ]
  },
  {
   "cell_type": "code",
   "execution_count": 0,
   "metadata": {
    "application/vnd.databricks.v1+cell": {
     "cellMetadata": {},
     "inputWidgets": {},
     "nuid": "6f423328-32f7-4ffd-8e44-0780eb06f151",
     "showTitle": false,
     "title": ""
    }
   },
   "outputs": [
    {
     "data": {
      "text/plain": [
       "/databricks/spark/python/pyspark/sql/dataframe.py:234: FutureWarning: Deprecated in 2.0, use createOrReplaceTempView instead.\n",
       "  warnings.warn(\"Deprecated in 2.0, use createOrReplaceTempView instead.\", FutureWarning)\n"
      ]
     },
     "metadata": {
      "application/vnd.databricks.v1+output": {
       "addedWidgets": {},
       "arguments": {},
       "data": "/databricks/spark/python/pyspark/sql/dataframe.py:234: FutureWarning: Deprecated in 2.0, use createOrReplaceTempView instead.\n  warnings.warn(\"Deprecated in 2.0, use createOrReplaceTempView instead.\", FutureWarning)\n",
       "datasetInfos": [],
       "metadata": {},
       "removedWidgets": [],
       "type": "ansi"
      }
     },
     "output_type": "display_data"
    }
   ],
   "source": [
    "df.registerTempTable(\"store\")"
   ]
  },
  {
   "cell_type": "code",
   "execution_count": 0,
   "metadata": {
    "application/vnd.databricks.v1+cell": {
     "cellMetadata": {},
     "inputWidgets": {},
     "nuid": "7678a9de-88fe-45c9-8b8c-58efb3640679",
     "showTitle": false,
     "title": ""
    }
   },
   "outputs": [],
   "source": [
    "view=spark.sql('select * from store')"
   ]
  },
  {
   "cell_type": "code",
   "execution_count": 0,
   "metadata": {
    "application/vnd.databricks.v1+cell": {
     "cellMetadata": {},
     "inputWidgets": {},
     "nuid": "65402fad-d110-45db-a76d-6a38771f4f45",
     "showTitle": false,
     "title": ""
    }
   },
   "outputs": [
    {
     "data": {
      "text/plain": [
       "+---------------+-----------+----------------+---------------+--------------------+--------+-----------------+-------------------------+-----------+--------------------+-----------------+-----------------+\n",
       "|Item_Identifier|Item_Weight|Item_Fat_Content|Item_Visibility|           Item_Type|Item_MRP|Outlet_Identifier|Outlet_Establishment_Year|Outlet_Size|Outlet_Location_Type|      Outlet_Type|Item_Outlet_Sales|\n",
       "+---------------+-----------+----------------+---------------+--------------------+--------+-----------------+-------------------------+-----------+--------------------+-----------------+-----------------+\n",
       "|          FDA15|        9.3|         Low Fat|    0.016047301|               Dairy|249.8092|           OUT049|                     1999|     Medium|              Tier 1|Supermarket Type1|         3735.138|\n",
       "|          DRC01|       5.92|         Regular|    0.019278216|         Soft Drinks| 48.2692|           OUT018|                     2009|     Medium|              Tier 3|Supermarket Type2|         443.4228|\n",
       "|          FDN15|       17.5|         Low Fat|    0.016760075|                Meat| 141.618|           OUT049|                     1999|     Medium|              Tier 1|Supermarket Type1|          2097.27|\n",
       "|          FDX07|       19.2|         Regular|              0|Fruits and Vegeta...| 182.095|           OUT010|                     1998|       null|              Tier 3|    Grocery Store|           732.38|\n",
       "|          NCD19|       8.93|         Low Fat|              0|           Household| 53.8614|           OUT013|                     1987|       High|              Tier 3|Supermarket Type1|         994.7052|\n",
       "|          FDP36|     10.395|         Regular|              0|        Baking Goods| 51.4008|           OUT018|                     2009|     Medium|              Tier 3|Supermarket Type2|         556.6088|\n",
       "|          FDO10|      13.65|         Regular|    0.012741089|         Snack Foods| 57.6588|           OUT013|                     1987|       High|              Tier 3|Supermarket Type1|         343.5528|\n",
       "|          FDP10|       null|         Low Fat|    0.127469857|         Snack Foods|107.7622|           OUT027|                     1985|     Medium|              Tier 3|Supermarket Type3|        4022.7636|\n",
       "|          FDH17|       16.2|         Regular|    0.016687114|        Frozen Foods| 96.9726|           OUT045|                     2002|       null|              Tier 2|Supermarket Type1|        1076.5986|\n",
       "|          FDU28|       19.2|         Regular|     0.09444959|        Frozen Foods|187.8214|           OUT017|                     2007|       null|              Tier 2|Supermarket Type1|         4710.535|\n",
       "|          FDY07|       11.8|         Low Fat|              0|Fruits and Vegeta...| 45.5402|           OUT049|                     1999|     Medium|              Tier 1|Supermarket Type1|        1516.0266|\n",
       "|          FDA03|       18.5|         Regular|    0.045463773|               Dairy|144.1102|           OUT046|                     1997|      Small|              Tier 1|Supermarket Type1|         2187.153|\n",
       "|          FDX32|       15.1|         Regular|      0.1000135|Fruits and Vegeta...|145.4786|           OUT049|                     1999|     Medium|              Tier 1|Supermarket Type1|        1589.2646|\n",
       "|          FDS46|       17.6|         Regular|    0.047257328|         Snack Foods|119.6782|           OUT046|                     1997|      Small|              Tier 1|Supermarket Type1|        2145.2076|\n",
       "|          FDF32|      16.35|         Low Fat|      0.0680243|Fruits and Vegeta...|196.4426|           OUT013|                     1987|       High|              Tier 3|Supermarket Type1|         1977.426|\n",
       "|          FDP49|          9|         Regular|    0.069088961|           Breakfast| 56.3614|           OUT046|                     1997|      Small|              Tier 1|Supermarket Type1|        1547.3192|\n",
       "|          NCB42|       11.8|         Low Fat|    0.008596051|  Health and Hygiene|115.3492|           OUT018|                     2009|     Medium|              Tier 3|Supermarket Type2|        1621.8888|\n",
       "|          FDP49|          9|         Regular|    0.069196376|           Breakfast| 54.3614|           OUT049|                     1999|     Medium|              Tier 1|Supermarket Type1|         718.3982|\n",
       "|          DRI11|       null|         Low Fat|    0.034237682|         Hard Drinks|113.2834|           OUT027|                     1985|     Medium|              Tier 3|Supermarket Type3|         2303.668|\n",
       "|          FDU02|      13.35|         Low Fat|     0.10249212|               Dairy|230.5352|           OUT035|                     2004|      Small|              Tier 2|Supermarket Type1|        2748.4224|\n",
       "+---------------+-----------+----------------+---------------+--------------------+--------+-----------------+-------------------------+-----------+--------------------+-----------------+-----------------+\n",
       "only showing top 20 rows\n",
       "\n"
      ]
     },
     "metadata": {
      "application/vnd.databricks.v1+output": {
       "addedWidgets": {},
       "arguments": {},
       "data": "+---------------+-----------+----------------+---------------+--------------------+--------+-----------------+-------------------------+-----------+--------------------+-----------------+-----------------+\n|Item_Identifier|Item_Weight|Item_Fat_Content|Item_Visibility|           Item_Type|Item_MRP|Outlet_Identifier|Outlet_Establishment_Year|Outlet_Size|Outlet_Location_Type|      Outlet_Type|Item_Outlet_Sales|\n+---------------+-----------+----------------+---------------+--------------------+--------+-----------------+-------------------------+-----------+--------------------+-----------------+-----------------+\n|          FDA15|        9.3|         Low Fat|    0.016047301|               Dairy|249.8092|           OUT049|                     1999|     Medium|              Tier 1|Supermarket Type1|         3735.138|\n|          DRC01|       5.92|         Regular|    0.019278216|         Soft Drinks| 48.2692|           OUT018|                     2009|     Medium|              Tier 3|Supermarket Type2|         443.4228|\n|          FDN15|       17.5|         Low Fat|    0.016760075|                Meat| 141.618|           OUT049|                     1999|     Medium|              Tier 1|Supermarket Type1|          2097.27|\n|          FDX07|       19.2|         Regular|              0|Fruits and Vegeta...| 182.095|           OUT010|                     1998|       null|              Tier 3|    Grocery Store|           732.38|\n|          NCD19|       8.93|         Low Fat|              0|           Household| 53.8614|           OUT013|                     1987|       High|              Tier 3|Supermarket Type1|         994.7052|\n|          FDP36|     10.395|         Regular|              0|        Baking Goods| 51.4008|           OUT018|                     2009|     Medium|              Tier 3|Supermarket Type2|         556.6088|\n|          FDO10|      13.65|         Regular|    0.012741089|         Snack Foods| 57.6588|           OUT013|                     1987|       High|              Tier 3|Supermarket Type1|         343.5528|\n|          FDP10|       null|         Low Fat|    0.127469857|         Snack Foods|107.7622|           OUT027|                     1985|     Medium|              Tier 3|Supermarket Type3|        4022.7636|\n|          FDH17|       16.2|         Regular|    0.016687114|        Frozen Foods| 96.9726|           OUT045|                     2002|       null|              Tier 2|Supermarket Type1|        1076.5986|\n|          FDU28|       19.2|         Regular|     0.09444959|        Frozen Foods|187.8214|           OUT017|                     2007|       null|              Tier 2|Supermarket Type1|         4710.535|\n|          FDY07|       11.8|         Low Fat|              0|Fruits and Vegeta...| 45.5402|           OUT049|                     1999|     Medium|              Tier 1|Supermarket Type1|        1516.0266|\n|          FDA03|       18.5|         Regular|    0.045463773|               Dairy|144.1102|           OUT046|                     1997|      Small|              Tier 1|Supermarket Type1|         2187.153|\n|          FDX32|       15.1|         Regular|      0.1000135|Fruits and Vegeta...|145.4786|           OUT049|                     1999|     Medium|              Tier 1|Supermarket Type1|        1589.2646|\n|          FDS46|       17.6|         Regular|    0.047257328|         Snack Foods|119.6782|           OUT046|                     1997|      Small|              Tier 1|Supermarket Type1|        2145.2076|\n|          FDF32|      16.35|         Low Fat|      0.0680243|Fruits and Vegeta...|196.4426|           OUT013|                     1987|       High|              Tier 3|Supermarket Type1|         1977.426|\n|          FDP49|          9|         Regular|    0.069088961|           Breakfast| 56.3614|           OUT046|                     1997|      Small|              Tier 1|Supermarket Type1|        1547.3192|\n|          NCB42|       11.8|         Low Fat|    0.008596051|  Health and Hygiene|115.3492|           OUT018|                     2009|     Medium|              Tier 3|Supermarket Type2|        1621.8888|\n|          FDP49|          9|         Regular|    0.069196376|           Breakfast| 54.3614|           OUT049|                     1999|     Medium|              Tier 1|Supermarket Type1|         718.3982|\n|          DRI11|       null|         Low Fat|    0.034237682|         Hard Drinks|113.2834|           OUT027|                     1985|     Medium|              Tier 3|Supermarket Type3|         2303.668|\n|          FDU02|      13.35|         Low Fat|     0.10249212|               Dairy|230.5352|           OUT035|                     2004|      Small|              Tier 2|Supermarket Type1|        2748.4224|\n+---------------+-----------+----------------+---------------+--------------------+--------+-----------------+-------------------------+-----------+--------------------+-----------------+-----------------+\nonly showing top 20 rows\n\n",
       "datasetInfos": [],
       "metadata": {},
       "removedWidgets": [],
       "type": "ansi"
      }
     },
     "output_type": "display_data"
    }
   ],
   "source": [
    "view.show()"
   ]
  },
  {
   "cell_type": "code",
   "execution_count": 0,
   "metadata": {
    "application/vnd.databricks.v1+cell": {
     "cellMetadata": {},
     "inputWidgets": {},
     "nuid": "70542143-5ed9-4eee-9497-b51fb2bff278",
     "showTitle": false,
     "title": ""
    }
   },
   "outputs": [],
   "source": [
    "unique=spark.sql('SELECT COUNT (DISTINCT(*)) FROM store')"
   ]
  },
  {
   "cell_type": "code",
   "execution_count": 0,
   "metadata": {
    "application/vnd.databricks.v1+cell": {
     "cellMetadata": {},
     "inputWidgets": {},
     "nuid": "78b82813-ed7c-4356-92e7-d51dffda68d8",
     "showTitle": false,
     "title": ""
    }
   },
   "outputs": [
    {
     "data": {
      "text/plain": [
       "+---------------------------------------------------------------------------------------------------------------------------------------------------------------------------------------------------------------------+\n",
       "|count(DISTINCT Item_Identifier, Item_Weight, Item_Fat_Content, Item_Visibility, Item_Type, Item_MRP, Outlet_Identifier, Outlet_Establishment_Year, Outlet_Size, Outlet_Location_Type, Outlet_Type, Item_Outlet_Sales)|\n",
       "+---------------------------------------------------------------------------------------------------------------------------------------------------------------------------------------------------------------------+\n",
       "|                                                                                                                                                                                                                 4650|\n",
       "+---------------------------------------------------------------------------------------------------------------------------------------------------------------------------------------------------------------------+\n",
       "\n"
      ]
     },
     "metadata": {
      "application/vnd.databricks.v1+output": {
       "addedWidgets": {},
       "arguments": {},
       "data": "+---------------------------------------------------------------------------------------------------------------------------------------------------------------------------------------------------------------------+\n|count(DISTINCT Item_Identifier, Item_Weight, Item_Fat_Content, Item_Visibility, Item_Type, Item_MRP, Outlet_Identifier, Outlet_Establishment_Year, Outlet_Size, Outlet_Location_Type, Outlet_Type, Item_Outlet_Sales)|\n+---------------------------------------------------------------------------------------------------------------------------------------------------------------------------------------------------------------------+\n|                                                                                                                                                                                                                 4650|\n+---------------------------------------------------------------------------------------------------------------------------------------------------------------------------------------------------------------------+\n\n",
       "datasetInfos": [],
       "metadata": {},
       "removedWidgets": [],
       "type": "ansi"
      }
     },
     "output_type": "display_data"
    }
   ],
   "source": [
    "unique.show()# WE HAVE 4650"
   ]
  },
  {
   "cell_type": "code",
   "execution_count": 0,
   "metadata": {
    "application/vnd.databricks.v1+cell": {
     "cellMetadata": {},
     "inputWidgets": {},
     "nuid": "daefb98a-9557-4a4c-99cd-e1a27632f73a",
     "showTitle": false,
     "title": ""
    }
   },
   "outputs": [],
   "source": [
    "outlet=spark.sql(\"SELECT Outlet_Size, COUNT(Outlet_Size) FROM store GROUP BY Outlet_Size\")"
   ]
  },
  {
   "cell_type": "code",
   "execution_count": 0,
   "metadata": {
    "application/vnd.databricks.v1+cell": {
     "cellMetadata": {},
     "inputWidgets": {},
     "nuid": "c6f607fe-01e5-4128-9e1b-b403241d3aa4",
     "showTitle": false,
     "title": ""
    }
   },
   "outputs": [
    {
     "data": {
      "text/plain": [
       "+-----------+------------------+\n",
       "|Outlet_Size|count(Outlet_Size)|\n",
       "+-----------+------------------+\n",
       "|       High|               932|\n",
       "|       null|                 0|\n",
       "|     Medium|              2793|\n",
       "|      Small|              2388|\n",
       "+-----------+------------------+\n",
       "\n"
      ]
     },
     "metadata": {
      "application/vnd.databricks.v1+output": {
       "addedWidgets": {},
       "arguments": {},
       "data": "+-----------+------------------+\n|Outlet_Size|count(Outlet_Size)|\n+-----------+------------------+\n|       High|               932|\n|       null|                 0|\n|     Medium|              2793|\n|      Small|              2388|\n+-----------+------------------+\n\n",
       "datasetInfos": [],
       "metadata": {},
       "removedWidgets": [],
       "type": "ansi"
      }
     },
     "output_type": "display_data"
    }
   ],
   "source": [
    "outlet.show()"
   ]
  },
  {
   "cell_type": "code",
   "execution_count": 0,
   "metadata": {
    "application/vnd.databricks.v1+cell": {
     "cellMetadata": {},
     "inputWidgets": {},
     "nuid": "1f56868b-0bcd-4b37-a0ef-b306b74cfe89",
     "showTitle": false,
     "title": ""
    }
   },
   "outputs": [],
   "source": [
    "item=spark.sql(\"SELECT Item_Type, COUNT(Item_Type) FROM store GROUP BY Item_Type\")"
   ]
  },
  {
   "cell_type": "code",
   "execution_count": 0,
   "metadata": {
    "application/vnd.databricks.v1+cell": {
     "cellMetadata": {},
     "inputWidgets": {},
     "nuid": "82c8eb31-cd65-455c-b69b-f104e14b0181",
     "showTitle": false,
     "title": ""
    }
   },
   "outputs": [
    {
     "data": {
      "text/plain": [
       "+--------------------+----------------+\n",
       "|           Item_Type|count(Item_Type)|\n",
       "+--------------------+----------------+\n",
       "|       Starchy Foods|             148|\n",
       "|        Baking Goods|             648|\n",
       "|              Breads|             251|\n",
       "|Fruits and Vegeta...|            1232|\n",
       "|                Meat|             425|\n",
       "|         Hard Drinks|             214|\n",
       "|         Soft Drinks|             445|\n",
       "|           Household|             910|\n",
       "|           Breakfast|             110|\n",
       "|               Dairy|             682|\n",
       "|         Snack Foods|            1200|\n",
       "|              Others|             169|\n",
       "|             Seafood|              64|\n",
       "|              Canned|             649|\n",
       "|        Frozen Foods|             856|\n",
       "|  Health and Hygiene|             520|\n",
       "+--------------------+----------------+\n",
       "\n"
      ]
     },
     "metadata": {
      "application/vnd.databricks.v1+output": {
       "addedWidgets": {},
       "arguments": {},
       "data": "+--------------------+----------------+\n|           Item_Type|count(Item_Type)|\n+--------------------+----------------+\n|       Starchy Foods|             148|\n|        Baking Goods|             648|\n|              Breads|             251|\n|Fruits and Vegeta...|            1232|\n|                Meat|             425|\n|         Hard Drinks|             214|\n|         Soft Drinks|             445|\n|           Household|             910|\n|           Breakfast|             110|\n|               Dairy|             682|\n|         Snack Foods|            1200|\n|              Others|             169|\n|             Seafood|              64|\n|              Canned|             649|\n|        Frozen Foods|             856|\n|  Health and Hygiene|             520|\n+--------------------+----------------+\n\n",
       "datasetInfos": [],
       "metadata": {},
       "removedWidgets": [],
       "type": "ansi"
      }
     },
     "output_type": "display_data"
    }
   ],
   "source": [
    "item.show()"
   ]
  },
  {
   "cell_type": "code",
   "execution_count": 0,
   "metadata": {
    "application/vnd.databricks.v1+cell": {
     "cellMetadata": {},
     "inputWidgets": {},
     "nuid": "3b949f8c-9eaf-4a90-9d4c-8d48880873d4",
     "showTitle": false,
     "title": ""
    }
   },
   "outputs": [],
   "source": [
    "\n",
    "Total_Sales=spark.sql(\"select sum(Item_Outlet_Sales) as Total_Sales from store\")"
   ]
  },
  {
   "cell_type": "code",
   "execution_count": 0,
   "metadata": {
    "application/vnd.databricks.v1+cell": {
     "cellMetadata": {},
     "inputWidgets": {},
     "nuid": "d6533652-f2f3-4cb5-b1de-4d470e820c67",
     "showTitle": false,
     "title": ""
    }
   },
   "outputs": [
    {
     "data": {
      "text/plain": [
       "+--------------------+\n",
       "|         Total_Sales|\n",
       "+--------------------+\n",
       "|1.8591125410400037E7|\n",
       "+--------------------+\n",
       "\n"
      ]
     },
     "metadata": {
      "application/vnd.databricks.v1+output": {
       "addedWidgets": {},
       "arguments": {},
       "data": "+--------------------+\n|         Total_Sales|\n+--------------------+\n|1.8591125410400037E7|\n+--------------------+\n\n",
       "datasetInfos": [],
       "metadata": {},
       "removedWidgets": [],
       "type": "ansi"
      }
     },
     "output_type": "display_data"
    }
   ],
   "source": [
    "Total_Sales.show()"
   ]
  },
  {
   "cell_type": "markdown",
   "metadata": {
    "application/vnd.databricks.v1+cell": {
     "cellMetadata": {},
     "inputWidgets": {},
     "nuid": "3fa15fac-66bb-4082-9f7d-5a72d52b4c85",
     "showTitle": false,
     "title": ""
    }
   },
   "source": [
    "#PANDAS"
   ]
  },
  {
   "cell_type": "code",
   "execution_count": 0,
   "metadata": {
    "application/vnd.databricks.v1+cell": {
     "cellMetadata": {},
     "inputWidgets": {},
     "nuid": "eec90ba9-9808-4030-8bca-d37a9d39aa91",
     "showTitle": false,
     "title": ""
    }
   },
   "outputs": [],
   "source": [
    "df1=df.toPandas()"
   ]
  },
  {
   "cell_type": "code",
   "execution_count": 0,
   "metadata": {
    "application/vnd.databricks.v1+cell": {
     "cellMetadata": {},
     "inputWidgets": {},
     "nuid": "34cb98c7-0cea-4687-8033-e4f95ea1d836",
     "showTitle": false,
     "title": ""
    }
   },
   "outputs": [],
   "source": [
    "df1['Item_Fat_Content']=df1['Item_Fat_Content'].map({'Low Fat':'LOW FAT','Regular':'REGULAR','low fat':'LOW FAT','LF':'LOW FAT','reg':'REGULAR'})"
   ]
  },
  {
   "cell_type": "code",
   "execution_count": 0,
   "metadata": {
    "application/vnd.databricks.v1+cell": {
     "cellMetadata": {},
     "inputWidgets": {},
     "nuid": "4a151207-8e6f-45b3-b387-600b4cefd262",
     "showTitle": false,
     "title": ""
    }
   },
   "outputs": [
    {
     "data": {
      "text/plain": [
       "UNIQUE VALUES =  ['LOW FAT' 'REGULAR']\n",
       "-------------------------\n",
       "Item_Identifier                 0\n",
       "Item_Weight                  1463\n",
       "Item_Fat_Content                0\n",
       "Item_Visibility                 0\n",
       "Item_Type                       0\n",
       "Item_MRP                        0\n",
       "Outlet_Identifier               0\n",
       "Outlet_Establishment_Year       0\n",
       "Outlet_Size                  2410\n",
       "Outlet_Location_Type            0\n",
       "Outlet_Type                     0\n",
       "Item_Outlet_Sales               0\n",
       "dtype: int64\n"
      ]
     },
     "metadata": {
      "application/vnd.databricks.v1+output": {
       "addedWidgets": {},
       "arguments": {},
       "data": "UNIQUE VALUES =  ['LOW FAT' 'REGULAR']\n-------------------------\nItem_Identifier                 0\nItem_Weight                  1463\nItem_Fat_Content                0\nItem_Visibility                 0\nItem_Type                       0\nItem_MRP                        0\nOutlet_Identifier               0\nOutlet_Establishment_Year       0\nOutlet_Size                  2410\nOutlet_Location_Type            0\nOutlet_Type                     0\nItem_Outlet_Sales               0\ndtype: int64\n",
       "datasetInfos": [],
       "metadata": {},
       "removedWidgets": [],
       "type": "ansi"
      }
     },
     "output_type": "display_data"
    }
   ],
   "source": [
    "\n",
    "print('UNIQUE VALUES = ',df1['Item_Fat_Content'].unique())\n",
    "\n",
    "print('-------------------------')\n",
    "\n",
    "print(df1.isnull().sum())"
   ]
  },
  {
   "cell_type": "code",
   "execution_count": 0,
   "metadata": {
    "application/vnd.databricks.v1+cell": {
     "cellMetadata": {},
     "inputWidgets": {},
     "nuid": "63274b35-2886-409e-b4b9-79ff978389e7",
     "showTitle": false,
     "title": ""
    }
   },
   "outputs": [
    {
     "data": {
      "text/html": [
       "<div>\n",
       "<style scoped>\n",
       "    .dataframe tbody tr th:only-of-type {\n",
       "        vertical-align: middle;\n",
       "    }\n",
       "\n",
       "    .dataframe tbody tr th {\n",
       "        vertical-align: top;\n",
       "    }\n",
       "\n",
       "    .dataframe thead th {\n",
       "        text-align: right;\n",
       "    }\n",
       "</style>\n",
       "<table border=\"1\" class=\"dataframe\">\n",
       "  <thead>\n",
       "    <tr style=\"text-align: right;\">\n",
       "      <th></th>\n",
       "      <th>Item_Identifier</th>\n",
       "      <th>Item_Weight</th>\n",
       "      <th>Item_Fat_Content</th>\n",
       "      <th>Item_Visibility</th>\n",
       "      <th>Item_Type</th>\n",
       "      <th>Item_MRP</th>\n",
       "      <th>Outlet_Identifier</th>\n",
       "      <th>Outlet_Establishment_Year</th>\n",
       "      <th>Outlet_Size</th>\n",
       "      <th>Outlet_Location_Type</th>\n",
       "      <th>Outlet_Type</th>\n",
       "      <th>Item_Outlet_Sales</th>\n",
       "    </tr>\n",
       "  </thead>\n",
       "  <tbody>\n",
       "    <tr>\n",
       "      <th>count</th>\n",
       "      <td>8523</td>\n",
       "      <td>7060</td>\n",
       "      <td>8523</td>\n",
       "      <td>8523</td>\n",
       "      <td>8523</td>\n",
       "      <td>8523</td>\n",
       "      <td>8523</td>\n",
       "      <td>8523</td>\n",
       "      <td>6113</td>\n",
       "      <td>8523</td>\n",
       "      <td>8523</td>\n",
       "      <td>8523</td>\n",
       "    </tr>\n",
       "    <tr>\n",
       "      <th>unique</th>\n",
       "      <td>1559</td>\n",
       "      <td>415</td>\n",
       "      <td>2</td>\n",
       "      <td>7880</td>\n",
       "      <td>16</td>\n",
       "      <td>5938</td>\n",
       "      <td>10</td>\n",
       "      <td>9</td>\n",
       "      <td>3</td>\n",
       "      <td>3</td>\n",
       "      <td>4</td>\n",
       "      <td>3493</td>\n",
       "    </tr>\n",
       "    <tr>\n",
       "      <th>top</th>\n",
       "      <td>FDW13</td>\n",
       "      <td>12.15</td>\n",
       "      <td>LOW FAT</td>\n",
       "      <td>0</td>\n",
       "      <td>Fruits and Vegetables</td>\n",
       "      <td>172.0422</td>\n",
       "      <td>OUT027</td>\n",
       "      <td>1985</td>\n",
       "      <td>Medium</td>\n",
       "      <td>Tier 3</td>\n",
       "      <td>Supermarket Type1</td>\n",
       "      <td>958.752</td>\n",
       "    </tr>\n",
       "    <tr>\n",
       "      <th>freq</th>\n",
       "      <td>10</td>\n",
       "      <td>86</td>\n",
       "      <td>5517</td>\n",
       "      <td>526</td>\n",
       "      <td>1232</td>\n",
       "      <td>7</td>\n",
       "      <td>935</td>\n",
       "      <td>1463</td>\n",
       "      <td>2793</td>\n",
       "      <td>3350</td>\n",
       "      <td>5577</td>\n",
       "      <td>17</td>\n",
       "    </tr>\n",
       "  </tbody>\n",
       "</table>\n",
       "</div>"
      ]
     },
     "metadata": {
      "application/vnd.databricks.v1+output": {
       "addedWidgets": {},
       "arguments": {},
       "data": "<div>\n<style scoped>\n    .dataframe tbody tr th:only-of-type {\n        vertical-align: middle;\n    }\n\n    .dataframe tbody tr th {\n        vertical-align: top;\n    }\n\n    .dataframe thead th {\n        text-align: right;\n    }\n</style>\n<table border=\"1\" class=\"dataframe\">\n  <thead>\n    <tr style=\"text-align: right;\">\n      <th></th>\n      <th>Item_Identifier</th>\n      <th>Item_Weight</th>\n      <th>Item_Fat_Content</th>\n      <th>Item_Visibility</th>\n      <th>Item_Type</th>\n      <th>Item_MRP</th>\n      <th>Outlet_Identifier</th>\n      <th>Outlet_Establishment_Year</th>\n      <th>Outlet_Size</th>\n      <th>Outlet_Location_Type</th>\n      <th>Outlet_Type</th>\n      <th>Item_Outlet_Sales</th>\n    </tr>\n  </thead>\n  <tbody>\n    <tr>\n      <th>count</th>\n      <td>8523</td>\n      <td>7060</td>\n      <td>8523</td>\n      <td>8523</td>\n      <td>8523</td>\n      <td>8523</td>\n      <td>8523</td>\n      <td>8523</td>\n      <td>6113</td>\n      <td>8523</td>\n      <td>8523</td>\n      <td>8523</td>\n    </tr>\n    <tr>\n      <th>unique</th>\n      <td>1559</td>\n      <td>415</td>\n      <td>2</td>\n      <td>7880</td>\n      <td>16</td>\n      <td>5938</td>\n      <td>10</td>\n      <td>9</td>\n      <td>3</td>\n      <td>3</td>\n      <td>4</td>\n      <td>3493</td>\n    </tr>\n    <tr>\n      <th>top</th>\n      <td>FDW13</td>\n      <td>12.15</td>\n      <td>LOW FAT</td>\n      <td>0</td>\n      <td>Fruits and Vegetables</td>\n      <td>172.0422</td>\n      <td>OUT027</td>\n      <td>1985</td>\n      <td>Medium</td>\n      <td>Tier 3</td>\n      <td>Supermarket Type1</td>\n      <td>958.752</td>\n    </tr>\n    <tr>\n      <th>freq</th>\n      <td>10</td>\n      <td>86</td>\n      <td>5517</td>\n      <td>526</td>\n      <td>1232</td>\n      <td>7</td>\n      <td>935</td>\n      <td>1463</td>\n      <td>2793</td>\n      <td>3350</td>\n      <td>5577</td>\n      <td>17</td>\n    </tr>\n  </tbody>\n</table>\n</div>",
       "datasetInfos": [],
       "metadata": {},
       "removedWidgets": [],
       "textData": null,
       "type": "htmlSandbox"
      }
     },
     "output_type": "display_data"
    }
   ],
   "source": [
    "df1.describe()"
   ]
  },
  {
   "cell_type": "code",
   "execution_count": 0,
   "metadata": {
    "application/vnd.databricks.v1+cell": {
     "cellMetadata": {},
     "inputWidgets": {},
     "nuid": "dc68dc85-009f-47d6-b6e5-c0b04f49c6ac",
     "showTitle": false,
     "title": ""
    }
   },
   "outputs": [
    {
     "data": {
      "text/plain": [
       "<class 'pandas.core.frame.DataFrame'>\n",
       "RangeIndex: 8523 entries, 0 to 8522\n",
       "Data columns (total 12 columns):\n",
       " #   Column                     Non-Null Count  Dtype \n",
       "---  ------                     --------------  ----- \n",
       " 0   Item_Identifier            8523 non-null   object\n",
       " 1   Item_Weight                7060 non-null   object\n",
       " 2   Item_Fat_Content           8523 non-null   object\n",
       " 3   Item_Visibility            8523 non-null   object\n",
       " 4   Item_Type                  8523 non-null   object\n",
       " 5   Item_MRP                   8523 non-null   object\n",
       " 6   Outlet_Identifier          8523 non-null   object\n",
       " 7   Outlet_Establishment_Year  8523 non-null   object\n",
       " 8   Outlet_Size                6113 non-null   object\n",
       " 9   Outlet_Location_Type       8523 non-null   object\n",
       " 10  Outlet_Type                8523 non-null   object\n",
       " 11  Item_Outlet_Sales          8523 non-null   object\n",
       "dtypes: object(12)\n",
       "memory usage: 799.2+ KB\n"
      ]
     },
     "metadata": {
      "application/vnd.databricks.v1+output": {
       "addedWidgets": {},
       "arguments": {},
       "data": "<class 'pandas.core.frame.DataFrame'>\nRangeIndex: 8523 entries, 0 to 8522\nData columns (total 12 columns):\n #   Column                     Non-Null Count  Dtype \n---  ------                     --------------  ----- \n 0   Item_Identifier            8523 non-null   object\n 1   Item_Weight                7060 non-null   object\n 2   Item_Fat_Content           8523 non-null   object\n 3   Item_Visibility            8523 non-null   object\n 4   Item_Type                  8523 non-null   object\n 5   Item_MRP                   8523 non-null   object\n 6   Outlet_Identifier          8523 non-null   object\n 7   Outlet_Establishment_Year  8523 non-null   object\n 8   Outlet_Size                6113 non-null   object\n 9   Outlet_Location_Type       8523 non-null   object\n 10  Outlet_Type                8523 non-null   object\n 11  Item_Outlet_Sales          8523 non-null   object\ndtypes: object(12)\nmemory usage: 799.2+ KB\n",
       "datasetInfos": [],
       "metadata": {},
       "removedWidgets": [],
       "type": "ansi"
      }
     },
     "output_type": "display_data"
    }
   ],
   "source": [
    "df1.info()"
   ]
  },
  {
   "cell_type": "code",
   "execution_count": 0,
   "metadata": {
    "application/vnd.databricks.v1+cell": {
     "cellMetadata": {},
     "inputWidgets": {},
     "nuid": "0dad46b5-50f4-4d64-8b0b-f3320ca05250",
     "showTitle": false,
     "title": ""
    }
   },
   "outputs": [
    {
     "data": {
      "text/plain": [
       "Out[42]: 0       Medium\n",
       "1       Medium\n",
       "2       Medium\n",
       "4         High\n",
       "5       Medium\n",
       "         ...  \n",
       "8517     Small\n",
       "8518      High\n",
       "8520     Small\n",
       "8521    Medium\n",
       "8522     Small\n",
       "Name: Outlet_Size, Length: 6113, dtype: object"
      ]
     },
     "metadata": {
      "application/vnd.databricks.v1+output": {
       "addedWidgets": {},
       "arguments": {},
       "data": "Out[42]: 0       Medium\n1       Medium\n2       Medium\n4         High\n5       Medium\n         ...  \n8517     Small\n8518      High\n8520     Small\n8521    Medium\n8522     Small\nName: Outlet_Size, Length: 6113, dtype: object",
       "datasetInfos": [],
       "metadata": {},
       "removedWidgets": [],
       "type": "ansi"
      }
     },
     "output_type": "display_data"
    }
   ],
   "source": [
    "df1['Outlet_Size'].dropna()\n",
    "\n"
   ]
  },
  {
   "cell_type": "code",
   "execution_count": 0,
   "metadata": {
    "application/vnd.databricks.v1+cell": {
     "cellMetadata": {},
     "inputWidgets": {},
     "nuid": "6fefaace-8268-4068-8a5b-afd300583441",
     "showTitle": false,
     "title": ""
    }
   },
   "outputs": [
    {
     "data": {
      "text/plain": [
       "Out[43]: Item_Identifier                 0\n",
       "Item_Weight                  1463\n",
       "Item_Fat_Content                0\n",
       "Item_Visibility                 0\n",
       "Item_Type                       0\n",
       "Item_MRP                        0\n",
       "Outlet_Identifier               0\n",
       "Outlet_Establishment_Year       0\n",
       "Outlet_Size                  2410\n",
       "Outlet_Location_Type            0\n",
       "Outlet_Type                     0\n",
       "Item_Outlet_Sales               0\n",
       "dtype: int64"
      ]
     },
     "metadata": {
      "application/vnd.databricks.v1+output": {
       "addedWidgets": {},
       "arguments": {},
       "data": "Out[43]: Item_Identifier                 0\nItem_Weight                  1463\nItem_Fat_Content                0\nItem_Visibility                 0\nItem_Type                       0\nItem_MRP                        0\nOutlet_Identifier               0\nOutlet_Establishment_Year       0\nOutlet_Size                  2410\nOutlet_Location_Type            0\nOutlet_Type                     0\nItem_Outlet_Sales               0\ndtype: int64",
       "datasetInfos": [],
       "metadata": {},
       "removedWidgets": [],
       "type": "ansi"
      }
     },
     "output_type": "display_data"
    }
   ],
   "source": [
    "df1.isnull().sum()"
   ]
  },
  {
   "cell_type": "code",
   "execution_count": 0,
   "metadata": {
    "application/vnd.databricks.v1+cell": {
     "cellMetadata": {},
     "inputWidgets": {},
     "nuid": "6a8b72eb-8f8c-45f6-88c2-2bca8e38b684",
     "showTitle": false,
     "title": ""
    }
   },
   "outputs": [
    {
     "data": {
      "text/html": [
       "<div>\n",
       "<style scoped>\n",
       "    .dataframe tbody tr th:only-of-type {\n",
       "        vertical-align: middle;\n",
       "    }\n",
       "\n",
       "    .dataframe tbody tr th {\n",
       "        vertical-align: top;\n",
       "    }\n",
       "\n",
       "    .dataframe thead th {\n",
       "        text-align: right;\n",
       "    }\n",
       "</style>\n",
       "<table border=\"1\" class=\"dataframe\">\n",
       "  <thead>\n",
       "    <tr style=\"text-align: right;\">\n",
       "      <th></th>\n",
       "      <th>Item_Identifier</th>\n",
       "      <th>Item_Weight</th>\n",
       "      <th>Item_Fat_Content</th>\n",
       "      <th>Item_Visibility</th>\n",
       "      <th>Item_Type</th>\n",
       "      <th>Item_MRP</th>\n",
       "      <th>Outlet_Identifier</th>\n",
       "      <th>Outlet_Establishment_Year</th>\n",
       "      <th>Outlet_Size</th>\n",
       "      <th>Outlet_Location_Type</th>\n",
       "      <th>Outlet_Type</th>\n",
       "      <th>Item_Outlet_Sales</th>\n",
       "    </tr>\n",
       "  </thead>\n",
       "  <tbody>\n",
       "    <tr>\n",
       "      <th>0</th>\n",
       "      <td>FDA15</td>\n",
       "      <td>9.3</td>\n",
       "      <td>LOW FAT</td>\n",
       "      <td>0.016047301</td>\n",
       "      <td>Dairy</td>\n",
       "      <td>249.8092</td>\n",
       "      <td>OUT049</td>\n",
       "      <td>1999</td>\n",
       "      <td>Medium</td>\n",
       "      <td>Tier 1</td>\n",
       "      <td>Supermarket Type1</td>\n",
       "      <td>3735.138</td>\n",
       "    </tr>\n",
       "    <tr>\n",
       "      <th>1</th>\n",
       "      <td>DRC01</td>\n",
       "      <td>5.92</td>\n",
       "      <td>REGULAR</td>\n",
       "      <td>0.019278216</td>\n",
       "      <td>Soft Drinks</td>\n",
       "      <td>48.2692</td>\n",
       "      <td>OUT018</td>\n",
       "      <td>2009</td>\n",
       "      <td>Medium</td>\n",
       "      <td>Tier 3</td>\n",
       "      <td>Supermarket Type2</td>\n",
       "      <td>443.4228</td>\n",
       "    </tr>\n",
       "    <tr>\n",
       "      <th>2</th>\n",
       "      <td>FDN15</td>\n",
       "      <td>17.5</td>\n",
       "      <td>LOW FAT</td>\n",
       "      <td>0.016760075</td>\n",
       "      <td>Meat</td>\n",
       "      <td>141.618</td>\n",
       "      <td>OUT049</td>\n",
       "      <td>1999</td>\n",
       "      <td>Medium</td>\n",
       "      <td>Tier 1</td>\n",
       "      <td>Supermarket Type1</td>\n",
       "      <td>2097.27</td>\n",
       "    </tr>\n",
       "    <tr>\n",
       "      <th>3</th>\n",
       "      <td>FDX07</td>\n",
       "      <td>19.2</td>\n",
       "      <td>REGULAR</td>\n",
       "      <td>0</td>\n",
       "      <td>Fruits and Vegetables</td>\n",
       "      <td>182.095</td>\n",
       "      <td>OUT010</td>\n",
       "      <td>1998</td>\n",
       "      <td>None</td>\n",
       "      <td>Tier 3</td>\n",
       "      <td>Grocery Store</td>\n",
       "      <td>732.38</td>\n",
       "    </tr>\n",
       "    <tr>\n",
       "      <th>4</th>\n",
       "      <td>NCD19</td>\n",
       "      <td>8.93</td>\n",
       "      <td>LOW FAT</td>\n",
       "      <td>0</td>\n",
       "      <td>Household</td>\n",
       "      <td>53.8614</td>\n",
       "      <td>OUT013</td>\n",
       "      <td>1987</td>\n",
       "      <td>High</td>\n",
       "      <td>Tier 3</td>\n",
       "      <td>Supermarket Type1</td>\n",
       "      <td>994.7052</td>\n",
       "    </tr>\n",
       "    <tr>\n",
       "      <th>...</th>\n",
       "      <td>...</td>\n",
       "      <td>...</td>\n",
       "      <td>...</td>\n",
       "      <td>...</td>\n",
       "      <td>...</td>\n",
       "      <td>...</td>\n",
       "      <td>...</td>\n",
       "      <td>...</td>\n",
       "      <td>...</td>\n",
       "      <td>...</td>\n",
       "      <td>...</td>\n",
       "      <td>...</td>\n",
       "    </tr>\n",
       "    <tr>\n",
       "      <th>8518</th>\n",
       "      <td>FDF22</td>\n",
       "      <td>6.865</td>\n",
       "      <td>LOW FAT</td>\n",
       "      <td>0.056783389</td>\n",
       "      <td>Snack Foods</td>\n",
       "      <td>214.5218</td>\n",
       "      <td>OUT013</td>\n",
       "      <td>1987</td>\n",
       "      <td>High</td>\n",
       "      <td>Tier 3</td>\n",
       "      <td>Supermarket Type1</td>\n",
       "      <td>2778.3834</td>\n",
       "    </tr>\n",
       "    <tr>\n",
       "      <th>8519</th>\n",
       "      <td>FDS36</td>\n",
       "      <td>8.38</td>\n",
       "      <td>REGULAR</td>\n",
       "      <td>0.046982429</td>\n",
       "      <td>Baking Goods</td>\n",
       "      <td>108.157</td>\n",
       "      <td>OUT045</td>\n",
       "      <td>2002</td>\n",
       "      <td>None</td>\n",
       "      <td>Tier 2</td>\n",
       "      <td>Supermarket Type1</td>\n",
       "      <td>549.285</td>\n",
       "    </tr>\n",
       "    <tr>\n",
       "      <th>8520</th>\n",
       "      <td>NCJ29</td>\n",
       "      <td>10.6</td>\n",
       "      <td>LOW FAT</td>\n",
       "      <td>0.035186271</td>\n",
       "      <td>Health and Hygiene</td>\n",
       "      <td>85.1224</td>\n",
       "      <td>OUT035</td>\n",
       "      <td>2004</td>\n",
       "      <td>Small</td>\n",
       "      <td>Tier 2</td>\n",
       "      <td>Supermarket Type1</td>\n",
       "      <td>1193.1136</td>\n",
       "    </tr>\n",
       "    <tr>\n",
       "      <th>8521</th>\n",
       "      <td>FDN46</td>\n",
       "      <td>7.21</td>\n",
       "      <td>REGULAR</td>\n",
       "      <td>0.145220646</td>\n",
       "      <td>Snack Foods</td>\n",
       "      <td>103.1332</td>\n",
       "      <td>OUT018</td>\n",
       "      <td>2009</td>\n",
       "      <td>Medium</td>\n",
       "      <td>Tier 3</td>\n",
       "      <td>Supermarket Type2</td>\n",
       "      <td>1845.5976</td>\n",
       "    </tr>\n",
       "    <tr>\n",
       "      <th>8522</th>\n",
       "      <td>DRG01</td>\n",
       "      <td>14.8</td>\n",
       "      <td>LOW FAT</td>\n",
       "      <td>0.04487828</td>\n",
       "      <td>Soft Drinks</td>\n",
       "      <td>75.467</td>\n",
       "      <td>OUT046</td>\n",
       "      <td>1997</td>\n",
       "      <td>Small</td>\n",
       "      <td>Tier 1</td>\n",
       "      <td>Supermarket Type1</td>\n",
       "      <td>765.67</td>\n",
       "    </tr>\n",
       "  </tbody>\n",
       "</table>\n",
       "<p>8523 rows × 12 columns</p>\n",
       "</div>"
      ]
     },
     "metadata": {
      "application/vnd.databricks.v1+output": {
       "addedWidgets": {},
       "arguments": {},
       "data": "<div>\n<style scoped>\n    .dataframe tbody tr th:only-of-type {\n        vertical-align: middle;\n    }\n\n    .dataframe tbody tr th {\n        vertical-align: top;\n    }\n\n    .dataframe thead th {\n        text-align: right;\n    }\n</style>\n<table border=\"1\" class=\"dataframe\">\n  <thead>\n    <tr style=\"text-align: right;\">\n      <th></th>\n      <th>Item_Identifier</th>\n      <th>Item_Weight</th>\n      <th>Item_Fat_Content</th>\n      <th>Item_Visibility</th>\n      <th>Item_Type</th>\n      <th>Item_MRP</th>\n      <th>Outlet_Identifier</th>\n      <th>Outlet_Establishment_Year</th>\n      <th>Outlet_Size</th>\n      <th>Outlet_Location_Type</th>\n      <th>Outlet_Type</th>\n      <th>Item_Outlet_Sales</th>\n    </tr>\n  </thead>\n  <tbody>\n    <tr>\n      <th>0</th>\n      <td>FDA15</td>\n      <td>9.3</td>\n      <td>LOW FAT</td>\n      <td>0.016047301</td>\n      <td>Dairy</td>\n      <td>249.8092</td>\n      <td>OUT049</td>\n      <td>1999</td>\n      <td>Medium</td>\n      <td>Tier 1</td>\n      <td>Supermarket Type1</td>\n      <td>3735.138</td>\n    </tr>\n    <tr>\n      <th>1</th>\n      <td>DRC01</td>\n      <td>5.92</td>\n      <td>REGULAR</td>\n      <td>0.019278216</td>\n      <td>Soft Drinks</td>\n      <td>48.2692</td>\n      <td>OUT018</td>\n      <td>2009</td>\n      <td>Medium</td>\n      <td>Tier 3</td>\n      <td>Supermarket Type2</td>\n      <td>443.4228</td>\n    </tr>\n    <tr>\n      <th>2</th>\n      <td>FDN15</td>\n      <td>17.5</td>\n      <td>LOW FAT</td>\n      <td>0.016760075</td>\n      <td>Meat</td>\n      <td>141.618</td>\n      <td>OUT049</td>\n      <td>1999</td>\n      <td>Medium</td>\n      <td>Tier 1</td>\n      <td>Supermarket Type1</td>\n      <td>2097.27</td>\n    </tr>\n    <tr>\n      <th>3</th>\n      <td>FDX07</td>\n      <td>19.2</td>\n      <td>REGULAR</td>\n      <td>0</td>\n      <td>Fruits and Vegetables</td>\n      <td>182.095</td>\n      <td>OUT010</td>\n      <td>1998</td>\n      <td>None</td>\n      <td>Tier 3</td>\n      <td>Grocery Store</td>\n      <td>732.38</td>\n    </tr>\n    <tr>\n      <th>4</th>\n      <td>NCD19</td>\n      <td>8.93</td>\n      <td>LOW FAT</td>\n      <td>0</td>\n      <td>Household</td>\n      <td>53.8614</td>\n      <td>OUT013</td>\n      <td>1987</td>\n      <td>High</td>\n      <td>Tier 3</td>\n      <td>Supermarket Type1</td>\n      <td>994.7052</td>\n    </tr>\n    <tr>\n      <th>...</th>\n      <td>...</td>\n      <td>...</td>\n      <td>...</td>\n      <td>...</td>\n      <td>...</td>\n      <td>...</td>\n      <td>...</td>\n      <td>...</td>\n      <td>...</td>\n      <td>...</td>\n      <td>...</td>\n      <td>...</td>\n    </tr>\n    <tr>\n      <th>8518</th>\n      <td>FDF22</td>\n      <td>6.865</td>\n      <td>LOW FAT</td>\n      <td>0.056783389</td>\n      <td>Snack Foods</td>\n      <td>214.5218</td>\n      <td>OUT013</td>\n      <td>1987</td>\n      <td>High</td>\n      <td>Tier 3</td>\n      <td>Supermarket Type1</td>\n      <td>2778.3834</td>\n    </tr>\n    <tr>\n      <th>8519</th>\n      <td>FDS36</td>\n      <td>8.38</td>\n      <td>REGULAR</td>\n      <td>0.046982429</td>\n      <td>Baking Goods</td>\n      <td>108.157</td>\n      <td>OUT045</td>\n      <td>2002</td>\n      <td>None</td>\n      <td>Tier 2</td>\n      <td>Supermarket Type1</td>\n      <td>549.285</td>\n    </tr>\n    <tr>\n      <th>8520</th>\n      <td>NCJ29</td>\n      <td>10.6</td>\n      <td>LOW FAT</td>\n      <td>0.035186271</td>\n      <td>Health and Hygiene</td>\n      <td>85.1224</td>\n      <td>OUT035</td>\n      <td>2004</td>\n      <td>Small</td>\n      <td>Tier 2</td>\n      <td>Supermarket Type1</td>\n      <td>1193.1136</td>\n    </tr>\n    <tr>\n      <th>8521</th>\n      <td>FDN46</td>\n      <td>7.21</td>\n      <td>REGULAR</td>\n      <td>0.145220646</td>\n      <td>Snack Foods</td>\n      <td>103.1332</td>\n      <td>OUT018</td>\n      <td>2009</td>\n      <td>Medium</td>\n      <td>Tier 3</td>\n      <td>Supermarket Type2</td>\n      <td>1845.5976</td>\n    </tr>\n    <tr>\n      <th>8522</th>\n      <td>DRG01</td>\n      <td>14.8</td>\n      <td>LOW FAT</td>\n      <td>0.04487828</td>\n      <td>Soft Drinks</td>\n      <td>75.467</td>\n      <td>OUT046</td>\n      <td>1997</td>\n      <td>Small</td>\n      <td>Tier 1</td>\n      <td>Supermarket Type1</td>\n      <td>765.67</td>\n    </tr>\n  </tbody>\n</table>\n<p>8523 rows × 12 columns</p>\n</div>",
       "datasetInfos": [],
       "metadata": {},
       "removedWidgets": [],
       "textData": null,
       "type": "htmlSandbox"
      }
     },
     "output_type": "display_data"
    }
   ],
   "source": [
    "df1"
   ]
  },
  {
   "cell_type": "code",
   "execution_count": 0,
   "metadata": {
    "application/vnd.databricks.v1+cell": {
     "cellMetadata": {},
     "inputWidgets": {},
     "nuid": "43a3b92f-37ed-4f18-9670-c2bfc068d29e",
     "showTitle": false,
     "title": ""
    }
   },
   "outputs": [],
   "source": [
    "import seaborn as sns\n",
    "import matplotlib.pyplot as plt"
   ]
  },
  {
   "cell_type": "markdown",
   "metadata": {
    "application/vnd.databricks.v1+cell": {
     "cellMetadata": {},
     "inputWidgets": {},
     "nuid": "5706ed23-2b5b-4607-b0c6-d996a2b614a4",
     "showTitle": false,
     "title": ""
    }
   },
   "source": [
    "##CHECKING NULL VALUES"
   ]
  },
  {
   "cell_type": "code",
   "execution_count": 0,
   "metadata": {
    "application/vnd.databricks.v1+cell": {
     "cellMetadata": {},
     "inputWidgets": {},
     "nuid": "e313ff81-149d-4835-88fc-b8e61456e654",
     "showTitle": false,
     "title": ""
    }
   },
   "outputs": [
    {
     "data": {
      "text/plain": [
       "Out[46]: <AxesSubplot:>"
      ]
     },
     "metadata": {
      "application/vnd.databricks.v1+output": {
       "addedWidgets": {},
       "arguments": {},
       "data": "Out[46]: <AxesSubplot:>",
       "datasetInfos": [],
       "metadata": {},
       "removedWidgets": [],
       "type": "ansi"
      }
     },
     "output_type": "display_data"
    },
    {
     "data": {
      "image/png": "[encoded data removed]"
     },
     "metadata": {
      "application/vnd.databricks.v1+output": {
       "addedWidgets": {},
       "arguments": {},
       "data": "data:image/png;base64,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\n",
       "datasetInfos": [],
       "metadata": {},
       "removedWidgets": [],
       "type": "image"
      }
     },
     "output_type": "display_data"
    }
   ],
   "source": [
    "\n",
    "sns.heatmap(df1.isnull(), cbar=False, cmap=\"YlGnBu\") # AS YOU CAN SEE ALL VALUES HAS BEEN DROPPED"
   ]
  },
  {
   "cell_type": "markdown",
   "metadata": {
    "application/vnd.databricks.v1+cell": {
     "cellMetadata": {},
     "inputWidgets": {},
     "nuid": "2649631d-191b-410a-ac20-e5977f08dcbc",
     "showTitle": false,
     "title": ""
    }
   },
   "source": [
    "#EXPLORATORY DATA ANALYSIS"
   ]
  },
  {
   "cell_type": "code",
   "execution_count": 0,
   "metadata": {
    "application/vnd.databricks.v1+cell": {
     "cellMetadata": {},
     "inputWidgets": {},
     "nuid": "1450bca9-1d39-4d12-978f-aed914791d82",
     "showTitle": false,
     "title": ""
    }
   },
   "outputs": [
    {
     "data": {
      "text/html": [
       "<div>\n",
       "<style scoped>\n",
       "    .dataframe tbody tr th:only-of-type {\n",
       "        vertical-align: middle;\n",
       "    }\n",
       "\n",
       "    .dataframe tbody tr th {\n",
       "        vertical-align: top;\n",
       "    }\n",
       "\n",
       "    .dataframe thead th {\n",
       "        text-align: right;\n",
       "    }\n",
       "</style>\n",
       "<table border=\"1\" class=\"dataframe\">\n",
       "  <thead>\n",
       "    <tr style=\"text-align: right;\">\n",
       "      <th></th>\n",
       "      <th>Item_Fat_Content</th>\n",
       "      <th>Item_Identifier</th>\n",
       "    </tr>\n",
       "  </thead>\n",
       "  <tbody>\n",
       "    <tr>\n",
       "      <th>0</th>\n",
       "      <td>LOW FAT</td>\n",
       "      <td>5517</td>\n",
       "    </tr>\n",
       "    <tr>\n",
       "      <th>1</th>\n",
       "      <td>REGULAR</td>\n",
       "      <td>3006</td>\n",
       "    </tr>\n",
       "  </tbody>\n",
       "</table>\n",
       "</div>"
      ]
     },
     "metadata": {
      "application/vnd.databricks.v1+output": {
       "addedWidgets": {},
       "arguments": {},
       "data": "<div>\n<style scoped>\n    .dataframe tbody tr th:only-of-type {\n        vertical-align: middle;\n    }\n\n    .dataframe tbody tr th {\n        vertical-align: top;\n    }\n\n    .dataframe thead th {\n        text-align: right;\n    }\n</style>\n<table border=\"1\" class=\"dataframe\">\n  <thead>\n    <tr style=\"text-align: right;\">\n      <th></th>\n      <th>Item_Fat_Content</th>\n      <th>Item_Identifier</th>\n    </tr>\n  </thead>\n  <tbody>\n    <tr>\n      <th>0</th>\n      <td>LOW FAT</td>\n      <td>5517</td>\n    </tr>\n    <tr>\n      <th>1</th>\n      <td>REGULAR</td>\n      <td>3006</td>\n    </tr>\n  </tbody>\n</table>\n</div>",
       "datasetInfos": [],
       "metadata": {},
       "removedWidgets": [],
       "textData": null,
       "type": "htmlSandbox"
      }
     },
     "output_type": "display_data"
    }
   ],
   "source": [
    "df1.groupby('Item_Fat_Content', as_index=False)['Item_Identifier'].count()"
   ]
  },
  {
   "cell_type": "code",
   "execution_count": 0,
   "metadata": {
    "application/vnd.databricks.v1+cell": {
     "cellMetadata": {},
     "inputWidgets": {},
     "nuid": "d4f63435-c631-4aea-8e8b-fbee66ee45bc",
     "showTitle": false,
     "title": ""
    }
   },
   "outputs": [
    {
     "data": {
      "text/plain": [
       "Out[48]: <AxesSubplot:xlabel='Item_Fat_Content', ylabel='Count'>"
      ]
     },
     "metadata": {
      "application/vnd.databricks.v1+output": {
       "addedWidgets": {},
       "arguments": {},
       "data": "Out[48]: <AxesSubplot:xlabel='Item_Fat_Content', ylabel='Count'>",
       "datasetInfos": [],
       "metadata": {},
       "removedWidgets": [],
       "type": "ansi"
      }
     },
     "output_type": "display_data"
    },
    {
     "data": {
      "image/png": "[encoded data removed]"
     },
     "metadata": {
      "application/vnd.databricks.v1+output": {
       "addedWidgets": {},
       "arguments": {},
       "data": "data:image/png;base64,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\n",
       "datasetInfos": [],
       "metadata": {},
       "removedWidgets": [],
       "type": "image"
      }
     },
     "output_type": "display_data"
    }
   ],
   "source": [
    "sns.histplot(data=df1['Item_Fat_Content'],color='black')"
   ]
  },
  {
   "cell_type": "code",
   "execution_count": 0,
   "metadata": {
    "application/vnd.databricks.v1+cell": {
     "cellMetadata": {},
     "inputWidgets": {},
     "nuid": "0db47bc4-2ddf-483e-bf59-523159df0496",
     "showTitle": false,
     "title": ""
    }
   },
   "outputs": [],
   "source": [
    "df1['Item_Outlet_Sales']=df1['Item_Outlet_Sales'].astype('float64')\n"
   ]
  },
  {
   "cell_type": "code",
   "execution_count": 0,
   "metadata": {
    "application/vnd.databricks.v1+cell": {
     "cellMetadata": {},
     "inputWidgets": {},
     "nuid": "e0fdf1c9-f283-41fb-990e-38e83dac10ab",
     "showTitle": false,
     "title": ""
    }
   },
   "outputs": [],
   "source": [
    "df1['Item_Outlet_Sales']=df1['Item_Outlet_Sales'].astype('int')"
   ]
  },
  {
   "cell_type": "code",
   "execution_count": 0,
   "metadata": {
    "application/vnd.databricks.v1+cell": {
     "cellMetadata": {},
     "inputWidgets": {},
     "nuid": "50d9935a-5be6-49c7-95b9-7b5fad85eb54",
     "showTitle": false,
     "title": ""
    }
   },
   "outputs": [
    {
     "data": {
      "application/vnd.databricks.v1+bamboolib_hint": "{\"pd.DataFrames\": [\"df1\"], \"version\": \"0.0.1\"}",
      "text/plain": []
     },
     "metadata": {
      "application/vnd.databricks.v1+output": {
       "addedWidgets": {},
       "arguments": {},
       "data": {
        "application/vnd.databricks.v1+bamboolib_hint": "{\"pd.DataFrames\": [\"df1\"], \"version\": \"0.0.1\"}",
        "text/plain": ""
       },
       "datasetInfos": [],
       "metadata": {
        "kernelSessionId": "ef058bae-47df6aede487945ba36fdb83"
       },
       "removedWidgets": [],
       "type": "mimeBundle"
      }
     },
     "output_type": "display_data"
    }
   ],
   "source": [
    "import pandas as pd"
   ]
  },
  {
   "cell_type": "code",
   "execution_count": 0,
   "metadata": {
    "application/vnd.databricks.v1+cell": {
     "cellMetadata": {},
     "inputWidgets": {},
     "nuid": "c2a4c594-7be6-42d5-9dc9-4ed8cfcee971",
     "showTitle": false,
     "title": ""
    }
   },
   "outputs": [
    {
     "data": {
      "text/plain": [
       "TOTAL SALES :                   Item_Outlet_Sales\n",
       "Item_Fat_Content                   \n",
       "LOW FAT                    11901328\n",
       "REGULAR                     6685516\n",
       "-----------------------SALES PER YEAR ----------------------------\n",
       "Out[52]: array([<AxesSubplot:xlabel='Outlet_Establishment_Year'>,\n",
       "       <AxesSubplot:xlabel='Outlet_Establishment_Year'>], dtype=object)"
      ]
     },
     "metadata": {
      "application/vnd.databricks.v1+output": {
       "addedWidgets": {},
       "arguments": {},
       "data": "TOTAL SALES :                   Item_Outlet_Sales\nItem_Fat_Content                   \nLOW FAT                    11901328\nREGULAR                     6685516\n-----------------------SALES PER YEAR ----------------------------\nOut[52]: array([<AxesSubplot:xlabel='Outlet_Establishment_Year'>,\n       <AxesSubplot:xlabel='Outlet_Establishment_Year'>], dtype=object)",
       "datasetInfos": [],
       "metadata": {},
       "removedWidgets": [],
       "type": "ansi"
      }
     },
     "output_type": "display_data"
    },
    {
     "data": {
      "image/png": "[encoded data removed]"
     },
     "metadata": {
      "application/vnd.databricks.v1+output": {
       "addedWidgets": {},
       "arguments": {},
       "data": "data:image/png;base64,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\n",
       "datasetInfos": [],
       "metadata": {},
       "removedWidgets": [],
       "type": "image"
      }
     },
     "output_type": "display_data"
    }
   ],
   "source": [
    "# CHECKING THE SALES OF EACH ITEM_FAT_CONTENT\n",
    "print('TOTAL SALES :',df1[['Item_Fat_Content','Item_Outlet_Sales']].groupby('Item_Fat_Content').aggregate({'Item_Outlet_Sales':'sum'}))\n",
    "\n",
    "print('-----------------------SALES PER YEAR ----------------------------')\n",
    "\n",
    "pd.pivot_table(df1.reset_index(),index=df1['Outlet_Establishment_Year'], columns=df1['Item_Fat_Content'], values='Item_Outlet_Sales').plot(subplots=True)\n"
   ]
  },
  {
   "cell_type": "code",
   "execution_count": 0,
   "metadata": {
    "application/vnd.databricks.v1+cell": {
     "cellMetadata": {},
     "inputWidgets": {},
     "nuid": "8406237b-cca9-4ff5-843b-1c03121308ed",
     "showTitle": false,
     "title": ""
    }
   },
   "outputs": [
    {
     "data": {
      "text/plain": [
       "Out[53]: <AxesSubplot:>"
      ]
     },
     "metadata": {
      "application/vnd.databricks.v1+output": {
       "addedWidgets": {},
       "arguments": {},
       "data": "Out[53]: <AxesSubplot:>",
       "datasetInfos": [],
       "metadata": {},
       "removedWidgets": [],
       "type": "ansi"
      }
     },
     "output_type": "display_data"
    },
    {
     "data": {
      "image/png": "[encoded data removed]"
     },
     "metadata": {
      "application/vnd.databricks.v1+output": {
       "addedWidgets": {},
       "arguments": {},
       "data": "data:image/png;base64,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\n",
       "datasetInfos": [],
       "metadata": {},
       "removedWidgets": [],
       "type": "image"
      }
     },
     "output_type": "display_data"
    }
   ],
   "source": [
    "#COUNT THE STORE TYPE\n",
    "df1['Outlet_Size'].value_counts().plot(kind='bar',edgecolor='green')"
   ]
  },
  {
   "cell_type": "code",
   "execution_count": 0,
   "metadata": {
    "application/vnd.databricks.v1+cell": {
     "cellMetadata": {},
     "inputWidgets": {},
     "nuid": "fcd55fdb-bd17-40b0-b701-dcb9ff03d1d1",
     "showTitle": false,
     "title": ""
    }
   },
   "outputs": [
    {
     "data": {
      "text/plain": [
       "Out[54]: <AxesSubplot:>"
      ]
     },
     "metadata": {
      "application/vnd.databricks.v1+output": {
       "addedWidgets": {},
       "arguments": {},
       "data": "Out[54]: <AxesSubplot:>",
       "datasetInfos": [],
       "metadata": {},
       "removedWidgets": [],
       "type": "ansi"
      }
     },
     "output_type": "display_data"
    },
    {
     "data": {
      "image/png": "[encoded data removed]"
     },
     "metadata": {
      "application/vnd.databricks.v1+output": {
       "addedWidgets": {},
       "arguments": {},
       "data": "data:image/png;base64,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\n",
       "datasetInfos": [],
       "metadata": {},
       "removedWidgets": [],
       "type": "image"
      }
     },
     "output_type": "display_data"
    }
   ],
   "source": [
    "# COUNT THE PRODUCTS\n",
    "df1['Item_Type'].value_counts().plot(kind='bar',edgecolor='red',color='black')"
   ]
  },
  {
   "cell_type": "code",
   "execution_count": 0,
   "metadata": {
    "application/vnd.databricks.v1+cell": {
     "cellMetadata": {},
     "inputWidgets": {},
     "nuid": "9ee041d8-5384-4c43-94a8-29e94ae874be",
     "showTitle": false,
     "title": ""
    }
   },
   "outputs": [],
   "source": [
    "df1['Item_Outlet_Sales']=df1['Item_Outlet_Sales'].astype('float')"
   ]
  },
  {
   "cell_type": "code",
   "execution_count": 0,
   "metadata": {
    "application/vnd.databricks.v1+cell": {
     "cellMetadata": {},
     "inputWidgets": {},
     "nuid": "c145a430-ffc7-4335-b8d9-0ec4fb26b970",
     "showTitle": false,
     "title": ""
    }
   },
   "outputs": [],
   "source": [
    "df1['Item_Outlet_Sales']=df1['Item_Outlet_Sales'].astype('int')"
   ]
  },
  {
   "cell_type": "code",
   "execution_count": 0,
   "metadata": {
    "application/vnd.databricks.v1+cell": {
     "cellMetadata": {},
     "inputWidgets": {},
     "nuid": "0cdea15e-3049-4148-8b72-557191b2051b",
     "showTitle": false,
     "title": ""
    }
   },
   "outputs": [
    {
     "data": {
      "text/html": [
       "<div>\n",
       "<style scoped>\n",
       "    .dataframe tbody tr th:only-of-type {\n",
       "        vertical-align: middle;\n",
       "    }\n",
       "\n",
       "    .dataframe tbody tr th {\n",
       "        vertical-align: top;\n",
       "    }\n",
       "\n",
       "    .dataframe thead th {\n",
       "        text-align: right;\n",
       "    }\n",
       "</style>\n",
       "<table border=\"1\" class=\"dataframe\">\n",
       "  <thead>\n",
       "    <tr style=\"text-align: right;\">\n",
       "      <th></th>\n",
       "      <th>Item_Outlet_Sales</th>\n",
       "    </tr>\n",
       "    <tr>\n",
       "      <th>Item_Type</th>\n",
       "      <th></th>\n",
       "    </tr>\n",
       "  </thead>\n",
       "  <tbody>\n",
       "    <tr>\n",
       "      <th>Baking Goods</th>\n",
       "      <td>1265198</td>\n",
       "    </tr>\n",
       "    <tr>\n",
       "      <th>Breads</th>\n",
       "      <td>553105</td>\n",
       "    </tr>\n",
       "    <tr>\n",
       "      <th>Breakfast</th>\n",
       "      <td>232245</td>\n",
       "    </tr>\n",
       "    <tr>\n",
       "      <th>Canned</th>\n",
       "      <td>1443824</td>\n",
       "    </tr>\n",
       "    <tr>\n",
       "      <th>Dairy</th>\n",
       "      <td>1522268</td>\n",
       "    </tr>\n",
       "    <tr>\n",
       "      <th>Frozen Foods</th>\n",
       "      <td>1825296</td>\n",
       "    </tr>\n",
       "    <tr>\n",
       "      <th>Fruits and Vegetables</th>\n",
       "      <td>2819435</td>\n",
       "    </tr>\n",
       "    <tr>\n",
       "      <th>Hard Drinks</th>\n",
       "      <td>457685</td>\n",
       "    </tr>\n",
       "    <tr>\n",
       "      <th>Health and Hygiene</th>\n",
       "      <td>1044938</td>\n",
       "    </tr>\n",
       "    <tr>\n",
       "      <th>Household</th>\n",
       "      <td>2055033</td>\n",
       "    </tr>\n",
       "    <tr>\n",
       "      <th>Meat</th>\n",
       "      <td>917356</td>\n",
       "    </tr>\n",
       "    <tr>\n",
       "      <th>Others</th>\n",
       "      <td>325431</td>\n",
       "    </tr>\n",
       "    <tr>\n",
       "      <th>Seafood</th>\n",
       "      <td>148832</td>\n",
       "    </tr>\n",
       "    <tr>\n",
       "      <th>Snack Foods</th>\n",
       "      <td>2732195</td>\n",
       "    </tr>\n",
       "    <tr>\n",
       "      <th>Soft Drinks</th>\n",
       "      <td>892670</td>\n",
       "    </tr>\n",
       "    <tr>\n",
       "      <th>Starchy Foods</th>\n",
       "      <td>351333</td>\n",
       "    </tr>\n",
       "  </tbody>\n",
       "</table>\n",
       "</div>"
      ]
     },
     "metadata": {
      "application/vnd.databricks.v1+output": {
       "addedWidgets": {},
       "arguments": {},
       "data": "<div>\n<style scoped>\n    .dataframe tbody tr th:only-of-type {\n        vertical-align: middle;\n    }\n\n    .dataframe tbody tr th {\n        vertical-align: top;\n    }\n\n    .dataframe thead th {\n        text-align: right;\n    }\n</style>\n<table border=\"1\" class=\"dataframe\">\n  <thead>\n    <tr style=\"text-align: right;\">\n      <th></th>\n      <th>Item_Outlet_Sales</th>\n    </tr>\n    <tr>\n      <th>Item_Type</th>\n      <th></th>\n    </tr>\n  </thead>\n  <tbody>\n    <tr>\n      <th>Baking Goods</th>\n      <td>1265198</td>\n    </tr>\n    <tr>\n      <th>Breads</th>\n      <td>553105</td>\n    </tr>\n    <tr>\n      <th>Breakfast</th>\n      <td>232245</td>\n    </tr>\n    <tr>\n      <th>Canned</th>\n      <td>1443824</td>\n    </tr>\n    <tr>\n      <th>Dairy</th>\n      <td>1522268</td>\n    </tr>\n    <tr>\n      <th>Frozen Foods</th>\n      <td>1825296</td>\n    </tr>\n    <tr>\n      <th>Fruits and Vegetables</th>\n      <td>2819435</td>\n    </tr>\n    <tr>\n      <th>Hard Drinks</th>\n      <td>457685</td>\n    </tr>\n    <tr>\n      <th>Health and Hygiene</th>\n      <td>1044938</td>\n    </tr>\n    <tr>\n      <th>Household</th>\n      <td>2055033</td>\n    </tr>\n    <tr>\n      <th>Meat</th>\n      <td>917356</td>\n    </tr>\n    <tr>\n      <th>Others</th>\n      <td>325431</td>\n    </tr>\n    <tr>\n      <th>Seafood</th>\n      <td>148832</td>\n    </tr>\n    <tr>\n      <th>Snack Foods</th>\n      <td>2732195</td>\n    </tr>\n    <tr>\n      <th>Soft Drinks</th>\n      <td>892670</td>\n    </tr>\n    <tr>\n      <th>Starchy Foods</th>\n      <td>351333</td>\n    </tr>\n  </tbody>\n</table>\n</div>",
       "datasetInfos": [],
       "metadata": {},
       "removedWidgets": [],
       "textData": null,
       "type": "htmlSandbox"
      }
     },
     "output_type": "display_data"
    }
   ],
   "source": [
    "#REVENUE GENERATED BY EACH ITEM\n",
    "df1[['Item_Type','Item_Outlet_Sales']].groupby('Item_Type').aggregate({'Item_Outlet_Sales':'sum'}) "
   ]
  },
  {
   "cell_type": "code",
   "execution_count": 0,
   "metadata": {
    "application/vnd.databricks.v1+cell": {
     "cellMetadata": {},
     "inputWidgets": {},
     "nuid": "cd81b5c8-b22d-49c1-a372-0fd6d9a75837",
     "showTitle": false,
     "title": ""
    }
   },
   "outputs": [
    {
     "data": {
      "text/html": [
       "<div>\n",
       "<style scoped>\n",
       "    .dataframe tbody tr th:only-of-type {\n",
       "        vertical-align: middle;\n",
       "    }\n",
       "\n",
       "    .dataframe tbody tr th {\n",
       "        vertical-align: top;\n",
       "    }\n",
       "\n",
       "    .dataframe thead th {\n",
       "        text-align: right;\n",
       "    }\n",
       "</style>\n",
       "<table border=\"1\" class=\"dataframe\">\n",
       "  <thead>\n",
       "    <tr style=\"text-align: right;\">\n",
       "      <th></th>\n",
       "      <th>Item_Outlet_Sales</th>\n",
       "    </tr>\n",
       "    <tr>\n",
       "      <th>Outlet_Size</th>\n",
       "      <th></th>\n",
       "    </tr>\n",
       "  </thead>\n",
       "  <tbody>\n",
       "    <tr>\n",
       "      <th>High</th>\n",
       "      <td>2142201</td>\n",
       "    </tr>\n",
       "    <tr>\n",
       "      <th>Medium</th>\n",
       "      <td>7488298</td>\n",
       "    </tr>\n",
       "    <tr>\n",
       "      <th>Small</th>\n",
       "      <td>4565014</td>\n",
       "    </tr>\n",
       "  </tbody>\n",
       "</table>\n",
       "</div>"
      ]
     },
     "metadata": {
      "application/vnd.databricks.v1+output": {
       "addedWidgets": {},
       "arguments": {},
       "data": "<div>\n<style scoped>\n    .dataframe tbody tr th:only-of-type {\n        vertical-align: middle;\n    }\n\n    .dataframe tbody tr th {\n        vertical-align: top;\n    }\n\n    .dataframe thead th {\n        text-align: right;\n    }\n</style>\n<table border=\"1\" class=\"dataframe\">\n  <thead>\n    <tr style=\"text-align: right;\">\n      <th></th>\n      <th>Item_Outlet_Sales</th>\n    </tr>\n    <tr>\n      <th>Outlet_Size</th>\n      <th></th>\n    </tr>\n  </thead>\n  <tbody>\n    <tr>\n      <th>High</th>\n      <td>2142201</td>\n    </tr>\n    <tr>\n      <th>Medium</th>\n      <td>7488298</td>\n    </tr>\n    <tr>\n      <th>Small</th>\n      <td>4565014</td>\n    </tr>\n  </tbody>\n</table>\n</div>",
       "datasetInfos": [],
       "metadata": {},
       "removedWidgets": [],
       "textData": null,
       "type": "htmlSandbox"
      }
     },
     "output_type": "display_data"
    }
   ],
   "source": [
    "#REVENUE GENERATED BY EACH OUTLET\n",
    "df1[['Outlet_Size','Item_Outlet_Sales']].groupby('Outlet_Size').aggregate({'Item_Outlet_Sales':'sum'}) "
   ]
  },
  {
   "cell_type": "code",
   "execution_count": 0,
   "metadata": {
    "application/vnd.databricks.v1+cell": {
     "cellMetadata": {},
     "inputWidgets": {},
     "nuid": "e792288b-ae7f-4fc4-9afa-8c9c033531ee",
     "showTitle": false,
     "title": ""
    }
   },
   "outputs": [
    {
     "data": {
      "text/plain": [
       "/databricks/python/lib/python3.9/site-packages/seaborn/distributions.py:2619: FutureWarning: `distplot` is a deprecated function and will be removed in a future version. Please adapt your code to use either `displot` (a figure-level function with similar flexibility) or `histplot` (an axes-level function for histograms).\n",
       "  warnings.warn(msg, FutureWarning)\n",
       "Out[59]: <AxesSubplot:xlabel='Item_MRP', ylabel='Density'>"
      ]
     },
     "metadata": {
      "application/vnd.databricks.v1+output": {
       "addedWidgets": {},
       "arguments": {},
       "data": "/databricks/python/lib/python3.9/site-packages/seaborn/distributions.py:2619: FutureWarning: `distplot` is a deprecated function and will be removed in a future version. Please adapt your code to use either `displot` (a figure-level function with similar flexibility) or `histplot` (an axes-level function for histograms).\n  warnings.warn(msg, FutureWarning)\nOut[59]: <AxesSubplot:xlabel='Item_MRP', ylabel='Density'>",
       "datasetInfos": [],
       "metadata": {},
       "removedWidgets": [],
       "type": "ansi"
      }
     },
     "output_type": "display_data"
    },
    {
     "data": {
      "image/png": "[encoded data removed]"
     },
     "metadata": {
      "application/vnd.databricks.v1+output": {
       "addedWidgets": {},
       "arguments": {},
       "data": "data:image/png;base64,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\n",
       "datasetInfos": [],
       "metadata": {},
       "removedWidgets": [],
       "type": "image"
      }
     },
     "output_type": "display_data"
    }
   ],
   "source": [
    " sns.distplot(df1['Item_MRP'])"
   ]
  },
  {
   "cell_type": "code",
   "execution_count": 0,
   "metadata": {
    "application/vnd.databricks.v1+cell": {
     "cellMetadata": {},
     "inputWidgets": {},
     "nuid": "c8c54c40-8845-44c6-a53c-aa48b67c2345",
     "showTitle": false,
     "title": ""
    }
   },
   "outputs": [
    {
     "data": {
      "text/plain": [
       "Out[60]: <AxesSubplot:>"
      ]
     },
     "metadata": {
      "application/vnd.databricks.v1+output": {
       "addedWidgets": {},
       "arguments": {},
       "data": "Out[60]: <AxesSubplot:>",
       "datasetInfos": [],
       "metadata": {},
       "removedWidgets": [],
       "type": "ansi"
      }
     },
     "output_type": "display_data"
    },
    {
     "data": {
      "image/png": "[encoded data removed]"
     },
     "metadata": {
      "application/vnd.databricks.v1+output": {
       "addedWidgets": {},
       "arguments": {},
       "data": "data:image/png;base64,iVBORw0KGgoAAAANSUhEUgAAAXcAAAD4CAYAAAAXUaZHAAAAOXRFWHRTb2Z0d2FyZQBNYXRwbG90bGliIHZlcnNpb24zLjQuMywgaHR0cHM6Ly9tYXRwbG90bGliLm9yZy/MnkTPAAAACXBIWXMAAAsTAAALEwEAmpwYAAAMGUlEQVR4nO3cUYid9Z2H8edr0u2m2y5VMhvcMWzcTpZiLzYtgwjdCxfZrc1N7I3oRRuKkF7oMIXe2N60N0Ivti1pYIUUpSl06wptMRdhd91QKL1o60TEmqjtwSrJEJNpXVSIa0n87UXe4Fk9k3NmziTn+Pf5wOG85/++78wvoo8vb96ZVBWSpLZcM+kBJEkbz7hLUoOMuyQ1yLhLUoOMuyQ1aPOkBwDYunVr7dixY9JjSNJ7yrFjx/5QVTOD9k1F3Hfs2MHS0tKkx5Ck95QkL622z9syktQg4y5JDTLuktQg4y5JDTLuktQg4y5JDTLuktSgqXjOXdPlwIED9Hq9SY8xFZaXlwGYnZ2d8CTTYW5ujoWFhUmPoREYd+ky3njjjUmPIK2Lcde7eGX2tsXFRQD2798/4UmktfGeuyQ1yLhLUoOMuyQ1yLhLUoOMuyQ1yLhLUoOMuyQ1yLhLUoOMuyQ1aGjck2xP8rMkJ5IcT7LYrX8jyXKSp7rX7r5zvpqkl+T5JJ+5kn8ASdK7jfLrB84DX6mqJ5N8BDiW5PFu33eq6l/6D05yE3AX8Angr4H/TvJ3VXVhIweXJK1u6JV7VZ2uqie77deBZ4HL/Yq8PcAjVfVmVf0e6AE3b8SwkqTRrOmee5IdwCeBX3VL9yV5OsnDSa7t1maBk32nnWLA/wyS7EuylGRpZWVl7ZNLklY1ctyTfBj4MfDlqnoNeBD4GLALOA18ay3fuKoOVtV8Vc3PzMys5VRJ0hAjxT3JB7gY9h9W1U8AqupMVV2oqreA7/H2rZdlYHvf6Td0a5Kkq2SUp2UCPAQ8W1Xf7lu/vu+wzwHPdNuHgbuSfDDJjcBO4NcbN7IkaZhRnpb5NPB54DdJnurWvgbcnWQXUMCLwJcAqup4kkeBE1x80uZen5SRpKtraNyr6hdABuw6cplzHgAeGGMuSdIY/AlVSWqQcZekBhl3SWqQcZekBhl3SWqQcZekBhl3SWqQcZekBhl3SWqQcZekBhl3SWqQcZekBhl3SWqQcZekBhl3SWqQcZekBhl3SWqQcZekBhl3SWqQcZekBhl3SWqQcZekBhl3SWqQcZekBhl3SWqQcZekBhl3SWqQcZekBhl3SWqQcZekBhl3SWqQcZekBhl3SWrQ0Lgn2Z7kZ0lOJDmeZLFbvy7J40l+171f260nyXeT9JI8neRTV/oPIUn6/0a5cj8PfKWqbgJuAe5NchNwP3C0qnYCR7vPAJ8FdnavfcCDGz61JOmyhsa9qk5X1ZPd9uvAs8AssAc41B12CLij294D/KAu+iXw0STXb/TgkqTVremee5IdwCeBXwHbqup0t+tlYFu3PQuc7DvtVLf2zq+1L8lSkqWVlZW1zi1JuoyR457kw8CPgS9X1Wv9+6qqgFrLN66qg1U1X1XzMzMzazlVkjTESHFP8gEuhv2HVfWTbvnMpdst3fvZbn0Z2N53+g3dmiTpKhnlaZkADwHPVtW3+3YdBvZ223uBx/rWv9A9NXML8Grf7RtJ0lWweYRjPg18HvhNkqe6ta8B3wQeTXIP8BJwZ7fvCLAb6AHngC9u5MCSpOGGxr2qfgFkld23DTi+gHvHnEuSNAZ/QlWSGmTcJalBxl2SGmTcJalBxl2SGjTKo5DvCwcOHKDX6016DE2ZS/9OLC4uTngSTZu5uTkWFhYmPcaqjHun1+vx1DPPcuFD1016FE2Ra/508bdqHHvhzIQn0TTZdO6VSY8wlHHvc+FD1/HGx3dPegxJU27Lc0cmPcJQ3nOXpAYZd0lqkHGXpAYZd0lqkHGXpAYZd0lqkHGXpAYZd0lqkHGXpAYZd0lqkHGXpAYZd0lqkHGXpAYZd0lqkHGXpAYZd0lqkHGXpAYZd0lqkHGXpAYZd0lqkHGXpAYZd0lqkHGXpAYZd0lqkHGXpAYNjXuSh5OcTfJM39o3kiwneap77e7b99UkvSTPJ/nMlRpckrS6Ua7cvw/cPmD9O1W1q3sdAUhyE3AX8InunH9NsmmjhpUkjWZo3Kvq58ArI369PcAjVfVmVf0e6AE3jzGfJGkdxrnnfl+Sp7vbNtd2a7PAyb5jTnVr75JkX5KlJEsrKytjjCFJeqf1xv1B4GPALuA08K21foGqOlhV81U1PzMzs84xJEmDrCvuVXWmqi5U1VvA93j71ssysL3v0Bu6NUnSVbSuuCe5vu/j54BLT9IcBu5K8sEkNwI7gV+PN6Ikaa02DzsgyY+AW4GtSU4BXwduTbILKOBF4EsAVXU8yaPACeA8cG9VXbgik0uSVjU07lV194Dlhy5z/APAA+MMNQnLy8tsOvcqW547MulRJE25Tef+yPLy+UmPcVn+hKokNWjolfv7xezsLC+/uZk3Pr57+MGS3te2PHeE2dltkx7jsrxyl6QGGXdJapBxl6QGGXdJapBxl6QGGXdJapBxl6QGGXdJapBxl6QGGXdJapBxl6QGGXdJapBxl6QGGXdJapBxl6QGGXdJapBxl6QGGXdJapBxl6QGGXdJapBxl6QGGXdJapBxl6QGGXdJapBxl6QGGXdJapBxl6QGGXdJapBxl6QGGXdJapBxl6QGDY17koeTnE3yTN/adUkeT/K77v3abj1Jvpukl+TpJJ+6ksNLkgYb5cr9+8Dt71i7HzhaVTuBo91ngM8CO7vXPuDBjRlTkrQWQ+NeVT8HXnnH8h7gULd9CLijb/0HddEvgY8muX6DZpUkjWi999y3VdXpbvtlYFu3PQuc7DvuVLf2Lkn2JVlKsrSysrLOMSRJg4z9F6pVVUCt47yDVTVfVfMzMzPjjiFJ6rPeuJ+5dLulez/brS8D2/uOu6FbkyRdReuN+2Fgb7e9F3isb/0L3VMztwCv9t2+kSRdJZuHHZDkR8CtwNYkp4CvA98EHk1yD/AScGd3+BFgN9ADzgFfvAIzXzGbzr3ClueOTHoMTZFr/vc1AN7687+c8CSaJpvOvcLbf9U4nYbGvaruXmXXbQOOLeDecYeahLm5uUmPoCnU670OwNzfTvd/yLratk19M4bG/f1iYWFh0iNoCi0uLgKwf//+CU8irY2/fkCSGmTcJalBxl2SGmTcJalBxl2SGmTcJalBxl2SGmTcJalBxl2SGmTcJalBxl2SGmTcJalBxl2SGmTcJalBxl2SGmTcJalBxl2SGmTcJalBxl2SGmTcJalBxl2SGmTcJalBxl2SGmTcJalBxl2SGmTcJalBxl2SGmTcJalBxl2SGmTcJalBxl2SGmTcJalBm8c5OcmLwOvABeB8Vc0nuQ74d2AH8CJwZ1X9z3hjSpLWYiOu3P+xqnZV1Xz3+X7gaFXtBI52nyVJV9GVuC2zBzjUbR8C7rgC30OSdBnjxr2A/0pyLMm+bm1bVZ3utl8Gtg06Mcm+JEtJllZWVsYcQ5LUb6x77sA/VNVykr8CHk/yXP/OqqokNejEqjoIHASYn58feIwkaX3GunKvquXu/SzwU+Bm4EyS6wG697PjDilJWpt1xz3JXyT5yKVt4J+BZ4DDwN7usL3AY+MOKUlam3Fuy2wDfprk0tf5t6r6jyRPAI8muQd4Cbhz/DElSWux7rhX1QvA3w9Y/yNw2zhDSZLG40+oSlKDjLskNci4S1KDjLskNci4S1KDjLskNci4S1KDjLskNci4S1KDxv2tkGrQgQMH6PV6kx5jKlz657C4uDjhSabD3NwcCwsLkx5DIzDu0mVs2bJl0iNI62Lc9S5emUnvfd5zl6QGGXdJapBxl6QGGXdJapBxl6QGGXdJapBxl6QGGXdJalCqatIzkGQFeGnSc0ir2Ar8YdJDSAP8TVXNDNoxFXGXplmSpaqan/Qc0lp4W0aSGmTcJalBxl0a7uCkB5DWynvuktQgr9wlqUHGXZIaZNylVSS5PcnzSXpJ7p/0PNJaeM9dGiDJJuC3wD8Bp4AngLur6sREB5NG5JW7NNjNQK+qXqiqPwGPAHsmPJM0MuMuDTYLnOz7fKpbk94TjLskNci4S4MtA9v7Pt/QrUnvCcZdGuwJYGeSG5P8GXAXcHjCM0kj2zzpAaRpVFXnk9wH/CewCXi4qo5PeCxpZD4KKUkN8raMJDXIuEtSg4y7JDXIuEtSg4y7JDXIuEtSg4y7JDXo/wC6QKoDEs2a9QAAAABJRU5ErkJggg==\n",
       "datasetInfos": [],
       "metadata": {},
       "removedWidgets": [],
       "type": "image"
      }
     },
     "output_type": "display_data"
    }
   ],
   "source": [
    "sns.boxplot(data=df1['Item_MRP'])"
   ]
  },
  {
   "cell_type": "code",
   "execution_count": 0,
   "metadata": {
    "application/vnd.databricks.v1+cell": {
     "cellMetadata": {},
     "inputWidgets": {},
     "nuid": "ad0a4067-57d9-4c83-a6cb-2757fa5b330d",
     "showTitle": false,
     "title": ""
    }
   },
   "outputs": [
    {
     "data": {
      "text/plain": [
       "/databricks/python/lib/python3.9/site-packages/seaborn/_decorators.py:36: FutureWarning: Pass the following variable as a keyword arg: x. From version 0.12, the only valid positional argument will be `data`, and passing other arguments without an explicit keyword will result in an error or misinterpretation.\n",
       "  warnings.warn(\n",
       "Out[61]: <AxesSubplot:xlabel='Item_Outlet_Sales'>"
      ]
     },
     "metadata": {
      "application/vnd.databricks.v1+output": {
       "addedWidgets": {},
       "arguments": {},
       "data": "/databricks/python/lib/python3.9/site-packages/seaborn/_decorators.py:36: FutureWarning: Pass the following variable as a keyword arg: x. From version 0.12, the only valid positional argument will be `data`, and passing other arguments without an explicit keyword will result in an error or misinterpretation.\n  warnings.warn(\nOut[61]: <AxesSubplot:xlabel='Item_Outlet_Sales'>",
       "datasetInfos": [],
       "metadata": {},
       "removedWidgets": [],
       "type": "ansi"
      }
     },
     "output_type": "display_data"
    },
    {
     "data": {
      "image/png": "[encoded data removed]"
     },
     "metadata": {
      "application/vnd.databricks.v1+output": {
       "addedWidgets": {},
       "arguments": {},
       "data": "data:image/png;base64,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\n",
       "datasetInfos": [],
       "metadata": {},
       "removedWidgets": [],
       "type": "image"
      }
     },
     "output_type": "display_data"
    }
   ],
   "source": [
    "#AS YOU CAN SEE THERE ARE OUTLIERS IN THIS COLUMNS\n",
    "sns.boxplot(df1['Item_Outlet_Sales'])\n",
    "# BUT WE WILL NOT REMOVE THIS.BEACUSE OUTLET SALES CAN BE 12000 OR MORE IN SOME MONTHS."
   ]
  },
  {
   "cell_type": "code",
   "execution_count": 3,
   "metadata": {
    "application/vnd.databricks.v1+cell": {
     "cellMetadata": {},
     "inputWidgets": {},
     "nuid": "203ea347-a076-46f4-8f56-9a742d60667b",
     "showTitle": false,
     "title": ""
    }
   },
   "outputs": [],
   "source": [
    "def visualize_sales(column_name):\n",
    "    result=df.groupby(column_name).sum()\n",
    "    y=df[column_name].unique()\n",
    "    plt.bar(y,result['Item_Outlet_Sales'])\n",
    "    plt.xticks(y)\n",
    "    labels,location=plt.yticks() \n",
    "    plt.yticks(labels, (labels/1000000).astype(int)) #Scating tn mébtton Use\n",
    "    plt.ylabel(\"Sales in milion usd\")\n",
    "    plt.xlabel(column_name,)\n",
    "    plt.show()\n"
   ]
  },
  {
   "cell_type": "code",
   "execution_count": 4,
   "metadata": {
    "application/vnd.databricks.v1+cell": {
     "cellMetadata": {},
     "inputWidgets": {},
     "nuid": "9f848b9a-48d2-4851-abe9-db3a10ab0b23",
     "showTitle": false,
     "title": ""
    }
   },
   "outputs": [
    {
     "ename": "NameError",
     "evalue": "name 'df' is not defined",
     "output_type": "error",
     "traceback": [
      "\u001b[1;31m---------------------------------------------------------------------------\u001b[0m",
      "\u001b[1;31mNameError\u001b[0m                                 Traceback (most recent call last)",
      "Input \u001b[1;32mIn [4]\u001b[0m, in \u001b[0;36m<cell line: 1>\u001b[1;34m()\u001b[0m\n\u001b[1;32m----> 1\u001b[0m \u001b[43mvisualize_sales\u001b[49m\u001b[43m(\u001b[49m\u001b[43mcolumn_name\u001b[49m\u001b[38;5;241;43m=\u001b[39;49m\u001b[38;5;124;43m'\u001b[39;49m\u001b[38;5;124;43mOutlet_Establishment_Year\u001b[39;49m\u001b[38;5;124;43m'\u001b[39;49m\u001b[43m)\u001b[49m\n",
      "Input \u001b[1;32mIn [3]\u001b[0m, in \u001b[0;36mvisualize_sales\u001b[1;34m(column_name)\u001b[0m\n\u001b[0;32m      1\u001b[0m \u001b[38;5;28;01mdef\u001b[39;00m \u001b[38;5;21mvisualize_sales\u001b[39m(column_name):\n\u001b[1;32m----> 2\u001b[0m     result\u001b[38;5;241m=\u001b[39m\u001b[43mdf\u001b[49m\u001b[38;5;241m.\u001b[39mgroupby(column_name)\u001b[38;5;241m.\u001b[39msum()\n\u001b[0;32m      3\u001b[0m     y\u001b[38;5;241m=\u001b[39mdf[column_name]\u001b[38;5;241m.\u001b[39munique()\n\u001b[0;32m      4\u001b[0m     plt\u001b[38;5;241m.\u001b[39mbar(y,result[\u001b[38;5;124m'\u001b[39m\u001b[38;5;124mItem_Outlet_Sales\u001b[39m\u001b[38;5;124m'\u001b[39m])\n",
      "\u001b[1;31mNameError\u001b[0m: name 'df' is not defined"
     ]
    }
   ],
   "source": [
    "visualize_sales(column_name='Outlet_Establishment_Year')"
   ]
  },
  {
   "cell_type": "code",
   "execution_count": 0,
   "metadata": {
    "application/vnd.databricks.v1+cell": {
     "cellMetadata": {},
     "inputWidgets": {},
     "nuid": "a181acc9-bb59-48d3-9b05-65f267642641",
     "showTitle": false,
     "title": ""
    }
   },
   "outputs": [
    {
     "data": {
      "image/png": "[encoded data removed]"
     },
     "metadata": {
      "application/vnd.databricks.v1+output": {
       "addedWidgets": {},
       "arguments": {},
       "data": "data:image/png;base64,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\n",
       "datasetInfos": [],
       "metadata": {},
       "removedWidgets": [],
       "type": "image"
      }
     },
     "output_type": "display_data"
    }
   ],
   "source": [
    "visualize_sales(column_name='Outlet_Type')"
   ]
  },
  {
   "cell_type": "code",
   "execution_count": 0,
   "metadata": {
    "application/vnd.databricks.v1+cell": {
     "cellMetadata": {},
     "inputWidgets": {},
     "nuid": "e65755f3-f211-453c-acdc-ec492e40e6ed",
     "showTitle": false,
     "title": ""
    }
   },
   "outputs": [
    {
     "data": {
      "image/png": "[encoded data removed]"
     },
     "metadata": {
      "application/vnd.databricks.v1+output": {
       "addedWidgets": {},
       "arguments": {},
       "data": "data:image/png;base64,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\n",
       "datasetInfos": [],
       "metadata": {},
       "removedWidgets": [],
       "type": "image"
      }
     },
     "output_type": "display_data"
    }
   ],
   "source": [
    "visualize_sales(column_name='Item_Fat_Content')"
   ]
  },
  {
   "cell_type": "code",
   "execution_count": 0,
   "metadata": {
    "application/vnd.databricks.v1+cell": {
     "cellMetadata": {},
     "inputWidgets": {},
     "nuid": "9a1ca066-28ac-4256-9ac6-8fd19aa34ab2",
     "showTitle": false,
     "title": ""
    }
   },
   "outputs": [],
   "source": [
    "final_data=df1"
   ]
  },
  {
   "cell_type": "code",
   "execution_count": 0,
   "metadata": {
    "application/vnd.databricks.v1+cell": {
     "cellMetadata": {},
     "inputWidgets": {},
     "nuid": "cbd1ad7e-ab57-49ee-9cbd-a04efac4e9ae",
     "showTitle": false,
     "title": ""
    }
   },
   "outputs": [
    {
     "data": {
      "text/html": [
       "<div>\n",
       "<style scoped>\n",
       "    .dataframe tbody tr th:only-of-type {\n",
       "        vertical-align: middle;\n",
       "    }\n",
       "\n",
       "    .dataframe tbody tr th {\n",
       "        vertical-align: top;\n",
       "    }\n",
       "\n",
       "    .dataframe thead th {\n",
       "        text-align: right;\n",
       "    }\n",
       "</style>\n",
       "<table border=\"1\" class=\"dataframe\">\n",
       "  <thead>\n",
       "    <tr style=\"text-align: right;\">\n",
       "      <th></th>\n",
       "      <th>Item_Identifier</th>\n",
       "      <th>Item_Weight</th>\n",
       "      <th>Item_Fat_Content</th>\n",
       "      <th>Item_Visibility</th>\n",
       "      <th>Item_Type</th>\n",
       "      <th>Item_MRP</th>\n",
       "      <th>Outlet_Identifier</th>\n",
       "      <th>Outlet_Establishment_Year</th>\n",
       "      <th>Outlet_Size</th>\n",
       "      <th>Outlet_Location_Type</th>\n",
       "      <th>Outlet_Type</th>\n",
       "      <th>Item_Outlet_Sales</th>\n",
       "    </tr>\n",
       "  </thead>\n",
       "  <tbody>\n",
       "    <tr>\n",
       "      <th>0</th>\n",
       "      <td>FDA15</td>\n",
       "      <td>9.3</td>\n",
       "      <td>LOW FAT</td>\n",
       "      <td>0.016047301</td>\n",
       "      <td>Dairy</td>\n",
       "      <td>249.8092</td>\n",
       "      <td>OUT049</td>\n",
       "      <td>1999</td>\n",
       "      <td>Medium</td>\n",
       "      <td>Tier 1</td>\n",
       "      <td>Supermarket Type1</td>\n",
       "      <td>3735</td>\n",
       "    </tr>\n",
       "    <tr>\n",
       "      <th>1</th>\n",
       "      <td>DRC01</td>\n",
       "      <td>5.92</td>\n",
       "      <td>REGULAR</td>\n",
       "      <td>0.019278216</td>\n",
       "      <td>Soft Drinks</td>\n",
       "      <td>48.2692</td>\n",
       "      <td>OUT018</td>\n",
       "      <td>2009</td>\n",
       "      <td>Medium</td>\n",
       "      <td>Tier 3</td>\n",
       "      <td>Supermarket Type2</td>\n",
       "      <td>443</td>\n",
       "    </tr>\n",
       "    <tr>\n",
       "      <th>2</th>\n",
       "      <td>FDN15</td>\n",
       "      <td>17.5</td>\n",
       "      <td>LOW FAT</td>\n",
       "      <td>0.016760075</td>\n",
       "      <td>Meat</td>\n",
       "      <td>141.618</td>\n",
       "      <td>OUT049</td>\n",
       "      <td>1999</td>\n",
       "      <td>Medium</td>\n",
       "      <td>Tier 1</td>\n",
       "      <td>Supermarket Type1</td>\n",
       "      <td>2097</td>\n",
       "    </tr>\n",
       "    <tr>\n",
       "      <th>3</th>\n",
       "      <td>FDX07</td>\n",
       "      <td>19.2</td>\n",
       "      <td>REGULAR</td>\n",
       "      <td>0</td>\n",
       "      <td>Fruits and Vegetables</td>\n",
       "      <td>182.095</td>\n",
       "      <td>OUT010</td>\n",
       "      <td>1998</td>\n",
       "      <td>None</td>\n",
       "      <td>Tier 3</td>\n",
       "      <td>Grocery Store</td>\n",
       "      <td>732</td>\n",
       "    </tr>\n",
       "    <tr>\n",
       "      <th>4</th>\n",
       "      <td>NCD19</td>\n",
       "      <td>8.93</td>\n",
       "      <td>LOW FAT</td>\n",
       "      <td>0</td>\n",
       "      <td>Household</td>\n",
       "      <td>53.8614</td>\n",
       "      <td>OUT013</td>\n",
       "      <td>1987</td>\n",
       "      <td>High</td>\n",
       "      <td>Tier 3</td>\n",
       "      <td>Supermarket Type1</td>\n",
       "      <td>994</td>\n",
       "    </tr>\n",
       "  </tbody>\n",
       "</table>\n",
       "</div>"
      ]
     },
     "metadata": {
      "application/vnd.databricks.v1+output": {
       "addedWidgets": {},
       "arguments": {},
       "data": "<div>\n<style scoped>\n    .dataframe tbody tr th:only-of-type {\n        vertical-align: middle;\n    }\n\n    .dataframe tbody tr th {\n        vertical-align: top;\n    }\n\n    .dataframe thead th {\n        text-align: right;\n    }\n</style>\n<table border=\"1\" class=\"dataframe\">\n  <thead>\n    <tr style=\"text-align: right;\">\n      <th></th>\n      <th>Item_Identifier</th>\n      <th>Item_Weight</th>\n      <th>Item_Fat_Content</th>\n      <th>Item_Visibility</th>\n      <th>Item_Type</th>\n      <th>Item_MRP</th>\n      <th>Outlet_Identifier</th>\n      <th>Outlet_Establishment_Year</th>\n      <th>Outlet_Size</th>\n      <th>Outlet_Location_Type</th>\n      <th>Outlet_Type</th>\n      <th>Item_Outlet_Sales</th>\n    </tr>\n  </thead>\n  <tbody>\n    <tr>\n      <th>0</th>\n      <td>FDA15</td>\n      <td>9.3</td>\n      <td>LOW FAT</td>\n      <td>0.016047301</td>\n      <td>Dairy</td>\n      <td>249.8092</td>\n      <td>OUT049</td>\n      <td>1999</td>\n      <td>Medium</td>\n      <td>Tier 1</td>\n      <td>Supermarket Type1</td>\n      <td>3735</td>\n    </tr>\n    <tr>\n      <th>1</th>\n      <td>DRC01</td>\n      <td>5.92</td>\n      <td>REGULAR</td>\n      <td>0.019278216</td>\n      <td>Soft Drinks</td>\n      <td>48.2692</td>\n      <td>OUT018</td>\n      <td>2009</td>\n      <td>Medium</td>\n      <td>Tier 3</td>\n      <td>Supermarket Type2</td>\n      <td>443</td>\n    </tr>\n    <tr>\n      <th>2</th>\n      <td>FDN15</td>\n      <td>17.5</td>\n      <td>LOW FAT</td>\n      <td>0.016760075</td>\n      <td>Meat</td>\n      <td>141.618</td>\n      <td>OUT049</td>\n      <td>1999</td>\n      <td>Medium</td>\n      <td>Tier 1</td>\n      <td>Supermarket Type1</td>\n      <td>2097</td>\n    </tr>\n    <tr>\n      <th>3</th>\n      <td>FDX07</td>\n      <td>19.2</td>\n      <td>REGULAR</td>\n      <td>0</td>\n      <td>Fruits and Vegetables</td>\n      <td>182.095</td>\n      <td>OUT010</td>\n      <td>1998</td>\n      <td>None</td>\n      <td>Tier 3</td>\n      <td>Grocery Store</td>\n      <td>732</td>\n    </tr>\n    <tr>\n      <th>4</th>\n      <td>NCD19</td>\n      <td>8.93</td>\n      <td>LOW FAT</td>\n      <td>0</td>\n      <td>Household</td>\n      <td>53.8614</td>\n      <td>OUT013</td>\n      <td>1987</td>\n      <td>High</td>\n      <td>Tier 3</td>\n      <td>Supermarket Type1</td>\n      <td>994</td>\n    </tr>\n  </tbody>\n</table>\n</div>",
       "datasetInfos": [],
       "metadata": {},
       "removedWidgets": [],
       "textData": null,
       "type": "htmlSandbox"
      }
     },
     "output_type": "display_data"
    }
   ],
   "source": [
    "final_data.head(5)"
   ]
  },
  {
   "cell_type": "code",
   "execution_count": 0,
   "metadata": {
    "application/vnd.databricks.v1+cell": {
     "cellMetadata": {},
     "inputWidgets": {},
     "nuid": "0b3f3529-48a7-4ff4-aad3-e2cbe0cf5b63",
     "showTitle": false,
     "title": ""
    }
   },
   "outputs": [],
   "source": [
    "final_data['Item_Outlet_Sales']=final_data['Item_Outlet_Sales'].astype('float')"
   ]
  },
  {
   "cell_type": "code",
   "execution_count": 0,
   "metadata": {
    "application/vnd.databricks.v1+cell": {
     "cellMetadata": {},
     "inputWidgets": {},
     "nuid": "29ec468b-acc1-4c7c-a6e0-bdd885cfeef9",
     "showTitle": false,
     "title": ""
    }
   },
   "outputs": [],
   "source": [
    "final_data['Item_Outlet_Sales']=final_data['Item_Outlet_Sales'].astype('int')"
   ]
  },
  {
   "cell_type": "code",
   "execution_count": 0,
   "metadata": {
    "application/vnd.databricks.v1+cell": {
     "cellMetadata": {},
     "inputWidgets": {},
     "nuid": "074d4bdc-4469-4384-b22f-df9f8577505b",
     "showTitle": false,
     "title": ""
    }
   },
   "outputs": [
    {
     "data": {
      "text/html": [
       "<div>\n",
       "<style scoped>\n",
       "    .dataframe tbody tr th:only-of-type {\n",
       "        vertical-align: middle;\n",
       "    }\n",
       "\n",
       "    .dataframe tbody tr th {\n",
       "        vertical-align: top;\n",
       "    }\n",
       "\n",
       "    .dataframe thead th {\n",
       "        text-align: right;\n",
       "    }\n",
       "</style>\n",
       "<table border=\"1\" class=\"dataframe\">\n",
       "  <thead>\n",
       "    <tr style=\"text-align: right;\">\n",
       "      <th></th>\n",
       "      <th>Item_Identifier</th>\n",
       "      <th>Item_Weight</th>\n",
       "      <th>Item_Fat_Content</th>\n",
       "      <th>Item_Visibility</th>\n",
       "      <th>Item_Type</th>\n",
       "      <th>Item_MRP</th>\n",
       "      <th>Outlet_Identifier</th>\n",
       "      <th>Outlet_Establishment_Year</th>\n",
       "      <th>Outlet_Size</th>\n",
       "      <th>Outlet_Location_Type</th>\n",
       "      <th>Outlet_Type</th>\n",
       "      <th>Item_Outlet_Sales</th>\n",
       "    </tr>\n",
       "  </thead>\n",
       "  <tbody>\n",
       "    <tr>\n",
       "      <th>0</th>\n",
       "      <td>FDA15</td>\n",
       "      <td>9.3</td>\n",
       "      <td>LOW FAT</td>\n",
       "      <td>0.016047301</td>\n",
       "      <td>Dairy</td>\n",
       "      <td>249.8092</td>\n",
       "      <td>OUT049</td>\n",
       "      <td>1999</td>\n",
       "      <td>Medium</td>\n",
       "      <td>Tier 1</td>\n",
       "      <td>Supermarket Type1</td>\n",
       "      <td>3735</td>\n",
       "    </tr>\n",
       "    <tr>\n",
       "      <th>1</th>\n",
       "      <td>DRC01</td>\n",
       "      <td>5.92</td>\n",
       "      <td>REGULAR</td>\n",
       "      <td>0.019278216</td>\n",
       "      <td>Soft Drinks</td>\n",
       "      <td>48.2692</td>\n",
       "      <td>OUT018</td>\n",
       "      <td>2009</td>\n",
       "      <td>Medium</td>\n",
       "      <td>Tier 3</td>\n",
       "      <td>Supermarket Type2</td>\n",
       "      <td>443</td>\n",
       "    </tr>\n",
       "    <tr>\n",
       "      <th>2</th>\n",
       "      <td>FDN15</td>\n",
       "      <td>17.5</td>\n",
       "      <td>LOW FAT</td>\n",
       "      <td>0.016760075</td>\n",
       "      <td>Meat</td>\n",
       "      <td>141.618</td>\n",
       "      <td>OUT049</td>\n",
       "      <td>1999</td>\n",
       "      <td>Medium</td>\n",
       "      <td>Tier 1</td>\n",
       "      <td>Supermarket Type1</td>\n",
       "      <td>2097</td>\n",
       "    </tr>\n",
       "    <tr>\n",
       "      <th>3</th>\n",
       "      <td>FDX07</td>\n",
       "      <td>19.2</td>\n",
       "      <td>REGULAR</td>\n",
       "      <td>0</td>\n",
       "      <td>Fruits and Vegetables</td>\n",
       "      <td>182.095</td>\n",
       "      <td>OUT010</td>\n",
       "      <td>1998</td>\n",
       "      <td>None</td>\n",
       "      <td>Tier 3</td>\n",
       "      <td>Grocery Store</td>\n",
       "      <td>732</td>\n",
       "    </tr>\n",
       "    <tr>\n",
       "      <th>4</th>\n",
       "      <td>NCD19</td>\n",
       "      <td>8.93</td>\n",
       "      <td>LOW FAT</td>\n",
       "      <td>0</td>\n",
       "      <td>Household</td>\n",
       "      <td>53.8614</td>\n",
       "      <td>OUT013</td>\n",
       "      <td>1987</td>\n",
       "      <td>High</td>\n",
       "      <td>Tier 3</td>\n",
       "      <td>Supermarket Type1</td>\n",
       "      <td>994</td>\n",
       "    </tr>\n",
       "  </tbody>\n",
       "</table>\n",
       "</div>"
      ]
     },
     "metadata": {
      "application/vnd.databricks.v1+output": {
       "addedWidgets": {},
       "arguments": {},
       "data": "<div>\n<style scoped>\n    .dataframe tbody tr th:only-of-type {\n        vertical-align: middle;\n    }\n\n    .dataframe tbody tr th {\n        vertical-align: top;\n    }\n\n    .dataframe thead th {\n        text-align: right;\n    }\n</style>\n<table border=\"1\" class=\"dataframe\">\n  <thead>\n    <tr style=\"text-align: right;\">\n      <th></th>\n      <th>Item_Identifier</th>\n      <th>Item_Weight</th>\n      <th>Item_Fat_Content</th>\n      <th>Item_Visibility</th>\n      <th>Item_Type</th>\n      <th>Item_MRP</th>\n      <th>Outlet_Identifier</th>\n      <th>Outlet_Establishment_Year</th>\n      <th>Outlet_Size</th>\n      <th>Outlet_Location_Type</th>\n      <th>Outlet_Type</th>\n      <th>Item_Outlet_Sales</th>\n    </tr>\n  </thead>\n  <tbody>\n    <tr>\n      <th>0</th>\n      <td>FDA15</td>\n      <td>9.3</td>\n      <td>LOW FAT</td>\n      <td>0.016047301</td>\n      <td>Dairy</td>\n      <td>249.8092</td>\n      <td>OUT049</td>\n      <td>1999</td>\n      <td>Medium</td>\n      <td>Tier 1</td>\n      <td>Supermarket Type1</td>\n      <td>3735</td>\n    </tr>\n    <tr>\n      <th>1</th>\n      <td>DRC01</td>\n      <td>5.92</td>\n      <td>REGULAR</td>\n      <td>0.019278216</td>\n      <td>Soft Drinks</td>\n      <td>48.2692</td>\n      <td>OUT018</td>\n      <td>2009</td>\n      <td>Medium</td>\n      <td>Tier 3</td>\n      <td>Supermarket Type2</td>\n      <td>443</td>\n    </tr>\n    <tr>\n      <th>2</th>\n      <td>FDN15</td>\n      <td>17.5</td>\n      <td>LOW FAT</td>\n      <td>0.016760075</td>\n      <td>Meat</td>\n      <td>141.618</td>\n      <td>OUT049</td>\n      <td>1999</td>\n      <td>Medium</td>\n      <td>Tier 1</td>\n      <td>Supermarket Type1</td>\n      <td>2097</td>\n    </tr>\n    <tr>\n      <th>3</th>\n      <td>FDX07</td>\n      <td>19.2</td>\n      <td>REGULAR</td>\n      <td>0</td>\n      <td>Fruits and Vegetables</td>\n      <td>182.095</td>\n      <td>OUT010</td>\n      <td>1998</td>\n      <td>None</td>\n      <td>Tier 3</td>\n      <td>Grocery Store</td>\n      <td>732</td>\n    </tr>\n    <tr>\n      <th>4</th>\n      <td>NCD19</td>\n      <td>8.93</td>\n      <td>LOW FAT</td>\n      <td>0</td>\n      <td>Household</td>\n      <td>53.8614</td>\n      <td>OUT013</td>\n      <td>1987</td>\n      <td>High</td>\n      <td>Tier 3</td>\n      <td>Supermarket Type1</td>\n      <td>994</td>\n    </tr>\n  </tbody>\n</table>\n</div>",
       "datasetInfos": [],
       "metadata": {},
       "removedWidgets": [],
       "textData": null,
       "type": "htmlSandbox"
      }
     },
     "output_type": "display_data"
    }
   ],
   "source": [
    "final_data.head(5)"
   ]
  },
  {
   "cell_type": "code",
   "execution_count": 0,
   "metadata": {
    "application/vnd.databricks.v1+cell": {
     "cellMetadata": {},
     "inputWidgets": {},
     "nuid": "6f90e1a4-962c-451b-a7ab-9baa4e61aa90",
     "showTitle": false,
     "title": ""
    }
   },
   "outputs": [
    {
     "data": {
      "text/plain": [
       "Out[71]: Index(['Item_Identifier', 'Item_Weight', 'Item_Fat_Content', 'Item_Visibility',\n",
       "       'Item_Type', 'Item_MRP', 'Outlet_Identifier',\n",
       "       'Outlet_Establishment_Year', 'Outlet_Size', 'Outlet_Location_Type',\n",
       "       'Outlet_Type', 'Item_Outlet_Sales'],\n",
       "      dtype='object')"
      ]
     },
     "metadata": {
      "application/vnd.databricks.v1+output": {
       "addedWidgets": {},
       "arguments": {},
       "data": "Out[71]: Index(['Item_Identifier', 'Item_Weight', 'Item_Fat_Content', 'Item_Visibility',\n       'Item_Type', 'Item_MRP', 'Outlet_Identifier',\n       'Outlet_Establishment_Year', 'Outlet_Size', 'Outlet_Location_Type',\n       'Outlet_Type', 'Item_Outlet_Sales'],\n      dtype='object')",
       "datasetInfos": [],
       "metadata": {},
       "removedWidgets": [],
       "type": "ansi"
      }
     },
     "output_type": "display_data"
    }
   ],
   "source": [
    "final_data.columns"
   ]
  },
  {
   "cell_type": "markdown",
   "metadata": {
    "application/vnd.databricks.v1+cell": {
     "cellMetadata": {},
     "inputWidgets": {},
     "nuid": "e38bb5cb-583d-498c-a569-9dc16aa0f3c4",
     "showTitle": false,
     "title": ""
    }
   },
   "source": [
    "## CONVERT CATEGORICAL INTO 0 OR 1"
   ]
  },
  {
   "cell_type": "code",
   "execution_count": 0,
   "metadata": {
    "application/vnd.databricks.v1+cell": {
     "cellMetadata": {},
     "inputWidgets": {},
     "nuid": "a0c01bd1-9999-4063-a19f-55083bf0af52",
     "showTitle": false,
     "title": ""
    }
   },
   "outputs": [
    {
     "data": {
      "text/html": [
       "<div>\n",
       "<style scoped>\n",
       "    .dataframe tbody tr th:only-of-type {\n",
       "        vertical-align: middle;\n",
       "    }\n",
       "\n",
       "    .dataframe tbody tr th {\n",
       "        vertical-align: top;\n",
       "    }\n",
       "\n",
       "    .dataframe thead th {\n",
       "        text-align: right;\n",
       "    }\n",
       "</style>\n",
       "<table border=\"1\" class=\"dataframe\">\n",
       "  <thead>\n",
       "    <tr style=\"text-align: right;\">\n",
       "      <th></th>\n",
       "      <th>Item_Identifier</th>\n",
       "      <th>Item_Weight</th>\n",
       "      <th>Item_Fat_Content</th>\n",
       "      <th>Item_Visibility</th>\n",
       "      <th>Item_Type</th>\n",
       "      <th>Item_MRP</th>\n",
       "      <th>Outlet_Identifier</th>\n",
       "      <th>Outlet_Establishment_Year</th>\n",
       "      <th>Outlet_Size</th>\n",
       "      <th>Outlet_Location_Type</th>\n",
       "      <th>Outlet_Type</th>\n",
       "      <th>Item_Outlet_Sales</th>\n",
       "    </tr>\n",
       "  </thead>\n",
       "  <tbody>\n",
       "    <tr>\n",
       "      <th>0</th>\n",
       "      <td>FDA15</td>\n",
       "      <td>9.3</td>\n",
       "      <td>LOW FAT</td>\n",
       "      <td>0.016047301</td>\n",
       "      <td>Dairy</td>\n",
       "      <td>249.8092</td>\n",
       "      <td>OUT049</td>\n",
       "      <td>1999</td>\n",
       "      <td>Medium</td>\n",
       "      <td>Tier 1</td>\n",
       "      <td>Supermarket Type1</td>\n",
       "      <td>3735</td>\n",
       "    </tr>\n",
       "    <tr>\n",
       "      <th>1</th>\n",
       "      <td>DRC01</td>\n",
       "      <td>5.92</td>\n",
       "      <td>REGULAR</td>\n",
       "      <td>0.019278216</td>\n",
       "      <td>Soft Drinks</td>\n",
       "      <td>48.2692</td>\n",
       "      <td>OUT018</td>\n",
       "      <td>2009</td>\n",
       "      <td>Medium</td>\n",
       "      <td>Tier 3</td>\n",
       "      <td>Supermarket Type2</td>\n",
       "      <td>443</td>\n",
       "    </tr>\n",
       "    <tr>\n",
       "      <th>2</th>\n",
       "      <td>FDN15</td>\n",
       "      <td>17.5</td>\n",
       "      <td>LOW FAT</td>\n",
       "      <td>0.016760075</td>\n",
       "      <td>Meat</td>\n",
       "      <td>141.618</td>\n",
       "      <td>OUT049</td>\n",
       "      <td>1999</td>\n",
       "      <td>Medium</td>\n",
       "      <td>Tier 1</td>\n",
       "      <td>Supermarket Type1</td>\n",
       "      <td>2097</td>\n",
       "    </tr>\n",
       "    <tr>\n",
       "      <th>3</th>\n",
       "      <td>FDX07</td>\n",
       "      <td>19.2</td>\n",
       "      <td>REGULAR</td>\n",
       "      <td>0</td>\n",
       "      <td>Fruits and Vegetables</td>\n",
       "      <td>182.095</td>\n",
       "      <td>OUT010</td>\n",
       "      <td>1998</td>\n",
       "      <td>None</td>\n",
       "      <td>Tier 3</td>\n",
       "      <td>Grocery Store</td>\n",
       "      <td>732</td>\n",
       "    </tr>\n",
       "    <tr>\n",
       "      <th>4</th>\n",
       "      <td>NCD19</td>\n",
       "      <td>8.93</td>\n",
       "      <td>LOW FAT</td>\n",
       "      <td>0</td>\n",
       "      <td>Household</td>\n",
       "      <td>53.8614</td>\n",
       "      <td>OUT013</td>\n",
       "      <td>1987</td>\n",
       "      <td>High</td>\n",
       "      <td>Tier 3</td>\n",
       "      <td>Supermarket Type1</td>\n",
       "      <td>994</td>\n",
       "    </tr>\n",
       "    <tr>\n",
       "      <th>...</th>\n",
       "      <td>...</td>\n",
       "      <td>...</td>\n",
       "      <td>...</td>\n",
       "      <td>...</td>\n",
       "      <td>...</td>\n",
       "      <td>...</td>\n",
       "      <td>...</td>\n",
       "      <td>...</td>\n",
       "      <td>...</td>\n",
       "      <td>...</td>\n",
       "      <td>...</td>\n",
       "      <td>...</td>\n",
       "    </tr>\n",
       "    <tr>\n",
       "      <th>8518</th>\n",
       "      <td>FDF22</td>\n",
       "      <td>6.865</td>\n",
       "      <td>LOW FAT</td>\n",
       "      <td>0.056783389</td>\n",
       "      <td>Snack Foods</td>\n",
       "      <td>214.5218</td>\n",
       "      <td>OUT013</td>\n",
       "      <td>1987</td>\n",
       "      <td>High</td>\n",
       "      <td>Tier 3</td>\n",
       "      <td>Supermarket Type1</td>\n",
       "      <td>2778</td>\n",
       "    </tr>\n",
       "    <tr>\n",
       "      <th>8519</th>\n",
       "      <td>FDS36</td>\n",
       "      <td>8.38</td>\n",
       "      <td>REGULAR</td>\n",
       "      <td>0.046982429</td>\n",
       "      <td>Baking Goods</td>\n",
       "      <td>108.157</td>\n",
       "      <td>OUT045</td>\n",
       "      <td>2002</td>\n",
       "      <td>None</td>\n",
       "      <td>Tier 2</td>\n",
       "      <td>Supermarket Type1</td>\n",
       "      <td>549</td>\n",
       "    </tr>\n",
       "    <tr>\n",
       "      <th>8520</th>\n",
       "      <td>NCJ29</td>\n",
       "      <td>10.6</td>\n",
       "      <td>LOW FAT</td>\n",
       "      <td>0.035186271</td>\n",
       "      <td>Health and Hygiene</td>\n",
       "      <td>85.1224</td>\n",
       "      <td>OUT035</td>\n",
       "      <td>2004</td>\n",
       "      <td>Small</td>\n",
       "      <td>Tier 2</td>\n",
       "      <td>Supermarket Type1</td>\n",
       "      <td>1193</td>\n",
       "    </tr>\n",
       "    <tr>\n",
       "      <th>8521</th>\n",
       "      <td>FDN46</td>\n",
       "      <td>7.21</td>\n",
       "      <td>REGULAR</td>\n",
       "      <td>0.145220646</td>\n",
       "      <td>Snack Foods</td>\n",
       "      <td>103.1332</td>\n",
       "      <td>OUT018</td>\n",
       "      <td>2009</td>\n",
       "      <td>Medium</td>\n",
       "      <td>Tier 3</td>\n",
       "      <td>Supermarket Type2</td>\n",
       "      <td>1845</td>\n",
       "    </tr>\n",
       "    <tr>\n",
       "      <th>8522</th>\n",
       "      <td>DRG01</td>\n",
       "      <td>14.8</td>\n",
       "      <td>LOW FAT</td>\n",
       "      <td>0.04487828</td>\n",
       "      <td>Soft Drinks</td>\n",
       "      <td>75.467</td>\n",
       "      <td>OUT046</td>\n",
       "      <td>1997</td>\n",
       "      <td>Small</td>\n",
       "      <td>Tier 1</td>\n",
       "      <td>Supermarket Type1</td>\n",
       "      <td>765</td>\n",
       "    </tr>\n",
       "  </tbody>\n",
       "</table>\n",
       "<p>8523 rows × 12 columns</p>\n",
       "</div>"
      ]
     },
     "metadata": {
      "application/vnd.databricks.v1+output": {
       "addedWidgets": {},
       "arguments": {},
       "data": "<div>\n<style scoped>\n    .dataframe tbody tr th:only-of-type {\n        vertical-align: middle;\n    }\n\n    .dataframe tbody tr th {\n        vertical-align: top;\n    }\n\n    .dataframe thead th {\n        text-align: right;\n    }\n</style>\n<table border=\"1\" class=\"dataframe\">\n  <thead>\n    <tr style=\"text-align: right;\">\n      <th></th>\n      <th>Item_Identifier</th>\n      <th>Item_Weight</th>\n      <th>Item_Fat_Content</th>\n      <th>Item_Visibility</th>\n      <th>Item_Type</th>\n      <th>Item_MRP</th>\n      <th>Outlet_Identifier</th>\n      <th>Outlet_Establishment_Year</th>\n      <th>Outlet_Size</th>\n      <th>Outlet_Location_Type</th>\n      <th>Outlet_Type</th>\n      <th>Item_Outlet_Sales</th>\n    </tr>\n  </thead>\n  <tbody>\n    <tr>\n      <th>0</th>\n      <td>FDA15</td>\n      <td>9.3</td>\n      <td>LOW FAT</td>\n      <td>0.016047301</td>\n      <td>Dairy</td>\n      <td>249.8092</td>\n      <td>OUT049</td>\n      <td>1999</td>\n      <td>Medium</td>\n      <td>Tier 1</td>\n      <td>Supermarket Type1</td>\n      <td>3735</td>\n    </tr>\n    <tr>\n      <th>1</th>\n      <td>DRC01</td>\n      <td>5.92</td>\n      <td>REGULAR</td>\n      <td>0.019278216</td>\n      <td>Soft Drinks</td>\n      <td>48.2692</td>\n      <td>OUT018</td>\n      <td>2009</td>\n      <td>Medium</td>\n      <td>Tier 3</td>\n      <td>Supermarket Type2</td>\n      <td>443</td>\n    </tr>\n    <tr>\n      <th>2</th>\n      <td>FDN15</td>\n      <td>17.5</td>\n      <td>LOW FAT</td>\n      <td>0.016760075</td>\n      <td>Meat</td>\n      <td>141.618</td>\n      <td>OUT049</td>\n      <td>1999</td>\n      <td>Medium</td>\n      <td>Tier 1</td>\n      <td>Supermarket Type1</td>\n      <td>2097</td>\n    </tr>\n    <tr>\n      <th>3</th>\n      <td>FDX07</td>\n      <td>19.2</td>\n      <td>REGULAR</td>\n      <td>0</td>\n      <td>Fruits and Vegetables</td>\n      <td>182.095</td>\n      <td>OUT010</td>\n      <td>1998</td>\n      <td>None</td>\n      <td>Tier 3</td>\n      <td>Grocery Store</td>\n      <td>732</td>\n    </tr>\n    <tr>\n      <th>4</th>\n      <td>NCD19</td>\n      <td>8.93</td>\n      <td>LOW FAT</td>\n      <td>0</td>\n      <td>Household</td>\n      <td>53.8614</td>\n      <td>OUT013</td>\n      <td>1987</td>\n      <td>High</td>\n      <td>Tier 3</td>\n      <td>Supermarket Type1</td>\n      <td>994</td>\n    </tr>\n    <tr>\n      <th>...</th>\n      <td>...</td>\n      <td>...</td>\n      <td>...</td>\n      <td>...</td>\n      <td>...</td>\n      <td>...</td>\n      <td>...</td>\n      <td>...</td>\n      <td>...</td>\n      <td>...</td>\n      <td>...</td>\n      <td>...</td>\n    </tr>\n    <tr>\n      <th>8518</th>\n      <td>FDF22</td>\n      <td>6.865</td>\n      <td>LOW FAT</td>\n      <td>0.056783389</td>\n      <td>Snack Foods</td>\n      <td>214.5218</td>\n      <td>OUT013</td>\n      <td>1987</td>\n      <td>High</td>\n      <td>Tier 3</td>\n      <td>Supermarket Type1</td>\n      <td>2778</td>\n    </tr>\n    <tr>\n      <th>8519</th>\n      <td>FDS36</td>\n      <td>8.38</td>\n      <td>REGULAR</td>\n      <td>0.046982429</td>\n      <td>Baking Goods</td>\n      <td>108.157</td>\n      <td>OUT045</td>\n      <td>2002</td>\n      <td>None</td>\n      <td>Tier 2</td>\n      <td>Supermarket Type1</td>\n      <td>549</td>\n    </tr>\n    <tr>\n      <th>8520</th>\n      <td>NCJ29</td>\n      <td>10.6</td>\n      <td>LOW FAT</td>\n      <td>0.035186271</td>\n      <td>Health and Hygiene</td>\n      <td>85.1224</td>\n      <td>OUT035</td>\n      <td>2004</td>\n      <td>Small</td>\n      <td>Tier 2</td>\n      <td>Supermarket Type1</td>\n      <td>1193</td>\n    </tr>\n    <tr>\n      <th>8521</th>\n      <td>FDN46</td>\n      <td>7.21</td>\n      <td>REGULAR</td>\n      <td>0.145220646</td>\n      <td>Snack Foods</td>\n      <td>103.1332</td>\n      <td>OUT018</td>\n      <td>2009</td>\n      <td>Medium</td>\n      <td>Tier 3</td>\n      <td>Supermarket Type2</td>\n      <td>1845</td>\n    </tr>\n    <tr>\n      <th>8522</th>\n      <td>DRG01</td>\n      <td>14.8</td>\n      <td>LOW FAT</td>\n      <td>0.04487828</td>\n      <td>Soft Drinks</td>\n      <td>75.467</td>\n      <td>OUT046</td>\n      <td>1997</td>\n      <td>Small</td>\n      <td>Tier 1</td>\n      <td>Supermarket Type1</td>\n      <td>765</td>\n    </tr>\n  </tbody>\n</table>\n<p>8523 rows × 12 columns</p>\n</div>",
       "datasetInfos": [],
       "metadata": {},
       "removedWidgets": [],
       "textData": null,
       "type": "htmlSandbox"
      }
     },
     "output_type": "display_data"
    }
   ],
   "source": [
    "final_data"
   ]
  },
  {
   "cell_type": "markdown",
   "metadata": {
    "application/vnd.databricks.v1+cell": {
     "cellMetadata": {},
     "inputWidgets": {},
     "nuid": "fa426a24-65c1-4e40-9def-a5f85fca64a5",
     "showTitle": false,
     "title": ""
    }
   },
   "source": [
    "**LABEL ENCODING**"
   ]
  },
  {
   "cell_type": "code",
   "execution_count": 0,
   "metadata": {
    "application/vnd.databricks.v1+cell": {
     "cellMetadata": {},
     "inputWidgets": {},
     "nuid": "41e2604c-deff-4e60-be10-be99cc82c5f3",
     "showTitle": false,
     "title": ""
    }
   },
   "outputs": [],
   "source": [
    "from sklearn.preprocessing import LabelEncoder"
   ]
  },
  {
   "cell_type": "code",
   "execution_count": 0,
   "metadata": {
    "application/vnd.databricks.v1+cell": {
     "cellMetadata": {},
     "inputWidgets": {},
     "nuid": "67cd30c8-56f3-4bf1-b70f-50b1e6f6d988",
     "showTitle": false,
     "title": ""
    }
   },
   "outputs": [],
   "source": [
    "le=LabelEncoder()"
   ]
  },
  {
   "cell_type": "code",
   "execution_count": 0,
   "metadata": {
    "application/vnd.databricks.v1+cell": {
     "cellMetadata": {},
     "inputWidgets": {},
     "nuid": "320ddc47-763c-4bcd-8ff0-a1b4a41855ce",
     "showTitle": false,
     "title": ""
    }
   },
   "outputs": [],
   "source": [
    "final_data=final_data.drop(columns=['Outlet_Size','Outlet_Location_Type'],axis=1)"
   ]
  },
  {
   "cell_type": "code",
   "execution_count": 0,
   "metadata": {
    "application/vnd.databricks.v1+cell": {
     "cellMetadata": {},
     "inputWidgets": {},
     "nuid": "1526994d-d303-4311-8c99-3860719c164b",
     "showTitle": false,
     "title": ""
    }
   },
   "outputs": [],
   "source": [
    "final_data=final_data.drop(columns=['Item_Visibility'],axis=1)"
   ]
  },
  {
   "cell_type": "code",
   "execution_count": 0,
   "metadata": {
    "application/vnd.databricks.v1+cell": {
     "cellMetadata": {},
     "inputWidgets": {},
     "nuid": "85341fa0-a8ec-4bf0-83fc-139a5fcf353b",
     "showTitle": false,
     "title": ""
    }
   },
   "outputs": [],
   "source": [
    "final_data=final_data.drop(columns=['Item_Identifier','Outlet_Establishment_Year','Outlet_Establishment_Year'],axis=1) # FINAL DATA FRAME IN WHICH APPLYING ML\n"
   ]
  },
  {
   "cell_type": "code",
   "execution_count": 0,
   "metadata": {
    "application/vnd.databricks.v1+cell": {
     "cellMetadata": {},
     "inputWidgets": {},
     "nuid": "e4a65f54-6a8b-4ea2-8e8c-333a9af4a68e",
     "showTitle": false,
     "title": ""
    }
   },
   "outputs": [],
   "source": [
    "final_data=final_data.drop(columns=['Outlet_Identifier'])"
   ]
  },
  {
   "cell_type": "code",
   "execution_count": 0,
   "metadata": {
    "application/vnd.databricks.v1+cell": {
     "cellMetadata": {},
     "inputWidgets": {},
     "nuid": "e97798ad-e5f7-4986-907e-924fb2609675",
     "showTitle": false,
     "title": ""
    }
   },
   "outputs": [],
   "source": [
    "final_data['Item_MRP']=final_data['Item_MRP'].astype('float64')\n",
    "final_data['Item_MRP']=final_data['Item_MRP'].astype('int')\n",
    "\n"
   ]
  },
  {
   "cell_type": "code",
   "execution_count": 0,
   "metadata": {
    "application/vnd.databricks.v1+cell": {
     "cellMetadata": {},
     "inputWidgets": {},
     "nuid": "36f9ce39-e192-4d26-b480-2878440409ec",
     "showTitle": false,
     "title": ""
    }
   },
   "outputs": [],
   "source": [
    "final_data['Item_Weight']=final_data['Item_MRP'].astype('float64')\n",
    "final_data['Item_Weight']=final_data['Item_MRP'].astype('int')\n"
   ]
  },
  {
   "cell_type": "code",
   "execution_count": 0,
   "metadata": {
    "application/vnd.databricks.v1+cell": {
     "cellMetadata": {},
     "inputWidgets": {},
     "nuid": "edff9387-5946-4976-8739-2f5dd27b2c38",
     "showTitle": false,
     "title": ""
    }
   },
   "outputs": [
    {
     "data": {
      "text/html": [
       "<div>\n",
       "<style scoped>\n",
       "    .dataframe tbody tr th:only-of-type {\n",
       "        vertical-align: middle;\n",
       "    }\n",
       "\n",
       "    .dataframe tbody tr th {\n",
       "        vertical-align: top;\n",
       "    }\n",
       "\n",
       "    .dataframe thead th {\n",
       "        text-align: right;\n",
       "    }\n",
       "</style>\n",
       "<table border=\"1\" class=\"dataframe\">\n",
       "  <thead>\n",
       "    <tr style=\"text-align: right;\">\n",
       "      <th></th>\n",
       "      <th>Item_Weight</th>\n",
       "      <th>Item_Fat_Content</th>\n",
       "      <th>Item_Type</th>\n",
       "      <th>Item_MRP</th>\n",
       "      <th>Outlet_Type</th>\n",
       "      <th>Item_Outlet_Sales</th>\n",
       "    </tr>\n",
       "  </thead>\n",
       "  <tbody>\n",
       "    <tr>\n",
       "      <th>0</th>\n",
       "      <td>249</td>\n",
       "      <td>LOW FAT</td>\n",
       "      <td>Dairy</td>\n",
       "      <td>249</td>\n",
       "      <td>Supermarket Type1</td>\n",
       "      <td>3735</td>\n",
       "    </tr>\n",
       "    <tr>\n",
       "      <th>1</th>\n",
       "      <td>48</td>\n",
       "      <td>REGULAR</td>\n",
       "      <td>Soft Drinks</td>\n",
       "      <td>48</td>\n",
       "      <td>Supermarket Type2</td>\n",
       "      <td>443</td>\n",
       "    </tr>\n",
       "    <tr>\n",
       "      <th>2</th>\n",
       "      <td>141</td>\n",
       "      <td>LOW FAT</td>\n",
       "      <td>Meat</td>\n",
       "      <td>141</td>\n",
       "      <td>Supermarket Type1</td>\n",
       "      <td>2097</td>\n",
       "    </tr>\n",
       "    <tr>\n",
       "      <th>3</th>\n",
       "      <td>182</td>\n",
       "      <td>REGULAR</td>\n",
       "      <td>Fruits and Vegetables</td>\n",
       "      <td>182</td>\n",
       "      <td>Grocery Store</td>\n",
       "      <td>732</td>\n",
       "    </tr>\n",
       "    <tr>\n",
       "      <th>4</th>\n",
       "      <td>53</td>\n",
       "      <td>LOW FAT</td>\n",
       "      <td>Household</td>\n",
       "      <td>53</td>\n",
       "      <td>Supermarket Type1</td>\n",
       "      <td>994</td>\n",
       "    </tr>\n",
       "    <tr>\n",
       "      <th>...</th>\n",
       "      <td>...</td>\n",
       "      <td>...</td>\n",
       "      <td>...</td>\n",
       "      <td>...</td>\n",
       "      <td>...</td>\n",
       "      <td>...</td>\n",
       "    </tr>\n",
       "    <tr>\n",
       "      <th>8518</th>\n",
       "      <td>214</td>\n",
       "      <td>LOW FAT</td>\n",
       "      <td>Snack Foods</td>\n",
       "      <td>214</td>\n",
       "      <td>Supermarket Type1</td>\n",
       "      <td>2778</td>\n",
       "    </tr>\n",
       "    <tr>\n",
       "      <th>8519</th>\n",
       "      <td>108</td>\n",
       "      <td>REGULAR</td>\n",
       "      <td>Baking Goods</td>\n",
       "      <td>108</td>\n",
       "      <td>Supermarket Type1</td>\n",
       "      <td>549</td>\n",
       "    </tr>\n",
       "    <tr>\n",
       "      <th>8520</th>\n",
       "      <td>85</td>\n",
       "      <td>LOW FAT</td>\n",
       "      <td>Health and Hygiene</td>\n",
       "      <td>85</td>\n",
       "      <td>Supermarket Type1</td>\n",
       "      <td>1193</td>\n",
       "    </tr>\n",
       "    <tr>\n",
       "      <th>8521</th>\n",
       "      <td>103</td>\n",
       "      <td>REGULAR</td>\n",
       "      <td>Snack Foods</td>\n",
       "      <td>103</td>\n",
       "      <td>Supermarket Type2</td>\n",
       "      <td>1845</td>\n",
       "    </tr>\n",
       "    <tr>\n",
       "      <th>8522</th>\n",
       "      <td>75</td>\n",
       "      <td>LOW FAT</td>\n",
       "      <td>Soft Drinks</td>\n",
       "      <td>75</td>\n",
       "      <td>Supermarket Type1</td>\n",
       "      <td>765</td>\n",
       "    </tr>\n",
       "  </tbody>\n",
       "</table>\n",
       "<p>8523 rows × 6 columns</p>\n",
       "</div>"
      ]
     },
     "metadata": {
      "application/vnd.databricks.v1+output": {
       "addedWidgets": {},
       "arguments": {},
       "data": "<div>\n<style scoped>\n    .dataframe tbody tr th:only-of-type {\n        vertical-align: middle;\n    }\n\n    .dataframe tbody tr th {\n        vertical-align: top;\n    }\n\n    .dataframe thead th {\n        text-align: right;\n    }\n</style>\n<table border=\"1\" class=\"dataframe\">\n  <thead>\n    <tr style=\"text-align: right;\">\n      <th></th>\n      <th>Item_Weight</th>\n      <th>Item_Fat_Content</th>\n      <th>Item_Type</th>\n      <th>Item_MRP</th>\n      <th>Outlet_Type</th>\n      <th>Item_Outlet_Sales</th>\n    </tr>\n  </thead>\n  <tbody>\n    <tr>\n      <th>0</th>\n      <td>249</td>\n      <td>LOW FAT</td>\n      <td>Dairy</td>\n      <td>249</td>\n      <td>Supermarket Type1</td>\n      <td>3735</td>\n    </tr>\n    <tr>\n      <th>1</th>\n      <td>48</td>\n      <td>REGULAR</td>\n      <td>Soft Drinks</td>\n      <td>48</td>\n      <td>Supermarket Type2</td>\n      <td>443</td>\n    </tr>\n    <tr>\n      <th>2</th>\n      <td>141</td>\n      <td>LOW FAT</td>\n      <td>Meat</td>\n      <td>141</td>\n      <td>Supermarket Type1</td>\n      <td>2097</td>\n    </tr>\n    <tr>\n      <th>3</th>\n      <td>182</td>\n      <td>REGULAR</td>\n      <td>Fruits and Vegetables</td>\n      <td>182</td>\n      <td>Grocery Store</td>\n      <td>732</td>\n    </tr>\n    <tr>\n      <th>4</th>\n      <td>53</td>\n      <td>LOW FAT</td>\n      <td>Household</td>\n      <td>53</td>\n      <td>Supermarket Type1</td>\n      <td>994</td>\n    </tr>\n    <tr>\n      <th>...</th>\n      <td>...</td>\n      <td>...</td>\n      <td>...</td>\n      <td>...</td>\n      <td>...</td>\n      <td>...</td>\n    </tr>\n    <tr>\n      <th>8518</th>\n      <td>214</td>\n      <td>LOW FAT</td>\n      <td>Snack Foods</td>\n      <td>214</td>\n      <td>Supermarket Type1</td>\n      <td>2778</td>\n    </tr>\n    <tr>\n      <th>8519</th>\n      <td>108</td>\n      <td>REGULAR</td>\n      <td>Baking Goods</td>\n      <td>108</td>\n      <td>Supermarket Type1</td>\n      <td>549</td>\n    </tr>\n    <tr>\n      <th>8520</th>\n      <td>85</td>\n      <td>LOW FAT</td>\n      <td>Health and Hygiene</td>\n      <td>85</td>\n      <td>Supermarket Type1</td>\n      <td>1193</td>\n    </tr>\n    <tr>\n      <th>8521</th>\n      <td>103</td>\n      <td>REGULAR</td>\n      <td>Snack Foods</td>\n      <td>103</td>\n      <td>Supermarket Type2</td>\n      <td>1845</td>\n    </tr>\n    <tr>\n      <th>8522</th>\n      <td>75</td>\n      <td>LOW FAT</td>\n      <td>Soft Drinks</td>\n      <td>75</td>\n      <td>Supermarket Type1</td>\n      <td>765</td>\n    </tr>\n  </tbody>\n</table>\n<p>8523 rows × 6 columns</p>\n</div>",
       "datasetInfos": [],
       "metadata": {},
       "removedWidgets": [],
       "textData": null,
       "type": "htmlSandbox"
      }
     },
     "output_type": "display_data"
    }
   ],
   "source": [
    "final_data"
   ]
  },
  {
   "cell_type": "code",
   "execution_count": 0,
   "metadata": {
    "application/vnd.databricks.v1+cell": {
     "cellMetadata": {},
     "inputWidgets": {},
     "nuid": "671835c7-e041-4f1e-8aa2-2040ce40acf4",
     "showTitle": false,
     "title": ""
    }
   },
   "outputs": [],
   "source": [
    "final_data_Transform=final_data.apply(le.fit_transform)"
   ]
  },
  {
   "cell_type": "code",
   "execution_count": 0,
   "metadata": {
    "application/vnd.databricks.v1+cell": {
     "cellMetadata": {},
     "inputWidgets": {},
     "nuid": "b71f7a88-e3ce-437e-b7e1-e5ed949b2e89",
     "showTitle": false,
     "title": ""
    }
   },
   "outputs": [
    {
     "data": {
      "text/html": [
       "<div>\n",
       "<style scoped>\n",
       "    .dataframe tbody tr th:only-of-type {\n",
       "        vertical-align: middle;\n",
       "    }\n",
       "\n",
       "    .dataframe tbody tr th {\n",
       "        vertical-align: top;\n",
       "    }\n",
       "\n",
       "    .dataframe thead th {\n",
       "        text-align: right;\n",
       "    }\n",
       "</style>\n",
       "<table border=\"1\" class=\"dataframe\">\n",
       "  <thead>\n",
       "    <tr style=\"text-align: right;\">\n",
       "      <th></th>\n",
       "      <th>Item_Weight</th>\n",
       "      <th>Item_Fat_Content</th>\n",
       "      <th>Item_Type</th>\n",
       "      <th>Item_MRP</th>\n",
       "      <th>Outlet_Type</th>\n",
       "      <th>Item_Outlet_Sales</th>\n",
       "    </tr>\n",
       "  </thead>\n",
       "  <tbody>\n",
       "    <tr>\n",
       "      <th>0</th>\n",
       "      <td>210</td>\n",
       "      <td>0</td>\n",
       "      <td>4</td>\n",
       "      <td>210</td>\n",
       "      <td>1</td>\n",
       "      <td>2202</td>\n",
       "    </tr>\n",
       "    <tr>\n",
       "      <th>1</th>\n",
       "      <td>17</td>\n",
       "      <td>1</td>\n",
       "      <td>14</td>\n",
       "      <td>17</td>\n",
       "      <td>2</td>\n",
       "      <td>341</td>\n",
       "    </tr>\n",
       "    <tr>\n",
       "      <th>2</th>\n",
       "      <td>104</td>\n",
       "      <td>0</td>\n",
       "      <td>10</td>\n",
       "      <td>104</td>\n",
       "      <td>1</td>\n",
       "      <td>1393</td>\n",
       "    </tr>\n",
       "    <tr>\n",
       "      <th>3</th>\n",
       "      <td>145</td>\n",
       "      <td>1</td>\n",
       "      <td>6</td>\n",
       "      <td>145</td>\n",
       "      <td>0</td>\n",
       "      <td>553</td>\n",
       "    </tr>\n",
       "    <tr>\n",
       "      <th>4</th>\n",
       "      <td>22</td>\n",
       "      <td>0</td>\n",
       "      <td>9</td>\n",
       "      <td>22</td>\n",
       "      <td>1</td>\n",
       "      <td>720</td>\n",
       "    </tr>\n",
       "    <tr>\n",
       "      <th>...</th>\n",
       "      <td>...</td>\n",
       "      <td>...</td>\n",
       "      <td>...</td>\n",
       "      <td>...</td>\n",
       "      <td>...</td>\n",
       "      <td>...</td>\n",
       "    </tr>\n",
       "    <tr>\n",
       "      <th>8518</th>\n",
       "      <td>175</td>\n",
       "      <td>0</td>\n",
       "      <td>13</td>\n",
       "      <td>175</td>\n",
       "      <td>1</td>\n",
       "      <td>1758</td>\n",
       "    </tr>\n",
       "    <tr>\n",
       "      <th>8519</th>\n",
       "      <td>74</td>\n",
       "      <td>1</td>\n",
       "      <td>0</td>\n",
       "      <td>74</td>\n",
       "      <td>1</td>\n",
       "      <td>424</td>\n",
       "    </tr>\n",
       "    <tr>\n",
       "      <th>8520</th>\n",
       "      <td>51</td>\n",
       "      <td>0</td>\n",
       "      <td>8</td>\n",
       "      <td>51</td>\n",
       "      <td>1</td>\n",
       "      <td>859</td>\n",
       "    </tr>\n",
       "    <tr>\n",
       "      <th>8521</th>\n",
       "      <td>69</td>\n",
       "      <td>1</td>\n",
       "      <td>13</td>\n",
       "      <td>69</td>\n",
       "      <td>2</td>\n",
       "      <td>1237</td>\n",
       "    </tr>\n",
       "    <tr>\n",
       "      <th>8522</th>\n",
       "      <td>41</td>\n",
       "      <td>0</td>\n",
       "      <td>14</td>\n",
       "      <td>41</td>\n",
       "      <td>1</td>\n",
       "      <td>575</td>\n",
       "    </tr>\n",
       "  </tbody>\n",
       "</table>\n",
       "<p>8523 rows × 6 columns</p>\n",
       "</div>"
      ]
     },
     "metadata": {
      "application/vnd.databricks.v1+output": {
       "addedWidgets": {},
       "arguments": {},
       "data": "<div>\n<style scoped>\n    .dataframe tbody tr th:only-of-type {\n        vertical-align: middle;\n    }\n\n    .dataframe tbody tr th {\n        vertical-align: top;\n    }\n\n    .dataframe thead th {\n        text-align: right;\n    }\n</style>\n<table border=\"1\" class=\"dataframe\">\n  <thead>\n    <tr style=\"text-align: right;\">\n      <th></th>\n      <th>Item_Weight</th>\n      <th>Item_Fat_Content</th>\n      <th>Item_Type</th>\n      <th>Item_MRP</th>\n      <th>Outlet_Type</th>\n      <th>Item_Outlet_Sales</th>\n    </tr>\n  </thead>\n  <tbody>\n    <tr>\n      <th>0</th>\n      <td>210</td>\n      <td>0</td>\n      <td>4</td>\n      <td>210</td>\n      <td>1</td>\n      <td>2202</td>\n    </tr>\n    <tr>\n      <th>1</th>\n      <td>17</td>\n      <td>1</td>\n      <td>14</td>\n      <td>17</td>\n      <td>2</td>\n      <td>341</td>\n    </tr>\n    <tr>\n      <th>2</th>\n      <td>104</td>\n      <td>0</td>\n      <td>10</td>\n      <td>104</td>\n      <td>1</td>\n      <td>1393</td>\n    </tr>\n    <tr>\n      <th>3</th>\n      <td>145</td>\n      <td>1</td>\n      <td>6</td>\n      <td>145</td>\n      <td>0</td>\n      <td>553</td>\n    </tr>\n    <tr>\n      <th>4</th>\n      <td>22</td>\n      <td>0</td>\n      <td>9</td>\n      <td>22</td>\n      <td>1</td>\n      <td>720</td>\n    </tr>\n    <tr>\n      <th>...</th>\n      <td>...</td>\n      <td>...</td>\n      <td>...</td>\n      <td>...</td>\n      <td>...</td>\n      <td>...</td>\n    </tr>\n    <tr>\n      <th>8518</th>\n      <td>175</td>\n      <td>0</td>\n      <td>13</td>\n      <td>175</td>\n      <td>1</td>\n      <td>1758</td>\n    </tr>\n    <tr>\n      <th>8519</th>\n      <td>74</td>\n      <td>1</td>\n      <td>0</td>\n      <td>74</td>\n      <td>1</td>\n      <td>424</td>\n    </tr>\n    <tr>\n      <th>8520</th>\n      <td>51</td>\n      <td>0</td>\n      <td>8</td>\n      <td>51</td>\n      <td>1</td>\n      <td>859</td>\n    </tr>\n    <tr>\n      <th>8521</th>\n      <td>69</td>\n      <td>1</td>\n      <td>13</td>\n      <td>69</td>\n      <td>2</td>\n      <td>1237</td>\n    </tr>\n    <tr>\n      <th>8522</th>\n      <td>41</td>\n      <td>0</td>\n      <td>14</td>\n      <td>41</td>\n      <td>1</td>\n      <td>575</td>\n    </tr>\n  </tbody>\n</table>\n<p>8523 rows × 6 columns</p>\n</div>",
       "datasetInfos": [],
       "metadata": {},
       "removedWidgets": [],
       "textData": null,
       "type": "htmlSandbox"
      }
     },
     "output_type": "display_data"
    }
   ],
   "source": [
    "final_data_Transform"
   ]
  },
  {
   "cell_type": "code",
   "execution_count": 0,
   "metadata": {
    "application/vnd.databricks.v1+cell": {
     "cellMetadata": {},
     "inputWidgets": {},
     "nuid": "76e84dd6-9aab-4c52-8606-85f526a3f50e",
     "showTitle": false,
     "title": ""
    }
   },
   "outputs": [],
   "source": [
    "import seaborn as sns\n"
   ]
  },
  {
   "cell_type": "markdown",
   "metadata": {
    "application/vnd.databricks.v1+cell": {
     "cellMetadata": {},
     "inputWidgets": {},
     "nuid": "e51a4e9c-c193-4114-8274-ea2ee3fb2e02",
     "showTitle": false,
     "title": ""
    }
   },
   "source": [
    "#STATISTICAL ANALYSIS"
   ]
  },
  {
   "cell_type": "code",
   "execution_count": 0,
   "metadata": {
    "application/vnd.databricks.v1+cell": {
     "cellMetadata": {},
     "inputWidgets": {},
     "nuid": "b0b4c476-609c-4f0d-85e7-d1939cf19746",
     "showTitle": false,
     "title": ""
    }
   },
   "outputs": [
    {
     "data": {
      "text/html": [
       "<div>\n",
       "<style scoped>\n",
       "    .dataframe tbody tr th:only-of-type {\n",
       "        vertical-align: middle;\n",
       "    }\n",
       "\n",
       "    .dataframe tbody tr th {\n",
       "        vertical-align: top;\n",
       "    }\n",
       "\n",
       "    .dataframe thead th {\n",
       "        text-align: right;\n",
       "    }\n",
       "</style>\n",
       "<table border=\"1\" class=\"dataframe\">\n",
       "  <thead>\n",
       "    <tr style=\"text-align: right;\">\n",
       "      <th></th>\n",
       "      <th>Item_Weight</th>\n",
       "      <th>Item_MRP</th>\n",
       "      <th>Item_Outlet_Sales</th>\n",
       "    </tr>\n",
       "  </thead>\n",
       "  <tbody>\n",
       "    <tr>\n",
       "      <th>Item_Weight</th>\n",
       "      <td>1.000000</td>\n",
       "      <td>1.000000</td>\n",
       "      <td>0.567516</td>\n",
       "    </tr>\n",
       "    <tr>\n",
       "      <th>Item_MRP</th>\n",
       "      <td>1.000000</td>\n",
       "      <td>1.000000</td>\n",
       "      <td>0.567516</td>\n",
       "    </tr>\n",
       "    <tr>\n",
       "      <th>Item_Outlet_Sales</th>\n",
       "      <td>0.567516</td>\n",
       "      <td>0.567516</td>\n",
       "      <td>1.000000</td>\n",
       "    </tr>\n",
       "  </tbody>\n",
       "</table>\n",
       "</div>"
      ]
     },
     "metadata": {
      "application/vnd.databricks.v1+output": {
       "addedWidgets": {},
       "arguments": {},
       "data": "<div>\n<style scoped>\n    .dataframe tbody tr th:only-of-type {\n        vertical-align: middle;\n    }\n\n    .dataframe tbody tr th {\n        vertical-align: top;\n    }\n\n    .dataframe thead th {\n        text-align: right;\n    }\n</style>\n<table border=\"1\" class=\"dataframe\">\n  <thead>\n    <tr style=\"text-align: right;\">\n      <th></th>\n      <th>Item_Weight</th>\n      <th>Item_MRP</th>\n      <th>Item_Outlet_Sales</th>\n    </tr>\n  </thead>\n  <tbody>\n    <tr>\n      <th>Item_Weight</th>\n      <td>1.000000</td>\n      <td>1.000000</td>\n      <td>0.567516</td>\n    </tr>\n    <tr>\n      <th>Item_MRP</th>\n      <td>1.000000</td>\n      <td>1.000000</td>\n      <td>0.567516</td>\n    </tr>\n    <tr>\n      <th>Item_Outlet_Sales</th>\n      <td>0.567516</td>\n      <td>0.567516</td>\n      <td>1.000000</td>\n    </tr>\n  </tbody>\n</table>\n</div>",
       "datasetInfos": [],
       "metadata": {},
       "removedWidgets": [],
       "textData": null,
       "type": "htmlSandbox"
      }
     },
     "output_type": "display_data"
    }
   ],
   "source": [
    "\"\"\"plt.figure(figsize=(20,10))\n",
    "cor = final_data.corr().T\n",
    "sns.heatmap(cor, annot=True, cmap=plt.cm.Reds)\n",
    "plt.show()\"\"\"\n",
    "final_data.corr().T\n"
   ]
  },
  {
   "cell_type": "code",
   "execution_count": 0,
   "metadata": {
    "application/vnd.databricks.v1+cell": {
     "cellMetadata": {},
     "inputWidgets": {},
     "nuid": "5a80bc6d-a558-4939-8054-99bffc414460",
     "showTitle": false,
     "title": ""
    }
   },
   "outputs": [
    {
     "data": {
      "text/plain": [
       "<command-315102404729401>:1: FutureWarning: Dropping of nuisance columns in DataFrame reductions (with 'numeric_only=None') is deprecated; in a future version this will raise TypeError.  Select only valid columns before calling the reduction.\n",
       "  final_data.mean()\n",
       "Out[86]: Item_Weight           140.494662\n",
       "Item_MRP              140.494662\n",
       "Item_Outlet_Sales    2180.786577\n",
       "dtype: float64"
      ]
     },
     "metadata": {
      "application/vnd.databricks.v1+output": {
       "addedWidgets": {},
       "arguments": {},
       "data": "<command-315102404729401>:1: FutureWarning: Dropping of nuisance columns in DataFrame reductions (with 'numeric_only=None') is deprecated; in a future version this will raise TypeError.  Select only valid columns before calling the reduction.\n  final_data.mean()\nOut[86]: Item_Weight           140.494662\nItem_MRP              140.494662\nItem_Outlet_Sales    2180.786577\ndtype: float64",
       "datasetInfos": [],
       "metadata": {},
       "removedWidgets": [],
       "type": "ansi"
      }
     },
     "output_type": "display_data"
    }
   ],
   "source": [
    "final_data.mean()"
   ]
  },
  {
   "cell_type": "code",
   "execution_count": 0,
   "metadata": {
    "application/vnd.databricks.v1+cell": {
     "cellMetadata": {},
     "inputWidgets": {},
     "nuid": "03ebb186-2a50-4bf1-94ba-892fc1783933",
     "showTitle": false,
     "title": ""
    }
   },
   "outputs": [
    {
     "data": {
      "text/plain": [
       "<command-315102404729402>:1: FutureWarning: Dropping of nuisance columns in DataFrame reductions (with 'numeric_only=None') is deprecated; in a future version this will raise TypeError.  Select only valid columns before calling the reduction.\n",
       "  final_data.std()\n",
       "Out[87]: Item_Weight            62.275275\n",
       "Item_MRP               62.275275\n",
       "Item_Outlet_Sales    1706.497259\n",
       "dtype: float64"
      ]
     },
     "metadata": {
      "application/vnd.databricks.v1+output": {
       "addedWidgets": {},
       "arguments": {},
       "data": "<command-315102404729402>:1: FutureWarning: Dropping of nuisance columns in DataFrame reductions (with 'numeric_only=None') is deprecated; in a future version this will raise TypeError.  Select only valid columns before calling the reduction.\n  final_data.std()\nOut[87]: Item_Weight            62.275275\nItem_MRP               62.275275\nItem_Outlet_Sales    1706.497259\ndtype: float64",
       "datasetInfos": [],
       "metadata": {},
       "removedWidgets": [],
       "type": "ansi"
      }
     },
     "output_type": "display_data"
    }
   ],
   "source": [
    "final_data.std()"
   ]
  },
  {
   "cell_type": "code",
   "execution_count": 0,
   "metadata": {
    "application/vnd.databricks.v1+cell": {
     "cellMetadata": {},
     "inputWidgets": {},
     "nuid": "fc236fe1-81dc-4631-a734-141f433cdb19",
     "showTitle": false,
     "title": ""
    }
   },
   "outputs": [
    {
     "data": {
      "text/plain": [
       "Out[88]: Item_Weight                     31\n",
       "Item_Fat_Content           LOW FAT\n",
       "Item_Type             Baking Goods\n",
       "Item_MRP                        31\n",
       "Outlet_Type          Grocery Store\n",
       "Item_Outlet_Sales               33\n",
       "dtype: object"
      ]
     },
     "metadata": {
      "application/vnd.databricks.v1+output": {
       "addedWidgets": {},
       "arguments": {},
       "data": "Out[88]: Item_Weight                     31\nItem_Fat_Content           LOW FAT\nItem_Type             Baking Goods\nItem_MRP                        31\nOutlet_Type          Grocery Store\nItem_Outlet_Sales               33\ndtype: object",
       "datasetInfos": [],
       "metadata": {},
       "removedWidgets": [],
       "type": "ansi"
      }
     },
     "output_type": "display_data"
    }
   ],
   "source": [
    "final_data.min()"
   ]
  },
  {
   "cell_type": "code",
   "execution_count": 0,
   "metadata": {
    "application/vnd.databricks.v1+cell": {
     "cellMetadata": {},
     "inputWidgets": {},
     "nuid": "3329376f-fefd-48aa-8c61-3c7507c8b977",
     "showTitle": false,
     "title": ""
    }
   },
   "outputs": [],
   "source": [
    "# THE REASON WHY AM CONVERTING INTO SQL DATAFRAME AAIN BECAUSE SPARK ML DOES NOT WORK WITH PANDAS DATAFRAME.\n",
    "spark_dff = sqlContext.createDataFrame(final_data_Transform)"
   ]
  },
  {
   "cell_type": "code",
   "execution_count": 0,
   "metadata": {
    "application/vnd.databricks.v1+cell": {
     "cellMetadata": {},
     "inputWidgets": {},
     "nuid": "fdf8cc3f-07cb-42fa-8956-eb11d644f232",
     "showTitle": false,
     "title": ""
    }
   },
   "outputs": [
    {
     "data": {
      "text/plain": [
       "+-----------+----------------+---------+--------+-----------+-----------------+\n",
       "|Item_Weight|Item_Fat_Content|Item_Type|Item_MRP|Outlet_Type|Item_Outlet_Sales|\n",
       "+-----------+----------------+---------+--------+-----------+-----------------+\n",
       "|        210|               0|        4|     210|          1|             2202|\n",
       "|         17|               1|       14|      17|          2|              341|\n",
       "|        104|               0|       10|     104|          1|             1393|\n",
       "|        145|               1|        6|     145|          0|              553|\n",
       "|         22|               0|        9|      22|          1|              720|\n",
       "+-----------+----------------+---------+--------+-----------+-----------------+\n",
       "only showing top 5 rows\n",
       "\n"
      ]
     },
     "metadata": {
      "application/vnd.databricks.v1+output": {
       "addedWidgets": {},
       "arguments": {},
       "data": "+-----------+----------------+---------+--------+-----------+-----------------+\n|Item_Weight|Item_Fat_Content|Item_Type|Item_MRP|Outlet_Type|Item_Outlet_Sales|\n+-----------+----------------+---------+--------+-----------+-----------------+\n|        210|               0|        4|     210|          1|             2202|\n|         17|               1|       14|      17|          2|              341|\n|        104|               0|       10|     104|          1|             1393|\n|        145|               1|        6|     145|          0|              553|\n|         22|               0|        9|      22|          1|              720|\n+-----------+----------------+---------+--------+-----------+-----------------+\nonly showing top 5 rows\n\n",
       "datasetInfos": [],
       "metadata": {},
       "removedWidgets": [],
       "type": "ansi"
      }
     },
     "output_type": "display_data"
    }
   ],
   "source": [
    "spark_dff.show(5)"
   ]
  },
  {
   "cell_type": "markdown",
   "metadata": {
    "application/vnd.databricks.v1+cell": {
     "cellMetadata": {},
     "inputWidgets": {},
     "nuid": "a0085c5d-0b66-44fa-a92e-37982663e55e",
     "showTitle": false,
     "title": ""
    }
   },
   "source": [
    "#SPARK ML"
   ]
  },
  {
   "cell_type": "code",
   "execution_count": 0,
   "metadata": {
    "application/vnd.databricks.v1+cell": {
     "cellMetadata": {},
     "inputWidgets": {},
     "nuid": "5109a648-3c4b-4547-b46b-931c79e3a52f",
     "showTitle": false,
     "title": ""
    }
   },
   "outputs": [],
   "source": [
    "from pyspark.ml.feature import VectorAssembler\n",
    "# BEFORE USING SPARKML IT IS COMPULSORY TO CONVERT YOUR DATAFRAME INTO DENSE VECTOR. WITHOUT CONVERTING INTO DENSE VECTOR ALGORITHM WILL NOT WORK.\n",
    "# DENSE VECTOR JUST CONVERT THAT COLUMNS INTO POINTS. THAT'S ALL\n"
   ]
  },
  {
   "cell_type": "code",
   "execution_count": 0,
   "metadata": {
    "application/vnd.databricks.v1+cell": {
     "cellMetadata": {},
     "inputWidgets": {},
     "nuid": "6f0891af-aa0e-4859-a23c-14650e4d1b04",
     "showTitle": false,
     "title": ""
    }
   },
   "outputs": [],
   "source": [
    "required_features=['Item_Weight', 'Item_MRP','Item_Fat_Content','Item_Type','Outlet_Type','Item_Outlet_Sales']\n",
    "       "
   ]
  },
  {
   "cell_type": "code",
   "execution_count": 0,
   "metadata": {
    "application/vnd.databricks.v1+cell": {
     "cellMetadata": {},
     "inputWidgets": {},
     "nuid": "a2512731-1639-4f78-8025-a8d6202e35f9",
     "showTitle": false,
     "title": ""
    }
   },
   "outputs": [],
   "source": [
    "assembler = VectorAssembler(inputCols=required_features, outputCol='features')\n"
   ]
  },
  {
   "cell_type": "code",
   "execution_count": 0,
   "metadata": {
    "application/vnd.databricks.v1+cell": {
     "cellMetadata": {},
     "inputWidgets": {},
     "nuid": "d17ddd06-10cf-41ea-b688-f94ac3ddfcb9",
     "showTitle": false,
     "title": ""
    }
   },
   "outputs": [],
   "source": [
    "transformed_data = assembler.transform(spark_dff)"
   ]
  },
  {
   "cell_type": "code",
   "execution_count": 0,
   "metadata": {
    "application/vnd.databricks.v1+cell": {
     "cellMetadata": {},
     "inputWidgets": {},
     "nuid": "bafc5753-a3c4-419b-8cc9-61bba4bca92a",
     "showTitle": false,
     "title": ""
    }
   },
   "outputs": [
    {
     "data": {
      "text/plain": [
       "+-----------+----------------+---------+--------+-----------+-----------------+--------------------+\n",
       "|Item_Weight|Item_Fat_Content|Item_Type|Item_MRP|Outlet_Type|Item_Outlet_Sales|            features|\n",
       "+-----------+----------------+---------+--------+-----------+-----------------+--------------------+\n",
       "|        210|               0|        4|     210|          1|             2202|[210.0,210.0,0.0,...|\n",
       "|         17|               1|       14|      17|          2|              341|[17.0,17.0,1.0,14...|\n",
       "|        104|               0|       10|     104|          1|             1393|[104.0,104.0,0.0,...|\n",
       "|        145|               1|        6|     145|          0|              553|[145.0,145.0,1.0,...|\n",
       "|         22|               0|        9|      22|          1|              720|[22.0,22.0,0.0,9....|\n",
       "+-----------+----------------+---------+--------+-----------+-----------------+--------------------+\n",
       "only showing top 5 rows\n",
       "\n"
      ]
     },
     "metadata": {
      "application/vnd.databricks.v1+output": {
       "addedWidgets": {},
       "arguments": {},
       "data": "+-----------+----------------+---------+--------+-----------+-----------------+--------------------+\n|Item_Weight|Item_Fat_Content|Item_Type|Item_MRP|Outlet_Type|Item_Outlet_Sales|            features|\n+-----------+----------------+---------+--------+-----------+-----------------+--------------------+\n|        210|               0|        4|     210|          1|             2202|[210.0,210.0,0.0,...|\n|         17|               1|       14|      17|          2|              341|[17.0,17.0,1.0,14...|\n|        104|               0|       10|     104|          1|             1393|[104.0,104.0,0.0,...|\n|        145|               1|        6|     145|          0|              553|[145.0,145.0,1.0,...|\n|         22|               0|        9|      22|          1|              720|[22.0,22.0,0.0,9....|\n+-----------+----------------+---------+--------+-----------+-----------------+--------------------+\nonly showing top 5 rows\n\n",
       "datasetInfos": [],
       "metadata": {},
       "removedWidgets": [],
       "type": "ansi"
      }
     },
     "output_type": "display_data"
    }
   ],
   "source": [
    "transformed_data.show(5)"
   ]
  },
  {
   "cell_type": "code",
   "execution_count": 0,
   "metadata": {
    "application/vnd.databricks.v1+cell": {
     "cellMetadata": {},
     "inputWidgets": {},
     "nuid": "62510e0f-3eef-4497-9622-2d2c4cd7c805",
     "showTitle": false,
     "title": ""
    }
   },
   "outputs": [],
   "source": [
    "(training_data, test_data) = transformed_data.randomSplit([0.7,0.3])"
   ]
  },
  {
   "cell_type": "code",
   "execution_count": 0,
   "metadata": {
    "application/vnd.databricks.v1+cell": {
     "cellMetadata": {},
     "inputWidgets": {},
     "nuid": "2959f59a-0c61-44ba-aee2-5763306f9cd8",
     "showTitle": false,
     "title": ""
    }
   },
   "outputs": [],
   "source": [
    "from pyspark.ml.regression import LinearRegression\n"
   ]
  },
  {
   "cell_type": "markdown",
   "metadata": {
    "application/vnd.databricks.v1+cell": {
     "cellMetadata": {},
     "inputWidgets": {},
     "nuid": "24405c96-d42b-47ef-ba2c-e5842da7d304",
     "showTitle": false,
     "title": ""
    }
   },
   "source": [
    "#LINEAR REGRESSION"
   ]
  },
  {
   "cell_type": "code",
   "execution_count": 0,
   "metadata": {
    "application/vnd.databricks.v1+cell": {
     "cellMetadata": {},
     "inputWidgets": {},
     "nuid": "d6464f14-ab22-4a2f-b52e-0978c882b587",
     "showTitle": false,
     "title": ""
    }
   },
   "outputs": [],
   "source": [
    "Lr = LinearRegression(labelCol='Item_Outlet_Sales', \n",
    "                            featuresCol='features',maxIter=10)\n"
   ]
  },
  {
   "cell_type": "code",
   "execution_count": 0,
   "metadata": {
    "application/vnd.databricks.v1+cell": {
     "cellMetadata": {},
     "inputWidgets": {},
     "nuid": "7251ae05-ff12-416d-bf64-2afe338a6086",
     "showTitle": false,
     "title": ""
    }
   },
   "outputs": [],
   "source": [
    "model = Lr.fit(training_data)"
   ]
  },
  {
   "cell_type": "code",
   "execution_count": 0,
   "metadata": {
    "application/vnd.databricks.v1+cell": {
     "cellMetadata": {},
     "inputWidgets": {},
     "nuid": "566e3676-c9db-4aea-a99c-dc35105beedd",
     "showTitle": false,
     "title": ""
    }
   },
   "outputs": [],
   "source": [
    "predictions = model.transform(test_data)"
   ]
  },
  {
   "cell_type": "code",
   "execution_count": 0,
   "metadata": {
    "application/vnd.databricks.v1+cell": {
     "cellMetadata": {},
     "inputWidgets": {},
     "nuid": "a81850be-135a-4309-b0b2-1224e125ddcb",
     "showTitle": false,
     "title": ""
    }
   },
   "outputs": [
    {
     "data": {
      "text/plain": [
       "+--------------------+-----------------+\n",
       "|            features|       prediction|\n",
       "+--------------------+-----------------+\n",
       "|[2.0,2.0,0.0,9.0,...|339.0000000000003|\n",
       "|[2.0,2.0,0.0,12.0...|915.0000000000003|\n",
       "|[3.0,3.0,1.0,13.0...|            586.0|\n",
       "|[4.0,4.0,0.0,8.0,...|            557.0|\n",
       "|[5.0,5.0,0.0,9.0,...|            315.0|\n",
       "+--------------------+-----------------+\n",
       "only showing top 5 rows\n",
       "\n"
      ]
     },
     "metadata": {
      "application/vnd.databricks.v1+output": {
       "addedWidgets": {},
       "arguments": {},
       "data": "+--------------------+-----------------+\n|            features|       prediction|\n+--------------------+-----------------+\n|[2.0,2.0,0.0,9.0,...|339.0000000000003|\n|[2.0,2.0,0.0,12.0...|915.0000000000003|\n|[3.0,3.0,1.0,13.0...|            586.0|\n|[4.0,4.0,0.0,8.0,...|            557.0|\n|[5.0,5.0,0.0,9.0,...|            315.0|\n+--------------------+-----------------+\nonly showing top 5 rows\n\n",
       "datasetInfos": [],
       "metadata": {},
       "removedWidgets": [],
       "type": "ansi"
      }
     },
     "output_type": "display_data"
    }
   ],
   "source": [
    "predictions.select(\"features\",\"prediction\").show(5)"
   ]
  },
  {
   "cell_type": "markdown",
   "metadata": {
    "application/vnd.databricks.v1+cell": {
     "cellMetadata": {},
     "inputWidgets": {},
     "nuid": "9efcc117-495c-4aa5-938b-db6b59d8eae1",
     "showTitle": false,
     "title": ""
    }
   },
   "source": [
    "#DECISION TREE"
   ]
  },
  {
   "cell_type": "code",
   "execution_count": 0,
   "metadata": {
    "application/vnd.databricks.v1+cell": {
     "cellMetadata": {},
     "inputWidgets": {},
     "nuid": "71100fa6-6314-4aa5-a08b-3967a33354e6",
     "showTitle": false,
     "title": ""
    }
   },
   "outputs": [],
   "source": [
    "from pyspark.ml.regression import DecisionTreeRegressor\n"
   ]
  },
  {
   "cell_type": "code",
   "execution_count": 0,
   "metadata": {
    "application/vnd.databricks.v1+cell": {
     "cellMetadata": {},
     "inputWidgets": {},
     "nuid": "6cc8ecea-2339-4988-a52a-f9905911430b",
     "showTitle": false,
     "title": ""
    }
   },
   "outputs": [],
   "source": [
    "dt = DecisionTreeRegressor(featuresCol='features',labelCol='Item_Outlet_Sales')\n"
   ]
  },
  {
   "cell_type": "code",
   "execution_count": 0,
   "metadata": {
    "application/vnd.databricks.v1+cell": {
     "cellMetadata": {},
     "inputWidgets": {},
     "nuid": "c9e5d96f-4131-4c06-a670-86ab4b1602e5",
     "showTitle": false,
     "title": ""
    }
   },
   "outputs": [],
   "source": [
    "modell=dt.fit(training_data)"
   ]
  },
  {
   "cell_type": "code",
   "execution_count": 0,
   "metadata": {
    "application/vnd.databricks.v1+cell": {
     "cellMetadata": {},
     "inputWidgets": {},
     "nuid": "2c3e00de-e9a2-4527-a43c-013d2d7b9b25",
     "showTitle": false,
     "title": ""
    }
   },
   "outputs": [],
   "source": [
    "pred=modell.transform(test_data)"
   ]
  },
  {
   "cell_type": "code",
   "execution_count": 0,
   "metadata": {
    "application/vnd.databricks.v1+cell": {
     "cellMetadata": {},
     "inputWidgets": {},
     "nuid": "e0072419-83ca-4084-8fb8-2053611aed65",
     "showTitle": false,
     "title": ""
    }
   },
   "outputs": [
    {
     "data": {
      "text/plain": [
       "+-----------------+-----------------+\n",
       "|       prediction|Item_Outlet_Sales|\n",
       "+-----------------+-----------------+\n",
       "|366.0376344086022|              339|\n",
       "|888.2994652406417|              915|\n",
       "|546.9811320754717|              586|\n",
       "|546.9811320754717|              557|\n",
       "|276.6329787234043|              315|\n",
       "+-----------------+-----------------+\n",
       "only showing top 5 rows\n",
       "\n"
      ]
     },
     "metadata": {
      "application/vnd.databricks.v1+output": {
       "addedWidgets": {},
       "arguments": {},
       "data": "+-----------------+-----------------+\n|       prediction|Item_Outlet_Sales|\n+-----------------+-----------------+\n|366.0376344086022|              339|\n|888.2994652406417|              915|\n|546.9811320754717|              586|\n|546.9811320754717|              557|\n|276.6329787234043|              315|\n+-----------------+-----------------+\nonly showing top 5 rows\n\n",
       "datasetInfos": [],
       "metadata": {},
       "removedWidgets": [],
       "type": "ansi"
      }
     },
     "output_type": "display_data"
    }
   ],
   "source": [
    "pred.select('prediction','Item_Outlet_Sales').show(5)"
   ]
  },
  {
   "cell_type": "code",
   "execution_count": 0,
   "metadata": {
    "application/vnd.databricks.v1+cell": {
     "cellMetadata": {},
     "inputWidgets": {},
     "nuid": "2e1dd20c-6e2e-4459-a990-366c0abceb89",
     "showTitle": false,
     "title": ""
    }
   },
   "outputs": [],
   "source": [
    "#spark_dff.coalesce(1).write.format(\"com.databricks.spark.csv\").option(\"header\", \"true\").save(\"dbfs:/FileStore/model/clean_data.csv\")"
   ]
  },
  {
   "cell_type": "markdown",
   "metadata": {
    "application/vnd.databricks.v1+cell": {
     "cellMetadata": {},
     "inputWidgets": {},
     "nuid": "f2ac27aa-5dbb-46cf-80e5-fe696ddc0b8f",
     "showTitle": false,
     "title": ""
    }
   },
   "source": [
    "#RANDOM FOREST REGRESSOR"
   ]
  },
  {
   "cell_type": "code",
   "execution_count": 0,
   "metadata": {
    "application/vnd.databricks.v1+cell": {
     "cellMetadata": {},
     "inputWidgets": {},
     "nuid": "4eb63343-b89b-4813-95d8-76a31fae1e4d",
     "showTitle": false,
     "title": ""
    }
   },
   "outputs": [],
   "source": [
    "from pyspark.ml.regression import RandomForestRegressor"
   ]
  },
  {
   "cell_type": "code",
   "execution_count": 0,
   "metadata": {
    "application/vnd.databricks.v1+cell": {
     "cellMetadata": {},
     "inputWidgets": {},
     "nuid": "ea937352-933d-4e79-8493-e45eac09fefe",
     "showTitle": false,
     "title": ""
    }
   },
   "outputs": [],
   "source": [
    "rc=RandomForestRegressor(featuresCol='features',labelCol='Item_Outlet_Sales',maxDepth=5)"
   ]
  },
  {
   "cell_type": "code",
   "execution_count": 0,
   "metadata": {
    "application/vnd.databricks.v1+cell": {
     "cellMetadata": {},
     "inputWidgets": {},
     "nuid": "4608e332-ec6c-46c9-afb2-da6458a80a41",
     "showTitle": false,
     "title": ""
    }
   },
   "outputs": [],
   "source": [
    "r_model=rc.fit(training_data)"
   ]
  },
  {
   "cell_type": "code",
   "execution_count": 0,
   "metadata": {
    "application/vnd.databricks.v1+cell": {
     "cellMetadata": {},
     "inputWidgets": {},
     "nuid": "0bbd3ec8-184c-4cb1-8769-1e83a495a453",
     "showTitle": false,
     "title": ""
    }
   },
   "outputs": [],
   "source": [
    "pre=r_model.transform(test_data)"
   ]
  },
  {
   "cell_type": "code",
   "execution_count": 0,
   "metadata": {
    "application/vnd.databricks.v1+cell": {
     "cellMetadata": {},
     "inputWidgets": {},
     "nuid": "aeb01cbe-9a1d-4125-83c9-5096aa24ed09",
     "showTitle": false,
     "title": ""
    }
   },
   "outputs": [
    {
     "data": {
      "text/plain": [
       "+------------------+-----------------+\n",
       "|        prediction|Item_Outlet_Sales|\n",
       "+------------------+-----------------+\n",
       "| 425.1537825140123|              339|\n",
       "| 742.9014051874141|              915|\n",
       "| 560.3556461801353|              586|\n",
       "| 559.3517009482217|              557|\n",
       "|420.49863935957535|              315|\n",
       "+------------------+-----------------+\n",
       "only showing top 5 rows\n",
       "\n"
      ]
     },
     "metadata": {
      "application/vnd.databricks.v1+output": {
       "addedWidgets": {},
       "arguments": {},
       "data": "+------------------+-----------------+\n|        prediction|Item_Outlet_Sales|\n+------------------+-----------------+\n| 425.1537825140123|              339|\n| 742.9014051874141|              915|\n| 560.3556461801353|              586|\n| 559.3517009482217|              557|\n|420.49863935957535|              315|\n+------------------+-----------------+\nonly showing top 5 rows\n\n",
       "datasetInfos": [],
       "metadata": {},
       "removedWidgets": [],
       "type": "ansi"
      }
     },
     "output_type": "display_data"
    }
   ],
   "source": [
    "pre.select('prediction','Item_Outlet_Sales').show(5)"
   ]
  },
  {
   "cell_type": "code",
   "execution_count": 0,
   "metadata": {
    "application/vnd.databricks.v1+cell": {
     "cellMetadata": {},
     "inputWidgets": {},
     "nuid": "fa1b6a03-aa0e-42dc-b4f5-88ce8fd13dd5",
     "showTitle": false,
     "title": ""
    }
   },
   "outputs": [],
   "source": [
    "model.save(\"/taimoor/trainedmodels\")"
   ]
  },
  {
   "cell_type": "code",
   "execution_count": 0,
   "metadata": {
    "application/vnd.databricks.v1+cell": {
     "cellMetadata": {},
     "inputWidgets": {},
     "nuid": "ec9e465a-8c11-4e08-8517-34527931b194",
     "showTitle": false,
     "title": ""
    }
   },
   "outputs": [
    {
     "data": {
      "text/html": [
       "<style scoped>\n",
       "  .table-result-container {\n",
       "    max-height: 300px;\n",
       "    overflow: auto;\n",
       "  }\n",
       "  table, th, td {\n",
       "    border: 1px solid black;\n",
       "    border-collapse: collapse;\n",
       "  }\n",
       "  th, td {\n",
       "    padding: 5px;\n",
       "  }\n",
       "  th {\n",
       "    text-align: left;\n",
       "  }\n",
       "</style><div class='table-result-container'><table class='table-result'><thead style='background-color: white'><tr><th>path</th><th>name</th><th>size</th><th>modificationTime</th></tr></thead><tbody><tr><td>dbfs:/taimoor/trainedmodels/data/</td><td>data/</td><td>0</td><td>0</td></tr><tr><td>dbfs:/taimoor/trainedmodels/metadata/</td><td>metadata/</td><td>0</td><td>0</td></tr></tbody></table></div>"
      ]
     },
     "metadata": {
      "application/vnd.databricks.v1+output": {
       "addedWidgets": {},
       "aggData": [],
       "aggError": "",
       "aggOverflow": false,
       "aggSchema": [],
       "aggSeriesLimitReached": false,
       "aggType": "",
       "arguments": {},
       "columnCustomDisplayInfos": {},
       "data": [
        [
         "dbfs:/taimoor/trainedmodels/data/",
         "data/",
         0,
         0
        ],
        [
         "dbfs:/taimoor/trainedmodels/metadata/",
         "metadata/",
         0,
         0
        ]
       ],
       "datasetInfos": [],
       "dbfsResultPath": null,
       "isJsonSchema": true,
       "metadata": {},
       "overflow": false,
       "plotOptions": {
        "customPlotOptions": {},
        "displayType": "table",
        "pivotAggregation": null,
        "pivotColumns": null,
        "xColumns": null,
        "yColumns": null
       },
       "removedWidgets": [],
       "schema": [
        {
         "metadata": "{}",
         "name": "path",
         "type": "\"string\""
        },
        {
         "metadata": "{}",
         "name": "name",
         "type": "\"string\""
        },
        {
         "metadata": "{}",
         "name": "size",
         "type": "\"long\""
        },
        {
         "metadata": "{}",
         "name": "modificationTime",
         "type": "\"long\""
        }
       ],
       "type": "table"
      }
     },
     "output_type": "display_data"
    }
   ],
   "source": [
    "display(dbutils.fs.ls(\"/taimoor/trainedmodels/\"))"
   ]
  },
  {
   "cell_type": "code",
   "execution_count": 0,
   "metadata": {
    "application/vnd.databricks.v1+cell": {
     "cellMetadata": {},
     "inputWidgets": {},
     "nuid": "fd706737-cd4a-4761-aa78-3c3bd65facf3",
     "showTitle": false,
     "title": ""
    }
   },
   "outputs": [],
   "source": []
  }
 ],
 "metadata": {
  "application/vnd.databricks.v1+notebook": {
   "dashboards": [],
   "language": "python",
   "notebookMetadata": {
    "pythonIndentUnit": 4
   },
   "notebookName": "MUHAMMAD TAIMOOR(F2019332012)",
   "notebookOrigID": 987036433034090,
   "widgets": {}
  },
  "kernelspec": {
   "display_name": "Python 3 (ipykernel)",
   "language": "python",
   "name": "python3"
  },
  "language_info": {
   "codemirror_mode": {
    "name": "ipython",
    "version": 3
   },
   "file_extension": ".py",
   "mimetype": "text/x-python",
   "name": "python",
   "nbconvert_exporter": "python",
   "pygments_lexer": "ipython3",
   "version": "3.10.4"
  }
 },
 "nbformat": 4,
 "nbformat_minor": 1
}
